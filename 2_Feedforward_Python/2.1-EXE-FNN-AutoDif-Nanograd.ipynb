{
 "cells": [
  {
   "cell_type": "markdown",
   "metadata": {
    "id": "HAva8TnYFtFu"
   },
   "source": [
    "# Contents and why we need this lab\n",
    "\n",
    "This lab is about implementing neural networks yourself before we start using other frameworks that hide some of the computation from you. It builds on the first lab, where you derived the equations for neural network forward and backward propagation and gradient descent parameter updates. \n",
    "\n",
    "All the frameworks for deep learning you will meet from now on use automatic differentiation (autodiff), so you do not have to code the backward step yourself. In this version of this lab, you will develop your own autodif implementation. We also have an optional [version](https://github.com/DeepLearningDTU/02456-deep-learning-with-PyTorch/blob/master/2_Feedforward_Python/2.2-FNN-NumPy.ipynb) of this lab where you have to code the backward pass explicitly in Numpy."
   ]
  },
  {
   "cell_type": "markdown",
   "metadata": {
    "id": "sCa7HzwpFtFy"
   },
   "source": [
    "# External sources of information\n",
    "\n",
    "1. Jupyter notebook. You can find more information about Jupyter notebooks [here](https://jupyter.org/). It will come as part of the [Anaconda](https://www.anaconda.com/) Python installation. \n",
    "2. [NumPy](https://numpy.org/). Part of Anaconda distribution.  If you already know how to program, most things about Python and NumPy can be found with Google searches.\n",
    "3. [Nanograd](https://github.com/rasmusbergpalm/nanograd) is a minimalistic version of autodiff developed by Rasmus Berg Palm that we use for our framework.\n"
   ]
  },
  {
   "cell_type": "markdown",
   "metadata": {
    "id": "1SjiIp-TFtF0"
   },
   "source": [
    "# This notebook will follow the next steps:\n",
    "\n",
    "1. Nanograd automatic differentiation framework\n",
    "2. Finite difference method\n",
    "3. Data generation\n",
    "4. Defining and initializing the network\n",
    "5. Forward pass\n",
    "6. Training loop \n",
    "7. Testing your model\n",
    "8. Further extensions"
   ]
  },
  {
   "cell_type": "markdown",
   "metadata": {
    "id": "OyXeAA-HuT7s"
   },
   "source": [
    "# Nanograd automatic differention framework"
   ]
  },
  {
   "cell_type": "markdown",
   "metadata": {
    "id": "k6UWKCLKubgA"
   },
   "source": [
    "The [Nanograd](https://github.com/rasmusbergpalm/nanograd) framework defines a class Var which both holds a value and gradient value that we can use to store the intermediate values when we apply the chain rule of differentiation."
   ]
  },
  {
   "cell_type": "code",
   "execution_count": 81,
   "metadata": {
    "id": "Jd4CoEBNzNWS"
   },
   "outputs": [],
   "source": [
    "# Copy and pasted from https://github.com/rasmusbergpalm/nanograd/blob/3a1bf9e9e724da813bfccf91a6f309abdade9f39/nanograd.py\n",
    "\n",
    "from math import exp, log\n",
    "\n",
    "class Var:\n",
    "    \"\"\"\n",
    "    A variable which holds a float and enables gradient computations.\n",
    "    \"\"\"\n",
    "\n",
    "    def __init__(self, val: float, grad_fn=lambda: []):\n",
    "        assert type(val) == float\n",
    "        self.v = val\n",
    "        self.grad_fn = grad_fn\n",
    "        self.grad = 0.0\n",
    "\n",
    "    def backprop(self, bp):\n",
    "        self.grad += bp\n",
    "        for input, grad in self.grad_fn():\n",
    "            input.backprop(grad * bp)\n",
    "\n",
    "    def backward(self):\n",
    "        self.backprop(1.0)\n",
    "\n",
    "    def __add__(self: 'Var', other: 'Var') -> 'Var':\n",
    "        return Var(self.v + other.v, lambda: [(self, 1.0), (other, 1.0)])\n",
    "\n",
    "    def __mul__(self: 'Var', other: 'Var') -> 'Var':\n",
    "        return Var(self.v * other.v, lambda: [(self, other.v), (other, self.v)])\n",
    "\n",
    "    def __pow__(self, power):\n",
    "        assert type(power) in {float, int}, \"power must be float or int\"\n",
    "        return Var(self.v ** power, lambda: [(self, power * self.v ** (power - 1))])\n",
    "\n",
    "    def __neg__(self: 'Var') -> 'Var':\n",
    "        return Var(-1.0) * self\n",
    "\n",
    "    def __sub__(self: 'Var', other: 'Var') -> 'Var':\n",
    "        return self + (-other)\n",
    "\n",
    "    def __truediv__(self: 'Var', other: 'Var') -> 'Var':\n",
    "        return self * other ** -1\n",
    "\n",
    "    def __repr__(self):\n",
    "        return \"Var(v=%.4f, grad=%.4f)\" % (self.v, self.grad)\n",
    "\n",
    "    def relu(self):\n",
    "        return Var(self.v if self.v > 0.0 else 0.0, lambda: [(self, 1.0 if self.v > 0.0 else 0.0)])"
   ]
  },
  {
   "cell_type": "markdown",
   "metadata": {
    "id": "yDX67D6jzcte"
   },
   "source": [
    "A few examples illustrate how we can use this:"
   ]
  },
  {
   "cell_type": "code",
   "execution_count": 82,
   "metadata": {
    "colab": {
     "base_uri": "https://localhost:8080/"
    },
    "id": "xk6PeLc3zwPT",
    "outputId": "47e431b2-07ba-4cb1-ea21-997769641c67"
   },
   "outputs": [
    {
     "name": "stdout",
     "output_type": "stream",
     "text": [
      "Var(v=3.0000, grad=5.0000)\n",
      "Var(v=5.0000, grad=3.0000)\n",
      "Var(v=15.0000, grad=1.0000)\n"
     ]
    }
   ],
   "source": [
    "a = Var(3.0)\n",
    "b = Var(5.0)\n",
    "f = a * b\n",
    "\n",
    "f.backward()\n",
    "\n",
    "for v in [a, b, f]:\n",
    "    print(v)"
   ]
  },
  {
   "cell_type": "code",
   "execution_count": 83,
   "metadata": {
    "colab": {
     "base_uri": "https://localhost:8080/"
    },
    "id": "JmKhYgsY0g_o",
    "outputId": "06c1b1df-c33c-40d3-922a-624612a591c7"
   },
   "outputs": [
    {
     "name": "stdout",
     "output_type": "stream",
     "text": [
      "Var(v=3.0000, grad=14.0000)\n",
      "Var(v=5.0000, grad=3.0000)\n",
      "Var(v=15.0000, grad=1.0000)\n",
      "Var(v=9.0000, grad=3.0000)\n",
      "Var(v=27.0000, grad=1.0000)\n",
      "Var(v=42.0000, grad=1.0000)\n"
     ]
    }
   ],
   "source": [
    "a = Var(3.0)\n",
    "b = Var(5.0)\n",
    "c = a * b\n",
    "d = Var(9.0)\n",
    "e = a * d\n",
    "f = c + e\n",
    "\n",
    "f.backward()\n",
    "\n",
    "for v in [a, b, c, d, e, f]:\n",
    "    print(v)"
   ]
  },
  {
   "cell_type": "markdown",
   "metadata": {
    "id": "Fe3B6uEH140p"
   },
   "source": [
    "## Exercise a) What is being calculated?\n",
    "\n",
    "Explain briefly the output of the code? What is the expression we differentiate and with respect to what variables?\n",
    "\n",
    "## Answer a)\n",
    "\n",
    "\n",
    "\n",
    "The code iterates through each variable, displaying its value alongside its gradient. Consider the second example featuring six variables: $( a, b, c, d, e, f )$. The first line of the output, $\\texttt{Var(v=3.0000, grad=14.0000)}$, represents the variable $a$ and its corresponding gradient.\n",
    "\n",
    "To understand this better, let's delve into the mathematical formulation in the second example:\n",
    "$$\n",
    "f = c + e = a \\cdot b + a \\cdot d\n",
    "$$\n",
    "\n",
    "Differentiating $f$ with respect to $a$ yields:\n",
    "$$\n",
    "\\frac{\\partial f}{\\partial a} = b + d = 5 + 9 = 14\n",
    "$$\n",
    "\n",
    "This precisely aligns with the gradient for $a$ as indicated in the first output line. The subsequent lines in the output similarly provide the gradients for the variables $( b, c, d, e, $) and $ f $.\n",
    "\n"
   ]
  },
  {
   "cell_type": "markdown",
   "metadata": {
    "id": "q8_Q0t2I3Ruj"
   },
   "source": [
    "## Exercise b) How does the backward function work?\n",
    "\n",
    "You need to understand how the backward function calculates the gradients. We can use the two examples above to help with that.\n",
    "\n",
    "Go through the following four steps and answer the questions on the way:\n",
    "\n",
    "1. We represent the two expressions as graphs as shown below. Fill in the missing expressions for the different derivatives.\n",
    "\n",
    "2. In the remainder consider the first expression. Make a schematic of the data structure which is generated when we define the expression for f. \n",
    "\n",
    "3. Then execute the backward function by hand to convince yourself that it indeed calculates the gradients with respect to the variables. \n",
    "\n",
    "4. Write down the sequence of calls to backprop."
   ]
  },
  {
   "cell_type": "code",
   "execution_count": 84,
   "metadata": {
    "id": "idGr71jYXl26"
   },
   "outputs": [],
   "source": [
    "import logging\n",
    "import graphviz\n",
    "\n",
    "logging.basicConfig(format='[%(levelname)s@%(name)s] %(message)s', level=logging.DEBUG)\n",
    "\n",
    "#graphviz.__version__, graphviz.version()"
   ]
  },
  {
   "cell_type": "code",
   "execution_count": 85,
   "metadata": {
    "colab": {
     "base_uri": "https://localhost:8080/",
     "height": 152
    },
    "id": "KPe30Q2QXzeG",
    "outputId": "7fa002cd-a018-4dbb-ddf1-28ed5e99ee19"
   },
   "outputs": [
    {
     "name": "stderr",
     "output_type": "stream",
     "text": [
      "[DEBUG@graphviz.backend.execute] run [WindowsPath('dot'), '-Kdot', '-Tsvg']\n"
     ]
    },
    {
     "data": {
      "image/svg+xml": [
       "<?xml version=\"1.0\" encoding=\"UTF-8\" standalone=\"no\"?>\n",
       "<!DOCTYPE svg PUBLIC \"-//W3C//DTD SVG 1.1//EN\"\n",
       " \"http://www.w3.org/Graphics/SVG/1.1/DTD/svg11.dtd\">\n",
       "<!-- Generated by graphviz version 8.1.0 (20230707.0739)\n",
       " -->\n",
       "<!-- Title: first expression Pages: 1 -->\n",
       "<svg width=\"162pt\" height=\"98pt\"\n",
       " viewBox=\"0.00 0.00 161.75 98.00\" xmlns=\"http://www.w3.org/2000/svg\" xmlns:xlink=\"http://www.w3.org/1999/xlink\">\n",
       "<g id=\"graph0\" class=\"graph\" transform=\"scale(1 1) rotate(0) translate(4 94)\">\n",
       "<title>first expression</title>\n",
       "<polygon fill=\"white\" stroke=\"none\" points=\"-4,4 -4,-94 157.75,-94 157.75,4 -4,4\"/>\n",
       "<!-- a -->\n",
       "<g id=\"node1\" class=\"node\">\n",
       "<title>a</title>\n",
       "<ellipse fill=\"none\" stroke=\"black\" cx=\"18\" cy=\"-72\" rx=\"18\" ry=\"18\"/>\n",
       "<text text-anchor=\"middle\" x=\"18\" y=\"-66.58\" font-family=\"Times New Roman,serif\" font-size=\"14.00\">a</text>\n",
       "</g>\n",
       "<!-- f -->\n",
       "<g id=\"node2\" class=\"node\">\n",
       "<title>f</title>\n",
       "<ellipse fill=\"none\" stroke=\"black\" cx=\"135.75\" cy=\"-45\" rx=\"18\" ry=\"18\"/>\n",
       "<text text-anchor=\"middle\" x=\"135.75\" y=\"-39.58\" font-family=\"Times New Roman,serif\" font-size=\"14.00\">f</text>\n",
       "</g>\n",
       "<!-- a&#45;&gt;f -->\n",
       "<g id=\"edge1\" class=\"edge\">\n",
       "<title>a&#45;&gt;f</title>\n",
       "<path fill=\"none\" stroke=\"black\" d=\"M35.58,-68.13C54.3,-63.77 85.04,-56.6 107.34,-51.39\"/>\n",
       "<polygon fill=\"black\" stroke=\"black\" points=\"107.88,-54.63 116.82,-48.95 106.29,-47.81 107.88,-54.63\"/>\n",
       "<text text-anchor=\"middle\" x=\"76.88\" y=\"-65.45\" font-family=\"Times New Roman,serif\" font-size=\"14.00\">df/da=5</text>\n",
       "</g>\n",
       "<!-- b -->\n",
       "<g id=\"node3\" class=\"node\">\n",
       "<title>b</title>\n",
       "<ellipse fill=\"none\" stroke=\"black\" cx=\"18\" cy=\"-18\" rx=\"18\" ry=\"18\"/>\n",
       "<text text-anchor=\"middle\" x=\"18\" y=\"-12.57\" font-family=\"Times New Roman,serif\" font-size=\"14.00\">b</text>\n",
       "</g>\n",
       "<!-- b&#45;&gt;f -->\n",
       "<g id=\"edge2\" class=\"edge\">\n",
       "<title>b&#45;&gt;f</title>\n",
       "<path fill=\"none\" stroke=\"black\" d=\"M36.12,-20.94C52.55,-23.87 77.99,-28.73 99.75,-34.25 102.39,-34.92 105.13,-35.67 107.86,-36.45\"/>\n",
       "<polygon fill=\"black\" stroke=\"black\" points=\"106.53,-40 117.11,-39.52 108.54,-33.3 106.53,-40\"/>\n",
       "<text text-anchor=\"middle\" x=\"76.88\" y=\"-37.45\" font-family=\"Times New Roman,serif\" font-size=\"14.00\">df/db=3</text>\n",
       "</g>\n",
       "</g>\n",
       "</svg>\n"
      ],
      "text/plain": [
       "<graphviz.graphs.Digraph at 0x2054802f610>"
      ]
     },
     "execution_count": 85,
     "metadata": {},
     "output_type": "execute_result"
    }
   ],
   "source": [
    "e1 = graphviz.Digraph('first expression', filename='fsm.gv')\n",
    "\n",
    "e1.attr(rankdir='LR', size='8,5')\n",
    "\n",
    "e1.attr('node', shape='circle')\n",
    "e1.edge('a', 'f', label='df/da=5')\n",
    "e1.edge('b', 'f', label='df/db=3')\n",
    "\n",
    "e1"
   ]
  },
  {
   "cell_type": "code",
   "execution_count": 86,
   "metadata": {
    "colab": {
     "base_uri": "https://localhost:8080/",
     "height": 232
    },
    "id": "0nittR-mZFeX",
    "outputId": "fa3656a3-732c-4abe-8084-98a492b0d6be"
   },
   "outputs": [
    {
     "name": "stderr",
     "output_type": "stream",
     "text": [
      "[DEBUG@graphviz.backend.execute] run [WindowsPath('dot'), '-Kdot', '-Tsvg']\n"
     ]
    },
    {
     "data": {
      "image/svg+xml": [
       "<?xml version=\"1.0\" encoding=\"UTF-8\" standalone=\"no\"?>\n",
       "<!DOCTYPE svg PUBLIC \"-//W3C//DTD SVG 1.1//EN\"\n",
       " \"http://www.w3.org/Graphics/SVG/1.1/DTD/svg11.dtd\">\n",
       "<!-- Generated by graphviz version 8.1.0 (20230707.0739)\n",
       " -->\n",
       "<!-- Title: second expression Pages: 1 -->\n",
       "<svg width=\"340pt\" height=\"195pt\"\n",
       " viewBox=\"0.00 0.00 339.66 195.23\" xmlns=\"http://www.w3.org/2000/svg\" xmlns:xlink=\"http://www.w3.org/1999/xlink\">\n",
       "<g id=\"graph0\" class=\"graph\" transform=\"scale(1 1) rotate(0) translate(4 191.23)\">\n",
       "<title>second expression</title>\n",
       "<polygon fill=\"white\" stroke=\"none\" points=\"-4,4 -4,-191.23 335.66,-191.23 335.66,4 -4,4\"/>\n",
       "<!-- a=3 -->\n",
       "<g id=\"node1\" class=\"node\">\n",
       "<title>a=3</title>\n",
       "<ellipse fill=\"none\" stroke=\"black\" cx=\"25.62\" cy=\"-93.62\" rx=\"24.62\" ry=\"24.62\"/>\n",
       "<text text-anchor=\"middle\" x=\"25.62\" y=\"-88.19\" font-family=\"Times New Roman,serif\" font-size=\"14.00\">a=3</text>\n",
       "</g>\n",
       "<!-- c=15 -->\n",
       "<g id=\"node2\" class=\"node\">\n",
       "<title>c=15</title>\n",
       "<ellipse fill=\"none\" stroke=\"black\" cx=\"164.84\" cy=\"-131.62\" rx=\"29.61\" ry=\"29.61\"/>\n",
       "<text text-anchor=\"middle\" x=\"164.84\" y=\"-126.19\" font-family=\"Times New Roman,serif\" font-size=\"14.00\">c=15</text>\n",
       "</g>\n",
       "<!-- a=3&#45;&gt;c=15 -->\n",
       "<g id=\"edge1\" class=\"edge\">\n",
       "<title>a=3&#45;&gt;c=15</title>\n",
       "<path fill=\"none\" stroke=\"black\" d=\"M49.58,-99.98C70.32,-105.72 101.23,-114.28 125.68,-121.05\"/>\n",
       "<polygon fill=\"black\" stroke=\"black\" points=\"124.48,-124.63 135.05,-123.92 126.35,-117.88 124.48,-124.63\"/>\n",
       "<text text-anchor=\"middle\" x=\"93.23\" y=\"-121.07\" font-family=\"Times New Roman,serif\" font-size=\"14.00\">dc/da=5</text>\n",
       "</g>\n",
       "<!-- e=27 -->\n",
       "<g id=\"node4\" class=\"node\">\n",
       "<title>e=27</title>\n",
       "<ellipse fill=\"none\" stroke=\"black\" cx=\"164.84\" cy=\"-54.62\" rx=\"29.11\" ry=\"29.11\"/>\n",
       "<text text-anchor=\"middle\" x=\"164.84\" y=\"-49.19\" font-family=\"Times New Roman,serif\" font-size=\"14.00\">e=27</text>\n",
       "</g>\n",
       "<!-- a=3&#45;&gt;e=27 -->\n",
       "<g id=\"edge3\" class=\"edge\">\n",
       "<title>a=3&#45;&gt;e=27</title>\n",
       "<path fill=\"none\" stroke=\"black\" d=\"M49.58,-87.09C70.45,-81.16 101.63,-72.29 126.15,-65.33\"/>\n",
       "<polygon fill=\"black\" stroke=\"black\" points=\"126.88,-68.47 135.54,-62.37 124.96,-61.74 126.88,-68.47\"/>\n",
       "<text text-anchor=\"middle\" x=\"93.23\" y=\"-84.07\" font-family=\"Times New Roman,serif\" font-size=\"14.00\">de/da=9</text>\n",
       "</g>\n",
       "<!-- f=42 -->\n",
       "<g id=\"node6\" class=\"node\">\n",
       "<title>f=42</title>\n",
       "<ellipse fill=\"none\" stroke=\"black\" cx=\"303.55\" cy=\"-92.62\" rx=\"28.11\" ry=\"28.11\"/>\n",
       "<text text-anchor=\"middle\" x=\"303.55\" y=\"-87.19\" font-family=\"Times New Roman,serif\" font-size=\"14.00\">f=42</text>\n",
       "</g>\n",
       "<!-- c=15&#45;&gt;f=42 -->\n",
       "<g id=\"edge5\" class=\"edge\">\n",
       "<title>c=15&#45;&gt;f=42</title>\n",
       "<path fill=\"none\" stroke=\"black\" d=\"M193.83,-123.63C214.51,-117.73 242.87,-109.64 265.43,-103.2\"/>\n",
       "<polygon fill=\"black\" stroke=\"black\" points=\"266.33,-106.3 274.99,-100.19 264.41,-99.57 266.33,-106.3\"/>\n",
       "<text text-anchor=\"middle\" x=\"234.94\" y=\"-121.07\" font-family=\"Times New Roman,serif\" font-size=\"14.00\">df/dc=1</text>\n",
       "</g>\n",
       "<!-- b=5 -->\n",
       "<g id=\"node3\" class=\"node\">\n",
       "<title>b=5</title>\n",
       "<ellipse fill=\"none\" stroke=\"black\" cx=\"25.62\" cy=\"-161.62\" rx=\"25.62\" ry=\"25.62\"/>\n",
       "<text text-anchor=\"middle\" x=\"25.62\" y=\"-156.19\" font-family=\"Times New Roman,serif\" font-size=\"14.00\">b=5</text>\n",
       "</g>\n",
       "<!-- b=5&#45;&gt;c=15 -->\n",
       "<g id=\"edge2\" class=\"edge\">\n",
       "<title>b=5&#45;&gt;c=15</title>\n",
       "<path fill=\"none\" stroke=\"black\" d=\"M51.15,-156.25C71.74,-151.75 101.51,-145.24 125.29,-140.04\"/>\n",
       "<polygon fill=\"black\" stroke=\"black\" points=\"125.71,-143.31 134.73,-137.76 124.22,-136.48 125.71,-143.31\"/>\n",
       "<text text-anchor=\"middle\" x=\"93.23\" y=\"-154.07\" font-family=\"Times New Roman,serif\" font-size=\"14.00\">dc/db=3</text>\n",
       "</g>\n",
       "<!-- e=27&#45;&gt;f=42 -->\n",
       "<g id=\"edge6\" class=\"edge\">\n",
       "<title>e=27&#45;&gt;f=42</title>\n",
       "<path fill=\"none\" stroke=\"black\" d=\"M193.18,-62.21C214.03,-68.01 242.97,-76.05 265.84,-82.41\"/>\n",
       "<polygon fill=\"black\" stroke=\"black\" points=\"264.62,-85.98 275.19,-85.29 266.5,-79.24 264.62,-85.98\"/>\n",
       "<text text-anchor=\"middle\" x=\"234.94\" y=\"-82.07\" font-family=\"Times New Roman,serif\" font-size=\"14.00\">df/de=1</text>\n",
       "</g>\n",
       "<!-- d=9 -->\n",
       "<g id=\"node5\" class=\"node\">\n",
       "<title>d=9</title>\n",
       "<ellipse fill=\"none\" stroke=\"black\" cx=\"25.62\" cy=\"-25.62\" rx=\"25.62\" ry=\"25.62\"/>\n",
       "<text text-anchor=\"middle\" x=\"25.62\" y=\"-20.19\" font-family=\"Times New Roman,serif\" font-size=\"14.00\">d=9</text>\n",
       "</g>\n",
       "<!-- d=9&#45;&gt;e=27 -->\n",
       "<g id=\"edge4\" class=\"edge\">\n",
       "<title>d=9&#45;&gt;e=27</title>\n",
       "<path fill=\"none\" stroke=\"black\" d=\"M51.65,-24.79C70.08,-24.79 95.6,-26.08 117.23,-31.87 121.32,-32.96 125.48,-34.42 129.55,-36.07\"/>\n",
       "<polygon fill=\"black\" stroke=\"black\" points=\"127.82,-39.58 138.37,-40.49 130.69,-33.2 127.82,-39.58\"/>\n",
       "<text text-anchor=\"middle\" x=\"93.23\" y=\"-35.07\" font-family=\"Times New Roman,serif\" font-size=\"14.00\">de/dd=3</text>\n",
       "</g>\n",
       "</g>\n",
       "</svg>\n"
      ],
      "text/plain": [
       "<graphviz.graphs.Digraph at 0x2056dd0c040>"
      ]
     },
     "execution_count": 86,
     "metadata": {},
     "output_type": "execute_result"
    }
   ],
   "source": [
    "e2 = graphviz.Digraph('second expression', filename='fsm.gv')\n",
    "\n",
    "e2.attr(rankdir='LR', size='8,5')\n",
    "\n",
    "e2.attr('node', shape='circle')\n",
    "e2.edge('a=3', 'c=15', label='dc/da=5')\n",
    "e2.edge('b=5', 'c=15', label='dc/db=3')\n",
    "e2.edge('a=3', 'e=27', label='de/da=9')\n",
    "e2.edge('d=9', 'e=27', label='de/dd=3')\n",
    "e2.edge('c=15', 'f=42', label='df/dc=1')\n",
    "e2.edge('e=27', 'f=42', label='df/de=1')\n",
    "\n",
    "e2"
   ]
  },
  {
   "cell_type": "markdown",
   "metadata": {
    "id": "A5oi21W4gpeM"
   },
   "source": [
    "## Exercise c) What happens if we run backward again?\n",
    "\n",
    "Try to execute the code below. Explain what happens."
   ]
  },
  {
   "cell_type": "code",
   "execution_count": 87,
   "metadata": {
    "colab": {
     "base_uri": "https://localhost:8080/"
    },
    "id": "DCtpJyr-gyX1",
    "outputId": "d014bcfa-c9ae-49c3-d268-91cc6ca94ea5"
   },
   "outputs": [
    {
     "name": "stdout",
     "output_type": "stream",
     "text": [
      "Var(v=3.0000, grad=28.0000)\n",
      "Var(v=5.0000, grad=6.0000)\n",
      "Var(v=15.0000, grad=2.0000)\n",
      "Var(v=9.0000, grad=6.0000)\n",
      "Var(v=27.0000, grad=2.0000)\n",
      "Var(v=42.0000, grad=2.0000)\n"
     ]
    }
   ],
   "source": [
    "f.backward()\n",
    "\n",
    "for v in [a, b, c, d, e, f]:\n",
    "    print(v)"
   ]
  },
  {
   "cell_type": "markdown",
   "metadata": {},
   "source": [
    "## Answer c)\n",
    "Running the backward function serves to backpropagate the output error through the neural network, using a weight factor of 1.0. Repeating this operation results in the accumulation of the error."
   ]
  },
  {
   "cell_type": "markdown",
   "metadata": {
    "id": "e8bPVq2VhsP-"
   },
   "source": [
    "## Exercise d) Zero gradient\n",
    "\n",
    "We can zero the gradient by backpropagating a -1.0 as is shown in the example below. (If you have run backward multiple time then you also have to run the cell below an equal amount of times.) Explain what is going on."
   ]
  },
  {
   "cell_type": "code",
   "execution_count": 88,
   "metadata": {
    "colab": {
     "base_uri": "https://localhost:8080/"
    },
    "id": "OnyPDQx9lJe0",
    "outputId": "7a125fdc-60c4-4340-a580-8b82aea5b0db"
   },
   "outputs": [
    {
     "name": "stdout",
     "output_type": "stream",
     "text": [
      "Var(v=2.0000, grad=0.0000)\n",
      "Var(v=5.0000, grad=6.0000)\n",
      "Var(v=15.0000, grad=2.0000)\n",
      "Var(v=9.0000, grad=6.0000)\n",
      "Var(v=27.0000, grad=2.0000)\n",
      "Var(v=42.0000, grad=2.0000)\n",
      "Var(v=2.0000, grad=0.0000)\n",
      "Var(v=5.0000, grad=3.0000)\n",
      "Var(v=15.0000, grad=1.0000)\n",
      "Var(v=9.0000, grad=3.0000)\n",
      "Var(v=27.0000, grad=1.0000)\n",
      "Var(v=42.0000, grad=1.0000)\n"
     ]
    }
   ],
   "source": [
    "a = Var(2.0)\n",
    "\n",
    "for v in [a, b, c, d, e, f]:\n",
    "    print(v)\n",
    "\n",
    "f.backprop(-1.0)\n",
    "\n",
    "for v in [a, b, c, d, e, f]:\n",
    "    print(v)"
   ]
  },
  {
   "cell_type": "markdown",
   "metadata": {},
   "source": [
    "## Answer d)\n",
    "Invoking the backward function with a weight of -1.0 reverses the effect of the typical backward operation, effectively steering the error towards zero. This means the error is diminished rather than accumulated."
   ]
  },
  {
   "cell_type": "markdown",
   "metadata": {
    "id": "U4057_ljNvWB"
   },
   "source": [
    "## Exercise e) Test correctness of derivatives with the finite difference method\n",
    "\n",
    "Write a small function that uses [the finite difference method](https://en.wikipedia.org/wiki/Finite_difference_method) to numerically test that backpropation implementation is working. In short we will use\n",
    "$$\n",
    "\\frac{\\partial f(a)}{\\partial a} \\approx \\frac{f(a+da)-f(a)}{da}\n",
    "$$\n",
    "for $da \\ll 1$.\n",
    "\n",
    "As an example, we could approximate the derivative of the function $f(a)=a^2$ in e.g. the value $a=4$ using the finite difference method. This amounts to inserting the relevant values and approximating the gradient $f'(4)$ with the fraction above. \n"
   ]
  },
  {
   "cell_type": "code",
   "execution_count": 89,
   "metadata": {
    "colab": {
     "base_uri": "https://localhost:8080/"
    },
    "id": "9TGil92lSXDN",
    "outputId": "7ef5489b-b525-4132-ab08-0b1109c07f4d"
   },
   "outputs": [
    {
     "name": "stdout",
     "output_type": "stream",
     "text": [
      "Var(v=3.0000, grad=5.0000)\n",
      "Var(v=5.0000, grad=3.0000)\n",
      "Var(v=15.0000, grad=1.0000)\n",
      "5.000000413701855\n"
     ]
    }
   ],
   "source": [
    "# f function - try to change the code to test other types of functions as well (such as different polynomials etc.)\n",
    "def f_function(a):\n",
    "  a = Var(a)\n",
    "  b = Var(5.0)\n",
    "  f = a * b\n",
    "  f.backward()\n",
    "  return a,b,f\n",
    "\n",
    "for v in f_function(3.0):\n",
    "  print(v)\n",
    "\n",
    "# Insert your finite difference code here\n",
    "def finite_difference(a,b,da=1e-10):\n",
    "    \"\"\"\n",
    "    This function compute the finite difference between\n",
    "    \n",
    "    Input:       a,b\n",
    "    da:          The finite difference                           (float)\n",
    "    \n",
    "    Output:      Gradient approximation\n",
    "    finite_difference: numerical approximation to the derivative (float) \n",
    "    \"\"\"\n",
    "    \n",
    "    #f(a) = b*a\n",
    "\n",
    "    \n",
    "    fa_da = b*(a+da)           # <- Insert correct expression\n",
    "    fa = b*a               # <- Insert correct expression\n",
    "\n",
    "    finite_difference = (fa_da - fa) / da\n",
    "    \n",
    "    return finite_difference\n",
    "\n",
    "a = 3\n",
    "b = 5\n",
    "print(finite_difference(a,b))"
   ]
  },
  {
   "cell_type": "markdown",
   "metadata": {},
   "source": [
    "## Answer e)\n",
    "\n",
    "Here it can be seen that the gradient for a is 5. This is basically equal to the value from the `finite_difference()` method"
   ]
  },
  {
   "cell_type": "markdown",
   "metadata": {
    "id": "6pZar5RKaUkg"
   },
   "source": [
    "# Create an artificial dataset to play with\n",
    "\n",
    "We create a non-linear 1d regression task. The generator supports various noise levels and it creates train, validation and test sets. You can modify it yourself if you want more or less challenging tasks."
   ]
  },
  {
   "cell_type": "code",
   "execution_count": 90,
   "metadata": {
    "id": "Y6yfMAQ8aduj"
   },
   "outputs": [],
   "source": [
    "import numpy as np\n",
    "import matplotlib.pyplot as plt\n",
    "\n",
    "np.random.seed(42)"
   ]
  },
  {
   "cell_type": "code",
   "execution_count": 91,
   "metadata": {
    "id": "4YabfD43ajNh"
   },
   "outputs": [],
   "source": [
    "def data_generator(noise=0.1, n_samples=300, D1=True):\n",
    "    # Create covariates and response variable\n",
    "    if D1:\n",
    "        X = np.linspace(-3, 3, num=n_samples).reshape(-1,1) # 1-D\n",
    "        np.random.shuffle(X)\n",
    "        y = np.random.normal((0.5*np.sin(X[:,0]*3) + X[:,0]), noise) # 1-D with trend\n",
    "    else:\n",
    "        X = np.random.multivariate_normal(np.zeros(3), noise*np.eye(3), size = n_samples) # 3-D\n",
    "        np.random.shuffle(X)    \n",
    "        y = np.sin(X[:,0]) - 5*(X[:,1]**2) + 0.5*X[:,2] # 3-D\n",
    "\n",
    "    # Stack them together vertically to split data set\n",
    "    data_set = np.vstack((X.T,y)).T\n",
    "    \n",
    "    train, validation, test = np.split(data_set, [int(0.95*n_samples), int(0.95*n_samples)], axis=0)\n",
    "    \n",
    "    # Standardization of the data, remember we do the standardization with the training set mean and standard deviation\n",
    "    train_mu = np.mean(train, axis=0)\n",
    "    train_sigma = np.std(train, axis=0)\n",
    "    \n",
    "    train = (train-train_mu)/train_sigma\n",
    "    validation = (validation-train_mu)/train_sigma\n",
    "    test = (test-train_mu)/train_sigma\n",
    "    \n",
    "    x_train, x_validation, x_test = train[:,:-1], validation[:,:-1], test[:,:-1]\n",
    "    y_train, y_validation, y_test = train[:,-1], validation[:,-1], test[:,-1]\n",
    "\n",
    "    return x_train, y_train,  x_validation, y_validation, x_test, y_test"
   ]
  },
  {
   "cell_type": "code",
   "execution_count": 92,
   "metadata": {
    "id": "u1oDngHLapIz"
   },
   "outputs": [],
   "source": [
    "D1 = True\n",
    "x_train, y_train,  x_validation, y_validation, x_test, y_test = data_generator(noise=0.5, D1=D1)"
   ]
  },
  {
   "cell_type": "code",
   "execution_count": 93,
   "metadata": {
    "colab": {
     "base_uri": "https://localhost:8080/",
     "height": 265
    },
    "id": "Ysfa3FsBavlm",
    "outputId": "399e5382-ae7d-48f6-9774-7ea4c73e7d95"
   },
   "outputs": [
    {
     "data": {
      "image/png": "[encoded data removed]",
      "text/plain": [
       "<Figure size 640x480 with 1 Axes>"
      ]
     },
     "metadata": {},
     "output_type": "display_data"
    }
   ],
   "source": [
    "if D1:\n",
    "    plt.scatter(x_train[:,0], y_train);\n",
    "    plt.scatter(x_validation[:,0], y_validation);\n",
    "    plt.scatter(x_test[:,0], y_test);\n",
    "else:\n",
    "    plt.scatter(x_train[:,1], y_train);\n",
    "    plt.scatter(x_validation[:,1], y_validation);\n",
    "    plt.scatter(x_test[:,1], y_test);\n",
    "plt.show()"
   ]
  },
  {
   "cell_type": "code",
   "execution_count": 94,
   "metadata": {
    "id": "zac2HHNlgbpm"
   },
   "outputs": [],
   "source": [
    "# convert from nparray to Var\n",
    "def nparray_to_Var(x):\n",
    "  if x.ndim==1:\n",
    "    y = [[Var(float(x[i]))] for i in range(x.shape[0])] # always work with list of list\n",
    "  else:\n",
    "    y = [[Var(float(x[i,j])) for j in range(x.shape[1])] for i in range(x.shape[0])]\n",
    "  return y\n",
    "   \n",
    "x_train = nparray_to_Var(x_train)\n",
    "y_train = nparray_to_Var(y_train)\n",
    "x_validation = nparray_to_Var(x_validation)\n",
    "y_validation = nparray_to_Var(y_validation)\n",
    "x_test = nparray_to_Var(x_test)\n",
    "y_test = nparray_to_Var(y_test)\n"
   ]
  },
  {
   "cell_type": "markdown",
   "metadata": {
    "id": "VbjrqcpVFtGe"
   },
   "source": [
    "# Defining and initializing the network\n",
    "\n",
    "The steps to create a feed forward neural network are the following:\n",
    "\n",
    "1. **Number of hidden layer and hidden units**. We have to define the number of hidden units in each layer. The number of features in X and the output dimensionality (the size of Y) are given but the numbers in between are set by the researcher. Remember that for each unit in each layer beside in the input has a bias term.\n",
    "2. **Activation functions** for each hidden layer. Each hidden layer in your list must have an activation function (it can also be the linear activation which is equivalent to identity function). The power of neural networks comes from non-linear activation functions that learn representations (features) from the data allowing us to learn from it. \n",
    "3. **Parameter initialization**. We will initialize the weights to have random values. This is done in practice by drawing pseudo random numbers from a Gaussian or uniform distribution. It turns out that for deeper models we have to be careful about how we scale the random numbers. This will be the topic of the exercise below. For now we will just use unit variance Gaussians.  \n",
    "\n",
    "In order to make life easier for ourselves we define a DenseLayer class that takes care of initialization and the forward pass. We can also extend it later with print and advanced initialization capabilities. For the latter we have introduced a Initializer class.\n",
    "\n",
    "Note that we use Sequence in the code below. A Sequence is an ordered list. This means the order we insert and access items are the same."
   ]
  },
  {
   "cell_type": "code",
   "execution_count": 95,
   "metadata": {
    "id": "ij_ieRsAt7Xt"
   },
   "outputs": [],
   "source": [
    "class Initializer:\n",
    "\n",
    "  def init_weights(self, n_in, n_out):\n",
    "    raise NotImplementedError\n",
    "\n",
    "  def init_bias(self, n_out):\n",
    "    raise NotImplementedError"
   ]
  },
  {
   "cell_type": "code",
   "execution_count": 96,
   "metadata": {
    "id": "eb18N5phuIha"
   },
   "outputs": [],
   "source": [
    "import random\n",
    "\n",
    "class NormalInitializer(Initializer):\n",
    "\n",
    "  def __init__(self, mean=0, std=0.1):\n",
    "    self.mean = mean\n",
    "    self.std = std\n",
    "\n",
    "  def init_weights(self, n_in, n_out):\n",
    "    return [[Var(random.gauss(self.mean, self.std)) for _ in range(n_out)] for _ in range(n_in)]\n",
    "\n",
    "  def init_bias(self, n_out):\n",
    "    return [Var(0.0) for _ in range(n_out)]\n",
    "\n",
    "class ConstantInitializer(Initializer):\n",
    "\n",
    "  def __init__(self, weight=1.0, bias=0.0):\n",
    "    self.weight = weight\n",
    "    self.bias = bias\n",
    "\n",
    "  def init_weights(self, n_in, n_out):\n",
    "    return [[Var(self.weight) for _ in range(n_out)] for _ in range(n_in)]\n",
    "\n",
    "  def init_bias(self, n_out):\n",
    "    return [Var(self.bias) for _ in range(n_out)]"
   ]
  },
  {
   "cell_type": "code",
   "execution_count": 97,
   "metadata": {
    "id": "jOLYGnZKuM6W"
   },
   "outputs": [],
   "source": [
    "from typing import Sequence\n",
    "\n",
    "class DenseLayer:\n",
    "    def __init__(self, n_in: int, n_out: int, act_fn, initializer = NormalInitializer()):\n",
    "        self.weights = initializer.init_weights(n_in, n_out)\n",
    "        self.bias = initializer.init_bias(n_out)\n",
    "        self.act_fn = act_fn\n",
    "    \n",
    "    def __repr__(self):    \n",
    "        return 'Weights: ' + repr(self.weights) + ' Biases: ' + repr(self.bias)\n",
    "\n",
    "    def parameters(self) -> Sequence[Var]:\n",
    "      params = []\n",
    "      for r in self.weights:\n",
    "        params += r\n",
    "\n",
    "      return params + self.bias\n",
    "\n",
    "\n",
    "    def forward(self, single_input: Sequence[Var]) -> Sequence[Var]:\n",
    "        # self.weights is a matrix with dimension n_in x n_out. We check that the dimensionality of the input \n",
    "        # to the current layer matches the number of nodes in the current layer\n",
    "        assert len(self.weights) == len(single_input), \"weights and single_input must match in first dimension\"\n",
    "        weights = self.weights\n",
    "        out = []\n",
    "        # For some given data point single_input, we now want to calculate the resulting value in each node in the current layer\n",
    "        # We therefore loop over the (number of) nodes in the current layer:\n",
    "        for j in range(len(weights[0])): \n",
    "            # Initialize the node value depending on its corresponding parameters.\n",
    "            node = self.bias[j] # <- Insert code\n",
    "            # We now finish the linear transformation corresponding to the parameters of the currently considered node.\n",
    "            for i in range(len(single_input)):\n",
    "                node += self.weights[i][j] * single_input[i]\n",
    "            node = self.act_fn(node)\n",
    "            out.append(node)\n",
    "\n",
    "        return out"
   ]
  },
  {
   "cell_type": "markdown",
   "metadata": {
    "id": "jpIZPBpNI0pO"
   },
   "source": [
    "## Exercise f) Add more activation functions\n",
    "\n",
    "To have a full definition of the neural network, we must define an activation function for every layer. Several activation functions have been proposed and have different characteristics. In the Var class we have already defined the rectified linear init (relu). \n",
    " \n",
    "Implement the following activation functions in the Var class:\n",
    "\n",
    "* Identity: $$\\mathrm{identity}(x) = x$$\n",
    "* Hyperbolic tangent: $$\\tanh(x)$$\n",
    "* Sigmoid (or logistic function): $$\\mathrm{sigmoid}(x) = \\frac{1}{1.0 + \\exp(-x ) }$$  Hint: $\\mathrm{sigmoid}'(x)= \\mathrm{sigmoid}(x)(1-\\mathrm{sigmoid}(x))$.  \n",
    "\n",
    "Hint: You can seek inspiration in the relu method in the Var class."
   ]
  },
  {
   "cell_type": "code",
   "execution_count": 98,
   "metadata": {},
   "outputs": [],
   "source": [
    "# Answer f)\n",
    "\n",
    "import math \n",
    "\n",
    "\n",
    "class Var:\n",
    "    \"\"\"\n",
    "    A variable which holds a float and enables gradient computations.\n",
    "    \"\"\"\n",
    "\n",
    "    def __init__(self, val: float, grad_fn=lambda: []):\n",
    "        assert type(val) == float\n",
    "        self.v = val\n",
    "        self.grad_fn = grad_fn\n",
    "        self.grad = 0.0\n",
    "\n",
    "    def backprop(self, bp):\n",
    "        self.grad += bp\n",
    "        for input, grad in self.grad_fn():\n",
    "            input.backprop(grad * bp)\n",
    "\n",
    "    def backward(self):\n",
    "        self.backprop(1.0)\n",
    "\n",
    "    def __add__(self: 'Var', other: 'Var') -> 'Var':\n",
    "        return Var(self.v + other.v, lambda: [(self, 1.0), (other, 1.0)])\n",
    "\n",
    "    def __mul__(self: 'Var', other: 'Var') -> 'Var':\n",
    "        return Var(self.v * other.v, lambda: [(self, other.v), (other, self.v)])\n",
    "\n",
    "    def __pow__(self, power):\n",
    "        assert type(power) in {float, int}, \"power must be float or int\"\n",
    "        return Var(self.v ** power, lambda: [(self, power * self.v ** (power - 1))])\n",
    "\n",
    "    def __neg__(self: 'Var') -> 'Var':\n",
    "        return Var(-1.0) * self\n",
    "\n",
    "    def __sub__(self: 'Var', other: 'Var') -> 'Var':\n",
    "        return self + (-other)\n",
    "\n",
    "    def __truediv__(self: 'Var', other: 'Var') -> 'Var':\n",
    "        return self * other ** -1\n",
    "\n",
    "    def __repr__(self):\n",
    "        return \"Var(v=%.4f, grad=%.4f)\" % (self.v, self.grad)\n",
    "\n",
    "    def relu(self):\n",
    "        return Var(self.v if self.v > 0.0 else 0.0, lambda: [(self, 1.0 if self.v > 0.0 else 0.0)])\n",
    "    \n",
    "    #####################################################################################\n",
    "    def identity(self):\n",
    "        return Var(self.v,lambda: [(self,1)])\n",
    "    \n",
    "    def tanh(self):\n",
    "        return Var(math.tanh(self.v), lambda: [(self, 1.0 if self.v > 0.0 else 0.0)])\n",
    "    \n",
    "    def sigmoid(self):\n",
    "        return Var(1/(1+math.exp(-self.v)), lambda: [self, (1/(1+math.exp(-self.v)))*(1-(1/(1+math.exp(-self.v))))])\n",
    "\n"
   ]
  },
  {
   "cell_type": "code",
   "execution_count": 99,
   "metadata": {},
   "outputs": [
    {
     "name": "stdout",
     "output_type": "stream",
     "text": [
      "With activation function  Var(v=1.0000, grad=0.0000)\n",
      "Without activation function  Var(v=100.0000, grad=0.0000)\n"
     ]
    }
   ],
   "source": [
    "a = Var(100.0)\n",
    "b = a.sigmoid()\n",
    "print(\"With activation function \",b)\n",
    "print(\"Without activation function \",a)"
   ]
  },
  {
   "cell_type": "markdown",
   "metadata": {
    "id": "p_8n_SKnIW2F"
   },
   "source": [
    "## Exercise g) Complete the forward pass\n",
    "\n",
    "In the code below we initialize a 1-5-1 network and pass the training set through it. *The forward method in DenseLayer is **not** complete*. It just outputs zeros right now. The method forward should perform an [affine transformation](https://en.wikipedia.org/wiki/Affine_transformation) on the input followed by an application of the activation function."
   ]
  },
  {
   "cell_type": "code",
   "execution_count": 100,
   "metadata": {},
   "outputs": [],
   "source": [
    "from typing import Sequence\n",
    "\n",
    "class DenseLayer:\n",
    "    def __init__(self, n_in: int, n_out: int, act_fn, initializer = NormalInitializer()):\n",
    "        self.weights = initializer.init_weights(n_in, n_out)\n",
    "        self.bias = initializer.init_bias(n_out)\n",
    "        self.act_fn = act_fn\n",
    "    \n",
    "    def __repr__(self):    \n",
    "        return 'Weights: ' + repr(self.weights) + ' Biases: ' + repr(self.bias)\n",
    "\n",
    "    def parameters(self) -> Sequence[Var]:\n",
    "      params = []\n",
    "      for r in self.weights:\n",
    "        params += r\n",
    "\n",
    "      return params + self.bias\n",
    "\n",
    "    #################################################################\n",
    "    def forward(self, single_input: Sequence[Var]) -> Sequence[Var]:\n",
    "\n",
    "        assert len(self.weights) == len(single_input), \"weights and single_input must match in first dimension\"\n",
    "        weights = self.weights\n",
    "        out = []\n",
    "\n",
    "        # Iterate over layers\n",
    "        for j in range(len(weights[0])): \n",
    "            node = self.bias[j] \n",
    "            #ITerate over inputs\n",
    "            for i in range(len(single_input)):\n",
    "                node += self.weights[i][j] * single_input[i]\n",
    "            node = self.act_fn(node)\n",
    "            out.append(node)\n",
    "\n",
    "        return out"
   ]
  },
  {
   "cell_type": "code",
   "execution_count": 101,
   "metadata": {
    "colab": {
     "base_uri": "https://localhost:8080/",
     "height": 337
    },
    "id": "xDEjtePxE7Mv",
    "outputId": "753406cd-d8a1-4282-ce03-25ad959b0e11"
   },
   "outputs": [
    {
     "name": "stdout",
     "output_type": "stream",
     "text": [
      "[[Var(v=0.0040, grad=0.0000)], [Var(v=0.0088, grad=0.0000)], [Var(v=0.0002, grad=0.0000)], [Var(v=0.0113, grad=0.0000)], [Var(v=0.0063, grad=0.0000)], [Var(v=0.0058, grad=0.0000)], [Var(v=0.0035, grad=0.0000)], [Var(v=0.0032, grad=0.0000)], [Var(v=0.0116, grad=0.0000)], [Var(v=0.0019, grad=0.0000)], [Var(v=0.0066, grad=0.0000)], [Var(v=0.0074, grad=0.0000)], [Var(v=0.0052, grad=0.0000)], [Var(v=0.0084, grad=0.0000)], [Var(v=0.0025, grad=0.0000)], [Var(v=0.0054, grad=0.0000)], [Var(v=0.0105, grad=0.0000)], [Var(v=0.0046, grad=0.0000)], [Var(v=0.0001, grad=0.0000)], [Var(v=0.0012, grad=0.0000)], [Var(v=0.0057, grad=0.0000)], [Var(v=0.0029, grad=0.0000)], [Var(v=0.0075, grad=0.0000)], [Var(v=0.0076, grad=0.0000)], [Var(v=0.0036, grad=0.0000)], [Var(v=0.0086, grad=0.0000)], [Var(v=0.0099, grad=0.0000)], [Var(v=0.0109, grad=0.0000)], [Var(v=0.0006, grad=0.0000)], [Var(v=0.0067, grad=0.0000)], [Var(v=0.0106, grad=0.0000)], [Var(v=0.0011, grad=0.0000)], [Var(v=0.0093, grad=0.0000)], [Var(v=0.0101, grad=0.0000)], [Var(v=0.0049, grad=0.0000)], [Var(v=0.0024, grad=0.0000)], [Var(v=0.0114, grad=0.0000)], [Var(v=0.0048, grad=0.0000)], [Var(v=0.0083, grad=0.0000)], [Var(v=0.0061, grad=0.0000)], [Var(v=0.0045, grad=0.0000)], [Var(v=0.0059, grad=0.0000)], [Var(v=0.0103, grad=0.0000)], [Var(v=0.0072, grad=0.0000)], [Var(v=0.0058, grad=0.0000)], [Var(v=0.0069, grad=0.0000)], [Var(v=0.0064, grad=0.0000)], [Var(v=0.0060, grad=0.0000)], [Var(v=0.0031, grad=0.0000)], [Var(v=0.0061, grad=0.0000)], [Var(v=0.0023, grad=0.0000)], [Var(v=0.0004, grad=0.0000)], [Var(v=0.0067, grad=0.0000)], [Var(v=0.0060, grad=0.0000)], [Var(v=0.0111, grad=0.0000)], [Var(v=0.0097, grad=0.0000)], [Var(v=0.0042, grad=0.0000)], [Var(v=0.0046, grad=0.0000)], [Var(v=0.0032, grad=0.0000)], [Var(v=0.0100, grad=0.0000)], [Var(v=0.0062, grad=0.0000)], [Var(v=0.0073, grad=0.0000)], [Var(v=0.0115, grad=0.0000)], [Var(v=0.0027, grad=0.0000)], [Var(v=0.0018, grad=0.0000)], [Var(v=0.0096, grad=0.0000)], [Var(v=0.0102, grad=0.0000)], [Var(v=0.0080, grad=0.0000)], [Var(v=0.0075, grad=0.0000)], [Var(v=0.0028, grad=0.0000)], [Var(v=0.0033, grad=0.0000)], [Var(v=0.0019, grad=0.0000)], [Var(v=0.0061, grad=0.0000)], [Var(v=0.0033, grad=0.0000)], [Var(v=0.0016, grad=0.0000)], [Var(v=0.0100, grad=0.0000)], [Var(v=0.0054, grad=0.0000)], [Var(v=0.0052, grad=0.0000)], [Var(v=0.0067, grad=0.0000)], [Var(v=0.0104, grad=0.0000)], [Var(v=0.0010, grad=0.0000)], [Var(v=0.0003, grad=0.0000)], [Var(v=0.0105, grad=0.0000)], [Var(v=0.0020, grad=0.0000)], [Var(v=0.0056, grad=0.0000)], [Var(v=0.0028, grad=0.0000)], [Var(v=0.0025, grad=0.0000)], [Var(v=0.0062, grad=0.0000)], [Var(v=0.0108, grad=0.0000)], [Var(v=0.0112, grad=0.0000)], [Var(v=0.0034, grad=0.0000)], [Var(v=0.0039, grad=0.0000)], [Var(v=0.0065, grad=0.0000)], [Var(v=0.0056, grad=0.0000)], [Var(v=0.0090, grad=0.0000)], [Var(v=0.0107, grad=0.0000)], [Var(v=0.0022, grad=0.0000)], [Var(v=0.0002, grad=0.0000)], [Var(v=0.0094, grad=0.0000)], [Var(v=0.0066, grad=0.0000)], [Var(v=0.0059, grad=0.0000)], [Var(v=0.0065, grad=0.0000)], [Var(v=0.0095, grad=0.0000)], [Var(v=0.0025, grad=0.0000)], [Var(v=0.0087, grad=0.0000)], [Var(v=0.0057, grad=0.0000)], [Var(v=0.0008, grad=0.0000)], [Var(v=0.0105, grad=0.0000)], [Var(v=0.0024, grad=0.0000)], [Var(v=0.0043, grad=0.0000)], [Var(v=0.0014, grad=0.0000)], [Var(v=0.0085, grad=0.0000)], [Var(v=0.0051, grad=0.0000)], [Var(v=0.0074, grad=0.0000)], [Var(v=0.0072, grad=0.0000)], [Var(v=0.0027, grad=0.0000)], [Var(v=0.0003, grad=0.0000)], [Var(v=0.0107, grad=0.0000)], [Var(v=0.0036, grad=0.0000)], [Var(v=0.0043, grad=0.0000)], [Var(v=0.0076, grad=0.0000)], [Var(v=0.0017, grad=0.0000)], [Var(v=0.0026, grad=0.0000)], [Var(v=0.0013, grad=0.0000)], [Var(v=0.0008, grad=0.0000)], [Var(v=0.0078, grad=0.0000)], [Var(v=0.0089, grad=0.0000)], [Var(v=0.0020, grad=0.0000)], [Var(v=0.0034, grad=0.0000)], [Var(v=0.0100, grad=0.0000)], [Var(v=0.0010, grad=0.0000)], [Var(v=0.0030, grad=0.0000)], [Var(v=0.0014, grad=0.0000)], [Var(v=0.0026, grad=0.0000)], [Var(v=0.0096, grad=0.0000)], [Var(v=0.0091, grad=0.0000)], [Var(v=0.0004, grad=0.0000)], [Var(v=0.0020, grad=0.0000)], [Var(v=0.0022, grad=0.0000)], [Var(v=0.0118, grad=0.0000)], [Var(v=0.0028, grad=0.0000)], [Var(v=0.0005, grad=0.0000)], [Var(v=0.0021, grad=0.0000)], [Var(v=0.0024, grad=0.0000)], [Var(v=0.0046, grad=0.0000)], [Var(v=0.0083, grad=0.0000)], [Var(v=0.0018, grad=0.0000)], [Var(v=0.0061, grad=0.0000)], [Var(v=0.0097, grad=0.0000)], [Var(v=0.0053, grad=0.0000)], [Var(v=0.0090, grad=0.0000)], [Var(v=0.0034, grad=0.0000)], [Var(v=0.0055, grad=0.0000)], [Var(v=0.0006, grad=0.0000)], [Var(v=0.0098, grad=0.0000)], [Var(v=0.0073, grad=0.0000)], [Var(v=0.0055, grad=0.0000)], [Var(v=0.0068, grad=0.0000)], [Var(v=0.0037, grad=0.0000)], [Var(v=0.0052, grad=0.0000)], [Var(v=0.0048, grad=0.0000)], [Var(v=0.0007, grad=0.0000)], [Var(v=0.0110, grad=0.0000)], [Var(v=0.0092, grad=0.0000)], [Var(v=0.0097, grad=0.0000)], [Var(v=0.0006, grad=0.0000)], [Var(v=0.0101, grad=0.0000)], [Var(v=0.0079, grad=0.0000)], [Var(v=0.0015, grad=0.0000)], [Var(v=0.0079, grad=0.0000)], [Var(v=0.0044, grad=0.0000)], [Var(v=0.0044, grad=0.0000)], [Var(v=0.0073, grad=0.0000)], [Var(v=0.0087, grad=0.0000)], [Var(v=0.0048, grad=0.0000)], [Var(v=0.0071, grad=0.0000)], [Var(v=0.0011, grad=0.0000)], [Var(v=0.0099, grad=0.0000)], [Var(v=0.0108, grad=0.0000)], [Var(v=0.0007, grad=0.0000)], [Var(v=0.0038, grad=0.0000)], [Var(v=0.0120, grad=0.0000)], [Var(v=0.0089, grad=0.0000)], [Var(v=0.0092, grad=0.0000)], [Var(v=0.0040, grad=0.0000)], [Var(v=0.0082, grad=0.0000)], [Var(v=0.0079, grad=0.0000)], [Var(v=0.0016, grad=0.0000)], [Var(v=0.0041, grad=0.0000)], [Var(v=0.0091, grad=0.0000)], [Var(v=0.0071, grad=0.0000)], [Var(v=0.0000, grad=0.0000)], [Var(v=0.0065, grad=0.0000)], [Var(v=0.0040, grad=0.0000)], [Var(v=0.0070, grad=0.0000)], [Var(v=0.0111, grad=0.0000)], [Var(v=0.0110, grad=0.0000)], [Var(v=0.0088, grad=0.0000)], [Var(v=0.0098, grad=0.0000)], [Var(v=0.0052, grad=0.0000)], [Var(v=0.0117, grad=0.0000)], [Var(v=0.0022, grad=0.0000)], [Var(v=0.0094, grad=0.0000)], [Var(v=0.0041, grad=0.0000)], [Var(v=0.0009, grad=0.0000)], [Var(v=0.0045, grad=0.0000)], [Var(v=0.0102, grad=0.0000)], [Var(v=0.0009, grad=0.0000)], [Var(v=0.0070, grad=0.0000)], [Var(v=0.0012, grad=0.0000)], [Var(v=0.0017, grad=0.0000)], [Var(v=0.0106, grad=0.0000)], [Var(v=0.0113, grad=0.0000)], [Var(v=0.0064, grad=0.0000)], [Var(v=0.0086, grad=0.0000)], [Var(v=0.0069, grad=0.0000)], [Var(v=0.0085, grad=0.0000)], [Var(v=0.0097, grad=0.0000)], [Var(v=0.0005, grad=0.0000)], [Var(v=0.0088, grad=0.0000)], [Var(v=0.0021, grad=0.0000)], [Var(v=0.0094, grad=0.0000)], [Var(v=0.0050, grad=0.0000)], [Var(v=0.0003, grad=0.0000)], [Var(v=0.0101, grad=0.0000)], [Var(v=0.0084, grad=0.0000)], [Var(v=0.0032, grad=0.0000)], [Var(v=0.0055, grad=0.0000)], [Var(v=0.0043, grad=0.0000)], [Var(v=0.0047, grad=0.0000)], [Var(v=0.0089, grad=0.0000)], [Var(v=0.0068, grad=0.0000)], [Var(v=0.0106, grad=0.0000)], [Var(v=0.0082, grad=0.0000)], [Var(v=0.0037, grad=0.0000)], [Var(v=0.0109, grad=0.0000)], [Var(v=0.0082, grad=0.0000)], [Var(v=0.0044, grad=0.0000)], [Var(v=0.0085, grad=0.0000)], [Var(v=0.0058, grad=0.0000)], [Var(v=0.0093, grad=0.0000)], [Var(v=0.0039, grad=0.0000)], [Var(v=0.0009, grad=0.0000)], [Var(v=0.0085, grad=0.0000)], [Var(v=0.0051, grad=0.0000)], [Var(v=0.0004, grad=0.0000)], [Var(v=0.0031, grad=0.0000)], [Var(v=0.0053, grad=0.0000)], [Var(v=0.0076, grad=0.0000)], [Var(v=0.0117, grad=0.0000)], [Var(v=0.0036, grad=0.0000)], [Var(v=0.0077, grad=0.0000)], [Var(v=0.0013, grad=0.0000)], [Var(v=0.0119, grad=0.0000)], [Var(v=0.0015, grad=0.0000)], [Var(v=0.0037, grad=0.0000)], [Var(v=0.0081, grad=0.0000)], [Var(v=0.0056, grad=0.0000)], [Var(v=0.0042, grad=0.0000)], [Var(v=0.0093, grad=0.0000)], [Var(v=0.0047, grad=0.0000)], [Var(v=0.0078, grad=0.0000)], [Var(v=0.0069, grad=0.0000)], [Var(v=0.0109, grad=0.0000)], [Var(v=0.0049, grad=0.0000)], [Var(v=0.0012, grad=0.0000)], [Var(v=0.0109, grad=0.0000)], [Var(v=0.0012, grad=0.0000)], [Var(v=0.0103, grad=0.0000)], [Var(v=0.0070, grad=0.0000)], [Var(v=0.0077, grad=0.0000)], [Var(v=0.0080, grad=0.0000)], [Var(v=0.0018, grad=0.0000)], [Var(v=0.0030, grad=0.0000)], [Var(v=0.0112, grad=0.0000)], [Var(v=0.0028, grad=0.0000)], [Var(v=0.0015, grad=0.0000)], [Var(v=0.0073, grad=0.0000)], [Var(v=0.0081, grad=0.0000)], [Var(v=0.0064, grad=0.0000)], [Var(v=0.0077, grad=0.0000)], [Var(v=0.0103, grad=0.0000)], [Var(v=0.0008, grad=0.0000)], [Var(v=0.0095, grad=0.0000)], [Var(v=0.0031, grad=0.0000)], [Var(v=0.0081, grad=0.0000)], [Var(v=0.0000, grad=0.0000)], [Var(v=0.0016, grad=0.0000)], [Var(v=0.0001, grad=0.0000)], [Var(v=0.0040, grad=0.0000)], [Var(v=0.0050, grad=0.0000)], [Var(v=0.0049, grad=0.0000)], [Var(v=0.0023, grad=0.0000)], [Var(v=0.0112, grad=0.0000)], [Var(v=0.0104, grad=0.0000)], [Var(v=0.0029, grad=0.0000)], [Var(v=0.0063, grad=0.0000)]]\n"
     ]
    }
   ],
   "source": [
    "NN = [\n",
    "    DenseLayer(1, 5, lambda x: x.relu()),\n",
    "    DenseLayer(5, 1, lambda x: x.identity())\n",
    "]\n",
    "\n",
    "def forward(input, network):\n",
    "\n",
    "  def forward_single(x, network):\n",
    "    for layer in network:\n",
    "        x = layer.forward(x)\n",
    "    return x\n",
    "\n",
    "  output = [ forward_single(input[n], network) for n in range(len(input))]\n",
    "  return output\n",
    "\n",
    "print(forward(x_train, NN))"
   ]
  },
  {
   "cell_type": "markdown",
   "metadata": {},
   "source": [
    "## Answer g)\n",
    "Answer is the `forward()` method from the `DenseLayer` class. It has been modified according the exercise."
   ]
  },
  {
   "cell_type": "markdown",
   "metadata": {
    "id": "oLrGJytZFtGm"
   },
   "source": [
    "## Exercise h) Print all network parameters\n",
    "\n",
    "Make a function that prints all the parameters of the network (weights and biases) with information about in which layer the appear. In the object oriented spirit you should introduce a method in the DenseLayer class to print the parameters of a layer. Hint: You can take inspiration from the corresponding method in Var. "
   ]
  },
  {
   "cell_type": "code",
   "execution_count": 102,
   "metadata": {
    "id": "iac-VwYGFtGm"
   },
   "outputs": [
    {
     "name": "stdout",
     "output_type": "stream",
     "text": [
      "Weights: [[Var(v=0.0278, grad=0.0000), Var(v=-0.1332, grad=0.0000), Var(v=-0.1905, grad=0.0000), Var(v=0.0584, grad=0.0000), Var(v=0.0485, grad=0.0000)]] Biases: [Var(v=0.0000, grad=0.0000), Var(v=0.0000, grad=0.0000), Var(v=0.0000, grad=0.0000), Var(v=0.0000, grad=0.0000), Var(v=0.0000, grad=0.0000)]\n",
      "Weights: [[Var(v=-0.2126, grad=0.0000)], [Var(v=0.0243, grad=0.0000)], [Var(v=0.0195, grad=0.0000)], [Var(v=0.0647, grad=0.0000)], [Var(v=0.1784, grad=0.0000)]] Biases: [Var(v=0.0000, grad=0.0000)]\n"
     ]
    }
   ],
   "source": [
    "def print_nn(NN):\n",
    "    for layer in NN:\n",
    "        print(layer)\n",
    "\n",
    "print_nn(NN)"
   ]
  },
  {
   "cell_type": "markdown",
   "metadata": {
    "id": "_79HOAXrFtHK"
   },
   "source": [
    "## Visualization\n",
    "\n",
    "Now that we have defined our activation functions we can visualize them to see what they look like:"
   ]
  },
  {
   "cell_type": "code",
   "execution_count": 103,
   "metadata": {
    "id": "1FcylHqLTl-Z"
   },
   "outputs": [
    {
     "data": {
      "text/plain": [
       "[<matplotlib.lines.Line2D at 0x20570f0a290>]"
      ]
     },
     "execution_count": 103,
     "metadata": {},
     "output_type": "execute_result"
    },
    {
     "data": {
      "image/png": "[encoded data removed]",
      "text/plain": [
       "<Figure size 640x480 with 1 Axes>"
      ]
     },
     "metadata": {},
     "output_type": "display_data"
    }
   ],
   "source": [
    "x = np.linspace(-6, 6, 100)\n",
    "\n",
    "# convert from Var to ndarray  \n",
    "def Var_to_nparray(x):\n",
    "  y = np.zeros((len(x),len(x[0])))\n",
    "  for i in range(len(x)):\n",
    "    for j in range(len(x[0])):\n",
    "      y[i,j] = x[i][j].v\n",
    "  return y\n",
    "\n",
    "# define 1-1 network with weight = 1 and relu activation \n",
    "NN = [ DenseLayer(1, 1, lambda x: x.relu(), initializer = ConstantInitializer(1.0)) ] \n",
    "y = Var_to_nparray(forward(nparray_to_Var(x), NN))\n",
    "\n",
    "#y = Var_to_nparray(relu(nparray_to_Var(x)))\n",
    "plt.plot(x,y)"
   ]
  },
  {
   "cell_type": "code",
   "execution_count": 104,
   "metadata": {
    "id": "oOL2UolJFtHL"
   },
   "outputs": [
    {
     "data": {
      "image/png": "[encoded data removed]",
      "text/plain": [
       "<Figure size 500x500 with 1 Axes>"
      ]
     },
     "metadata": {},
     "output_type": "display_data"
    }
   ],
   "source": [
    "# Testing all activation layers\n",
    "\n",
    "x = np.linspace(-6, 6, 100)\n",
    "units = {\n",
    "    \"identity\": lambda x: x.identity(),\n",
    "    \"sigmoid\": lambda x: x.sigmoid(),\n",
    "    \"relu\": lambda x: x.relu(),\n",
    "    \"tanh\": lambda x: x.tanh()\n",
    "}\n",
    "\n",
    "plt.figure(figsize=(5, 5))\n",
    "[plt.plot(x, Var_to_nparray(forward(nparray_to_Var(x), [DenseLayer(1, 1, unit, initializer = ConstantInitializer(1.0))]) ), label=unit_name, lw=2) for unit_name, unit in units.items()] # unit(nparray_to_Var(x))), label=unit_name, lw=2) for unit_name, unit in units.items()]\n",
    "plt.legend(loc=2, fontsize=16)\n",
    "plt.title('Our activation functions', fontsize=20)\n",
    "plt.ylim([-2, 5])\n",
    "plt.xlim([-6, 6])\n",
    "plt.show()"
   ]
  },
  {
   "cell_type": "markdown",
   "metadata": {
    "id": "b-jdEl-7FtGs"
   },
   "source": [
    "# Advanced initialization schemes\n",
    "\n",
    "If we are not careful with initialization, the signals we propagate forward ($a^{(l)}$, $l=1,\\ldots,L$) and backward ($\\delta^l$, $l=L,L-1,\\ldots,1$) can blow up or shrink to zero. A statistical analysis of the variance of the signals for different activation functions can be found in these two papers: [Glorot initialization](http://proceedings.mlr.press/v9/glorot10a/glorot10a.pdf) and [He initialization](https://arxiv.org/pdf/1502.01852v1.pdf). \n",
    "\n",
    "The result of the analyses are proposals for how to make the initialization such that the variance of the signals (forward and backward) are kept approxmimatly constant when propagating from layer to layer. The exact expressions depend upon the non-linear activation function used. In Glorot initialization, the aim is to keep both the forward and backward variances constant whereas He only aims at keeping the variance in the forward pass constant.\n",
    "\n",
    "We define $n_{in}$ and $n_{out}$ as the number of input units and output units of a particular layer. \n",
    "\n",
    "The Glorot initialization has the form: \n",
    "\n",
    "$$w_{ij} \\sim N \\bigg( 0, \\, \\frac{2 \\alpha }{n_{in} + n_{out}} \\bigg) \\ . $$\n",
    "\n",
    "where $N(\\mu,\\sigma^2)$ is a Gaussian distribution with mean $\\mu$ and variance $\\sigma^2$ and $\\alpha$ is a parameter that depends upon the activation function used. For $\\tanh$, $\\alpha=1$ and for Rectified Linear Unit (ReLU) activations, $\\alpha=2$. (It is also possible to use a uniform distribution for initialization, see [this blog post](https://mmuratarat.github.io/2019-02-25/xavier-glorot-he-weight-init).) \n",
    "\n",
    "The He initialization is very similar\n",
    "\n",
    "$$w_{ij} \\sim N \\bigg( 0, \\, \\frac{\\alpha}{n_{in}} \\bigg) \\ . $$"
   ]
  },
  {
   "cell_type": "markdown",
   "metadata": {
    "id": "mqeyab9qFtGs"
   },
   "source": [
    "## Exercise i) Glorot and He initialization\n",
    " \n",
    "Using the Initializer class, implement functions that implement Glorot and He \n",
    "\n",
    "Explain briefly how you would test numerically that these initializations have the sought after property. Hint: See plots in Glorot paper.\n",
    "\n",
    "Comment: If you want to be more advanced then try to make a universal initializer taking both the activation function and type (Glorot or He) as argument."
   ]
  },
  {
   "cell_type": "code",
   "execution_count": 105,
   "metadata": {
    "id": "Qyk01CgaFtGt"
   },
   "outputs": [],
   "source": [
    "# Answer j)\n",
    "## Glorot\n",
    "def DenseLayer_Glorot_tanh(n_in: int, n_out: int):\n",
    "  alpha = 1 # <- replace with proper initialization\n",
    "  std = 2*alpha/(n_in+n_out)\n",
    "  return DenseLayer(n_in, n_out, lambda x: x.tanh(), initializer = NormalInitializer(std))\n",
    "\n",
    "## He\n",
    "def DenseLayer_He_relu(n_in: int, n_out: int):\n",
    "  alpha = 2\n",
    "  std = alpha/n_in # <- replace with proper initialization\n",
    "  return DenseLayer(n_in, n_out, lambda x: x.relu(), initializer = NormalInitializer(std))"
   ]
  },
  {
   "cell_type": "markdown",
   "metadata": {
    "id": "-XyXBD37FtHk"
   },
   "source": [
    "## Exercise j) Forward pass unit test\n",
    "\n",
    "Write a bit of code to make a unit test that the forward pass works. This can be done by defining a simple network with for example all weights equal to one (using the ConstantInitializer method) and identity activation functions. \n",
    "\n",
    "Hints: Use the [assert](https://www.w3schools.com/python/ref_keyword_assert.asp), the nparray_to_Var and the Var_to_nparray commands. "
   ]
  },
  {
   "cell_type": "code",
   "execution_count": 106,
   "metadata": {
    "id": "k0miqRUAFtHl"
   },
   "outputs": [],
   "source": [
    "# Insert code here\n",
    "NN_const = [\n",
    "    DenseLayer(1, 1, lambda x: x.identity(), initializer=ConstantInitializer()),\n",
    "    DenseLayer(1, 1, lambda x: x.identity(), initializer=ConstantInitializer())\n",
    "]\n",
    "\n",
    "assert np.array_equal(Var_to_nparray(x_train), Var_to_nparray(forward(x_train, NN_const))),  \"Incorrect\""
   ]
  },
  {
   "cell_type": "markdown",
   "metadata": {
    "id": "faCxhfFnFtHp"
   },
   "source": [
    "# Loss functions\n",
    "\n",
    "We are only missing a loss function to we need to define a loss function and its derivative with respect to the output of the neural network $y$"
   ]
  },
  {
   "cell_type": "code",
   "execution_count": 107,
   "metadata": {
    "id": "I2eDYKvAFtHq"
   },
   "outputs": [],
   "source": [
    "def squared_loss(t, y):\n",
    "  \n",
    "  # add check that sizes agree\n",
    "  \n",
    "  def squared_loss_single(t, y):\n",
    "    Loss = Var(0.0)\n",
    "    for i in range(len(t)): # sum over outputs\n",
    "      Loss += (t[i]-y[i]) ** 2\n",
    "    return Loss\n",
    "\n",
    "  Loss = Var(0.0)\n",
    "  for n in range(len(t)): # sum over training data\n",
    "    Loss += squared_loss_single(t[n],y[n])\n",
    "  return Loss"
   ]
  },
  {
   "cell_type": "markdown",
   "metadata": {
    "id": "SrwSJ2UWFtHu"
   },
   "source": [
    "## Exercise k) Implement cross entropy loss\n",
    "\n",
    "Insert code below to implement cross-entropy loss for general dimensionality of $t$. Use a logits formulation:\n",
    "$$\n",
    "\\rm{Loss} = - \\sum_i t_i \\, log \\, p_i \n",
    "$$\n",
    "with $p$ given by the the softmax function in terms of the logits $h$:\n",
    "$$\n",
    "p_i = \\frac{\\exp(h_i)}{\\sum_{i'} \\exp(h_{i'})} .\n",
    "$$\n",
    "Inserting $p$ in the expression for the loss gives\n",
    "$$\n",
    "\\rm{Loss} = - \\sum_i t_i h_i + \\rm{LogSumExp}(h) \\ ,\n",
    "$$\n",
    "where \n",
    "$$\n",
    "\\rm{LogSumExp}(h) = \\log \\sum_i \\exp h_i \\ .\n",
    "$$\n",
    "This is true for $t$ being a one-hot vector. \n",
    "\n",
    "Call the function to convince yourself it works. \n",
    "\n",
    "In practice you want to implement a [numerically stable](https://leimao.github.io/blog/LogSumExp/) version of LogSumExp. But we will not bother about that here.\n",
    "\n",
    "Help: You can add these methods in the Var class:\n",
    "\n",
    "    def exp(self):\n",
    "        return Var(exp(self.v), lambda: [(self, exp(self.v))])\n",
    "    \n",
    "    def log(self):\n",
    "        return Var(log(self.v), lambda: [(self, self.v ** -1)])"
   ]
  },
  {
   "cell_type": "code",
   "execution_count": 108,
   "metadata": {
    "id": "6nMuxyfzFtHv"
   },
   "outputs": [],
   "source": [
    "def cross_entropy_loss_big(t, h):\n",
    "    \n",
    "    def cross_entropy_loss_small(t, h):\n",
    "        weighted_sum = sum(t_i * h_i for t_i, h_i in zip(t, h))\n",
    "        exp_sum = sum(h_i.exp() for h_i in h)\n",
    "        \n",
    "        return -weighted_sum + exp_sum.log()\n",
    "    \n",
    "    Loss = sum(cross_entropy_loss_small(t_n, h_n) for t_n, h_n in zip(t, h))\n",
    "    \n",
    "    return Loss\n"
   ]
  },
  {
   "cell_type": "markdown",
   "metadata": {
    "id": "8fAF5ew4FtHy"
   },
   "source": [
    "# Backward pass\n",
    "\n",
    "Now the magic happens! We get the calculation of the gradients for free. Just do:"
   ]
  },
  {
   "cell_type": "code",
   "execution_count": 109,
   "metadata": {
    "id": "iHyfPPI9Qqwu"
   },
   "outputs": [],
   "source": [
    "NN = [\n",
    "    DenseLayer(1, 5, lambda x: x.relu()),\n",
    "    DenseLayer(5, 1, lambda x: x.identity())\n",
    "]\n",
    "\n",
    "output = forward(x_train, NN)\n",
    "\n",
    "Loss = squared_loss(y_train,output)\n",
    "Loss.backward()"
   ]
  },
  {
   "cell_type": "markdown",
   "metadata": {
    "id": "49biIAYKQ1oG"
   },
   "source": [
    "and the gradients will be calculated:"
   ]
  },
  {
   "cell_type": "code",
   "execution_count": 110,
   "metadata": {
    "id": "_rGt1bq_Q7uk"
   },
   "outputs": [
    {
     "name": "stdout",
     "output_type": "stream",
     "text": [
      "Layer 0 \n",
      " Weights: [[Var(v=0.0281, grad=-11.5480), Var(v=0.0661, grad=-16.7358), Var(v=-0.0512, grad=39.8064), Var(v=0.1037, grad=-42.4817), Var(v=0.0506, grad=23.2209)]] Biases: [Var(v=0.0000, grad=-10.1410), Var(v=0.0000, grad=-14.6966), Var(v=0.0000, grad=-34.3927), Var(v=0.0000, grad=-37.3056), Var(v=0.0000, grad=20.3916)]\n",
      "Layer 1 \n",
      " Weights: [[Var(v=0.0420, grad=-7.7243)], [Var(v=0.0608, grad=-18.1799)], [Var(v=-0.1409, grad=14.4751)], [Var(v=0.1544, grad=-28.5226)], [Var(v=-0.0844, grad=-13.9221)]] Biases: [Var(v=0.0000, grad=2.4975)]\n"
     ]
    },
    {
     "data": {
      "text/plain": [
       "[None, None]"
      ]
     },
     "execution_count": 110,
     "metadata": {},
     "output_type": "execute_result"
    }
   ],
   "source": [
    "[print('Layer', i, '\\n', NN[i]) for i in range(len(NN))] "
   ]
  },
  {
   "cell_type": "markdown",
   "metadata": {
    "id": "D7d7qK0uFtH9"
   },
   "source": [
    "# Backward pass unit test\n",
    "\n",
    "Above we used finite differences to test that Nanograd is actually doing what it is supposed to do. We can in principle try the same for the neural network. But we will trust that the test above is enough."
   ]
  },
  {
   "cell_type": "markdown",
   "metadata": {
    "id": "WgBi8GOSFtIN"
   },
   "source": [
    "# Training and validation\n",
    "\n",
    "We are ready to train some neural networks!\n",
    "\n",
    "We initialize again:"
   ]
  },
  {
   "cell_type": "code",
   "execution_count": 111,
   "metadata": {
    "id": "01ePmzBzRtdh"
   },
   "outputs": [],
   "source": [
    "NN = [\n",
    "    DenseLayer(1, 15, lambda x: x.relu()),\n",
    "    DenseLayer(15, 50, lambda x: x.relu()),\n",
    "    DenseLayer(50, 1, lambda x: x.identity())\n",
    "]\n",
    "\n",
    "output = forward(x_train, NN)\n",
    "\n",
    "Loss = squared_loss(y_train,output)\n",
    "Loss.backward()"
   ]
  },
  {
   "cell_type": "markdown",
   "metadata": {
    "id": "10iRPiQ1ISHw"
   },
   "source": [
    "and make an update:\n",
    "\n",
    "We introduce a help function parameters to have a handle in all parameters in the network."
   ]
  },
  {
   "cell_type": "code",
   "execution_count": 112,
   "metadata": {
    "id": "dhAI7eyeznia"
   },
   "outputs": [
    {
     "name": "stdout",
     "output_type": "stream",
     "text": [
      "Network before update:\n",
      "Layer 0 \n",
      " Weights: [[Var(v=-0.0436, grad=8.0039), Var(v=0.1931, grad=-8.9349), Var(v=-0.0502, grad=14.6622), Var(v=-0.1572, grad=13.0717), Var(v=-0.1244, grad=7.5593), Var(v=-0.0279, grad=25.1971), Var(v=-0.0080, grad=11.4540), Var(v=0.0085, grad=-2.1748), Var(v=0.0870, grad=14.5634), Var(v=0.0100, grad=3.0124), Var(v=0.2202, grad=22.3354), Var(v=0.0748, grad=-6.0597), Var(v=0.0303, grad=3.5035), Var(v=-0.1761, grad=5.1209), Var(v=0.0615, grad=4.4222)]] Biases: [Var(v=0.0000, grad=-6.9154), Var(v=0.0000, grad=-7.8433), Var(v=0.0000, grad=-12.6682), Var(v=0.0000, grad=-11.2940), Var(v=0.0000, grad=-6.5313), Var(v=0.0000, grad=-21.7705), Var(v=0.0000, grad=-9.8964), Var(v=0.0000, grad=-1.9091), Var(v=0.0000, grad=12.7840), Var(v=0.0000, grad=2.6444), Var(v=0.0000, grad=19.6064), Var(v=0.0000, grad=-5.3193), Var(v=0.0000, grad=3.0755), Var(v=0.0000, grad=-4.4245), Var(v=0.0000, grad=3.8819)]\n",
      "Layer 1 \n",
      " Weights: [[Var(v=0.0674, grad=-1.0277), Var(v=-0.0960, grad=0.0000), Var(v=-0.1458, grad=0.0000), Var(v=-0.1038, grad=-0.0617), Var(v=0.0271, grad=-0.8891), Var(v=-0.0125, grad=0.0000), Var(v=-0.0765, grad=0.0000), Var(v=0.1710, grad=-0.2887), Var(v=0.0448, grad=-2.3246), Var(v=-0.0587, grad=0.0000), Var(v=0.0767, grad=0.0000), Var(v=-0.1046, grad=0.5528), Var(v=-0.0412, grad=0.0000), Var(v=-0.0165, grad=0.0000), Var(v=0.0474, grad=0.0000), Var(v=-0.0030, grad=0.0000), Var(v=0.1197, grad=-1.0158), Var(v=-0.0673, grad=-1.1255), Var(v=-0.0140, grad=0.0000), Var(v=0.0214, grad=-0.3405), Var(v=-0.0398, grad=0.0000), Var(v=0.1949, grad=-1.2505), Var(v=0.1005, grad=-0.1653), Var(v=-0.0482, grad=0.0000), Var(v=0.1849, grad=-0.8032), Var(v=0.0114, grad=0.0000), Var(v=-0.1352, grad=-0.6928), Var(v=-0.1454, grad=-2.3233), Var(v=0.0472, grad=-1.0505), Var(v=-0.1073, grad=0.0000), Var(v=-0.2390, grad=0.6605), Var(v=0.0612, grad=0.0000), Var(v=-0.0763, grad=0.6258), Var(v=-0.0053, grad=-0.6901), Var(v=0.0164, grad=0.0000), Var(v=0.0237, grad=0.0000), Var(v=0.1181, grad=0.1413), Var(v=0.0695, grad=0.0000), Var(v=-0.0574, grad=0.0000), Var(v=0.0441, grad=0.0000), Var(v=-0.0613, grad=0.0000), Var(v=0.0660, grad=0.0000), Var(v=0.0941, grad=0.0000), Var(v=0.0681, grad=0.7134), Var(v=0.1812, grad=0.6843), Var(v=0.0174, grad=0.0738), Var(v=0.0105, grad=1.0875), Var(v=-0.0505, grad=0.1546), Var(v=0.0204, grad=1.8178), Var(v=0.1376, grad=0.0000)], [Var(v=0.0085, grad=4.6508), Var(v=-0.0818, grad=5.0436), Var(v=-0.0246, grad=0.0000), Var(v=0.1211, grad=0.0000), Var(v=-0.0072, grad=4.0233), Var(v=-0.2126, grad=0.0000), Var(v=0.1568, grad=-2.7859), Var(v=-0.0836, grad=1.3063), Var(v=-0.0093, grad=10.5193), Var(v=-0.0866, grad=0.0000), Var(v=0.0773, grad=0.0000), Var(v=-0.0180, grad=0.0000), Var(v=-0.0855, grad=0.9425), Var(v=0.0692, grad=0.0000), Var(v=-0.0751, grad=0.0000), Var(v=0.0256, grad=0.0000), Var(v=0.0189, grad=4.5968), Var(v=-0.0382, grad=0.0000), Var(v=0.0567, grad=-4.8199), Var(v=0.2304, grad=1.5410), Var(v=0.0694, grad=2.7935), Var(v=0.1004, grad=0.0000), Var(v=-0.1091, grad=0.7478), Var(v=-0.0709, grad=0.4190), Var(v=0.0200, grad=3.6345), Var(v=-0.0102, grad=5.1373), Var(v=0.0164, grad=3.1349), Var(v=0.0207, grad=10.5134), Var(v=0.0148, grad=4.7538), Var(v=-0.0878, grad=0.0000), Var(v=0.0476, grad=-2.9891), Var(v=0.0003, grad=0.0000), Var(v=0.0454, grad=0.0000), Var(v=-0.0557, grad=3.1229), Var(v=-0.0418, grad=0.0000), Var(v=-0.0219, grad=8.2333), Var(v=-0.0493, grad=0.0000), Var(v=0.0527, grad=-3.3796), Var(v=0.0250, grad=-3.7800), Var(v=-0.1229, grad=-0.8152), Var(v=-0.0219, grad=2.5806), Var(v=-0.0371, grad=5.6631), Var(v=-0.0474, grad=-1.6670), Var(v=0.0067, grad=-3.2285), Var(v=0.0829, grad=-3.0965), Var(v=0.0519, grad=0.0000), Var(v=-0.0503, grad=0.0000), Var(v=0.1083, grad=-0.6994), Var(v=-0.1640, grad=0.0000), Var(v=-0.0699, grad=0.0000)], [Var(v=0.1122, grad=-1.1818), Var(v=0.0207, grad=0.0000), Var(v=0.1077, grad=0.0000), Var(v=-0.1516, grad=-0.0710), Var(v=0.1399, grad=-1.0224), Var(v=0.0151, grad=0.0000), Var(v=-0.0258, grad=0.0000), Var(v=0.2400, grad=-0.3319), Var(v=0.0833, grad=-2.6731), Var(v=0.0985, grad=0.0000), Var(v=0.0769, grad=0.0000), Var(v=-0.0077, grad=0.6357), Var(v=-0.0384, grad=0.0000), Var(v=-0.0196, grad=0.0000), Var(v=-0.1193, grad=0.0000), Var(v=0.0266, grad=0.0000), Var(v=0.1280, grad=-1.1681), Var(v=0.0825, grad=-1.2943), Var(v=-0.1136, grad=0.0000), Var(v=0.0716, grad=-0.3916), Var(v=-0.1496, grad=0.0000), Var(v=-0.1031, grad=-1.4380), Var(v=0.0226, grad=-0.1900), Var(v=0.0388, grad=0.0000), Var(v=-0.1395, grad=-0.9236), Var(v=-0.0485, grad=0.0000), Var(v=-0.1376, grad=-0.7966), Var(v=0.1781, grad=-2.6716), Var(v=0.0339, grad=-1.2080), Var(v=-0.1363, grad=0.0000), Var(v=0.0316, grad=0.7596), Var(v=-0.0173, grad=0.0000), Var(v=-0.0893, grad=0.7196), Var(v=-0.1218, grad=-0.7936), Var(v=0.0379, grad=0.0000), Var(v=-0.0148, grad=0.0000), Var(v=0.0422, grad=0.1625), Var(v=-0.2460, grad=0.0000), Var(v=0.0113, grad=0.0000), Var(v=-0.0208, grad=0.0000), Var(v=0.0301, grad=0.0000), Var(v=-0.0751, grad=0.0000), Var(v=-0.0219, grad=0.0000), Var(v=-0.1359, grad=0.8204), Var(v=-0.0258, grad=0.7868), Var(v=0.2091, grad=0.0849), Var(v=-0.0569, grad=1.2505), Var(v=-0.0906, grad=0.1777), Var(v=0.1880, grad=2.0903), Var(v=0.0514, grad=0.0000)], [Var(v=0.0089, grad=-3.7031), Var(v=0.1131, grad=0.0000), Var(v=-0.0707, grad=0.0000), Var(v=0.0771, grad=-0.2225), Var(v=0.1105, grad=-3.2035), Var(v=0.0077, grad=0.0000), Var(v=-0.0421, grad=0.0000), Var(v=0.0444, grad=-1.0401), Var(v=-0.0736, grad=-8.3758), Var(v=0.0032, grad=0.0000), Var(v=0.0328, grad=0.0000), Var(v=0.0670, grad=1.9920), Var(v=-0.0520, grad=0.0000), Var(v=0.1175, grad=0.0000), Var(v=0.0789, grad=0.0000), Var(v=0.0119, grad=0.0000), Var(v=0.1208, grad=-3.6601), Var(v=-0.0026, grad=-4.0555), Var(v=0.0691, grad=0.0000), Var(v=0.0276, grad=-1.2270), Var(v=0.1011, grad=0.0000), Var(v=0.1678, grad=-4.5058), Var(v=-0.0289, grad=-0.5955), Var(v=-0.0332, grad=0.0000), Var(v=-0.0750, grad=-2.8939), Var(v=-0.0063, grad=0.0000), Var(v=0.1235, grad=-2.4961), Var(v=-0.0548, grad=-8.3711), Var(v=0.1072, grad=-3.7852), Var(v=-0.0453, grad=0.0000), Var(v=-0.0489, grad=2.3800), Var(v=-0.0663, grad=0.0000), Var(v=0.0538, grad=2.2547), Var(v=0.1818, grad=-2.4865), Var(v=-0.1634, grad=0.0000), Var(v=-0.1124, grad=0.0000), Var(v=0.1199, grad=0.5091), Var(v=-0.0811, grad=0.0000), Var(v=-0.1522, grad=0.0000), Var(v=-0.0755, grad=0.0000), Var(v=0.0128, grad=0.0000), Var(v=-0.0649, grad=0.0000), Var(v=-0.0814, grad=0.0000), Var(v=0.0515, grad=2.5706), Var(v=-0.0287, grad=2.4655), Var(v=0.0436, grad=0.2660), Var(v=0.0274, grad=3.9184), Var(v=-0.0253, grad=0.5569), Var(v=-0.1363, grad=6.5497), Var(v=0.2513, grad=0.0000)], [Var(v=0.0321, grad=-2.9309), Var(v=-0.0147, grad=0.0000), Var(v=0.0645, grad=0.0000), Var(v=-0.1360, grad=-0.1761), Var(v=0.0370, grad=-2.5355), Var(v=-0.0438, grad=0.0000), Var(v=-0.0687, grad=0.0000), Var(v=0.0329, grad=-0.8232), Var(v=0.0675, grad=-6.6292), Var(v=-0.0051, grad=0.0000), Var(v=-0.0888, grad=0.0000), Var(v=-0.0269, grad=1.5766), Var(v=0.0229, grad=0.0000), Var(v=-0.2118, grad=0.0000), Var(v=-0.0341, grad=0.0000), Var(v=-0.1727, grad=0.0000), Var(v=0.0556, grad=-2.8969), Var(v=-0.0012, grad=-3.2098), Var(v=0.0035, grad=0.0000), Var(v=-0.0543, grad=-0.9711), Var(v=-0.0906, grad=0.0000), Var(v=-0.1940, grad=-3.5662), Var(v=-0.0628, grad=-0.4713), Var(v=-0.0023, grad=0.0000), Var(v=0.0169, grad=-2.2905), Var(v=0.0828, grad=0.0000), Var(v=0.2176, grad=-1.9756), Var(v=0.1237, grad=-6.6255), Var(v=-0.0013, grad=-2.9959), Var(v=-0.1319, grad=0.0000), Var(v=0.0073, grad=1.8837), Var(v=-0.0200, grad=0.0000), Var(v=-0.0012, grad=1.7845), Var(v=0.0550, grad=-1.9680), Var(v=-0.1336, grad=0.0000), Var(v=-0.0694, grad=0.0000), Var(v=-0.0377, grad=0.4029), Var(v=-0.0299, grad=0.0000), Var(v=-0.0502, grad=0.0000), Var(v=-0.1069, grad=0.0000), Var(v=-0.0279, grad=0.0000), Var(v=-0.2765, grad=0.0000), Var(v=-0.0646, grad=0.0000), Var(v=0.0209, grad=2.0346), Var(v=-0.0338, grad=1.9514), Var(v=0.1717, grad=0.2105), Var(v=0.1082, grad=3.1013), Var(v=-0.0017, grad=0.4408), Var(v=0.0332, grad=5.1839), Var(v=-0.0381, grad=0.0000)], [Var(v=-0.0713, grad=-0.6581), Var(v=-0.0666, grad=0.0000), Var(v=-0.0941, grad=0.0000), Var(v=-0.0270, grad=-0.0395), Var(v=0.1158, grad=-0.5693), Var(v=-0.1509, grad=0.0000), Var(v=0.0545, grad=0.0000), Var(v=0.1392, grad=-0.1848), Var(v=0.0020, grad=-1.4885), Var(v=0.0059, grad=0.0000), Var(v=0.0453, grad=0.0000), Var(v=-0.1346, grad=0.3540), Var(v=-0.0515, grad=0.0000), Var(v=-0.0299, grad=0.0000), Var(v=0.0377, grad=0.0000), Var(v=0.0593, grad=0.0000), Var(v=0.1671, grad=-0.6505), Var(v=-0.0651, grad=-0.7207), Var(v=-0.1480, grad=0.0000), Var(v=0.0145, grad=-0.2181), Var(v=-0.0982, grad=0.0000), Var(v=-0.0978, grad=-0.8007), Var(v=-0.0181, grad=-0.1058), Var(v=0.1713, grad=0.0000), Var(v=-0.0219, grad=-0.5143), Var(v=-0.1192, grad=0.0000), Var(v=0.0969, grad=-0.4436), Var(v=0.1587, grad=-1.4877), Var(v=-0.0656, grad=-0.6727), Var(v=0.1452, grad=0.0000), Var(v=-0.0195, grad=0.4230), Var(v=0.1054, grad=0.0000), Var(v=-0.1170, grad=0.4007), Var(v=0.0837, grad=-0.4419), Var(v=0.1913, grad=0.0000), Var(v=-0.1464, grad=0.0000), Var(v=0.1158, grad=0.0905), Var(v=0.0387, grad=0.0000), Var(v=0.2143, grad=0.0000), Var(v=0.1021, grad=0.0000), Var(v=-0.0193, grad=0.0000), Var(v=-0.1085, grad=0.0000), Var(v=-0.0159, grad=0.0000), Var(v=-0.0571, grad=0.4568), Var(v=-0.0248, grad=0.4382), Var(v=0.0905, grad=0.0473), Var(v=-0.0051, grad=0.6964), Var(v=-0.1293, grad=0.0990), Var(v=-0.2325, grad=1.1640), Var(v=0.0733, grad=0.0000)], [Var(v=0.0541, grad=-0.1874), Var(v=-0.0471, grad=0.0000), Var(v=0.0494, grad=0.0000), Var(v=-0.0711, grad=-0.0113), Var(v=-0.0974, grad=-0.1621), Var(v=0.0938, grad=0.0000), Var(v=-0.0994, grad=0.0000), Var(v=0.0133, grad=-0.0526), Var(v=-0.0118, grad=-0.4239), Var(v=0.3485, grad=0.0000), Var(v=-0.0084, grad=0.0000), Var(v=-0.0362, grad=0.1008), Var(v=-0.0277, grad=0.0000), Var(v=-0.1285, grad=0.0000), Var(v=0.0981, grad=0.0000), Var(v=-0.1303, grad=0.0000), Var(v=0.0374, grad=-0.1853), Var(v=0.1517, grad=-0.2053), Var(v=0.0301, grad=0.0000), Var(v=-0.0289, grad=-0.0621), Var(v=-0.0292, grad=0.0000), Var(v=-0.0724, grad=-0.2281), Var(v=-0.0039, grad=-0.0301), Var(v=-0.1792, grad=0.0000), Var(v=0.0741, grad=-0.1465), Var(v=-0.2021, grad=0.0000), Var(v=-0.0559, grad=-0.1263), Var(v=0.1526, grad=-0.4237), Var(v=0.1582, grad=-0.1916), Var(v=-0.0118, grad=0.0000), Var(v=0.1207, grad=0.1205), Var(v=0.0328, grad=0.0000), Var(v=-0.0038, grad=0.1141), Var(v=0.0590, grad=-0.1259), Var(v=0.0832, grad=0.0000), Var(v=-0.0615, grad=0.0000), Var(v=0.2297, grad=0.0258), Var(v=-0.1510, grad=0.0000), Var(v=-0.0884, grad=0.0000), Var(v=-0.0075, grad=0.0000), Var(v=0.1353, grad=0.0000), Var(v=-0.0625, grad=0.0000), Var(v=0.0417, grad=0.0000), Var(v=-0.0335, grad=0.1301), Var(v=0.1627, grad=0.1248), Var(v=0.0089, grad=0.0135), Var(v=0.1038, grad=0.1983), Var(v=-0.0779, grad=0.0282), Var(v=-0.0811, grad=0.3315), Var(v=-0.0283, grad=0.0000)], [Var(v=-0.0234, grad=0.2053), Var(v=-0.1344, grad=0.2226), Var(v=-0.0562, grad=0.0000), Var(v=0.0374, grad=0.0000), Var(v=-0.0851, grad=0.1776), Var(v=0.1052, grad=0.0000), Var(v=0.0114, grad=-0.1230), Var(v=0.1061, grad=0.0576), Var(v=-0.0504, grad=0.4643), Var(v=0.0493, grad=0.0000), Var(v=-0.0598, grad=0.0000), Var(v=0.0735, grad=0.0000), Var(v=-0.1553, grad=0.0416), Var(v=0.0837, grad=0.0000), Var(v=0.1274, grad=0.0000), Var(v=-0.0556, grad=0.0000), Var(v=0.0800, grad=0.2029), Var(v=0.0958, grad=0.0000), Var(v=-0.2006, grad=-0.2127), Var(v=0.0434, grad=0.0680), Var(v=0.0269, grad=0.1233), Var(v=-0.0156, grad=0.0000), Var(v=-0.1004, grad=0.0330), Var(v=0.1412, grad=0.0185), Var(v=0.0456, grad=0.1604), Var(v=0.2054, grad=0.2267), Var(v=-0.1445, grad=0.1384), Var(v=-0.0340, grad=0.4640), Var(v=0.0474, grad=0.2098), Var(v=-0.0691, grad=0.0000), Var(v=0.0209, grad=-0.1319), Var(v=-0.0332, grad=0.0000), Var(v=-0.1295, grad=0.0000), Var(v=-0.1681, grad=0.1378), Var(v=-0.0460, grad=0.0000), Var(v=-0.0331, grad=0.3634), Var(v=-0.0802, grad=0.0000), Var(v=0.0259, grad=-0.1492), Var(v=0.0011, grad=-0.1668), Var(v=-0.1122, grad=-0.0360), Var(v=-0.0252, grad=0.1139), Var(v=-0.0629, grad=0.2499), Var(v=0.1293, grad=-0.0736), Var(v=0.0230, grad=-0.1425), Var(v=-0.2198, grad=-0.1367), Var(v=-0.0642, grad=0.0000), Var(v=-0.1057, grad=0.0000), Var(v=-0.1035, grad=-0.0309), Var(v=-0.0504, grad=0.0000), Var(v=-0.1821, grad=0.0000)], [Var(v=0.0465, grad=2.0947), Var(v=-0.0769, grad=2.2717), Var(v=0.1743, grad=0.0000), Var(v=-0.0267, grad=0.0000), Var(v=0.0990, grad=1.8121), Var(v=-0.0848, grad=0.0000), Var(v=-0.0924, grad=-1.2548), Var(v=-0.1802, grad=0.5883), Var(v=0.1105, grad=4.7380), Var(v=0.0615, grad=0.0000), Var(v=-0.0417, grad=0.0000), Var(v=0.0376, grad=0.0000), Var(v=0.0331, grad=0.4245), Var(v=-0.0670, grad=0.0000), Var(v=-0.0542, grad=0.0000), Var(v=-0.0200, grad=0.0000), Var(v=0.1157, grad=2.0704), Var(v=-0.1501, grad=0.0000), Var(v=0.0609, grad=-2.1709), Var(v=0.0263, grad=0.6941), Var(v=0.1073, grad=1.2582), Var(v=-0.0666, grad=0.0000), Var(v=0.0882, grad=0.3368), Var(v=0.0112, grad=0.1887), Var(v=0.0773, grad=1.6370), Var(v=0.1939, grad=2.3139), Var(v=0.1054, grad=1.4120), Var(v=-0.0944, grad=4.7353), Var(v=0.0212, grad=2.1412), Var(v=-0.1139, grad=0.0000), Var(v=0.0721, grad=-1.3463), Var(v=-0.1708, grad=0.0000), Var(v=-0.1663, grad=0.0000), Var(v=-0.0097, grad=1.4066), Var(v=0.0372, grad=0.0000), Var(v=-0.0631, grad=3.7083), Var(v=0.0265, grad=0.0000), Var(v=0.0701, grad=-1.5222), Var(v=-0.0884, grad=-1.7025), Var(v=-0.0001, grad=-0.3672), Var(v=-0.0805, grad=1.1623), Var(v=0.0401, grad=2.5507), Var(v=-0.1803, grad=-0.7508), Var(v=-0.0972, grad=-1.4541), Var(v=-0.0054, grad=-1.3947), Var(v=-0.0158, grad=0.0000), Var(v=-0.0361, grad=0.0000), Var(v=-0.0311, grad=-0.3150), Var(v=-0.0323, grad=0.0000), Var(v=-0.1200, grad=0.0000)], [Var(v=0.1244, grad=0.2418), Var(v=-0.0821, grad=0.2622), Var(v=0.0191, grad=0.0000), Var(v=0.0373, grad=0.0000), Var(v=-0.2224, grad=0.2091), Var(v=0.0982, grad=0.0000), Var(v=0.0136, grad=-0.1448), Var(v=0.1362, grad=0.0679), Var(v=0.0536, grad=0.5468), Var(v=0.0629, grad=0.0000), Var(v=0.0770, grad=0.0000), Var(v=0.0489, grad=0.0000), Var(v=0.0414, grad=0.0490), Var(v=0.0831, grad=0.0000), Var(v=-0.0674, grad=0.0000), Var(v=-0.0198, grad=0.0000), Var(v=0.0922, grad=0.2389), Var(v=-0.0174, grad=0.0000), Var(v=0.0349, grad=-0.2505), Var(v=0.0822, grad=0.0801), Var(v=0.0203, grad=0.1452), Var(v=-0.0154, grad=0.0000), Var(v=-0.0295, grad=0.0389), Var(v=-0.0711, grad=0.0218), Var(v=0.0945, grad=0.1889), Var(v=0.1153, grad=0.2670), Var(v=-0.0298, grad=0.1630), Var(v=-0.1159, grad=0.5465), Var(v=-0.1129, grad=0.2471), Var(v=0.0694, grad=0.0000), Var(v=-0.0115, grad=-0.1554), Var(v=0.0189, grad=0.0000), Var(v=0.0252, grad=0.0000), Var(v=-0.0884, grad=0.1623), Var(v=-0.1520, grad=0.0000), Var(v=0.0853, grad=0.4280), Var(v=0.1584, grad=0.0000), Var(v=-0.0530, grad=-0.1757), Var(v=-0.1452, grad=-0.1965), Var(v=0.0358, grad=-0.0424), Var(v=0.0360, grad=0.1341), Var(v=0.0923, grad=0.2944), Var(v=-0.1035, grad=-0.0867), Var(v=0.1104, grad=-0.1678), Var(v=0.1421, grad=-0.1610), Var(v=-0.0716, grad=0.0000), Var(v=-0.0141, grad=0.0000), Var(v=0.0808, grad=-0.0364), Var(v=0.1639, grad=0.0000), Var(v=-0.0611, grad=0.0000)], [Var(v=0.0994, grad=5.3024), Var(v=0.2146, grad=5.7502), Var(v=-0.1364, grad=0.0000), Var(v=-0.1223, grad=0.0000), Var(v=0.1191, grad=4.5870), Var(v=0.1045, grad=0.0000), Var(v=-0.0883, grad=-3.1762), Var(v=0.0579, grad=1.4893), Var(v=-0.0304, grad=11.9931), Var(v=-0.0078, grad=0.0000), Var(v=-0.0977, grad=0.0000), Var(v=-0.0661, grad=0.0000), Var(v=0.1554, grad=1.0745), Var(v=-0.0580, grad=0.0000), Var(v=0.1284, grad=0.0000), Var(v=-0.0620, grad=0.0000), Var(v=0.0107, grad=5.2408), Var(v=0.0976, grad=0.0000), Var(v=0.2106, grad=-5.4952), Var(v=0.0382, grad=1.7569), Var(v=-0.0749, grad=3.1849), Var(v=-0.0126, grad=0.0000), Var(v=0.1122, grad=0.8526), Var(v=0.1400, grad=0.4777), Var(v=0.1202, grad=4.1437), Var(v=0.0230, grad=5.8571), Var(v=0.0872, grad=3.5742), Var(v=0.0593, grad=11.9863), Var(v=-0.0023, grad=5.4199), Var(v=0.0305, grad=0.0000), Var(v=0.0274, grad=-3.4078), Var(v=-0.0569, grad=0.0000), Var(v=-0.2670, grad=0.0000), Var(v=0.0856, grad=3.5604), Var(v=-0.0839, grad=0.0000), Var(v=0.2006, grad=9.3868), Var(v=-0.1218, grad=0.0000), Var(v=0.0300, grad=-3.8530), Var(v=-0.0736, grad=-4.3096), Var(v=0.1048, grad=-0.9295), Var(v=0.1788, grad=2.9422), Var(v=0.0314, grad=6.4565), Var(v=0.0969, grad=-1.9005), Var(v=0.1575, grad=-3.6808), Var(v=0.0710, grad=-3.5303), Var(v=-0.0207, grad=0.0000), Var(v=-0.0736, grad=0.0000), Var(v=0.0037, grad=-0.7974), Var(v=0.0428, grad=0.0000), Var(v=0.0141, grad=0.0000)], [Var(v=-0.0731, grad=1.8001), Var(v=-0.0763, grad=1.9521), Var(v=0.1011, grad=0.0000), Var(v=-0.0066, grad=0.0000), Var(v=0.0420, grad=1.5572), Var(v=-0.0105, grad=0.0000), Var(v=-0.0543, grad=-1.0783), Var(v=0.2377, grad=0.5056), Var(v=-0.0934, grad=4.0714), Var(v=-0.0097, grad=0.0000), Var(v=-0.0361, grad=0.0000), Var(v=-0.0112, grad=0.0000), Var(v=0.0512, grad=0.3648), Var(v=0.0080, grad=0.0000), Var(v=-0.0159, grad=0.0000), Var(v=0.1448, grad=0.0000), Var(v=-0.0822, grad=1.7792), Var(v=-0.0302, grad=0.0000), Var(v=0.0639, grad=-1.8655), Var(v=0.0175, grad=0.5964), Var(v=0.1117, grad=1.0812), Var(v=-0.1725, grad=0.0000), Var(v=0.1971, grad=0.2894), Var(v=0.0468, grad=0.1622), Var(v=-0.0095, grad=1.4067), Var(v=-0.0465, grad=1.9884), Var(v=0.0294, grad=1.2134), Var(v=0.0898, grad=4.0691), Var(v=0.1226, grad=1.8399), Var(v=0.1810, grad=0.0000), Var(v=0.0612, grad=-1.1569), Var(v=0.1140, grad=0.0000), Var(v=-0.0616, grad=0.0000), Var(v=0.1304, grad=1.2087), Var(v=-0.1496, grad=0.0000), Var(v=-0.0096, grad=3.1867), Var(v=0.0691, grad=0.0000), Var(v=-0.0358, grad=-1.3080), Var(v=0.1108, grad=-1.4630), Var(v=0.0368, grad=-0.3155), Var(v=-0.0318, grad=0.9988), Var(v=-0.1554, grad=2.1919), Var(v=-0.0120, grad=-0.6452), Var(v=0.0195, grad=-1.2496), Var(v=0.0534, grad=-1.1985), Var(v=-0.0274, grad=0.0000), Var(v=-0.0627, grad=0.0000), Var(v=-0.0646, grad=-0.2707), Var(v=-0.0268, grad=0.0000), Var(v=0.0737, grad=0.0000)], [Var(v=0.1848, grad=0.7298), Var(v=-0.1016, grad=0.7914), Var(v=0.1686, grad=0.0000), Var(v=0.0245, grad=0.0000), Var(v=-0.0839, grad=0.6313), Var(v=-0.2110, grad=0.0000), Var(v=0.0813, grad=-0.4371), Var(v=0.0830, grad=0.2050), Var(v=0.1626, grad=1.6506), Var(v=-0.0653, grad=0.0000), Var(v=-0.1459, grad=0.0000), Var(v=0.0054, grad=0.0000), Var(v=-0.0948, grad=0.1479), Var(v=-0.1078, grad=0.0000), Var(v=0.0659, grad=0.0000), Var(v=-0.0749, grad=0.0000), Var(v=-0.0014, grad=0.7213), Var(v=0.1069, grad=0.0000), Var(v=0.2035, grad=-0.7563), Var(v=0.0410, grad=0.2418), Var(v=0.0045, grad=0.4383), Var(v=-0.0770, grad=0.0000), Var(v=-0.1678, grad=0.1173), Var(v=-0.0586, grad=0.0657), Var(v=0.1217, grad=0.5703), Var(v=-0.0428, grad=0.8061), Var(v=0.1171, grad=0.4919), Var(v=-0.0135, grad=1.6497), Var(v=-0.0392, grad=0.7459), Var(v=0.0440, grad=0.0000), Var(v=0.0736, grad=-0.4690), Var(v=0.2044, grad=0.0000), Var(v=0.1605, grad=0.0000), Var(v=-0.0641, grad=0.4900), Var(v=-0.0396, grad=0.0000), Var(v=0.0381, grad=1.2919), Var(v=-0.2229, grad=0.0000), Var(v=-0.1337, grad=-0.5303), Var(v=0.1137, grad=-0.5931), Var(v=0.0354, grad=-0.1279), Var(v=-0.1370, grad=0.4049), Var(v=0.0762, grad=0.8886), Var(v=-0.0051, grad=-0.2616), Var(v=-0.0078, grad=-0.5066), Var(v=-0.0006, grad=-0.4859), Var(v=-0.1875, grad=0.0000), Var(v=0.0019, grad=0.0000), Var(v=0.0498, grad=-0.1097), Var(v=0.0265, grad=0.0000), Var(v=0.0273, grad=0.0000)], [Var(v=0.0879, grad=-4.1489), Var(v=-0.1494, grad=0.0000), Var(v=-0.0492, grad=0.0000), Var(v=0.1736, grad=-0.2493), Var(v=0.0521, grad=-3.5891), Var(v=-0.2886, grad=0.0000), Var(v=0.0535, grad=0.0000), Var(v=-0.0322, grad=-1.1653), Var(v=0.0499, grad=-9.3841), Var(v=-0.1147, grad=0.0000), Var(v=-0.0340, grad=0.0000), Var(v=0.0158, grad=2.2317), Var(v=0.0599, grad=0.0000), Var(v=0.0133, grad=0.0000), Var(v=-0.1683, grad=0.0000), Var(v=-0.0718, grad=0.0000), Var(v=-0.1035, grad=-4.1007), Var(v=0.0774, grad=-4.5437), Var(v=-0.0211, grad=0.0000), Var(v=0.0525, grad=-1.3747), Var(v=-0.1271, grad=0.0000), Var(v=0.2267, grad=-5.0482), Var(v=0.1359, grad=-0.6671), Var(v=-0.0708, grad=0.0000), Var(v=0.0982, grad=-3.2423), Var(v=-0.0799, grad=0.0000), Var(v=-0.0232, grad=-2.7966), Var(v=-0.0040, grad=-9.3788), Var(v=0.0349, grad=-4.2408), Var(v=-0.1004, grad=0.0000), Var(v=0.0884, grad=2.6665), Var(v=-0.0944, grad=0.0000), Var(v=0.0619, grad=2.5261), Var(v=0.1228, grad=-2.7859), Var(v=0.1888, grad=0.0000), Var(v=-0.1177, grad=0.0000), Var(v=0.1239, grad=0.5704), Var(v=-0.1017, grad=0.0000), Var(v=-0.0070, grad=0.0000), Var(v=-0.0673, grad=0.0000), Var(v=-0.0037, grad=0.0000), Var(v=0.1890, grad=0.0000), Var(v=-0.0036, grad=0.0000), Var(v=0.0122, grad=2.8800), Var(v=0.1064, grad=2.7623), Var(v=-0.0762, grad=0.2980), Var(v=0.1212, grad=4.3901), Var(v=0.1328, grad=0.6239), Var(v=0.0879, grad=7.3382), Var(v=-0.2590, grad=0.0000)], [Var(v=-0.0047, grad=1.4809), Var(v=-0.0367, grad=1.6059), Var(v=-0.0679, grad=0.0000), Var(v=0.0176, grad=0.0000), Var(v=-0.0071, grad=1.2811), Var(v=0.0731, grad=0.0000), Var(v=0.0143, grad=-0.8871), Var(v=0.0559, grad=0.4159), Var(v=0.1926, grad=3.3495), Var(v=0.1263, grad=0.0000), Var(v=-0.0552, grad=0.0000), Var(v=-0.3020, grad=0.0000), Var(v=-0.0443, grad=0.3001), Var(v=0.0378, grad=0.0000), Var(v=-0.1735, grad=0.0000), Var(v=-0.1205, grad=0.0000), Var(v=0.1078, grad=1.4637), Var(v=-0.1440, grad=0.0000), Var(v=-0.1385, grad=-1.5347), Var(v=0.0066, grad=0.4907), Var(v=-0.0556, grad=0.8895), Var(v=0.0049, grad=0.0000), Var(v=0.1376, grad=0.2381), Var(v=0.0722, grad=0.1334), Var(v=-0.1416, grad=1.1573), Var(v=-0.0323, grad=1.6358), Var(v=-0.0583, grad=0.9982), Var(v=-0.0726, grad=3.3476), Var(v=0.1128, grad=1.5137), Var(v=0.0044, grad=0.0000), Var(v=0.1379, grad=-0.9518), Var(v=-0.0241, grad=0.0000), Var(v=0.0457, grad=0.0000), Var(v=-0.0492, grad=0.9944), Var(v=-0.0748, grad=0.0000), Var(v=-0.0795, grad=2.6216), Var(v=0.0469, grad=0.0000), Var(v=-0.0636, grad=-1.0761), Var(v=0.1624, grad=-1.2036), Var(v=0.0470, grad=-0.2596), Var(v=-0.0497, grad=0.8217), Var(v=0.1194, grad=1.8032), Var(v=0.1161, grad=-0.5308), Var(v=0.0305, grad=-1.0280), Var(v=-0.0888, grad=-0.9860), Var(v=0.0202, grad=0.0000), Var(v=-0.0797, grad=0.0000), Var(v=-0.1983, grad=-0.2227), Var(v=-0.0117, grad=0.0000), Var(v=-0.0744, grad=0.0000)]] Biases: [Var(v=0.0000, grad=0.7867), Var(v=0.0000, grad=22.9236), Var(v=0.0000, grad=0.0000), Var(v=0.0000, grad=-1.2227), Var(v=0.0000, grad=0.6806), Var(v=0.0000, grad=0.0000), Var(v=0.0000, grad=-12.6624), Var(v=0.0000, grad=0.2210), Var(v=0.0000, grad=1.7794), Var(v=0.0000, grad=0.0000), Var(v=0.0000, grad=0.0000), Var(v=0.0000, grad=10.9474), Var(v=0.0000, grad=4.2836), Var(v=0.0000, grad=0.0000), Var(v=0.0000, grad=0.0000), Var(v=0.0000, grad=0.0000), Var(v=0.0000, grad=0.7776), Var(v=0.0000, grad=-22.2883), Var(v=0.0000, grad=-21.9070), Var(v=0.0000, grad=0.2607), Var(v=0.0000, grad=12.6967), Var(v=0.0000, grad=-24.7632), Var(v=0.0000, grad=0.1265), Var(v=0.0000, grad=1.9045), Var(v=0.0000, grad=0.6148), Var(v=0.0000, grad=23.3498), Var(v=0.0000, grad=0.5303), Var(v=0.0000, grad=1.7784), Var(v=0.0000, grad=0.8042), Var(v=0.0000, grad=0.0000), Var(v=0.0000, grad=-0.5056), Var(v=0.0000, grad=0.0000), Var(v=0.0000, grad=12.3914), Var(v=0.0000, grad=0.5283), Var(v=0.0000, grad=0.0000), Var(v=0.0000, grad=37.4214), Var(v=0.0000, grad=2.7978), Var(v=0.0000, grad=-15.3604), Var(v=0.0000, grad=-17.1806), Var(v=0.0000, grad=-3.7054), Var(v=0.0000, grad=11.7291), Var(v=0.0000, grad=25.7394), Var(v=0.0000, grad=-7.5767), Var(v=0.0000, grad=-0.5461), Var(v=0.0000, grad=-0.5238), Var(v=0.0000, grad=1.4619), Var(v=0.0000, grad=21.5351), Var(v=0.0000, grad=-0.1183), Var(v=0.0000, grad=35.9961), Var(v=0.0000, grad=0.0000)]\n",
      "Layer 2 \n",
      " Weights: [[Var(v=-0.0846, grad=-0.3346)], [Var(v=-0.0917, grad=-3.3454)], [Var(v=-0.0248, grad=0.0000)], [Var(v=-0.0051, grad=3.4347)], [Var(v=-0.0732, grad=2.9144)], [Var(v=-0.0777, grad=0.0000)], [Var(v=0.0507, grad=-0.6633)], [Var(v=-0.0238, grad=6.0769)], [Var(v=-0.1913, grad=0.1240)], [Var(v=-0.1829, grad=0.0000)], [Var(v=-0.1806, grad=0.0000)], [Var(v=0.0455, grad=0.2695)], [Var(v=-0.0171, grad=-5.1042)], [Var(v=-0.0197, grad=0.0000)], [Var(v=-0.1725, grad=0.0000)], [Var(v=0.0239, grad=0.0000)], [Var(v=-0.0836, grad=1.6121)], [Var(v=-0.0926, grad=3.8048)], [Var(v=0.0876, grad=-18.1390)], [Var(v=-0.0280, grad=-13.6942)], [Var(v=-0.0508, grad=-3.3461)], [Var(v=-0.1029, grad=11.7519)], [Var(v=-0.0136, grad=-3.4325)], [Var(v=-0.0076, grad=-7.0475)], [Var(v=-0.0661, grad=-6.8892)], [Var(v=-0.0934, grad=-4.5887)], [Var(v=-0.0570, grad=-0.2832)], [Var(v=-0.1912, grad=1.3604)], [Var(v=-0.0864, grad=2.0192)], [Var(v=0.0132, grad=0.0000)], [Var(v=0.0543, grad=-10.3914)], [Var(v=-0.0197, grad=0.0000)], [Var(v=0.0515, grad=2.2554)], [Var(v=-0.0568, grad=12.1442)], [Var(v=-0.1386, grad=0.0000)], [Var(v=-0.1497, grad=-8.7087)], [Var(v=0.0116, grad=13.4603)], [Var(v=0.0614, grad=-3.4002)], [Var(v=0.0687, grad=-0.3386)], [Var(v=0.0148, grad=-1.5472)], [Var(v=-0.0469, grad=-5.3282)], [Var(v=-0.1030, grad=-0.4742)], [Var(v=0.0303, grad=-0.7529)], [Var(v=0.0587, grad=-7.0965)], [Var(v=0.0563, grad=-3.5283)], [Var(v=0.0061, grad=7.9828)], [Var(v=0.0895, grad=10.4209)], [Var(v=0.0127, grad=1.3079)], [Var(v=0.1496, grad=0.3834)], [Var(v=0.0126, grad=0.0000)]] Biases: [Var(v=0.0000, grad=-9.3034)]\n",
      "\n",
      "Network after update:\n",
      "Layer 0 \n",
      " Weights: [[Var(v=-0.1237, grad=8.0039), Var(v=0.2825, grad=-8.9349), Var(v=-0.1968, grad=14.6622), Var(v=-0.2879, grad=13.0717), Var(v=-0.2000, grad=7.5593), Var(v=-0.2799, grad=25.1971), Var(v=-0.1225, grad=11.4540), Var(v=0.0303, grad=-2.1748), Var(v=-0.0586, grad=14.5634), Var(v=-0.0201, grad=3.0124), Var(v=-0.0032, grad=22.3354), Var(v=0.1353, grad=-6.0597), Var(v=-0.0047, grad=3.5035), Var(v=-0.2273, grad=5.1209), Var(v=0.0173, grad=4.4222)]] Biases: [Var(v=0.0692, grad=-6.9154), Var(v=0.0784, grad=-7.8433), Var(v=0.1267, grad=-12.6682), Var(v=0.1129, grad=-11.2940), Var(v=0.0653, grad=-6.5313), Var(v=0.2177, grad=-21.7705), Var(v=0.0990, grad=-9.8964), Var(v=0.0191, grad=-1.9091), Var(v=-0.1278, grad=12.7840), Var(v=-0.0264, grad=2.6444), Var(v=-0.1961, grad=19.6064), Var(v=0.0532, grad=-5.3193), Var(v=-0.0308, grad=3.0755), Var(v=0.0442, grad=-4.4245), Var(v=-0.0388, grad=3.8819)]\n",
      "Layer 1 \n",
      " Weights: [[Var(v=0.0777, grad=-1.0277), Var(v=-0.0960, grad=0.0000), Var(v=-0.1458, grad=0.0000), Var(v=-0.1032, grad=-0.0617), Var(v=0.0360, grad=-0.8891), Var(v=-0.0125, grad=0.0000), Var(v=-0.0765, grad=0.0000), Var(v=0.1738, grad=-0.2887), Var(v=0.0680, grad=-2.3246), Var(v=-0.0587, grad=0.0000), Var(v=0.0767, grad=0.0000), Var(v=-0.1102, grad=0.5528), Var(v=-0.0412, grad=0.0000), Var(v=-0.0165, grad=0.0000), Var(v=0.0474, grad=0.0000), Var(v=-0.0030, grad=0.0000), Var(v=0.1298, grad=-1.0158), Var(v=-0.0560, grad=-1.1255), Var(v=-0.0140, grad=0.0000), Var(v=0.0248, grad=-0.3405), Var(v=-0.0398, grad=0.0000), Var(v=0.2074, grad=-1.2505), Var(v=0.1022, grad=-0.1653), Var(v=-0.0482, grad=0.0000), Var(v=0.1930, grad=-0.8032), Var(v=0.0114, grad=0.0000), Var(v=-0.1283, grad=-0.6928), Var(v=-0.1222, grad=-2.3233), Var(v=0.0577, grad=-1.0505), Var(v=-0.1073, grad=0.0000), Var(v=-0.2456, grad=0.6605), Var(v=0.0612, grad=0.0000), Var(v=-0.0826, grad=0.6258), Var(v=0.0016, grad=-0.6901), Var(v=0.0164, grad=0.0000), Var(v=0.0237, grad=0.0000), Var(v=0.1166, grad=0.1413), Var(v=0.0695, grad=0.0000), Var(v=-0.0574, grad=0.0000), Var(v=0.0441, grad=0.0000), Var(v=-0.0613, grad=0.0000), Var(v=0.0660, grad=0.0000), Var(v=0.0941, grad=0.0000), Var(v=0.0609, grad=0.7134), Var(v=0.1744, grad=0.6843), Var(v=0.0167, grad=0.0738), Var(v=-0.0004, grad=1.0875), Var(v=-0.0521, grad=0.1546), Var(v=0.0022, grad=1.8178), Var(v=0.1376, grad=0.0000)], [Var(v=-0.0380, grad=4.6508), Var(v=-0.1322, grad=5.0436), Var(v=-0.0246, grad=0.0000), Var(v=0.1211, grad=0.0000), Var(v=-0.0475, grad=4.0233), Var(v=-0.2126, grad=0.0000), Var(v=0.1847, grad=-2.7859), Var(v=-0.0966, grad=1.3063), Var(v=-0.1145, grad=10.5193), Var(v=-0.0866, grad=0.0000), Var(v=0.0773, grad=0.0000), Var(v=-0.0180, grad=0.0000), Var(v=-0.0949, grad=0.9425), Var(v=0.0692, grad=0.0000), Var(v=-0.0751, grad=0.0000), Var(v=0.0256, grad=0.0000), Var(v=-0.0271, grad=4.5968), Var(v=-0.0382, grad=0.0000), Var(v=0.1049, grad=-4.8199), Var(v=0.2150, grad=1.5410), Var(v=0.0415, grad=2.7935), Var(v=0.1004, grad=0.0000), Var(v=-0.1166, grad=0.7478), Var(v=-0.0751, grad=0.4190), Var(v=-0.0163, grad=3.6345), Var(v=-0.0615, grad=5.1373), Var(v=-0.0150, grad=3.1349), Var(v=-0.0844, grad=10.5134), Var(v=-0.0327, grad=4.7538), Var(v=-0.0878, grad=0.0000), Var(v=0.0775, grad=-2.9891), Var(v=0.0003, grad=0.0000), Var(v=0.0454, grad=0.0000), Var(v=-0.0869, grad=3.1229), Var(v=-0.0418, grad=0.0000), Var(v=-0.1042, grad=8.2333), Var(v=-0.0493, grad=0.0000), Var(v=0.0865, grad=-3.3796), Var(v=0.0628, grad=-3.7800), Var(v=-0.1148, grad=-0.8152), Var(v=-0.0477, grad=2.5806), Var(v=-0.0937, grad=5.6631), Var(v=-0.0307, grad=-1.6670), Var(v=0.0390, grad=-3.2285), Var(v=0.1139, grad=-3.0965), Var(v=0.0519, grad=0.0000), Var(v=-0.0503, grad=0.0000), Var(v=0.1153, grad=-0.6994), Var(v=-0.1640, grad=0.0000), Var(v=-0.0699, grad=0.0000)], [Var(v=0.1240, grad=-1.1818), Var(v=0.0207, grad=0.0000), Var(v=0.1077, grad=0.0000), Var(v=-0.1509, grad=-0.0710), Var(v=0.1501, grad=-1.0224), Var(v=0.0151, grad=0.0000), Var(v=-0.0258, grad=0.0000), Var(v=0.2433, grad=-0.3319), Var(v=0.1100, grad=-2.6731), Var(v=0.0985, grad=0.0000), Var(v=0.0769, grad=0.0000), Var(v=-0.0141, grad=0.6357), Var(v=-0.0384, grad=0.0000), Var(v=-0.0196, grad=0.0000), Var(v=-0.1193, grad=0.0000), Var(v=0.0266, grad=0.0000), Var(v=0.1397, grad=-1.1681), Var(v=0.0955, grad=-1.2943), Var(v=-0.1136, grad=0.0000), Var(v=0.0755, grad=-0.3916), Var(v=-0.1496, grad=0.0000), Var(v=-0.0887, grad=-1.4380), Var(v=0.0245, grad=-0.1900), Var(v=0.0388, grad=0.0000), Var(v=-0.1302, grad=-0.9236), Var(v=-0.0485, grad=0.0000), Var(v=-0.1296, grad=-0.7966), Var(v=0.2048, grad=-2.6716), Var(v=0.0459, grad=-1.2080), Var(v=-0.1363, grad=0.0000), Var(v=0.0240, grad=0.7596), Var(v=-0.0173, grad=0.0000), Var(v=-0.0965, grad=0.7196), Var(v=-0.1139, grad=-0.7936), Var(v=0.0379, grad=0.0000), Var(v=-0.0148, grad=0.0000), Var(v=0.0406, grad=0.1625), Var(v=-0.2460, grad=0.0000), Var(v=0.0113, grad=0.0000), Var(v=-0.0208, grad=0.0000), Var(v=0.0301, grad=0.0000), Var(v=-0.0751, grad=0.0000), Var(v=-0.0219, grad=0.0000), Var(v=-0.1441, grad=0.8204), Var(v=-0.0337, grad=0.7868), Var(v=0.2083, grad=0.0849), Var(v=-0.0694, grad=1.2505), Var(v=-0.0924, grad=0.1777), Var(v=0.1671, grad=2.0903), Var(v=0.0514, grad=0.0000)], [Var(v=0.0460, grad=-3.7031), Var(v=0.1131, grad=0.0000), Var(v=-0.0707, grad=0.0000), Var(v=0.0794, grad=-0.2225), Var(v=0.1425, grad=-3.2035), Var(v=0.0077, grad=0.0000), Var(v=-0.0421, grad=0.0000), Var(v=0.0548, grad=-1.0401), Var(v=0.0101, grad=-8.3758), Var(v=0.0032, grad=0.0000), Var(v=0.0328, grad=0.0000), Var(v=0.0471, grad=1.9920), Var(v=-0.0520, grad=0.0000), Var(v=0.1175, grad=0.0000), Var(v=0.0789, grad=0.0000), Var(v=0.0119, grad=0.0000), Var(v=0.1574, grad=-3.6601), Var(v=0.0379, grad=-4.0555), Var(v=0.0691, grad=0.0000), Var(v=0.0399, grad=-1.2270), Var(v=0.1011, grad=0.0000), Var(v=0.2128, grad=-4.5058), Var(v=-0.0229, grad=-0.5955), Var(v=-0.0332, grad=0.0000), Var(v=-0.0461, grad=-2.8939), Var(v=-0.0063, grad=0.0000), Var(v=0.1485, grad=-2.4961), Var(v=0.0289, grad=-8.3711), Var(v=0.1450, grad=-3.7852), Var(v=-0.0453, grad=0.0000), Var(v=-0.0727, grad=2.3800), Var(v=-0.0663, grad=0.0000), Var(v=0.0312, grad=2.2547), Var(v=0.2067, grad=-2.4865), Var(v=-0.1634, grad=0.0000), Var(v=-0.1124, grad=0.0000), Var(v=0.1149, grad=0.5091), Var(v=-0.0811, grad=0.0000), Var(v=-0.1522, grad=0.0000), Var(v=-0.0755, grad=0.0000), Var(v=0.0128, grad=0.0000), Var(v=-0.0649, grad=0.0000), Var(v=-0.0814, grad=0.0000), Var(v=0.0258, grad=2.5706), Var(v=-0.0534, grad=2.4655), Var(v=0.0410, grad=0.2660), Var(v=-0.0118, grad=3.9184), Var(v=-0.0309, grad=0.5569), Var(v=-0.2018, grad=6.5497), Var(v=0.2513, grad=0.0000)], [Var(v=0.0614, grad=-2.9309), Var(v=-0.0147, grad=0.0000), Var(v=0.0645, grad=0.0000), Var(v=-0.1342, grad=-0.1761), Var(v=0.0623, grad=-2.5355), Var(v=-0.0438, grad=0.0000), Var(v=-0.0687, grad=0.0000), Var(v=0.0412, grad=-0.8232), Var(v=0.1338, grad=-6.6292), Var(v=-0.0051, grad=0.0000), Var(v=-0.0888, grad=0.0000), Var(v=-0.0427, grad=1.5766), Var(v=0.0229, grad=0.0000), Var(v=-0.2118, grad=0.0000), Var(v=-0.0341, grad=0.0000), Var(v=-0.1727, grad=0.0000), Var(v=0.0845, grad=-2.8969), Var(v=0.0309, grad=-3.2098), Var(v=0.0035, grad=0.0000), Var(v=-0.0446, grad=-0.9711), Var(v=-0.0906, grad=0.0000), Var(v=-0.1584, grad=-3.5662), Var(v=-0.0581, grad=-0.4713), Var(v=-0.0023, grad=0.0000), Var(v=0.0398, grad=-2.2905), Var(v=0.0828, grad=0.0000), Var(v=0.2374, grad=-1.9756), Var(v=0.1899, grad=-6.6255), Var(v=0.0287, grad=-2.9959), Var(v=-0.1319, grad=0.0000), Var(v=-0.0115, grad=1.8837), Var(v=-0.0200, grad=0.0000), Var(v=-0.0191, grad=1.7845), Var(v=0.0747, grad=-1.9680), Var(v=-0.1336, grad=0.0000), Var(v=-0.0694, grad=0.0000), Var(v=-0.0418, grad=0.4029), Var(v=-0.0299, grad=0.0000), Var(v=-0.0502, grad=0.0000), Var(v=-0.1069, grad=0.0000), Var(v=-0.0279, grad=0.0000), Var(v=-0.2765, grad=0.0000), Var(v=-0.0646, grad=0.0000), Var(v=0.0006, grad=2.0346), Var(v=-0.0533, grad=1.9514), Var(v=0.1696, grad=0.2105), Var(v=0.0772, grad=3.1013), Var(v=-0.0061, grad=0.4408), Var(v=-0.0186, grad=5.1839), Var(v=-0.0381, grad=0.0000)], [Var(v=-0.0647, grad=-0.6581), Var(v=-0.0666, grad=0.0000), Var(v=-0.0941, grad=0.0000), Var(v=-0.0266, grad=-0.0395), Var(v=0.1215, grad=-0.5693), Var(v=-0.1509, grad=0.0000), Var(v=0.0545, grad=0.0000), Var(v=0.1411, grad=-0.1848), Var(v=0.0169, grad=-1.4885), Var(v=0.0059, grad=0.0000), Var(v=0.0453, grad=0.0000), Var(v=-0.1382, grad=0.3540), Var(v=-0.0515, grad=0.0000), Var(v=-0.0299, grad=0.0000), Var(v=0.0377, grad=0.0000), Var(v=0.0593, grad=0.0000), Var(v=0.1736, grad=-0.6505), Var(v=-0.0578, grad=-0.7207), Var(v=-0.1480, grad=0.0000), Var(v=0.0167, grad=-0.2181), Var(v=-0.0982, grad=0.0000), Var(v=-0.0898, grad=-0.8007), Var(v=-0.0171, grad=-0.1058), Var(v=0.1713, grad=0.0000), Var(v=-0.0168, grad=-0.5143), Var(v=-0.1192, grad=0.0000), Var(v=0.1013, grad=-0.4436), Var(v=0.1736, grad=-1.4877), Var(v=-0.0589, grad=-0.6727), Var(v=0.1452, grad=0.0000), Var(v=-0.0238, grad=0.4230), Var(v=0.1054, grad=0.0000), Var(v=-0.1210, grad=0.4007), Var(v=0.0881, grad=-0.4419), Var(v=0.1913, grad=0.0000), Var(v=-0.1464, grad=0.0000), Var(v=0.1149, grad=0.0905), Var(v=0.0387, grad=0.0000), Var(v=0.2143, grad=0.0000), Var(v=0.1021, grad=0.0000), Var(v=-0.0193, grad=0.0000), Var(v=-0.1085, grad=0.0000), Var(v=-0.0159, grad=0.0000), Var(v=-0.0617, grad=0.4568), Var(v=-0.0292, grad=0.4382), Var(v=0.0900, grad=0.0473), Var(v=-0.0121, grad=0.6964), Var(v=-0.1302, grad=0.0990), Var(v=-0.2441, grad=1.1640), Var(v=0.0733, grad=0.0000)], [Var(v=0.0560, grad=-0.1874), Var(v=-0.0471, grad=0.0000), Var(v=0.0494, grad=0.0000), Var(v=-0.0710, grad=-0.0113), Var(v=-0.0958, grad=-0.1621), Var(v=0.0938, grad=0.0000), Var(v=-0.0994, grad=0.0000), Var(v=0.0138, grad=-0.0526), Var(v=-0.0076, grad=-0.4239), Var(v=0.3485, grad=0.0000), Var(v=-0.0084, grad=0.0000), Var(v=-0.0372, grad=0.1008), Var(v=-0.0277, grad=0.0000), Var(v=-0.1285, grad=0.0000), Var(v=0.0981, grad=0.0000), Var(v=-0.1303, grad=0.0000), Var(v=0.0393, grad=-0.1853), Var(v=0.1538, grad=-0.2053), Var(v=0.0301, grad=0.0000), Var(v=-0.0282, grad=-0.0621), Var(v=-0.0292, grad=0.0000), Var(v=-0.0701, grad=-0.2281), Var(v=-0.0036, grad=-0.0301), Var(v=-0.1792, grad=0.0000), Var(v=0.0756, grad=-0.1465), Var(v=-0.2021, grad=0.0000), Var(v=-0.0547, grad=-0.1263), Var(v=0.1568, grad=-0.4237), Var(v=0.1601, grad=-0.1916), Var(v=-0.0118, grad=0.0000), Var(v=0.1195, grad=0.1205), Var(v=0.0328, grad=0.0000), Var(v=-0.0050, grad=0.1141), Var(v=0.0603, grad=-0.1259), Var(v=0.0832, grad=0.0000), Var(v=-0.0615, grad=0.0000), Var(v=0.2294, grad=0.0258), Var(v=-0.1510, grad=0.0000), Var(v=-0.0884, grad=0.0000), Var(v=-0.0075, grad=0.0000), Var(v=0.1353, grad=0.0000), Var(v=-0.0625, grad=0.0000), Var(v=0.0417, grad=0.0000), Var(v=-0.0349, grad=0.1301), Var(v=0.1615, grad=0.1248), Var(v=0.0088, grad=0.0135), Var(v=0.1018, grad=0.1983), Var(v=-0.0782, grad=0.0282), Var(v=-0.0844, grad=0.3315), Var(v=-0.0283, grad=0.0000)], [Var(v=-0.0254, grad=0.2053), Var(v=-0.1366, grad=0.2226), Var(v=-0.0562, grad=0.0000), Var(v=0.0374, grad=0.0000), Var(v=-0.0869, grad=0.1776), Var(v=0.1052, grad=0.0000), Var(v=0.0127, grad=-0.1230), Var(v=0.1055, grad=0.0576), Var(v=-0.0551, grad=0.4643), Var(v=0.0493, grad=0.0000), Var(v=-0.0598, grad=0.0000), Var(v=0.0735, grad=0.0000), Var(v=-0.1557, grad=0.0416), Var(v=0.0837, grad=0.0000), Var(v=0.1274, grad=0.0000), Var(v=-0.0556, grad=0.0000), Var(v=0.0780, grad=0.2029), Var(v=0.0958, grad=0.0000), Var(v=-0.1984, grad=-0.2127), Var(v=0.0427, grad=0.0680), Var(v=0.0257, grad=0.1233), Var(v=-0.0156, grad=0.0000), Var(v=-0.1007, grad=0.0330), Var(v=0.1410, grad=0.0185), Var(v=0.0440, grad=0.1604), Var(v=0.2031, grad=0.2267), Var(v=-0.1459, grad=0.1384), Var(v=-0.0386, grad=0.4640), Var(v=0.0453, grad=0.2098), Var(v=-0.0691, grad=0.0000), Var(v=0.0222, grad=-0.1319), Var(v=-0.0332, grad=0.0000), Var(v=-0.1295, grad=0.0000), Var(v=-0.1694, grad=0.1378), Var(v=-0.0460, grad=0.0000), Var(v=-0.0367, grad=0.3634), Var(v=-0.0802, grad=0.0000), Var(v=0.0274, grad=-0.1492), Var(v=0.0028, grad=-0.1668), Var(v=-0.1119, grad=-0.0360), Var(v=-0.0264, grad=0.1139), Var(v=-0.0654, grad=0.2499), Var(v=0.1300, grad=-0.0736), Var(v=0.0244, grad=-0.1425), Var(v=-0.2184, grad=-0.1367), Var(v=-0.0642, grad=0.0000), Var(v=-0.1057, grad=0.0000), Var(v=-0.1032, grad=-0.0309), Var(v=-0.0504, grad=0.0000), Var(v=-0.1821, grad=0.0000)], [Var(v=0.0255, grad=2.0947), Var(v=-0.0996, grad=2.2717), Var(v=0.1743, grad=0.0000), Var(v=-0.0267, grad=0.0000), Var(v=0.0809, grad=1.8121), Var(v=-0.0848, grad=0.0000), Var(v=-0.0799, grad=-1.2548), Var(v=-0.1861, grad=0.5883), Var(v=0.0631, grad=4.7380), Var(v=0.0615, grad=0.0000), Var(v=-0.0417, grad=0.0000), Var(v=0.0376, grad=0.0000), Var(v=0.0289, grad=0.4245), Var(v=-0.0670, grad=0.0000), Var(v=-0.0542, grad=0.0000), Var(v=-0.0200, grad=0.0000), Var(v=0.0950, grad=2.0704), Var(v=-0.1501, grad=0.0000), Var(v=0.0826, grad=-2.1709), Var(v=0.0193, grad=0.6941), Var(v=0.0948, grad=1.2582), Var(v=-0.0666, grad=0.0000), Var(v=0.0849, grad=0.3368), Var(v=0.0093, grad=0.1887), Var(v=0.0610, grad=1.6370), Var(v=0.1707, grad=2.3139), Var(v=0.0913, grad=1.4120), Var(v=-0.1418, grad=4.7353), Var(v=-0.0002, grad=2.1412), Var(v=-0.1139, grad=0.0000), Var(v=0.0855, grad=-1.3463), Var(v=-0.1708, grad=0.0000), Var(v=-0.1663, grad=0.0000), Var(v=-0.0237, grad=1.4066), Var(v=0.0372, grad=0.0000), Var(v=-0.1002, grad=3.7083), Var(v=0.0265, grad=0.0000), Var(v=0.0853, grad=-1.5222), Var(v=-0.0713, grad=-1.7025), Var(v=0.0036, grad=-0.3672), Var(v=-0.0921, grad=1.1623), Var(v=0.0146, grad=2.5507), Var(v=-0.1728, grad=-0.7508), Var(v=-0.0826, grad=-1.4541), Var(v=0.0085, grad=-1.3947), Var(v=-0.0158, grad=0.0000), Var(v=-0.0361, grad=0.0000), Var(v=-0.0280, grad=-0.3150), Var(v=-0.0323, grad=0.0000), Var(v=-0.1200, grad=0.0000)], [Var(v=0.1220, grad=0.2418), Var(v=-0.0848, grad=0.2622), Var(v=0.0191, grad=0.0000), Var(v=0.0373, grad=0.0000), Var(v=-0.2245, grad=0.2091), Var(v=0.0982, grad=0.0000), Var(v=0.0150, grad=-0.1448), Var(v=0.1355, grad=0.0679), Var(v=0.0481, grad=0.5468), Var(v=0.0629, grad=0.0000), Var(v=0.0770, grad=0.0000), Var(v=0.0489, grad=0.0000), Var(v=0.0409, grad=0.0490), Var(v=0.0831, grad=0.0000), Var(v=-0.0674, grad=0.0000), Var(v=-0.0198, grad=0.0000), Var(v=0.0898, grad=0.2389), Var(v=-0.0174, grad=0.0000), Var(v=0.0374, grad=-0.2505), Var(v=0.0814, grad=0.0801), Var(v=0.0189, grad=0.1452), Var(v=-0.0154, grad=0.0000), Var(v=-0.0299, grad=0.0389), Var(v=-0.0713, grad=0.0218), Var(v=0.0926, grad=0.1889), Var(v=0.1126, grad=0.2670), Var(v=-0.0315, grad=0.1630), Var(v=-0.1213, grad=0.5465), Var(v=-0.1154, grad=0.2471), Var(v=0.0694, grad=0.0000), Var(v=-0.0100, grad=-0.1554), Var(v=0.0189, grad=0.0000), Var(v=0.0252, grad=0.0000), Var(v=-0.0900, grad=0.1623), Var(v=-0.1520, grad=0.0000), Var(v=0.0810, grad=0.4280), Var(v=0.1584, grad=0.0000), Var(v=-0.0512, grad=-0.1757), Var(v=-0.1432, grad=-0.1965), Var(v=0.0363, grad=-0.0424), Var(v=0.0347, grad=0.1341), Var(v=0.0894, grad=0.2944), Var(v=-0.1027, grad=-0.0867), Var(v=0.1120, grad=-0.1678), Var(v=0.1437, grad=-0.1610), Var(v=-0.0716, grad=0.0000), Var(v=-0.0141, grad=0.0000), Var(v=0.0812, grad=-0.0364), Var(v=0.1639, grad=0.0000), Var(v=-0.0611, grad=0.0000)], [Var(v=0.0464, grad=5.3024), Var(v=0.1571, grad=5.7502), Var(v=-0.1364, grad=0.0000), Var(v=-0.1223, grad=0.0000), Var(v=0.0733, grad=4.5870), Var(v=0.1045, grad=0.0000), Var(v=-0.0565, grad=-3.1762), Var(v=0.0430, grad=1.4893), Var(v=-0.1503, grad=11.9931), Var(v=-0.0078, grad=0.0000), Var(v=-0.0977, grad=0.0000), Var(v=-0.0661, grad=0.0000), Var(v=0.1447, grad=1.0745), Var(v=-0.0580, grad=0.0000), Var(v=0.1284, grad=0.0000), Var(v=-0.0620, grad=0.0000), Var(v=-0.0418, grad=5.2408), Var(v=0.0976, grad=0.0000), Var(v=0.2656, grad=-5.4952), Var(v=0.0207, grad=1.7569), Var(v=-0.1068, grad=3.1849), Var(v=-0.0126, grad=0.0000), Var(v=0.1036, grad=0.8526), Var(v=0.1352, grad=0.4777), Var(v=0.0787, grad=4.1437), Var(v=-0.0356, grad=5.8571), Var(v=0.0515, grad=3.5742), Var(v=-0.0606, grad=11.9863), Var(v=-0.0565, grad=5.4199), Var(v=0.0305, grad=0.0000), Var(v=0.0615, grad=-3.4078), Var(v=-0.0569, grad=0.0000), Var(v=-0.2670, grad=0.0000), Var(v=0.0500, grad=3.5604), Var(v=-0.0839, grad=0.0000), Var(v=0.1067, grad=9.3868), Var(v=-0.1218, grad=0.0000), Var(v=0.0686, grad=-3.8530), Var(v=-0.0306, grad=-4.3096), Var(v=0.1140, grad=-0.9295), Var(v=0.1494, grad=2.9422), Var(v=-0.0332, grad=6.4565), Var(v=0.1159, grad=-1.9005), Var(v=0.1943, grad=-3.6808), Var(v=0.1063, grad=-3.5303), Var(v=-0.0207, grad=0.0000), Var(v=-0.0736, grad=0.0000), Var(v=0.0117, grad=-0.7974), Var(v=0.0428, grad=0.0000), Var(v=0.0141, grad=0.0000)], [Var(v=-0.0911, grad=1.8001), Var(v=-0.0958, grad=1.9521), Var(v=0.1011, grad=0.0000), Var(v=-0.0066, grad=0.0000), Var(v=0.0265, grad=1.5572), Var(v=-0.0105, grad=0.0000), Var(v=-0.0435, grad=-1.0783), Var(v=0.2326, grad=0.5056), Var(v=-0.1341, grad=4.0714), Var(v=-0.0097, grad=0.0000), Var(v=-0.0361, grad=0.0000), Var(v=-0.0112, grad=0.0000), Var(v=0.0476, grad=0.3648), Var(v=0.0080, grad=0.0000), Var(v=-0.0159, grad=0.0000), Var(v=0.1448, grad=0.0000), Var(v=-0.1000, grad=1.7792), Var(v=-0.0302, grad=0.0000), Var(v=0.0826, grad=-1.8655), Var(v=0.0115, grad=0.5964), Var(v=0.1009, grad=1.0812), Var(v=-0.1725, grad=0.0000), Var(v=0.1942, grad=0.2894), Var(v=0.0452, grad=0.1622), Var(v=-0.0236, grad=1.4067), Var(v=-0.0664, grad=1.9884), Var(v=0.0172, grad=1.2134), Var(v=0.0491, grad=4.0691), Var(v=0.1042, grad=1.8399), Var(v=0.1810, grad=0.0000), Var(v=0.0728, grad=-1.1569), Var(v=0.1140, grad=0.0000), Var(v=-0.0616, grad=0.0000), Var(v=0.1183, grad=1.2087), Var(v=-0.1496, grad=0.0000), Var(v=-0.0415, grad=3.1867), Var(v=0.0691, grad=0.0000), Var(v=-0.0228, grad=-1.3080), Var(v=0.1254, grad=-1.4630), Var(v=0.0400, grad=-0.3155), Var(v=-0.0418, grad=0.9988), Var(v=-0.1773, grad=2.1919), Var(v=-0.0055, grad=-0.6452), Var(v=0.0320, grad=-1.2496), Var(v=0.0653, grad=-1.1985), Var(v=-0.0274, grad=0.0000), Var(v=-0.0627, grad=0.0000), Var(v=-0.0618, grad=-0.2707), Var(v=-0.0268, grad=0.0000), Var(v=0.0737, grad=0.0000)], [Var(v=0.1775, grad=0.7298), Var(v=-0.1095, grad=0.7914), Var(v=0.1686, grad=0.0000), Var(v=0.0245, grad=0.0000), Var(v=-0.0902, grad=0.6313), Var(v=-0.2110, grad=0.0000), Var(v=0.0857, grad=-0.4371), Var(v=0.0810, grad=0.2050), Var(v=0.1461, grad=1.6506), Var(v=-0.0653, grad=0.0000), Var(v=-0.1459, grad=0.0000), Var(v=0.0054, grad=0.0000), Var(v=-0.0963, grad=0.1479), Var(v=-0.1078, grad=0.0000), Var(v=0.0659, grad=0.0000), Var(v=-0.0749, grad=0.0000), Var(v=-0.0086, grad=0.7213), Var(v=0.1069, grad=0.0000), Var(v=0.2111, grad=-0.7563), Var(v=0.0386, grad=0.2418), Var(v=0.0001, grad=0.4383), Var(v=-0.0770, grad=0.0000), Var(v=-0.1690, grad=0.1173), Var(v=-0.0592, grad=0.0657), Var(v=0.1160, grad=0.5703), Var(v=-0.0509, grad=0.8061), Var(v=0.1122, grad=0.4919), Var(v=-0.0300, grad=1.6497), Var(v=-0.0466, grad=0.7459), Var(v=0.0440, grad=0.0000), Var(v=0.0783, grad=-0.4690), Var(v=0.2044, grad=0.0000), Var(v=0.1605, grad=0.0000), Var(v=-0.0690, grad=0.4900), Var(v=-0.0396, grad=0.0000), Var(v=0.0252, grad=1.2919), Var(v=-0.2229, grad=0.0000), Var(v=-0.1284, grad=-0.5303), Var(v=0.1197, grad=-0.5931), Var(v=0.0367, grad=-0.1279), Var(v=-0.1410, grad=0.4049), Var(v=0.0673, grad=0.8886), Var(v=-0.0025, grad=-0.2616), Var(v=-0.0027, grad=-0.5066), Var(v=0.0043, grad=-0.4859), Var(v=-0.1875, grad=0.0000), Var(v=0.0019, grad=0.0000), Var(v=0.0509, grad=-0.1097), Var(v=0.0265, grad=0.0000), Var(v=0.0273, grad=0.0000)], [Var(v=0.1294, grad=-4.1489), Var(v=-0.1494, grad=0.0000), Var(v=-0.0492, grad=0.0000), Var(v=0.1761, grad=-0.2493), Var(v=0.0880, grad=-3.5891), Var(v=-0.2886, grad=0.0000), Var(v=0.0535, grad=0.0000), Var(v=-0.0206, grad=-1.1653), Var(v=0.1438, grad=-9.3841), Var(v=-0.1147, grad=0.0000), Var(v=-0.0340, grad=0.0000), Var(v=-0.0065, grad=2.2317), Var(v=0.0599, grad=0.0000), Var(v=0.0133, grad=0.0000), Var(v=-0.1683, grad=0.0000), Var(v=-0.0718, grad=0.0000), Var(v=-0.0625, grad=-4.1007), Var(v=0.1228, grad=-4.5437), Var(v=-0.0211, grad=0.0000), Var(v=0.0663, grad=-1.3747), Var(v=-0.1271, grad=0.0000), Var(v=0.2772, grad=-5.0482), Var(v=0.1426, grad=-0.6671), Var(v=-0.0708, grad=0.0000), Var(v=0.1306, grad=-3.2423), Var(v=-0.0799, grad=0.0000), Var(v=0.0048, grad=-2.7966), Var(v=0.0898, grad=-9.3788), Var(v=0.0773, grad=-4.2408), Var(v=-0.1004, grad=0.0000), Var(v=0.0618, grad=2.6665), Var(v=-0.0944, grad=0.0000), Var(v=0.0366, grad=2.5261), Var(v=0.1507, grad=-2.7859), Var(v=0.1888, grad=0.0000), Var(v=-0.1177, grad=0.0000), Var(v=0.1182, grad=0.5704), Var(v=-0.1017, grad=0.0000), Var(v=-0.0070, grad=0.0000), Var(v=-0.0673, grad=0.0000), Var(v=-0.0037, grad=0.0000), Var(v=0.1890, grad=0.0000), Var(v=-0.0036, grad=0.0000), Var(v=-0.0166, grad=2.8800), Var(v=0.0787, grad=2.7623), Var(v=-0.0792, grad=0.2980), Var(v=0.0773, grad=4.3901), Var(v=0.1266, grad=0.6239), Var(v=0.0146, grad=7.3382), Var(v=-0.2590, grad=0.0000)], [Var(v=-0.0195, grad=1.4809), Var(v=-0.0528, grad=1.6059), Var(v=-0.0679, grad=0.0000), Var(v=0.0176, grad=0.0000), Var(v=-0.0199, grad=1.2811), Var(v=0.0731, grad=0.0000), Var(v=0.0232, grad=-0.8871), Var(v=0.0518, grad=0.4159), Var(v=0.1591, grad=3.3495), Var(v=0.1263, grad=0.0000), Var(v=-0.0552, grad=0.0000), Var(v=-0.3020, grad=0.0000), Var(v=-0.0473, grad=0.3001), Var(v=0.0378, grad=0.0000), Var(v=-0.1735, grad=0.0000), Var(v=-0.1205, grad=0.0000), Var(v=0.0931, grad=1.4637), Var(v=-0.1440, grad=0.0000), Var(v=-0.1231, grad=-1.5347), Var(v=0.0017, grad=0.4907), Var(v=-0.0644, grad=0.8895), Var(v=0.0049, grad=0.0000), Var(v=0.1352, grad=0.2381), Var(v=0.0708, grad=0.1334), Var(v=-0.1532, grad=1.1573), Var(v=-0.0486, grad=1.6358), Var(v=-0.0683, grad=0.9982), Var(v=-0.1061, grad=3.3476), Var(v=0.0976, grad=1.5137), Var(v=0.0044, grad=0.0000), Var(v=0.1474, grad=-0.9518), Var(v=-0.0241, grad=0.0000), Var(v=0.0457, grad=0.0000), Var(v=-0.0591, grad=0.9944), Var(v=-0.0748, grad=0.0000), Var(v=-0.1057, grad=2.6216), Var(v=0.0469, grad=0.0000), Var(v=-0.0528, grad=-1.0761), Var(v=0.1745, grad=-1.2036), Var(v=0.0496, grad=-0.2596), Var(v=-0.0579, grad=0.8217), Var(v=0.1014, grad=1.8032), Var(v=0.1214, grad=-0.5308), Var(v=0.0408, grad=-1.0280), Var(v=-0.0789, grad=-0.9860), Var(v=0.0202, grad=0.0000), Var(v=-0.0797, grad=0.0000), Var(v=-0.1961, grad=-0.2227), Var(v=-0.0117, grad=0.0000), Var(v=-0.0744, grad=0.0000)]] Biases: [Var(v=-0.0079, grad=0.7867), Var(v=-0.2292, grad=22.9236), Var(v=0.0000, grad=0.0000), Var(v=0.0122, grad=-1.2227), Var(v=-0.0068, grad=0.6806), Var(v=0.0000, grad=0.0000), Var(v=0.1266, grad=-12.6624), Var(v=-0.0022, grad=0.2210), Var(v=-0.0178, grad=1.7794), Var(v=0.0000, grad=0.0000), Var(v=0.0000, grad=0.0000), Var(v=-0.1095, grad=10.9474), Var(v=-0.0428, grad=4.2836), Var(v=0.0000, grad=0.0000), Var(v=0.0000, grad=0.0000), Var(v=0.0000, grad=0.0000), Var(v=-0.0078, grad=0.7776), Var(v=0.2229, grad=-22.2883), Var(v=0.2191, grad=-21.9070), Var(v=-0.0026, grad=0.2607), Var(v=-0.1270, grad=12.6967), Var(v=0.2476, grad=-24.7632), Var(v=-0.0013, grad=0.1265), Var(v=-0.0190, grad=1.9045), Var(v=-0.0061, grad=0.6148), Var(v=-0.2335, grad=23.3498), Var(v=-0.0053, grad=0.5303), Var(v=-0.0178, grad=1.7784), Var(v=-0.0080, grad=0.8042), Var(v=0.0000, grad=0.0000), Var(v=0.0051, grad=-0.5056), Var(v=0.0000, grad=0.0000), Var(v=-0.1239, grad=12.3914), Var(v=-0.0053, grad=0.5283), Var(v=0.0000, grad=0.0000), Var(v=-0.3742, grad=37.4214), Var(v=-0.0280, grad=2.7978), Var(v=0.1536, grad=-15.3604), Var(v=0.1718, grad=-17.1806), Var(v=0.0371, grad=-3.7054), Var(v=-0.1173, grad=11.7291), Var(v=-0.2574, grad=25.7394), Var(v=0.0758, grad=-7.5767), Var(v=0.0055, grad=-0.5461), Var(v=0.0052, grad=-0.5238), Var(v=-0.0146, grad=1.4619), Var(v=-0.2154, grad=21.5351), Var(v=0.0012, grad=-0.1183), Var(v=-0.3600, grad=35.9961), Var(v=0.0000, grad=0.0000)]\n",
      "Layer 2 \n",
      " Weights: [[Var(v=-0.0812, grad=-0.3346)], [Var(v=-0.0583, grad=-3.3454)], [Var(v=-0.0248, grad=0.0000)], [Var(v=-0.0394, grad=3.4347)], [Var(v=-0.1023, grad=2.9144)], [Var(v=-0.0777, grad=0.0000)], [Var(v=0.0573, grad=-0.6633)], [Var(v=-0.0845, grad=6.0769)], [Var(v=-0.1925, grad=0.1240)], [Var(v=-0.1829, grad=0.0000)], [Var(v=-0.1806, grad=0.0000)], [Var(v=0.0428, grad=0.2695)], [Var(v=0.0339, grad=-5.1042)], [Var(v=-0.0197, grad=0.0000)], [Var(v=-0.1725, grad=0.0000)], [Var(v=0.0239, grad=0.0000)], [Var(v=-0.0997, grad=1.6121)], [Var(v=-0.1307, grad=3.8048)], [Var(v=0.2690, grad=-18.1390)], [Var(v=0.1089, grad=-13.6942)], [Var(v=-0.0173, grad=-3.3461)], [Var(v=-0.2204, grad=11.7519)], [Var(v=0.0207, grad=-3.4325)], [Var(v=0.0629, grad=-7.0475)], [Var(v=0.0028, grad=-6.8892)], [Var(v=-0.0475, grad=-4.5887)], [Var(v=-0.0542, grad=-0.2832)], [Var(v=-0.2048, grad=1.3604)], [Var(v=-0.1066, grad=2.0192)], [Var(v=0.0132, grad=0.0000)], [Var(v=0.1583, grad=-10.3914)], [Var(v=-0.0197, grad=0.0000)], [Var(v=0.0289, grad=2.2554)], [Var(v=-0.1782, grad=12.1442)], [Var(v=-0.1386, grad=0.0000)], [Var(v=-0.0626, grad=-8.7087)], [Var(v=-0.1230, grad=13.4603)], [Var(v=0.0955, grad=-3.4002)], [Var(v=0.0721, grad=-0.3386)], [Var(v=0.0303, grad=-1.5472)], [Var(v=0.0064, grad=-5.3282)], [Var(v=-0.0982, grad=-0.4742)], [Var(v=0.0378, grad=-0.7529)], [Var(v=0.1297, grad=-7.0965)], [Var(v=0.0916, grad=-3.5283)], [Var(v=-0.0738, grad=7.9828)], [Var(v=-0.0147, grad=10.4209)], [Var(v=-0.0004, grad=1.3079)], [Var(v=0.1457, grad=0.3834)], [Var(v=0.0126, grad=0.0000)]] Biases: [Var(v=0.0930, grad=-9.3034)]\n",
      "\n",
      "Network after zeroing gradients:\n",
      "Layer 0 \n",
      " Weights: [[Var(v=-0.1237, grad=0.0000), Var(v=0.2825, grad=0.0000), Var(v=-0.1968, grad=0.0000), Var(v=-0.2879, grad=0.0000), Var(v=-0.2000, grad=0.0000), Var(v=-0.2799, grad=0.0000), Var(v=-0.1225, grad=0.0000), Var(v=0.0303, grad=0.0000), Var(v=-0.0586, grad=0.0000), Var(v=-0.0201, grad=0.0000), Var(v=-0.0032, grad=0.0000), Var(v=0.1353, grad=0.0000), Var(v=-0.0047, grad=0.0000), Var(v=-0.2273, grad=0.0000), Var(v=0.0173, grad=0.0000)]] Biases: [Var(v=0.0692, grad=0.0000), Var(v=0.0784, grad=0.0000), Var(v=0.1267, grad=0.0000), Var(v=0.1129, grad=0.0000), Var(v=0.0653, grad=0.0000), Var(v=0.2177, grad=0.0000), Var(v=0.0990, grad=0.0000), Var(v=0.0191, grad=0.0000), Var(v=-0.1278, grad=0.0000), Var(v=-0.0264, grad=0.0000), Var(v=-0.1961, grad=0.0000), Var(v=0.0532, grad=0.0000), Var(v=-0.0308, grad=0.0000), Var(v=0.0442, grad=0.0000), Var(v=-0.0388, grad=0.0000)]\n",
      "Layer 1 \n",
      " Weights: [[Var(v=0.0777, grad=0.0000), Var(v=-0.0960, grad=0.0000), Var(v=-0.1458, grad=0.0000), Var(v=-0.1032, grad=0.0000), Var(v=0.0360, grad=0.0000), Var(v=-0.0125, grad=0.0000), Var(v=-0.0765, grad=0.0000), Var(v=0.1738, grad=0.0000), Var(v=0.0680, grad=0.0000), Var(v=-0.0587, grad=0.0000), Var(v=0.0767, grad=0.0000), Var(v=-0.1102, grad=0.0000), Var(v=-0.0412, grad=0.0000), Var(v=-0.0165, grad=0.0000), Var(v=0.0474, grad=0.0000), Var(v=-0.0030, grad=0.0000), Var(v=0.1298, grad=0.0000), Var(v=-0.0560, grad=0.0000), Var(v=-0.0140, grad=0.0000), Var(v=0.0248, grad=0.0000), Var(v=-0.0398, grad=0.0000), Var(v=0.2074, grad=0.0000), Var(v=0.1022, grad=0.0000), Var(v=-0.0482, grad=0.0000), Var(v=0.1930, grad=0.0000), Var(v=0.0114, grad=0.0000), Var(v=-0.1283, grad=0.0000), Var(v=-0.1222, grad=0.0000), Var(v=0.0577, grad=0.0000), Var(v=-0.1073, grad=0.0000), Var(v=-0.2456, grad=0.0000), Var(v=0.0612, grad=0.0000), Var(v=-0.0826, grad=0.0000), Var(v=0.0016, grad=0.0000), Var(v=0.0164, grad=0.0000), Var(v=0.0237, grad=0.0000), Var(v=0.1166, grad=0.0000), Var(v=0.0695, grad=0.0000), Var(v=-0.0574, grad=0.0000), Var(v=0.0441, grad=0.0000), Var(v=-0.0613, grad=0.0000), Var(v=0.0660, grad=0.0000), Var(v=0.0941, grad=0.0000), Var(v=0.0609, grad=0.0000), Var(v=0.1744, grad=0.0000), Var(v=0.0167, grad=0.0000), Var(v=-0.0004, grad=0.0000), Var(v=-0.0521, grad=0.0000), Var(v=0.0022, grad=0.0000), Var(v=0.1376, grad=0.0000)], [Var(v=-0.0380, grad=0.0000), Var(v=-0.1322, grad=0.0000), Var(v=-0.0246, grad=0.0000), Var(v=0.1211, grad=0.0000), Var(v=-0.0475, grad=0.0000), Var(v=-0.2126, grad=0.0000), Var(v=0.1847, grad=0.0000), Var(v=-0.0966, grad=0.0000), Var(v=-0.1145, grad=0.0000), Var(v=-0.0866, grad=0.0000), Var(v=0.0773, grad=0.0000), Var(v=-0.0180, grad=0.0000), Var(v=-0.0949, grad=0.0000), Var(v=0.0692, grad=0.0000), Var(v=-0.0751, grad=0.0000), Var(v=0.0256, grad=0.0000), Var(v=-0.0271, grad=0.0000), Var(v=-0.0382, grad=0.0000), Var(v=0.1049, grad=0.0000), Var(v=0.2150, grad=0.0000), Var(v=0.0415, grad=0.0000), Var(v=0.1004, grad=0.0000), Var(v=-0.1166, grad=0.0000), Var(v=-0.0751, grad=0.0000), Var(v=-0.0163, grad=0.0000), Var(v=-0.0615, grad=0.0000), Var(v=-0.0150, grad=0.0000), Var(v=-0.0844, grad=0.0000), Var(v=-0.0327, grad=0.0000), Var(v=-0.0878, grad=0.0000), Var(v=0.0775, grad=0.0000), Var(v=0.0003, grad=0.0000), Var(v=0.0454, grad=0.0000), Var(v=-0.0869, grad=0.0000), Var(v=-0.0418, grad=0.0000), Var(v=-0.1042, grad=0.0000), Var(v=-0.0493, grad=0.0000), Var(v=0.0865, grad=0.0000), Var(v=0.0628, grad=0.0000), Var(v=-0.1148, grad=0.0000), Var(v=-0.0477, grad=0.0000), Var(v=-0.0937, grad=0.0000), Var(v=-0.0307, grad=0.0000), Var(v=0.0390, grad=0.0000), Var(v=0.1139, grad=0.0000), Var(v=0.0519, grad=0.0000), Var(v=-0.0503, grad=0.0000), Var(v=0.1153, grad=0.0000), Var(v=-0.1640, grad=0.0000), Var(v=-0.0699, grad=0.0000)], [Var(v=0.1240, grad=0.0000), Var(v=0.0207, grad=0.0000), Var(v=0.1077, grad=0.0000), Var(v=-0.1509, grad=0.0000), Var(v=0.1501, grad=0.0000), Var(v=0.0151, grad=0.0000), Var(v=-0.0258, grad=0.0000), Var(v=0.2433, grad=0.0000), Var(v=0.1100, grad=0.0000), Var(v=0.0985, grad=0.0000), Var(v=0.0769, grad=0.0000), Var(v=-0.0141, grad=0.0000), Var(v=-0.0384, grad=0.0000), Var(v=-0.0196, grad=0.0000), Var(v=-0.1193, grad=0.0000), Var(v=0.0266, grad=0.0000), Var(v=0.1397, grad=0.0000), Var(v=0.0955, grad=0.0000), Var(v=-0.1136, grad=0.0000), Var(v=0.0755, grad=0.0000), Var(v=-0.1496, grad=0.0000), Var(v=-0.0887, grad=0.0000), Var(v=0.0245, grad=0.0000), Var(v=0.0388, grad=0.0000), Var(v=-0.1302, grad=0.0000), Var(v=-0.0485, grad=0.0000), Var(v=-0.1296, grad=0.0000), Var(v=0.2048, grad=0.0000), Var(v=0.0459, grad=0.0000), Var(v=-0.1363, grad=0.0000), Var(v=0.0240, grad=0.0000), Var(v=-0.0173, grad=0.0000), Var(v=-0.0965, grad=0.0000), Var(v=-0.1139, grad=0.0000), Var(v=0.0379, grad=0.0000), Var(v=-0.0148, grad=0.0000), Var(v=0.0406, grad=0.0000), Var(v=-0.2460, grad=0.0000), Var(v=0.0113, grad=0.0000), Var(v=-0.0208, grad=0.0000), Var(v=0.0301, grad=0.0000), Var(v=-0.0751, grad=0.0000), Var(v=-0.0219, grad=0.0000), Var(v=-0.1441, grad=0.0000), Var(v=-0.0337, grad=0.0000), Var(v=0.2083, grad=0.0000), Var(v=-0.0694, grad=0.0000), Var(v=-0.0924, grad=0.0000), Var(v=0.1671, grad=0.0000), Var(v=0.0514, grad=0.0000)], [Var(v=0.0460, grad=0.0000), Var(v=0.1131, grad=0.0000), Var(v=-0.0707, grad=0.0000), Var(v=0.0794, grad=0.0000), Var(v=0.1425, grad=0.0000), Var(v=0.0077, grad=0.0000), Var(v=-0.0421, grad=0.0000), Var(v=0.0548, grad=0.0000), Var(v=0.0101, grad=0.0000), Var(v=0.0032, grad=0.0000), Var(v=0.0328, grad=0.0000), Var(v=0.0471, grad=0.0000), Var(v=-0.0520, grad=0.0000), Var(v=0.1175, grad=0.0000), Var(v=0.0789, grad=0.0000), Var(v=0.0119, grad=0.0000), Var(v=0.1574, grad=0.0000), Var(v=0.0379, grad=0.0000), Var(v=0.0691, grad=0.0000), Var(v=0.0399, grad=0.0000), Var(v=0.1011, grad=0.0000), Var(v=0.2128, grad=0.0000), Var(v=-0.0229, grad=0.0000), Var(v=-0.0332, grad=0.0000), Var(v=-0.0461, grad=0.0000), Var(v=-0.0063, grad=0.0000), Var(v=0.1485, grad=0.0000), Var(v=0.0289, grad=0.0000), Var(v=0.1450, grad=0.0000), Var(v=-0.0453, grad=0.0000), Var(v=-0.0727, grad=0.0000), Var(v=-0.0663, grad=0.0000), Var(v=0.0312, grad=0.0000), Var(v=0.2067, grad=0.0000), Var(v=-0.1634, grad=0.0000), Var(v=-0.1124, grad=0.0000), Var(v=0.1149, grad=0.0000), Var(v=-0.0811, grad=0.0000), Var(v=-0.1522, grad=0.0000), Var(v=-0.0755, grad=0.0000), Var(v=0.0128, grad=0.0000), Var(v=-0.0649, grad=0.0000), Var(v=-0.0814, grad=0.0000), Var(v=0.0258, grad=0.0000), Var(v=-0.0534, grad=0.0000), Var(v=0.0410, grad=0.0000), Var(v=-0.0118, grad=0.0000), Var(v=-0.0309, grad=0.0000), Var(v=-0.2018, grad=0.0000), Var(v=0.2513, grad=0.0000)], [Var(v=0.0614, grad=0.0000), Var(v=-0.0147, grad=0.0000), Var(v=0.0645, grad=0.0000), Var(v=-0.1342, grad=0.0000), Var(v=0.0623, grad=0.0000), Var(v=-0.0438, grad=0.0000), Var(v=-0.0687, grad=0.0000), Var(v=0.0412, grad=0.0000), Var(v=0.1338, grad=0.0000), Var(v=-0.0051, grad=0.0000), Var(v=-0.0888, grad=0.0000), Var(v=-0.0427, grad=0.0000), Var(v=0.0229, grad=0.0000), Var(v=-0.2118, grad=0.0000), Var(v=-0.0341, grad=0.0000), Var(v=-0.1727, grad=0.0000), Var(v=0.0845, grad=0.0000), Var(v=0.0309, grad=0.0000), Var(v=0.0035, grad=0.0000), Var(v=-0.0446, grad=0.0000), Var(v=-0.0906, grad=0.0000), Var(v=-0.1584, grad=0.0000), Var(v=-0.0581, grad=0.0000), Var(v=-0.0023, grad=0.0000), Var(v=0.0398, grad=0.0000), Var(v=0.0828, grad=0.0000), Var(v=0.2374, grad=0.0000), Var(v=0.1899, grad=0.0000), Var(v=0.0287, grad=0.0000), Var(v=-0.1319, grad=0.0000), Var(v=-0.0115, grad=0.0000), Var(v=-0.0200, grad=0.0000), Var(v=-0.0191, grad=0.0000), Var(v=0.0747, grad=0.0000), Var(v=-0.1336, grad=0.0000), Var(v=-0.0694, grad=0.0000), Var(v=-0.0418, grad=0.0000), Var(v=-0.0299, grad=0.0000), Var(v=-0.0502, grad=0.0000), Var(v=-0.1069, grad=0.0000), Var(v=-0.0279, grad=0.0000), Var(v=-0.2765, grad=0.0000), Var(v=-0.0646, grad=0.0000), Var(v=0.0006, grad=0.0000), Var(v=-0.0533, grad=0.0000), Var(v=0.1696, grad=0.0000), Var(v=0.0772, grad=0.0000), Var(v=-0.0061, grad=0.0000), Var(v=-0.0186, grad=0.0000), Var(v=-0.0381, grad=0.0000)], [Var(v=-0.0647, grad=0.0000), Var(v=-0.0666, grad=0.0000), Var(v=-0.0941, grad=0.0000), Var(v=-0.0266, grad=0.0000), Var(v=0.1215, grad=0.0000), Var(v=-0.1509, grad=0.0000), Var(v=0.0545, grad=0.0000), Var(v=0.1411, grad=0.0000), Var(v=0.0169, grad=0.0000), Var(v=0.0059, grad=0.0000), Var(v=0.0453, grad=0.0000), Var(v=-0.1382, grad=0.0000), Var(v=-0.0515, grad=0.0000), Var(v=-0.0299, grad=0.0000), Var(v=0.0377, grad=0.0000), Var(v=0.0593, grad=0.0000), Var(v=0.1736, grad=0.0000), Var(v=-0.0578, grad=0.0000), Var(v=-0.1480, grad=0.0000), Var(v=0.0167, grad=0.0000), Var(v=-0.0982, grad=0.0000), Var(v=-0.0898, grad=0.0000), Var(v=-0.0171, grad=0.0000), Var(v=0.1713, grad=0.0000), Var(v=-0.0168, grad=0.0000), Var(v=-0.1192, grad=0.0000), Var(v=0.1013, grad=0.0000), Var(v=0.1736, grad=0.0000), Var(v=-0.0589, grad=0.0000), Var(v=0.1452, grad=0.0000), Var(v=-0.0238, grad=0.0000), Var(v=0.1054, grad=0.0000), Var(v=-0.1210, grad=0.0000), Var(v=0.0881, grad=0.0000), Var(v=0.1913, grad=0.0000), Var(v=-0.1464, grad=0.0000), Var(v=0.1149, grad=0.0000), Var(v=0.0387, grad=0.0000), Var(v=0.2143, grad=0.0000), Var(v=0.1021, grad=0.0000), Var(v=-0.0193, grad=0.0000), Var(v=-0.1085, grad=0.0000), Var(v=-0.0159, grad=0.0000), Var(v=-0.0617, grad=0.0000), Var(v=-0.0292, grad=0.0000), Var(v=0.0900, grad=0.0000), Var(v=-0.0121, grad=0.0000), Var(v=-0.1302, grad=0.0000), Var(v=-0.2441, grad=0.0000), Var(v=0.0733, grad=0.0000)], [Var(v=0.0560, grad=0.0000), Var(v=-0.0471, grad=0.0000), Var(v=0.0494, grad=0.0000), Var(v=-0.0710, grad=0.0000), Var(v=-0.0958, grad=0.0000), Var(v=0.0938, grad=0.0000), Var(v=-0.0994, grad=0.0000), Var(v=0.0138, grad=0.0000), Var(v=-0.0076, grad=0.0000), Var(v=0.3485, grad=0.0000), Var(v=-0.0084, grad=0.0000), Var(v=-0.0372, grad=0.0000), Var(v=-0.0277, grad=0.0000), Var(v=-0.1285, grad=0.0000), Var(v=0.0981, grad=0.0000), Var(v=-0.1303, grad=0.0000), Var(v=0.0393, grad=0.0000), Var(v=0.1538, grad=0.0000), Var(v=0.0301, grad=0.0000), Var(v=-0.0282, grad=0.0000), Var(v=-0.0292, grad=0.0000), Var(v=-0.0701, grad=0.0000), Var(v=-0.0036, grad=0.0000), Var(v=-0.1792, grad=0.0000), Var(v=0.0756, grad=0.0000), Var(v=-0.2021, grad=0.0000), Var(v=-0.0547, grad=0.0000), Var(v=0.1568, grad=0.0000), Var(v=0.1601, grad=0.0000), Var(v=-0.0118, grad=0.0000), Var(v=0.1195, grad=0.0000), Var(v=0.0328, grad=0.0000), Var(v=-0.0050, grad=0.0000), Var(v=0.0603, grad=0.0000), Var(v=0.0832, grad=0.0000), Var(v=-0.0615, grad=0.0000), Var(v=0.2294, grad=0.0000), Var(v=-0.1510, grad=0.0000), Var(v=-0.0884, grad=0.0000), Var(v=-0.0075, grad=0.0000), Var(v=0.1353, grad=0.0000), Var(v=-0.0625, grad=0.0000), Var(v=0.0417, grad=0.0000), Var(v=-0.0349, grad=0.0000), Var(v=0.1615, grad=0.0000), Var(v=0.0088, grad=0.0000), Var(v=0.1018, grad=0.0000), Var(v=-0.0782, grad=0.0000), Var(v=-0.0844, grad=0.0000), Var(v=-0.0283, grad=0.0000)], [Var(v=-0.0254, grad=0.0000), Var(v=-0.1366, grad=0.0000), Var(v=-0.0562, grad=0.0000), Var(v=0.0374, grad=0.0000), Var(v=-0.0869, grad=0.0000), Var(v=0.1052, grad=0.0000), Var(v=0.0127, grad=0.0000), Var(v=0.1055, grad=0.0000), Var(v=-0.0551, grad=0.0000), Var(v=0.0493, grad=0.0000), Var(v=-0.0598, grad=0.0000), Var(v=0.0735, grad=0.0000), Var(v=-0.1557, grad=0.0000), Var(v=0.0837, grad=0.0000), Var(v=0.1274, grad=0.0000), Var(v=-0.0556, grad=0.0000), Var(v=0.0780, grad=0.0000), Var(v=0.0958, grad=0.0000), Var(v=-0.1984, grad=0.0000), Var(v=0.0427, grad=0.0000), Var(v=0.0257, grad=0.0000), Var(v=-0.0156, grad=0.0000), Var(v=-0.1007, grad=0.0000), Var(v=0.1410, grad=0.0000), Var(v=0.0440, grad=0.0000), Var(v=0.2031, grad=0.0000), Var(v=-0.1459, grad=0.0000), Var(v=-0.0386, grad=0.0000), Var(v=0.0453, grad=0.0000), Var(v=-0.0691, grad=0.0000), Var(v=0.0222, grad=0.0000), Var(v=-0.0332, grad=0.0000), Var(v=-0.1295, grad=0.0000), Var(v=-0.1694, grad=0.0000), Var(v=-0.0460, grad=0.0000), Var(v=-0.0367, grad=0.0000), Var(v=-0.0802, grad=0.0000), Var(v=0.0274, grad=0.0000), Var(v=0.0028, grad=0.0000), Var(v=-0.1119, grad=0.0000), Var(v=-0.0264, grad=0.0000), Var(v=-0.0654, grad=0.0000), Var(v=0.1300, grad=0.0000), Var(v=0.0244, grad=0.0000), Var(v=-0.2184, grad=0.0000), Var(v=-0.0642, grad=0.0000), Var(v=-0.1057, grad=0.0000), Var(v=-0.1032, grad=0.0000), Var(v=-0.0504, grad=0.0000), Var(v=-0.1821, grad=0.0000)], [Var(v=0.0255, grad=0.0000), Var(v=-0.0996, grad=0.0000), Var(v=0.1743, grad=0.0000), Var(v=-0.0267, grad=0.0000), Var(v=0.0809, grad=0.0000), Var(v=-0.0848, grad=0.0000), Var(v=-0.0799, grad=0.0000), Var(v=-0.1861, grad=0.0000), Var(v=0.0631, grad=0.0000), Var(v=0.0615, grad=0.0000), Var(v=-0.0417, grad=0.0000), Var(v=0.0376, grad=0.0000), Var(v=0.0289, grad=0.0000), Var(v=-0.0670, grad=0.0000), Var(v=-0.0542, grad=0.0000), Var(v=-0.0200, grad=0.0000), Var(v=0.0950, grad=0.0000), Var(v=-0.1501, grad=0.0000), Var(v=0.0826, grad=0.0000), Var(v=0.0193, grad=0.0000), Var(v=0.0948, grad=0.0000), Var(v=-0.0666, grad=0.0000), Var(v=0.0849, grad=0.0000), Var(v=0.0093, grad=0.0000), Var(v=0.0610, grad=0.0000), Var(v=0.1707, grad=0.0000), Var(v=0.0913, grad=0.0000), Var(v=-0.1418, grad=0.0000), Var(v=-0.0002, grad=0.0000), Var(v=-0.1139, grad=0.0000), Var(v=0.0855, grad=0.0000), Var(v=-0.1708, grad=0.0000), Var(v=-0.1663, grad=0.0000), Var(v=-0.0237, grad=0.0000), Var(v=0.0372, grad=0.0000), Var(v=-0.1002, grad=0.0000), Var(v=0.0265, grad=0.0000), Var(v=0.0853, grad=0.0000), Var(v=-0.0713, grad=0.0000), Var(v=0.0036, grad=0.0000), Var(v=-0.0921, grad=0.0000), Var(v=0.0146, grad=0.0000), Var(v=-0.1728, grad=0.0000), Var(v=-0.0826, grad=0.0000), Var(v=0.0085, grad=0.0000), Var(v=-0.0158, grad=0.0000), Var(v=-0.0361, grad=0.0000), Var(v=-0.0280, grad=0.0000), Var(v=-0.0323, grad=0.0000), Var(v=-0.1200, grad=0.0000)], [Var(v=0.1220, grad=0.0000), Var(v=-0.0848, grad=0.0000), Var(v=0.0191, grad=0.0000), Var(v=0.0373, grad=0.0000), Var(v=-0.2245, grad=0.0000), Var(v=0.0982, grad=0.0000), Var(v=0.0150, grad=0.0000), Var(v=0.1355, grad=0.0000), Var(v=0.0481, grad=0.0000), Var(v=0.0629, grad=0.0000), Var(v=0.0770, grad=0.0000), Var(v=0.0489, grad=0.0000), Var(v=0.0409, grad=0.0000), Var(v=0.0831, grad=0.0000), Var(v=-0.0674, grad=0.0000), Var(v=-0.0198, grad=0.0000), Var(v=0.0898, grad=0.0000), Var(v=-0.0174, grad=0.0000), Var(v=0.0374, grad=0.0000), Var(v=0.0814, grad=0.0000), Var(v=0.0189, grad=0.0000), Var(v=-0.0154, grad=0.0000), Var(v=-0.0299, grad=0.0000), Var(v=-0.0713, grad=0.0000), Var(v=0.0926, grad=0.0000), Var(v=0.1126, grad=0.0000), Var(v=-0.0315, grad=0.0000), Var(v=-0.1213, grad=0.0000), Var(v=-0.1154, grad=0.0000), Var(v=0.0694, grad=0.0000), Var(v=-0.0100, grad=0.0000), Var(v=0.0189, grad=0.0000), Var(v=0.0252, grad=0.0000), Var(v=-0.0900, grad=0.0000), Var(v=-0.1520, grad=0.0000), Var(v=0.0810, grad=0.0000), Var(v=0.1584, grad=0.0000), Var(v=-0.0512, grad=0.0000), Var(v=-0.1432, grad=0.0000), Var(v=0.0363, grad=0.0000), Var(v=0.0347, grad=0.0000), Var(v=0.0894, grad=0.0000), Var(v=-0.1027, grad=0.0000), Var(v=0.1120, grad=0.0000), Var(v=0.1437, grad=0.0000), Var(v=-0.0716, grad=0.0000), Var(v=-0.0141, grad=0.0000), Var(v=0.0812, grad=0.0000), Var(v=0.1639, grad=0.0000), Var(v=-0.0611, grad=0.0000)], [Var(v=0.0464, grad=0.0000), Var(v=0.1571, grad=0.0000), Var(v=-0.1364, grad=0.0000), Var(v=-0.1223, grad=0.0000), Var(v=0.0733, grad=0.0000), Var(v=0.1045, grad=0.0000), Var(v=-0.0565, grad=0.0000), Var(v=0.0430, grad=0.0000), Var(v=-0.1503, grad=0.0000), Var(v=-0.0078, grad=0.0000), Var(v=-0.0977, grad=0.0000), Var(v=-0.0661, grad=0.0000), Var(v=0.1447, grad=0.0000), Var(v=-0.0580, grad=0.0000), Var(v=0.1284, grad=0.0000), Var(v=-0.0620, grad=0.0000), Var(v=-0.0418, grad=0.0000), Var(v=0.0976, grad=0.0000), Var(v=0.2656, grad=0.0000), Var(v=0.0207, grad=0.0000), Var(v=-0.1068, grad=0.0000), Var(v=-0.0126, grad=0.0000), Var(v=0.1036, grad=0.0000), Var(v=0.1352, grad=0.0000), Var(v=0.0787, grad=0.0000), Var(v=-0.0356, grad=0.0000), Var(v=0.0515, grad=0.0000), Var(v=-0.0606, grad=0.0000), Var(v=-0.0565, grad=0.0000), Var(v=0.0305, grad=0.0000), Var(v=0.0615, grad=0.0000), Var(v=-0.0569, grad=0.0000), Var(v=-0.2670, grad=0.0000), Var(v=0.0500, grad=0.0000), Var(v=-0.0839, grad=0.0000), Var(v=0.1067, grad=0.0000), Var(v=-0.1218, grad=0.0000), Var(v=0.0686, grad=0.0000), Var(v=-0.0306, grad=0.0000), Var(v=0.1140, grad=0.0000), Var(v=0.1494, grad=0.0000), Var(v=-0.0332, grad=0.0000), Var(v=0.1159, grad=0.0000), Var(v=0.1943, grad=0.0000), Var(v=0.1063, grad=0.0000), Var(v=-0.0207, grad=0.0000), Var(v=-0.0736, grad=0.0000), Var(v=0.0117, grad=0.0000), Var(v=0.0428, grad=0.0000), Var(v=0.0141, grad=0.0000)], [Var(v=-0.0911, grad=0.0000), Var(v=-0.0958, grad=0.0000), Var(v=0.1011, grad=0.0000), Var(v=-0.0066, grad=0.0000), Var(v=0.0265, grad=0.0000), Var(v=-0.0105, grad=0.0000), Var(v=-0.0435, grad=0.0000), Var(v=0.2326, grad=0.0000), Var(v=-0.1341, grad=0.0000), Var(v=-0.0097, grad=0.0000), Var(v=-0.0361, grad=0.0000), Var(v=-0.0112, grad=0.0000), Var(v=0.0476, grad=0.0000), Var(v=0.0080, grad=0.0000), Var(v=-0.0159, grad=0.0000), Var(v=0.1448, grad=0.0000), Var(v=-0.1000, grad=0.0000), Var(v=-0.0302, grad=0.0000), Var(v=0.0826, grad=0.0000), Var(v=0.0115, grad=0.0000), Var(v=0.1009, grad=0.0000), Var(v=-0.1725, grad=0.0000), Var(v=0.1942, grad=0.0000), Var(v=0.0452, grad=0.0000), Var(v=-0.0236, grad=0.0000), Var(v=-0.0664, grad=0.0000), Var(v=0.0172, grad=0.0000), Var(v=0.0491, grad=0.0000), Var(v=0.1042, grad=0.0000), Var(v=0.1810, grad=0.0000), Var(v=0.0728, grad=0.0000), Var(v=0.1140, grad=0.0000), Var(v=-0.0616, grad=0.0000), Var(v=0.1183, grad=0.0000), Var(v=-0.1496, grad=0.0000), Var(v=-0.0415, grad=0.0000), Var(v=0.0691, grad=0.0000), Var(v=-0.0228, grad=0.0000), Var(v=0.1254, grad=0.0000), Var(v=0.0400, grad=0.0000), Var(v=-0.0418, grad=0.0000), Var(v=-0.1773, grad=0.0000), Var(v=-0.0055, grad=0.0000), Var(v=0.0320, grad=0.0000), Var(v=0.0653, grad=0.0000), Var(v=-0.0274, grad=0.0000), Var(v=-0.0627, grad=0.0000), Var(v=-0.0618, grad=0.0000), Var(v=-0.0268, grad=0.0000), Var(v=0.0737, grad=0.0000)], [Var(v=0.1775, grad=0.0000), Var(v=-0.1095, grad=0.0000), Var(v=0.1686, grad=0.0000), Var(v=0.0245, grad=0.0000), Var(v=-0.0902, grad=0.0000), Var(v=-0.2110, grad=0.0000), Var(v=0.0857, grad=0.0000), Var(v=0.0810, grad=0.0000), Var(v=0.1461, grad=0.0000), Var(v=-0.0653, grad=0.0000), Var(v=-0.1459, grad=0.0000), Var(v=0.0054, grad=0.0000), Var(v=-0.0963, grad=0.0000), Var(v=-0.1078, grad=0.0000), Var(v=0.0659, grad=0.0000), Var(v=-0.0749, grad=0.0000), Var(v=-0.0086, grad=0.0000), Var(v=0.1069, grad=0.0000), Var(v=0.2111, grad=0.0000), Var(v=0.0386, grad=0.0000), Var(v=0.0001, grad=0.0000), Var(v=-0.0770, grad=0.0000), Var(v=-0.1690, grad=0.0000), Var(v=-0.0592, grad=0.0000), Var(v=0.1160, grad=0.0000), Var(v=-0.0509, grad=0.0000), Var(v=0.1122, grad=0.0000), Var(v=-0.0300, grad=0.0000), Var(v=-0.0466, grad=0.0000), Var(v=0.0440, grad=0.0000), Var(v=0.0783, grad=0.0000), Var(v=0.2044, grad=0.0000), Var(v=0.1605, grad=0.0000), Var(v=-0.0690, grad=0.0000), Var(v=-0.0396, grad=0.0000), Var(v=0.0252, grad=0.0000), Var(v=-0.2229, grad=0.0000), Var(v=-0.1284, grad=0.0000), Var(v=0.1197, grad=0.0000), Var(v=0.0367, grad=0.0000), Var(v=-0.1410, grad=0.0000), Var(v=0.0673, grad=0.0000), Var(v=-0.0025, grad=0.0000), Var(v=-0.0027, grad=0.0000), Var(v=0.0043, grad=0.0000), Var(v=-0.1875, grad=0.0000), Var(v=0.0019, grad=0.0000), Var(v=0.0509, grad=0.0000), Var(v=0.0265, grad=0.0000), Var(v=0.0273, grad=0.0000)], [Var(v=0.1294, grad=0.0000), Var(v=-0.1494, grad=0.0000), Var(v=-0.0492, grad=0.0000), Var(v=0.1761, grad=0.0000), Var(v=0.0880, grad=0.0000), Var(v=-0.2886, grad=0.0000), Var(v=0.0535, grad=0.0000), Var(v=-0.0206, grad=0.0000), Var(v=0.1438, grad=0.0000), Var(v=-0.1147, grad=0.0000), Var(v=-0.0340, grad=0.0000), Var(v=-0.0065, grad=0.0000), Var(v=0.0599, grad=0.0000), Var(v=0.0133, grad=0.0000), Var(v=-0.1683, grad=0.0000), Var(v=-0.0718, grad=0.0000), Var(v=-0.0625, grad=0.0000), Var(v=0.1228, grad=0.0000), Var(v=-0.0211, grad=0.0000), Var(v=0.0663, grad=0.0000), Var(v=-0.1271, grad=0.0000), Var(v=0.2772, grad=0.0000), Var(v=0.1426, grad=0.0000), Var(v=-0.0708, grad=0.0000), Var(v=0.1306, grad=0.0000), Var(v=-0.0799, grad=0.0000), Var(v=0.0048, grad=0.0000), Var(v=0.0898, grad=0.0000), Var(v=0.0773, grad=0.0000), Var(v=-0.1004, grad=0.0000), Var(v=0.0618, grad=0.0000), Var(v=-0.0944, grad=0.0000), Var(v=0.0366, grad=0.0000), Var(v=0.1507, grad=0.0000), Var(v=0.1888, grad=0.0000), Var(v=-0.1177, grad=0.0000), Var(v=0.1182, grad=0.0000), Var(v=-0.1017, grad=0.0000), Var(v=-0.0070, grad=0.0000), Var(v=-0.0673, grad=0.0000), Var(v=-0.0037, grad=0.0000), Var(v=0.1890, grad=0.0000), Var(v=-0.0036, grad=0.0000), Var(v=-0.0166, grad=0.0000), Var(v=0.0787, grad=0.0000), Var(v=-0.0792, grad=0.0000), Var(v=0.0773, grad=0.0000), Var(v=0.1266, grad=0.0000), Var(v=0.0146, grad=0.0000), Var(v=-0.2590, grad=0.0000)], [Var(v=-0.0195, grad=0.0000), Var(v=-0.0528, grad=0.0000), Var(v=-0.0679, grad=0.0000), Var(v=0.0176, grad=0.0000), Var(v=-0.0199, grad=0.0000), Var(v=0.0731, grad=0.0000), Var(v=0.0232, grad=0.0000), Var(v=0.0518, grad=0.0000), Var(v=0.1591, grad=0.0000), Var(v=0.1263, grad=0.0000), Var(v=-0.0552, grad=0.0000), Var(v=-0.3020, grad=0.0000), Var(v=-0.0473, grad=0.0000), Var(v=0.0378, grad=0.0000), Var(v=-0.1735, grad=0.0000), Var(v=-0.1205, grad=0.0000), Var(v=0.0931, grad=0.0000), Var(v=-0.1440, grad=0.0000), Var(v=-0.1231, grad=0.0000), Var(v=0.0017, grad=0.0000), Var(v=-0.0644, grad=0.0000), Var(v=0.0049, grad=0.0000), Var(v=0.1352, grad=0.0000), Var(v=0.0708, grad=0.0000), Var(v=-0.1532, grad=0.0000), Var(v=-0.0486, grad=0.0000), Var(v=-0.0683, grad=0.0000), Var(v=-0.1061, grad=0.0000), Var(v=0.0976, grad=0.0000), Var(v=0.0044, grad=0.0000), Var(v=0.1474, grad=0.0000), Var(v=-0.0241, grad=0.0000), Var(v=0.0457, grad=0.0000), Var(v=-0.0591, grad=0.0000), Var(v=-0.0748, grad=0.0000), Var(v=-0.1057, grad=0.0000), Var(v=0.0469, grad=0.0000), Var(v=-0.0528, grad=0.0000), Var(v=0.1745, grad=0.0000), Var(v=0.0496, grad=0.0000), Var(v=-0.0579, grad=0.0000), Var(v=0.1014, grad=0.0000), Var(v=0.1214, grad=0.0000), Var(v=0.0408, grad=0.0000), Var(v=-0.0789, grad=0.0000), Var(v=0.0202, grad=0.0000), Var(v=-0.0797, grad=0.0000), Var(v=-0.1961, grad=0.0000), Var(v=-0.0117, grad=0.0000), Var(v=-0.0744, grad=0.0000)]] Biases: [Var(v=-0.0079, grad=0.0000), Var(v=-0.2292, grad=0.0000), Var(v=0.0000, grad=0.0000), Var(v=0.0122, grad=0.0000), Var(v=-0.0068, grad=0.0000), Var(v=0.0000, grad=0.0000), Var(v=0.1266, grad=0.0000), Var(v=-0.0022, grad=0.0000), Var(v=-0.0178, grad=0.0000), Var(v=0.0000, grad=0.0000), Var(v=0.0000, grad=0.0000), Var(v=-0.1095, grad=0.0000), Var(v=-0.0428, grad=0.0000), Var(v=0.0000, grad=0.0000), Var(v=0.0000, grad=0.0000), Var(v=0.0000, grad=0.0000), Var(v=-0.0078, grad=0.0000), Var(v=0.2229, grad=0.0000), Var(v=0.2191, grad=0.0000), Var(v=-0.0026, grad=0.0000), Var(v=-0.1270, grad=0.0000), Var(v=0.2476, grad=0.0000), Var(v=-0.0013, grad=0.0000), Var(v=-0.0190, grad=0.0000), Var(v=-0.0061, grad=0.0000), Var(v=-0.2335, grad=0.0000), Var(v=-0.0053, grad=0.0000), Var(v=-0.0178, grad=0.0000), Var(v=-0.0080, grad=0.0000), Var(v=0.0000, grad=0.0000), Var(v=0.0051, grad=0.0000), Var(v=0.0000, grad=0.0000), Var(v=-0.1239, grad=0.0000), Var(v=-0.0053, grad=0.0000), Var(v=0.0000, grad=0.0000), Var(v=-0.3742, grad=0.0000), Var(v=-0.0280, grad=0.0000), Var(v=0.1536, grad=0.0000), Var(v=0.1718, grad=0.0000), Var(v=0.0371, grad=0.0000), Var(v=-0.1173, grad=0.0000), Var(v=-0.2574, grad=0.0000), Var(v=0.0758, grad=0.0000), Var(v=0.0055, grad=0.0000), Var(v=0.0052, grad=0.0000), Var(v=-0.0146, grad=0.0000), Var(v=-0.2154, grad=0.0000), Var(v=0.0012, grad=0.0000), Var(v=-0.3600, grad=0.0000), Var(v=0.0000, grad=0.0000)]\n",
      "Layer 2 \n",
      " Weights: [[Var(v=-0.0812, grad=0.0000)], [Var(v=-0.0583, grad=0.0000)], [Var(v=-0.0248, grad=0.0000)], [Var(v=-0.0394, grad=0.0000)], [Var(v=-0.1023, grad=0.0000)], [Var(v=-0.0777, grad=0.0000)], [Var(v=0.0573, grad=0.0000)], [Var(v=-0.0845, grad=0.0000)], [Var(v=-0.1925, grad=0.0000)], [Var(v=-0.1829, grad=0.0000)], [Var(v=-0.1806, grad=0.0000)], [Var(v=0.0428, grad=0.0000)], [Var(v=0.0339, grad=0.0000)], [Var(v=-0.0197, grad=0.0000)], [Var(v=-0.1725, grad=0.0000)], [Var(v=0.0239, grad=0.0000)], [Var(v=-0.0997, grad=0.0000)], [Var(v=-0.1307, grad=0.0000)], [Var(v=0.2690, grad=0.0000)], [Var(v=0.1089, grad=0.0000)], [Var(v=-0.0173, grad=0.0000)], [Var(v=-0.2204, grad=0.0000)], [Var(v=0.0207, grad=0.0000)], [Var(v=0.0629, grad=0.0000)], [Var(v=0.0028, grad=0.0000)], [Var(v=-0.0475, grad=0.0000)], [Var(v=-0.0542, grad=0.0000)], [Var(v=-0.2048, grad=0.0000)], [Var(v=-0.1066, grad=0.0000)], [Var(v=0.0132, grad=0.0000)], [Var(v=0.1583, grad=0.0000)], [Var(v=-0.0197, grad=0.0000)], [Var(v=0.0289, grad=0.0000)], [Var(v=-0.1782, grad=0.0000)], [Var(v=-0.1386, grad=0.0000)], [Var(v=-0.0626, grad=0.0000)], [Var(v=-0.1230, grad=0.0000)], [Var(v=0.0955, grad=0.0000)], [Var(v=0.0721, grad=0.0000)], [Var(v=0.0303, grad=0.0000)], [Var(v=0.0064, grad=0.0000)], [Var(v=-0.0982, grad=0.0000)], [Var(v=0.0378, grad=0.0000)], [Var(v=0.1297, grad=0.0000)], [Var(v=0.0916, grad=0.0000)], [Var(v=-0.0738, grad=0.0000)], [Var(v=-0.0147, grad=0.0000)], [Var(v=-0.0004, grad=0.0000)], [Var(v=0.1457, grad=0.0000)], [Var(v=0.0126, grad=0.0000)]] Biases: [Var(v=0.0930, grad=0.0000)]\n"
     ]
    },
    {
     "data": {
      "text/plain": [
       "[None, None, None]"
      ]
     },
     "execution_count": 112,
     "metadata": {},
     "output_type": "execute_result"
    }
   ],
   "source": [
    "print('Network before update:')\n",
    "[print('Layer', i, '\\n', NN[i]) for i in range(len(NN))] \n",
    "\n",
    "def parameters(network):\n",
    "  params = []\n",
    "  for layer in range(len(network)):\n",
    "    params += network[layer].parameters()\n",
    "  return params\n",
    "\n",
    "def update_parameters(params, learning_rate=0.01):\n",
    "  for p in params:\n",
    "    p.v -= learning_rate*p.grad\n",
    "\n",
    "def zero_gradients(params):\n",
    "  for p in params:\n",
    "    p.grad = 0.0\n",
    "\n",
    "update_parameters(parameters(NN))\n",
    "\n",
    "print('\\nNetwork after update:')\n",
    "[print('Layer', i, '\\n', NN[i]) for i in range(len(NN))] \n",
    "\n",
    "zero_gradients(parameters(NN))\n",
    "\n",
    "print('\\nNetwork after zeroing gradients:')\n",
    "[print('Layer', i, '\\n', NN[i]) for i in range(len(NN))] "
   ]
  },
  {
   "cell_type": "code",
   "execution_count": 113,
   "metadata": {
    "id": "woWYpdw6FtIO"
   },
   "outputs": [],
   "source": [
    "# Initialize an arbitrary neural network\n",
    "NN = [\n",
    "    DenseLayer(1, 8, lambda x: x.relu()),\n",
    "    DenseLayer(8, 1, lambda x: x.identity())\n",
    "]\n",
    "\n",
    "# Recommended hyper-parameters for 3-D: \n",
    "#NN = [\n",
    "#    DenseLayer(3, 16, lambda x: x.relu()),\n",
    "#    DenseLayer(16, 1, lambda x: x.identity())\n",
    "#]\n",
    "\n",
    "\n",
    "### Notice that, when we switch from tanh to relu activation, we decrease the learning rate. This is due the stability of the gradients \n",
    "## of the activation functions."
   ]
  },
  {
   "cell_type": "code",
   "execution_count": 114,
   "metadata": {
    "id": "mdqaqYBVFtIR"
   },
   "outputs": [],
   "source": [
    "# Initialize training hyperparameters\n",
    "EPOCHS = 1000\n",
    "LEARN_R = 2e-3 "
   ]
  },
  {
   "cell_type": "code",
   "execution_count": 115,
   "metadata": {
    "colab": {
     "base_uri": "https://localhost:8080/"
    },
    "id": "5kfg76GMFtIW",
    "outputId": "e30cf68a-31f2-42b4-cc5e-860c297c0f04",
    "scrolled": true
   },
   "outputs": [
    {
     "name": "stdout",
     "output_type": "stream",
     "text": [
      "   0 ( 0.00%) Train loss: 299.059 \t Validation loss: 0.000\n",
      "  10 ( 1.00%) Train loss: 34.474 \t Validation loss: 0.000\n",
      "  20 ( 2.00%) Train loss: 419.086 \t Validation loss: 0.000\n",
      "  30 ( 3.00%) Train loss: 339.260 \t Validation loss: 0.000\n",
      "  40 ( 4.00%) Train loss: 307.759 \t Validation loss: 0.000\n",
      "  50 ( 5.00%) Train loss: 224.927 \t Validation loss: 0.000\n",
      "  60 ( 6.00%) Train loss: 194.002 \t Validation loss: 0.000\n",
      "  70 ( 7.00%) Train loss: 199.593 \t Validation loss: 0.000\n",
      "  80 ( 8.00%) Train loss: 209.039 \t Validation loss: 0.000\n",
      "  90 ( 9.00%) Train loss: 209.784 \t Validation loss: 0.000\n",
      " 100 (10.00%) Train loss: 207.016 \t Validation loss: 0.000\n",
      " 110 (11.00%) Train loss: 204.949 \t Validation loss: 0.000\n",
      " 120 (12.00%) Train loss: 202.357 \t Validation loss: 0.000\n",
      " 130 (13.00%) Train loss: 201.541 \t Validation loss: 0.000\n",
      " 140 (14.00%) Train loss: 199.611 \t Validation loss: 0.000\n",
      " 150 (15.00%) Train loss: 198.684 \t Validation loss: 0.000\n",
      " 160 (16.00%) Train loss: 196.471 \t Validation loss: 0.000\n",
      " 170 (17.00%) Train loss: 194.990 \t Validation loss: 0.000\n",
      " 180 (18.00%) Train loss: 194.044 \t Validation loss: 0.000\n",
      " 190 (19.00%) Train loss: 192.531 \t Validation loss: 0.000\n",
      " 200 (20.00%) Train loss: 191.820 \t Validation loss: 0.000\n",
      " 210 (21.00%) Train loss: 190.406 \t Validation loss: 0.000\n",
      " 220 (22.00%) Train loss: 189.823 \t Validation loss: 0.000\n",
      " 230 (23.00%) Train loss: 188.930 \t Validation loss: 0.000\n",
      " 240 (24.00%) Train loss: 188.409 \t Validation loss: 0.000\n",
      " 250 (25.00%) Train loss: 187.930 \t Validation loss: 0.000\n",
      " 260 (26.00%) Train loss: 187.791 \t Validation loss: 0.000\n",
      " 270 (27.00%) Train loss: 186.363 \t Validation loss: 0.000\n",
      " 280 (28.00%) Train loss: 186.108 \t Validation loss: 0.000\n",
      " 290 (29.00%) Train loss: 185.918 \t Validation loss: 0.000\n",
      " 300 (30.00%) Train loss: 185.622 \t Validation loss: 0.000\n",
      " 310 (31.00%) Train loss: 184.867 \t Validation loss: 0.000\n",
      " 320 (32.00%) Train loss: 185.072 \t Validation loss: 0.000\n",
      " 330 (33.00%) Train loss: 183.605 \t Validation loss: 0.000\n",
      " 340 (34.00%) Train loss: 183.193 \t Validation loss: 0.000\n",
      " 350 (35.00%) Train loss: 181.924 \t Validation loss: 0.000\n",
      " 360 (36.00%) Train loss: 182.599 \t Validation loss: 0.000\n",
      " 370 (37.00%) Train loss: 182.716 \t Validation loss: 0.000\n",
      " 380 (38.00%) Train loss: 182.617 \t Validation loss: 0.000\n",
      " 390 (39.00%) Train loss: 182.328 \t Validation loss: 0.000\n",
      " 400 (40.00%) Train loss: 180.551 \t Validation loss: 0.000\n",
      " 410 (41.00%) Train loss: 180.281 \t Validation loss: 0.000\n",
      " 420 (42.00%) Train loss: 179.983 \t Validation loss: 0.000\n",
      " 430 (43.00%) Train loss: 179.118 \t Validation loss: 0.000\n",
      " 440 (44.00%) Train loss: 178.610 \t Validation loss: 0.000\n",
      " 450 (45.00%) Train loss: 178.318 \t Validation loss: 0.000\n",
      " 460 (46.00%) Train loss: 177.945 \t Validation loss: 0.000\n",
      " 470 (47.00%) Train loss: 177.342 \t Validation loss: 0.000\n",
      " 480 (48.00%) Train loss: 176.849 \t Validation loss: 0.000\n",
      " 490 (49.00%) Train loss: 176.306 \t Validation loss: 0.000\n",
      " 500 (50.00%) Train loss: 175.515 \t Validation loss: 0.000\n",
      " 510 (51.00%) Train loss: 174.568 \t Validation loss: 0.000\n",
      " 520 (52.00%) Train loss: 174.673 \t Validation loss: 0.000\n",
      " 530 (53.00%) Train loss: 173.794 \t Validation loss: 0.000\n",
      " 540 (54.00%) Train loss: 173.426 \t Validation loss: 0.000\n",
      " 550 (55.00%) Train loss: 172.817 \t Validation loss: 0.000\n",
      " 560 (56.00%) Train loss: 171.809 \t Validation loss: 0.000\n",
      " 570 (57.00%) Train loss: 171.584 \t Validation loss: 0.000\n",
      " 580 (58.00%) Train loss: 171.183 \t Validation loss: 0.000\n",
      " 590 (59.00%) Train loss: 170.876 \t Validation loss: 0.000\n",
      " 600 (60.00%) Train loss: 170.335 \t Validation loss: 0.000\n",
      " 610 (61.00%) Train loss: 170.533 \t Validation loss: 0.000\n",
      " 620 (62.00%) Train loss: 170.218 \t Validation loss: 0.000\n",
      " 630 (63.00%) Train loss: 169.800 \t Validation loss: 0.000\n",
      " 640 (64.00%) Train loss: 169.692 \t Validation loss: 0.000\n",
      " 650 (65.00%) Train loss: 169.596 \t Validation loss: 0.000\n",
      " 660 (66.00%) Train loss: 169.238 \t Validation loss: 0.000\n",
      " 670 (67.00%) Train loss: 169.126 \t Validation loss: 0.000\n",
      " 680 (68.00%) Train loss: 169.060 \t Validation loss: 0.000\n",
      " 690 (69.00%) Train loss: 169.006 \t Validation loss: 0.000\n",
      " 700 (70.00%) Train loss: 168.967 \t Validation loss: 0.000\n",
      " 710 (71.00%) Train loss: 168.925 \t Validation loss: 0.000\n",
      " 720 (72.00%) Train loss: 168.799 \t Validation loss: 0.000\n",
      " 730 (73.00%) Train loss: 168.648 \t Validation loss: 0.000\n",
      " 740 (74.00%) Train loss: 168.584 \t Validation loss: 0.000\n",
      " 750 (75.00%) Train loss: 168.541 \t Validation loss: 0.000\n",
      " 760 (76.00%) Train loss: 168.505 \t Validation loss: 0.000\n",
      " 770 (77.00%) Train loss: 168.334 \t Validation loss: 0.000\n",
      " 780 (78.00%) Train loss: 168.312 \t Validation loss: 0.000\n",
      " 790 (79.00%) Train loss: 168.278 \t Validation loss: 0.000\n",
      " 800 (80.00%) Train loss: 168.247 \t Validation loss: 0.000\n",
      " 810 (81.00%) Train loss: 168.218 \t Validation loss: 0.000\n",
      " 820 (82.00%) Train loss: 168.165 \t Validation loss: 0.000\n",
      " 830 (83.00%) Train loss: 168.258 \t Validation loss: 0.000\n",
      " 840 (84.00%) Train loss: 167.956 \t Validation loss: 0.000\n",
      " 850 (85.00%) Train loss: 168.027 \t Validation loss: 0.000\n",
      " 860 (86.00%) Train loss: 167.237 \t Validation loss: 0.000\n",
      " 870 (87.00%) Train loss: 167.928 \t Validation loss: 0.000\n",
      " 880 (88.00%) Train loss: 167.696 \t Validation loss: 0.000\n",
      " 890 (89.00%) Train loss: 167.479 \t Validation loss: 0.000\n",
      " 900 (90.00%) Train loss: 167.597 \t Validation loss: 0.000\n",
      " 910 (91.00%) Train loss: 167.581 \t Validation loss: 0.000\n",
      " 920 (92.00%) Train loss: 167.563 \t Validation loss: 0.000\n",
      " 930 (93.00%) Train loss: 167.551 \t Validation loss: 0.000\n",
      " 940 (94.00%) Train loss: 167.365 \t Validation loss: 0.000\n",
      " 950 (95.00%) Train loss: 167.379 \t Validation loss: 0.000\n",
      " 960 (96.00%) Train loss: 167.131 \t Validation loss: 0.000\n",
      " 970 (97.00%) Train loss: 167.030 \t Validation loss: 0.000\n",
      " 980 (98.00%) Train loss: 167.279 \t Validation loss: 0.000\n",
      " 990 (99.00%) Train loss: 167.089 \t Validation loss: 0.000\n"
     ]
    }
   ],
   "source": [
    "train_loss = []\n",
    "val_loss = []\n",
    "\n",
    "for e in range(EPOCHS):\n",
    "     \n",
    "    # Forward pass and loss computation\n",
    "    Loss = squared_loss(y_train, forward(x_train, NN))\n",
    "\n",
    "    # Backward pass\n",
    "    Loss.backward()\n",
    "    \n",
    "    # gradient descent update\n",
    "    update_parameters(parameters(NN), LEARN_R)\n",
    "    zero_gradients(parameters(NN))\n",
    "    \n",
    "    # Training loss\n",
    "    train_loss.append(Loss.v)\n",
    "    \n",
    "    # Validation\n",
    "    Loss_validation = squared_loss(y_validation, forward(x_validation, NN))\n",
    "    val_loss.append(Loss_validation.v)\n",
    "    \n",
    "    if e%10==0:\n",
    "        print(\"{:4d}\".format(e),\n",
    "              \"({:5.2f}%)\".format(e/EPOCHS*100), \n",
    "              \"Train loss: {:4.3f} \\t Validation loss: {:4.3f}\".format(train_loss[-1], val_loss[-1]))\n",
    "        \n"
   ]
  },
  {
   "cell_type": "code",
   "execution_count": 116,
   "metadata": {
    "colab": {
     "base_uri": "https://localhost:8080/",
     "height": 265
    },
    "id": "VetyRWFwFtIY",
    "outputId": "344e490d-6d7d-455a-fa6f-88dd11eb957e"
   },
   "outputs": [
    {
     "data": {
      "image/png": "[encoded data removed]",
      "text/plain": [
       "<Figure size 640x480 with 1 Axes>"
      ]
     },
     "metadata": {},
     "output_type": "display_data"
    }
   ],
   "source": [
    "plt.plot(range(len(train_loss)), train_loss);\n",
    "plt.plot(range(len(val_loss)), val_loss);"
   ]
  },
  {
   "cell_type": "markdown",
   "metadata": {
    "id": "8OgmIrM9FtIb"
   },
   "source": [
    "# Testing\n",
    "\n",
    "We have kept the calculation of the test error separate in order to emphasize that you should not use the test set in optimization."
   ]
  },
  {
   "cell_type": "code",
   "execution_count": 117,
   "metadata": {
    "id": "HmNi7S-vFtIc"
   },
   "outputs": [],
   "source": [
    "output_test = forward(x_test, NN)"
   ]
  },
  {
   "cell_type": "code",
   "execution_count": 118,
   "metadata": {
    "colab": {
     "base_uri": "https://localhost:8080/",
     "height": 316
    },
    "id": "7mmJOTSEFtIf",
    "outputId": "e3264095-cefe-4aee-893d-bf152438e332"
   },
   "outputs": [
    {
     "name": "stdout",
     "output_type": "stream",
     "text": [
      "Test loss:  4.440\n"
     ]
    },
    {
     "data": {
      "image/png": "[encoded data removed]",
      "text/plain": [
       "<Figure size 640x480 with 1 Axes>"
      ]
     },
     "metadata": {},
     "output_type": "display_data"
    }
   ],
   "source": [
    "y_test_np = Var_to_nparray(y_test)\n",
    "plt.scatter(y_test_np, Var_to_nparray(output_test));\n",
    "plt.plot([np.min(y_test_np), np.max(y_test_np)], [np.min(y_test_np), np.max(y_test_np)], color='k');\n",
    "plt.xlabel(\"y\");\n",
    "plt.ylabel(\"$\\hat{y}$\");\n",
    "plt.title(\"Model prediction vs real in the test set, the close to the line the better\")\n",
    "plt.grid(True);\n",
    "plt.axis('equal');\n",
    "plt.tight_layout();\n",
    "\n",
    "Loss_test = squared_loss(y_test, forward(x_test, NN))\n",
    "\n",
    "print(\"Test loss:  {:4.3f}\".format(Loss_test.v))"
   ]
  },
  {
   "cell_type": "code",
   "execution_count": 119,
   "metadata": {
    "colab": {
     "base_uri": "https://localhost:8080/",
     "height": 279
    },
    "id": "ODi0WlmQFtIh",
    "outputId": "d1ab874f-0717-4987-87bf-1f0c7c8e7148"
   },
   "outputs": [
    {
     "data": {
      "image/png": "[encoded data removed]",
      "text/plain": [
       "<Figure size 640x480 with 1 Axes>"
      ]
     },
     "metadata": {},
     "output_type": "display_data"
    }
   ],
   "source": [
    "x_test_np = Var_to_nparray(x_test)\n",
    "x_train_np = Var_to_nparray(x_train)\n",
    "y_train_np = Var_to_nparray(y_train)\n",
    "if D1:\n",
    "    plt.scatter(x_train_np, y_train_np, label=\"train data\");\n",
    "    plt.scatter(x_test_np, Var_to_nparray(output_test), label=\"test prediction\");\n",
    "    plt.scatter(x_test_np, y_test_np, label=\"test data\");\n",
    "    plt.legend();\n",
    "    plt.xlabel(\"x\");\n",
    "    plt.ylabel(\"y\");\n",
    "else:\n",
    "    plt.scatter(x_train_np[:,1], y_train, label=\"train data\");\n",
    "    plt.scatter(x_test_np[:,1], Var_to_nparray(output_test), label=\"test data prediction\");\n",
    "    plt.scatter(x_test_np[:,1], y_test_np, label=\"test data\");\n",
    "    plt.legend();\n",
    "    plt.xlabel(\"x\");\n",
    "    plt.ylabel(\"y\");"
   ]
  },
  {
   "cell_type": "markdown",
   "metadata": {
    "id": "zTBAmjsAFtIk"
   },
   "source": [
    "## Exercise l) Show overfitting, underfitting and just right fitting\n",
    "\n",
    "Vary the architecture and other things to show clear signs of overfitting (=training loss significantly lower than test loss) and underfitting (=not fitting enoung to training data so that test performance is also hurt).\n",
    "\n",
    "See also if you can get a good compromise which leads to a low validation loss. \n",
    "\n",
    "For this problem do you see any big difference between validation and test loss? The answer here will probably be no. Discuss cases where it is important to keep the two separate.\n",
    "\n",
    "_Insert written answer here._\n"
   ]
  },
  {
   "cell_type": "code",
   "execution_count": 120,
   "metadata": {
    "id": "tQZCn2dxFtIl"
   },
   "outputs": [],
   "source": [
    "# Insert your code for getting overfitting, underfitting and just right fitting"
   ]
  },
  {
   "cell_type": "markdown",
   "metadata": {
    "id": "fYPZP-eTFtIo"
   },
   "source": [
    "# Next steps - classification\n",
    "\n",
    "It is straight forward to extend what we have done to classification. \n",
    "\n",
    "For numerical stability it is better to make softmax and cross-entropy as one function so we write the cross entropy loss as a function of the logits we talked about last week. \n",
    "\n",
    "Next week we will see how to perform classification in PyTorch."
   ]
  },
  {
   "cell_type": "markdown",
   "metadata": {
    "id": "qsVPul3QFtIo"
   },
   "source": [
    "## Exercise m) optional - Implement backpropagation for classification\n",
    "\n",
    "Should be possible with very few lines of code. :-)"
   ]
  },
  {
   "cell_type": "code",
   "execution_count": 121,
   "metadata": {
    "id": "oC8QrI2tFtIp"
   },
   "outputs": [],
   "source": [
    "# Just add code."
   ]
  },
  {
   "cell_type": "markdown",
   "metadata": {
    "id": "APqhJv3tta1O"
   },
   "source": [
    "## Exercise n) optional - Introduce a NeuralNetwork class\n",
    "\n",
    "The functions we applied on the neural network (parameters, update_parameters and zero_gradients) can more naturally be included as methods in a NeuralNetwork class. Make such a class and modify the code to use it. "
   ]
  },
  {
   "cell_type": "code",
   "execution_count": 122,
   "metadata": {
    "id": "Dqfnor1ouMLq"
   },
   "outputs": [],
   "source": [
    "# just add some code"
   ]
  }
 ],
 "metadata": {
  "anaconda-cloud": {},
  "colab": {
   "collapsed_sections": [
    "U4057_ljNvWB",
    "p_8n_SKnIW2F",
    "oLrGJytZFtGm",
    "jpIZPBpNI0pO",
    "_79HOAXrFtHK",
    "mqeyab9qFtGs",
    "-XyXBD37FtHk",
    "SrwSJ2UWFtHu",
    "zTBAmjsAFtIk",
    "qsVPul3QFtIo",
    "APqhJv3tta1O"
   ],
   "name": "2.1-EXE-FNN-AutoDif-Nanograd.ipynb",
   "provenance": []
  },
  "kernelspec": {
   "display_name": "Python 3",
   "language": "python",
   "name": "python3"
  },
  "language_info": {
   "codemirror_mode": {
    "name": "ipython",
    "version": 3
   },
   "file_extension": ".py",
   "mimetype": "text/x-python",
   "name": "python",
   "nbconvert_exporter": "python",
   "pygments_lexer": "ipython3",
   "version": "3.10.7"
  }
 },
 "nbformat": 4,
 "nbformat_minor": 1
}
