{
 "cells": [
  {
   "cell_type": "markdown",
   "metadata": {
    "id": "HAva8TnYFtFu"
   },
   "source": [
    "# Contents and why we need this lab\n",
    "\n",
    "This lab is about implementing neural networks yourself before we start using other frameworks that hide some of the computation from you. It builds on the first lab, where you derived the equations for neural network forward and backward propagation and gradient descent parameter updates. \n",
    "\n",
    "All the frameworks for deep learning you will meet from now on use automatic differentiation (autodiff), so you do not have to code the backward step yourself. In this version of this lab, you will develop your own autodif implementation. We also have an optional [version](https://github.com/DeepLearningDTU/02456-deep-learning-with-PyTorch/blob/master/2_Feedforward_Python/2.2-FNN-NumPy.ipynb) of this lab where you have to code the backward pass explicitly in Numpy."
   ]
  },
  {
   "cell_type": "markdown",
   "metadata": {
    "id": "sCa7HzwpFtFy"
   },
   "source": [
    "# External sources of information\n",
    "\n",
    "1. Jupyter notebook. You can find more information about Jupyter notebooks [here](https://jupyter.org/). It will come as part of the [Anaconda](https://www.anaconda.com/) Python installation. \n",
    "2. [NumPy](https://numpy.org/). Part of Anaconda distribution.  If you already know how to program, most things about Python and NumPy can be found with Google searches.\n",
    "3. [Nanograd](https://github.com/rasmusbergpalm/nanograd) is a minimalistic version of autodiff developed by Rasmus Berg Palm that we use for our framework.\n"
   ]
  },
  {
   "cell_type": "markdown",
   "metadata": {
    "id": "1SjiIp-TFtF0"
   },
   "source": [
    "# This notebook will follow the next steps:\n",
    "\n",
    "1. Nanograd automatic differentiation framework\n",
    "2. Finite difference method\n",
    "3. Data generation\n",
    "4. Defining and initializing the network\n",
    "5. Forward pass\n",
    "6. Training loop \n",
    "7. Testing your model\n",
    "8. Further extensions"
   ]
  },
  {
   "cell_type": "markdown",
   "metadata": {
    "id": "OyXeAA-HuT7s"
   },
   "source": [
    "# Nanograd automatic differention framework"
   ]
  },
  {
   "cell_type": "markdown",
   "metadata": {
    "id": "k6UWKCLKubgA"
   },
   "source": [
    "The [Nanograd](https://github.com/rasmusbergpalm/nanograd) framework defines a class Var which both holds a value and gradient value that we can use to store the intermediate values when we apply the chain rule of differentiation."
   ]
  },
  {
   "cell_type": "code",
   "execution_count": 1,
   "metadata": {
    "id": "Jd4CoEBNzNWS"
   },
   "outputs": [],
   "source": [
    "# Copy and pasted from https://github.com/rasmusbergpalm/nanograd/blob/3a1bf9e9e724da813bfccf91a6f309abdade9f39/nanograd.py\n",
    "\n",
    "from math import exp, log, tanh, exp\n",
    "\n",
    "class Var:\n",
    "    \"\"\"\n",
    "    A variable which holds a float and enables gradient computations.\n",
    "    \"\"\"\n",
    "\n",
    "    def __init__(self, val: float, grad_fn=lambda: []):\n",
    "        assert type(val) == float\n",
    "        self.v = val\n",
    "        self.grad_fn = grad_fn\n",
    "        self.grad = 0.0\n",
    "\n",
    "    def backprop(self, bp):\n",
    "        self.grad += bp\n",
    "        for input, grad in self.grad_fn():\n",
    "            input.backprop(grad * bp)\n",
    "\n",
    "    def backward(self):\n",
    "        self.backprop(1.0)\n",
    "\n",
    "    def __add__(self: 'Var', other: 'Var') -> 'Var':\n",
    "        return Var(self.v + other.v, lambda: [(self, 1.0), (other, 1.0)])\n",
    "\n",
    "    def __mul__(self: 'Var', other: 'Var') -> 'Var':\n",
    "        return Var(self.v * other.v, lambda: [(self, other.v), (other, self.v)])\n",
    "\n",
    "    def __pow__(self, power):\n",
    "        assert type(power) in {float, int}, \"power must be float or int\"\n",
    "        return Var(self.v ** power, lambda: [(self, power * self.v ** (power - 1))])\n",
    "\n",
    "    def __neg__(self: 'Var') -> 'Var':\n",
    "        return Var(-1.0) * self\n",
    "\n",
    "    def __sub__(self: 'Var', other: 'Var') -> 'Var':\n",
    "        return self + (-other)\n",
    "\n",
    "    def __truediv__(self: 'Var', other: 'Var') -> 'Var':\n",
    "        return self * other ** -1\n",
    "\n",
    "    def __repr__(self):\n",
    "        return \"Var(v=%.4f, grad=%.4f)\" % (self.v, self.grad)\n",
    "\n",
    "    def relu(self):\n",
    "        return Var(self.v if self.v > 0.0 else 0.0, lambda: [(self, 1.0 if self.v > 0.0 else 0.0)])\n",
    "    \n",
    "    def identity(self):\n",
    "        return Var(self.v, lambda: [(self, 1.0)])\n",
    "\n",
    "    def tanh(self):\n",
    "        return Var(tanh(self.v), lambda: [(self, 1 - tanh(self.v) ** 2)])\n",
    "\n",
    "    def sigmoid(self):\n",
    "        s = 1 / ( 1 + exp(-self.v))\n",
    "        return Var(s, lambda: [(self, s * (1 - s))])"
   ]
  },
  {
   "cell_type": "markdown",
   "metadata": {
    "id": "yDX67D6jzcte"
   },
   "source": [
    "A few examples illustrate how we can use this:"
   ]
  },
  {
   "cell_type": "code",
   "execution_count": 2,
   "metadata": {
    "colab": {
     "base_uri": "https://localhost:8080/"
    },
    "id": "xk6PeLc3zwPT",
    "outputId": "47e431b2-07ba-4cb1-ea21-997769641c67"
   },
   "outputs": [
    {
     "name": "stdout",
     "output_type": "stream",
     "text": [
      "Var(v=3.0000, grad=5.0000)\n",
      "Var(v=5.0000, grad=3.0000)\n",
      "Var(v=15.0000, grad=1.0000)\n"
     ]
    }
   ],
   "source": [
    "a = Var(3.0)\n",
    "b = Var(5.0)\n",
    "f = a * b\n",
    "\n",
    "f.backward()\n",
    "\n",
    "for v in [a, b, f]:\n",
    "    print(v)"
   ]
  },
  {
   "cell_type": "code",
   "execution_count": 3,
   "metadata": {
    "colab": {
     "base_uri": "https://localhost:8080/"
    },
    "id": "JmKhYgsY0g_o",
    "outputId": "06c1b1df-c33c-40d3-922a-624612a591c7"
   },
   "outputs": [
    {
     "name": "stdout",
     "output_type": "stream",
     "text": [
      "Var(v=3.0000, grad=14.0000)\n",
      "Var(v=5.0000, grad=3.0000)\n",
      "Var(v=15.0000, grad=1.0000)\n",
      "Var(v=9.0000, grad=3.0000)\n",
      "Var(v=27.0000, grad=1.0000)\n",
      "Var(v=42.0000, grad=1.0000)\n"
     ]
    }
   ],
   "source": [
    "a = Var(3.0)\n",
    "b = Var(5.0)\n",
    "c = a * b\n",
    "d = Var(9.0)\n",
    "e = a * d\n",
    "f = c + e\n",
    "\n",
    "f.backward()\n",
    "\n",
    "for v in [a, b, c, d, e, f]:\n",
    "    print(v)"
   ]
  },
  {
   "cell_type": "markdown",
   "metadata": {
    "id": "Fe3B6uEH140p"
   },
   "source": [
    "## Exercise a) What is being calculated?\n",
    "\n",
    "Explain briefly the output of the code? What is the expression we differentiate and with respect to what variables?\n",
    "\n",
    "## Answer\n",
    "\n",
    "The code outputs each variable along with it's gradient. It does this in a loop. For example let us look at the second example with 6 variables (a, b, c, d, e, f). The very first line output (Var(v=3.0000, grad=14.0000)) indicates 'a' and its gradient:\n",
    "\n",
    "Let's see how this makes sense. In the second example we have:\n",
    "\n",
    "$$ f = c + e = a \\cdot b + a \\cdot d $$\n",
    "\n",
    "If we differentiate $f$ w.r.t. $a$ then we get the following:\n",
    "\n",
    "$$ \\frac{\\partial f}{\\partial a} = b + d = 5 + 9 = 14 $$\n",
    "\n",
    "And this is exactly what the first line of the second output shows. It shows the variable $a$ and it's gradient which is $\\frac{\\partial f}{\\partial a} = 14$. The second line of the output shows the variable $b$ and its gradient, the third line shows the variable $c$ and its gradient and etc...\n"
   ]
  },
  {
   "cell_type": "markdown",
   "metadata": {
    "id": "q8_Q0t2I3Ruj"
   },
   "source": [
    "## Exercise b) How does the backward function work?\n",
    "\n",
    "You need to understand how the backward function calculates the gradients. We can use the two examples above to help with that.\n",
    "\n",
    "Go through the following four steps and answer the questions on the way:\n",
    "\n",
    "1. We represent the two expressions as graphs as shown below. Fill in the missing expressions for the different derivatives.\n",
    "\n",
    "2. In the remainder consider the first expression. Make a schematic of the data structure which is generated when we define the expression for f. \n",
    "\n",
    "3. Then execute the backward function by hand to convince yourself that it indeed calculates the gradients with respect to the variables. \n",
    "\n",
    "4. Write down the sequence of calls to backprop."
   ]
  },
  {
   "cell_type": "code",
   "execution_count": 4,
   "metadata": {
    "id": "idGr71jYXl26"
   },
   "outputs": [
    {
     "data": {
      "text/plain": [
       "('0.20.1', (8, 1, 0))"
      ]
     },
     "execution_count": 4,
     "metadata": {},
     "output_type": "execute_result"
    }
   ],
   "source": [
    "#import logging\n",
    "import graphviz\n",
    "\n",
    "#logging.basicConfig(format='[%(levelname)s@%(name)s] %(message)s', level=logging.DEBUG)\n",
    "\n",
    "graphviz.__version__, graphviz.version()\n"
   ]
  },
  {
   "cell_type": "code",
   "execution_count": 5,
   "metadata": {
    "colab": {
     "base_uri": "https://localhost:8080/",
     "height": 152
    },
    "id": "KPe30Q2QXzeG",
    "outputId": "7fa002cd-a018-4dbb-ddf1-28ed5e99ee19"
   },
   "outputs": [
    {
     "data": {
      "image/svg+xml": [
       "<?xml version=\"1.0\" encoding=\"UTF-8\" standalone=\"no\"?>\n",
       "<!DOCTYPE svg PUBLIC \"-//W3C//DTD SVG 1.1//EN\"\n",
       " \"http://www.w3.org/Graphics/SVG/1.1/DTD/svg11.dtd\">\n",
       "<!-- Generated by graphviz version 8.1.0 (20230707.0739)\n",
       " -->\n",
       "<!-- Title: first expression Pages: 1 -->\n",
       "<svg width=\"220pt\" height=\"126pt\"\n",
       " viewBox=\"0.00 0.00 220.43 126.23\" xmlns=\"http://www.w3.org/2000/svg\" xmlns:xlink=\"http://www.w3.org/1999/xlink\">\n",
       "<g id=\"graph0\" class=\"graph\" transform=\"scale(1 1) rotate(0) translate(4 122.23)\">\n",
       "<title>first expression</title>\n",
       "<polygon fill=\"white\" stroke=\"none\" points=\"-4,4 -4,-122.23 216.43,-122.23 216.43,4 -4,4\"/>\n",
       "<!-- a=3 -->\n",
       "<g id=\"node1\" class=\"node\">\n",
       "<title>a=3</title>\n",
       "<ellipse fill=\"none\" stroke=\"black\" cx=\"25.62\" cy=\"-93.62\" rx=\"24.62\" ry=\"24.62\"/>\n",
       "<text text-anchor=\"middle\" x=\"25.62\" y=\"-88.19\" font-family=\"Times New Roman,serif\" font-size=\"14.00\">a=3</text>\n",
       "</g>\n",
       "<!-- f=a*b -->\n",
       "<g id=\"node2\" class=\"node\">\n",
       "<title>f=a*b</title>\n",
       "<ellipse fill=\"none\" stroke=\"black\" cx=\"179.83\" cy=\"-59.62\" rx=\"32.6\" ry=\"32.6\"/>\n",
       "<text text-anchor=\"middle\" x=\"179.83\" y=\"-54.19\" font-family=\"Times New Roman,serif\" font-size=\"14.00\">f=a*b</text>\n",
       "</g>\n",
       "<!-- a=3&#45;&gt;f=a*b -->\n",
       "<g id=\"edge1\" class=\"edge\">\n",
       "<title>a=3&#45;&gt;f=a*b</title>\n",
       "<path fill=\"none\" stroke=\"black\" d=\"M50.07,-88.38C73.18,-83.21 109.01,-75.21 137.01,-68.96\"/>\n",
       "<polygon fill=\"black\" stroke=\"black\" points=\"137.71,-72.16 146.7,-66.57 136.18,-65.33 137.71,-72.16\"/>\n",
       "<text text-anchor=\"middle\" x=\"99.23\" y=\"-85.07\" font-family=\"Times New Roman,serif\" font-size=\"14.00\">df/da=b=5</text>\n",
       "</g>\n",
       "<!-- b=5 -->\n",
       "<g id=\"node3\" class=\"node\">\n",
       "<title>b=5</title>\n",
       "<ellipse fill=\"none\" stroke=\"black\" cx=\"25.62\" cy=\"-25.62\" rx=\"25.62\" ry=\"25.62\"/>\n",
       "<text text-anchor=\"middle\" x=\"25.62\" y=\"-20.19\" font-family=\"Times New Roman,serif\" font-size=\"14.00\">b=5</text>\n",
       "</g>\n",
       "<!-- b=5&#45;&gt;f=a*b -->\n",
       "<g id=\"edge2\" class=\"edge\">\n",
       "<title>b=5&#45;&gt;f=a*b</title>\n",
       "<path fill=\"none\" stroke=\"black\" d=\"M51.07,-31.08C74.22,-36.25 109.44,-44.11 137.04,-50.28\"/>\n",
       "<polygon fill=\"black\" stroke=\"black\" points=\"136.06,-53.87 146.58,-52.63 137.58,-47.04 136.06,-53.87\"/>\n",
       "<text text-anchor=\"middle\" x=\"99.23\" y=\"-51.07\" font-family=\"Times New Roman,serif\" font-size=\"14.00\">df/db=a=3</text>\n",
       "</g>\n",
       "</g>\n",
       "</svg>\n"
      ],
      "text/plain": [
       "<graphviz.graphs.Digraph at 0x28750ede2e0>"
      ]
     },
     "execution_count": 5,
     "metadata": {},
     "output_type": "execute_result"
    }
   ],
   "source": [
    "e1 = graphviz.Digraph('first expression', filename='fsm.gv')\n",
    "\n",
    "e1.attr(rankdir='LR', size='8,5')\n",
    "\n",
    "e1.attr('node', shape='circle')\n",
    "e1.edge('a=3', 'f=a*b', label='df/da=b=5')\n",
    "e1.edge('b=5', 'f=a*b', label='df/db=a=3')\n",
    "\n",
    "e1"
   ]
  },
  {
   "cell_type": "code",
   "execution_count": 6,
   "metadata": {
    "colab": {
     "base_uri": "https://localhost:8080/",
     "height": 232
    },
    "id": "0nittR-mZFeX",
    "outputId": "fa3656a3-732c-4abe-8084-98a492b0d6be"
   },
   "outputs": [
    {
     "data": {
      "image/svg+xml": [
       "<?xml version=\"1.0\" encoding=\"UTF-8\" standalone=\"no\"?>\n",
       "<!DOCTYPE svg PUBLIC \"-//W3C//DTD SVG 1.1//EN\"\n",
       " \"http://www.w3.org/Graphics/SVG/1.1/DTD/svg11.dtd\">\n",
       "<!-- Generated by graphviz version 8.1.0 (20230707.0739)\n",
       " -->\n",
       "<!-- Title: second expression Pages: 1 -->\n",
       "<svg width=\"340pt\" height=\"195pt\"\n",
       " viewBox=\"0.00 0.00 339.66 195.23\" xmlns=\"http://www.w3.org/2000/svg\" xmlns:xlink=\"http://www.w3.org/1999/xlink\">\n",
       "<g id=\"graph0\" class=\"graph\" transform=\"scale(1 1) rotate(0) translate(4 191.23)\">\n",
       "<title>second expression</title>\n",
       "<polygon fill=\"white\" stroke=\"none\" points=\"-4,4 -4,-191.23 335.66,-191.23 335.66,4 -4,4\"/>\n",
       "<!-- a=3 -->\n",
       "<g id=\"node1\" class=\"node\">\n",
       "<title>a=3</title>\n",
       "<ellipse fill=\"none\" stroke=\"black\" cx=\"25.62\" cy=\"-93.62\" rx=\"24.62\" ry=\"24.62\"/>\n",
       "<text text-anchor=\"middle\" x=\"25.62\" y=\"-88.19\" font-family=\"Times New Roman,serif\" font-size=\"14.00\">a=3</text>\n",
       "</g>\n",
       "<!-- c=15 -->\n",
       "<g id=\"node2\" class=\"node\">\n",
       "<title>c=15</title>\n",
       "<ellipse fill=\"none\" stroke=\"black\" cx=\"164.84\" cy=\"-131.62\" rx=\"29.61\" ry=\"29.61\"/>\n",
       "<text text-anchor=\"middle\" x=\"164.84\" y=\"-126.19\" font-family=\"Times New Roman,serif\" font-size=\"14.00\">c=15</text>\n",
       "</g>\n",
       "<!-- a=3&#45;&gt;c=15 -->\n",
       "<g id=\"edge1\" class=\"edge\">\n",
       "<title>a=3&#45;&gt;c=15</title>\n",
       "<path fill=\"none\" stroke=\"black\" d=\"M49.58,-99.98C70.32,-105.72 101.23,-114.28 125.68,-121.05\"/>\n",
       "<polygon fill=\"black\" stroke=\"black\" points=\"124.48,-124.63 135.05,-123.92 126.35,-117.88 124.48,-124.63\"/>\n",
       "<text text-anchor=\"middle\" x=\"93.23\" y=\"-121.07\" font-family=\"Times New Roman,serif\" font-size=\"14.00\">dc/da=5</text>\n",
       "</g>\n",
       "<!-- e=27 -->\n",
       "<g id=\"node4\" class=\"node\">\n",
       "<title>e=27</title>\n",
       "<ellipse fill=\"none\" stroke=\"black\" cx=\"164.84\" cy=\"-54.62\" rx=\"29.11\" ry=\"29.11\"/>\n",
       "<text text-anchor=\"middle\" x=\"164.84\" y=\"-49.19\" font-family=\"Times New Roman,serif\" font-size=\"14.00\">e=27</text>\n",
       "</g>\n",
       "<!-- a=3&#45;&gt;e=27 -->\n",
       "<g id=\"edge3\" class=\"edge\">\n",
       "<title>a=3&#45;&gt;e=27</title>\n",
       "<path fill=\"none\" stroke=\"black\" d=\"M49.58,-87.09C70.45,-81.16 101.63,-72.29 126.15,-65.33\"/>\n",
       "<polygon fill=\"black\" stroke=\"black\" points=\"126.88,-68.47 135.54,-62.37 124.96,-61.74 126.88,-68.47\"/>\n",
       "<text text-anchor=\"middle\" x=\"93.23\" y=\"-84.07\" font-family=\"Times New Roman,serif\" font-size=\"14.00\">de/da=9</text>\n",
       "</g>\n",
       "<!-- f=42 -->\n",
       "<g id=\"node6\" class=\"node\">\n",
       "<title>f=42</title>\n",
       "<ellipse fill=\"none\" stroke=\"black\" cx=\"303.55\" cy=\"-92.62\" rx=\"28.11\" ry=\"28.11\"/>\n",
       "<text text-anchor=\"middle\" x=\"303.55\" y=\"-87.19\" font-family=\"Times New Roman,serif\" font-size=\"14.00\">f=42</text>\n",
       "</g>\n",
       "<!-- c=15&#45;&gt;f=42 -->\n",
       "<g id=\"edge5\" class=\"edge\">\n",
       "<title>c=15&#45;&gt;f=42</title>\n",
       "<path fill=\"none\" stroke=\"black\" d=\"M193.83,-123.63C214.51,-117.73 242.87,-109.64 265.43,-103.2\"/>\n",
       "<polygon fill=\"black\" stroke=\"black\" points=\"266.33,-106.3 274.99,-100.19 264.41,-99.57 266.33,-106.3\"/>\n",
       "<text text-anchor=\"middle\" x=\"234.94\" y=\"-121.07\" font-family=\"Times New Roman,serif\" font-size=\"14.00\">df/dc=1</text>\n",
       "</g>\n",
       "<!-- b=5 -->\n",
       "<g id=\"node3\" class=\"node\">\n",
       "<title>b=5</title>\n",
       "<ellipse fill=\"none\" stroke=\"black\" cx=\"25.62\" cy=\"-161.62\" rx=\"25.62\" ry=\"25.62\"/>\n",
       "<text text-anchor=\"middle\" x=\"25.62\" y=\"-156.19\" font-family=\"Times New Roman,serif\" font-size=\"14.00\">b=5</text>\n",
       "</g>\n",
       "<!-- b=5&#45;&gt;c=15 -->\n",
       "<g id=\"edge2\" class=\"edge\">\n",
       "<title>b=5&#45;&gt;c=15</title>\n",
       "<path fill=\"none\" stroke=\"black\" d=\"M51.15,-156.25C71.74,-151.75 101.51,-145.24 125.29,-140.04\"/>\n",
       "<polygon fill=\"black\" stroke=\"black\" points=\"125.71,-143.31 134.73,-137.76 124.22,-136.48 125.71,-143.31\"/>\n",
       "<text text-anchor=\"middle\" x=\"93.23\" y=\"-154.07\" font-family=\"Times New Roman,serif\" font-size=\"14.00\">dc/db=3</text>\n",
       "</g>\n",
       "<!-- e=27&#45;&gt;f=42 -->\n",
       "<g id=\"edge6\" class=\"edge\">\n",
       "<title>e=27&#45;&gt;f=42</title>\n",
       "<path fill=\"none\" stroke=\"black\" d=\"M193.18,-62.21C214.03,-68.01 242.97,-76.05 265.84,-82.41\"/>\n",
       "<polygon fill=\"black\" stroke=\"black\" points=\"264.62,-85.98 275.19,-85.29 266.5,-79.24 264.62,-85.98\"/>\n",
       "<text text-anchor=\"middle\" x=\"234.94\" y=\"-82.07\" font-family=\"Times New Roman,serif\" font-size=\"14.00\">df/de=1</text>\n",
       "</g>\n",
       "<!-- d=9 -->\n",
       "<g id=\"node5\" class=\"node\">\n",
       "<title>d=9</title>\n",
       "<ellipse fill=\"none\" stroke=\"black\" cx=\"25.62\" cy=\"-25.62\" rx=\"25.62\" ry=\"25.62\"/>\n",
       "<text text-anchor=\"middle\" x=\"25.62\" y=\"-20.19\" font-family=\"Times New Roman,serif\" font-size=\"14.00\">d=9</text>\n",
       "</g>\n",
       "<!-- d=9&#45;&gt;e=27 -->\n",
       "<g id=\"edge4\" class=\"edge\">\n",
       "<title>d=9&#45;&gt;e=27</title>\n",
       "<path fill=\"none\" stroke=\"black\" d=\"M51.65,-24.79C70.08,-24.79 95.6,-26.08 117.23,-31.87 121.32,-32.96 125.48,-34.42 129.55,-36.07\"/>\n",
       "<polygon fill=\"black\" stroke=\"black\" points=\"127.82,-39.58 138.37,-40.49 130.69,-33.2 127.82,-39.58\"/>\n",
       "<text text-anchor=\"middle\" x=\"93.23\" y=\"-35.07\" font-family=\"Times New Roman,serif\" font-size=\"14.00\">de/dd=3</text>\n",
       "</g>\n",
       "</g>\n",
       "</svg>\n"
      ],
      "text/plain": [
       "<graphviz.graphs.Digraph at 0x28750de0580>"
      ]
     },
     "execution_count": 6,
     "metadata": {},
     "output_type": "execute_result"
    }
   ],
   "source": [
    "e2 = graphviz.Digraph('second expression', filename='fsm.gv')\n",
    "\n",
    "e2.attr(rankdir='LR', size='8,5')\n",
    "\n",
    "e2.attr('node', shape='circle')\n",
    "e2.edge('a=3', 'c=15', label='dc/da=5')\n",
    "e2.edge('b=5', 'c=15', label='dc/db=3')\n",
    "e2.edge('a=3', 'e=27', label='de/da=9')\n",
    "e2.edge('d=9', 'e=27', label='de/dd=3')\n",
    "e2.edge('c=15', 'f=42', label='df/dc=1')\n",
    "e2.edge('e=27', 'f=42', label='df/de=1')\n",
    "\n",
    "e2"
   ]
  },
  {
   "cell_type": "code",
   "execution_count": 7,
   "metadata": {},
   "outputs": [
    {
     "data": {
      "image/svg+xml": [
       "<?xml version=\"1.0\" encoding=\"UTF-8\" standalone=\"no\"?>\n",
       "<!DOCTYPE svg PUBLIC \"-//W3C//DTD SVG 1.1//EN\"\n",
       " \"http://www.w3.org/Graphics/SVG/1.1/DTD/svg11.dtd\">\n",
       "<!-- Generated by graphviz version 8.1.0 (20230707.0739)\n",
       " -->\n",
       "<!-- Title: first expression Pages: 1 -->\n",
       "<svg width=\"367pt\" height=\"254pt\"\n",
       " viewBox=\"0.00 0.00 367.18 254.10\" xmlns=\"http://www.w3.org/2000/svg\" xmlns:xlink=\"http://www.w3.org/1999/xlink\">\n",
       "<g id=\"graph0\" class=\"graph\" transform=\"scale(1 1) rotate(0) translate(4 250.1)\">\n",
       "<title>first expression</title>\n",
       "<polygon fill=\"white\" stroke=\"none\" points=\"-4,4 -4,-250.1 363.18,-250.1 363.18,4 -4,4\"/>\n",
       "<!-- a=3; delta_a -->\n",
       "<g id=\"node1\" class=\"node\">\n",
       "<title>a=3; delta_a</title>\n",
       "<ellipse fill=\"none\" stroke=\"black\" cx=\"58.05\" cy=\"-190.05\" rx=\"56.05\" ry=\"56.05\"/>\n",
       "<text text-anchor=\"middle\" x=\"58.05\" y=\"-184.62\" font-family=\"Times New Roman,serif\" font-size=\"14.00\">a=3; delta_a</text>\n",
       "</g>\n",
       "<!-- f=a*b; delta_f -->\n",
       "<g id=\"node2\" class=\"node\">\n",
       "<title>f=a*b; delta_f</title>\n",
       "<ellipse fill=\"none\" stroke=\"black\" cx=\"296.14\" cy=\"-124.05\" rx=\"63.04\" ry=\"63.04\"/>\n",
       "<text text-anchor=\"middle\" x=\"296.14\" y=\"-118.62\" font-family=\"Times New Roman,serif\" font-size=\"14.00\">f=a*b; delta_f</text>\n",
       "</g>\n",
       "<!-- a=3; delta_a&#45;&gt;f=a*b; delta_f -->\n",
       "<g id=\"edge1\" class=\"edge\">\n",
       "<title>a=3; delta_a&#45;&gt;f=a*b; delta_f</title>\n",
       "<path fill=\"none\" stroke=\"black\" d=\"M122.87,-172.21C157.75,-162.46 200.7,-150.45 234.99,-140.87\"/>\n",
       "<polygon fill=\"black\" stroke=\"black\" points=\"122.02,-169.09 113.33,-175.16 123.9,-175.83 122.02,-169.09\"/>\n",
       "<text text-anchor=\"middle\" x=\"174.6\" y=\"-170.5\" font-family=\"Times New Roman,serif\" font-size=\"14.00\">delta_f*df/da5</text>\n",
       "</g>\n",
       "<!-- b=5; delta_b -->\n",
       "<g id=\"node3\" class=\"node\">\n",
       "<title>b=5; delta_b</title>\n",
       "<ellipse fill=\"none\" stroke=\"black\" cx=\"58.05\" cy=\"-58.05\" rx=\"58.05\" ry=\"58.05\"/>\n",
       "<text text-anchor=\"middle\" x=\"58.05\" y=\"-52.62\" font-family=\"Times New Roman,serif\" font-size=\"14.00\">b=5; delta_b</text>\n",
       "</g>\n",
       "<!-- b=5; delta_b&#45;&gt;f=a*b; delta_f -->\n",
       "<g id=\"edge2\" class=\"edge\">\n",
       "<title>b=5; delta_b&#45;&gt;f=a*b; delta_f</title>\n",
       "<path fill=\"none\" stroke=\"black\" d=\"M124.87,-76.45C159.45,-86.12 201.51,-97.87 235.17,-107.29\"/>\n",
       "<polygon fill=\"black\" stroke=\"black\" points=\"125.98,-72.85 115.4,-73.52 124.09,-79.59 125.98,-72.85\"/>\n",
       "<text text-anchor=\"middle\" x=\"174.6\" y=\"-102.5\" font-family=\"Times New Roman,serif\" font-size=\"14.00\">delta_f*df/db</text>\n",
       "</g>\n",
       "</g>\n",
       "</svg>\n"
      ],
      "text/plain": [
       "<graphviz.graphs.Digraph at 0x28750ede400>"
      ]
     },
     "execution_count": 7,
     "metadata": {},
     "output_type": "execute_result"
    }
   ],
   "source": [
    "e1 = graphviz.Digraph('first expression', filename='fsm.gv')\n",
    "\n",
    "e1.attr(rankdir='LR', size='8,5')\n",
    "\n",
    "e1.attr('node', shape='circle')\n",
    "e1.edge('a=3; delta_a', 'f=a*b; delta_f', label='delta_f*df/da5', dir=\"back\")\n",
    "e1.edge('b=5; delta_b', 'f=a*b; delta_f', label='delta_f*df/db', dir=\"back\")\n",
    "\n",
    "e1"
   ]
  },
  {
   "cell_type": "markdown",
   "metadata": {},
   "source": [
    "**2. We consider f = a * b.  <br>**\n",
    "&emsp;Variable: <br>\n",
    "&emsp;&emsp;v = 15.0 <br>\n",
    "&emsp;&emsp;grd_f = [(a, 3), (b, 5)] <br>\n",
    "&emsp;&emsp;grd = 0.0 <br>\n",
    "**3. Backward function by hand:**\n",
    "&emsp;f.backward()<br>\n",
    "&emsp;&emsp;f.backprop(1.0)<br>\n",
    "&emsp;&emsp;&emsp;f.grd = 0 + 1.0 = 1.0<br>\n",
    "&emsp;&emsp;&emsp;a.backprop(3 * 1.0)<br>\n",
    "&emsp;&emsp;&emsp;&emsp;a.grd = 0 + 3.0 = 3.0<br>\n",
    "&emsp;&emsp;&emsp;b.backprop(5 * 1.0)<br>\n",
    "&emsp;&emsp;&emsp;&emsp;b.grd = 0 + 5.0 = 5.0<br>\n",
    "**4.  The sequence of backprop calls:<br>**\n",
    "        f.backprop(1.0)<br>\n",
    "        a.backprop(3.0)<br>\n",
    "        b.backprop(5.0)<br>\n"
   ]
  },
  {
   "cell_type": "markdown",
   "metadata": {
    "id": "A5oi21W4gpeM"
   },
   "source": [
    "## Exercise c) What happens if we run backward again?\n",
    "\n",
    "Try to execute the code below. Explain what happens."
   ]
  },
  {
   "cell_type": "code",
   "execution_count": 8,
   "metadata": {
    "colab": {
     "base_uri": "https://localhost:8080/"
    },
    "id": "DCtpJyr-gyX1",
    "outputId": "d014bcfa-c9ae-49c3-d268-91cc6ca94ea5"
   },
   "outputs": [
    {
     "name": "stdout",
     "output_type": "stream",
     "text": [
      "Var(v=3.0000, grad=28.0000)\n",
      "Var(v=5.0000, grad=6.0000)\n",
      "Var(v=15.0000, grad=2.0000)\n",
      "Var(v=9.0000, grad=6.0000)\n",
      "Var(v=27.0000, grad=2.0000)\n",
      "Var(v=42.0000, grad=2.0000)\n"
     ]
    }
   ],
   "source": [
    "f.backward()\n",
    "\n",
    "for v in [a, b, c, d, e, f]:\n",
    "    print(v)"
   ]
  },
  {
   "cell_type": "markdown",
   "metadata": {},
   "source": [
    "## Answer\n",
    "\n",
    "Executing the backward function means that we propagate the output error through the network with a weight of 1.0.\n",
    "Doing this multiple time accumulates the error."
   ]
  },
  {
   "cell_type": "markdown",
   "metadata": {
    "id": "e8bPVq2VhsP-"
   },
   "source": [
    "## Exercise d) Zero gradient\n",
    "\n",
    "We can zero the gradient by backpropagating a -1.0 as is shown in the example below. (If you have run backward multiple time then you also have to run the cell below an equal amount of times.) Explain what is going on."
   ]
  },
  {
   "cell_type": "code",
   "execution_count": 9,
   "metadata": {
    "colab": {
     "base_uri": "https://localhost:8080/"
    },
    "id": "OnyPDQx9lJe0",
    "outputId": "7a125fdc-60c4-4340-a580-8b82aea5b0db"
   },
   "outputs": [
    {
     "name": "stdout",
     "output_type": "stream",
     "text": [
      "Var(v=2.0000, grad=0.0000)\n",
      "Var(v=5.0000, grad=6.0000)\n",
      "Var(v=15.0000, grad=2.0000)\n",
      "Var(v=9.0000, grad=6.0000)\n",
      "Var(v=27.0000, grad=2.0000)\n",
      "Var(v=42.0000, grad=2.0000)\n",
      "Var(v=2.0000, grad=0.0000)\n",
      "Var(v=5.0000, grad=3.0000)\n",
      "Var(v=15.0000, grad=1.0000)\n",
      "Var(v=9.0000, grad=3.0000)\n",
      "Var(v=27.0000, grad=1.0000)\n",
      "Var(v=42.0000, grad=1.0000)\n"
     ]
    }
   ],
   "source": [
    "a = Var(2.0)\n",
    "\n",
    "for v in [a, b, c, d, e, f]:\n",
    "    print(v)\n",
    "\n",
    "f.backprop(-1.0)\n",
    "\n",
    "for v in [a, b, c, d, e, f]:\n",
    "    print(v)"
   ]
  },
  {
   "cell_type": "markdown",
   "metadata": {},
   "source": [
    "## Answer\n",
    "\n",
    "Executing the backward function means that we propagate the output error through the network with a weight of -1.0. This has the opposite effect of the earlier backward function. This means that the error goes towards 0."
   ]
  },
  {
   "cell_type": "markdown",
   "metadata": {
    "id": "U4057_ljNvWB"
   },
   "source": [
    "## Exercise e) Test correctness of derivatives with the finite difference method\n",
    "\n",
    "Write a small function that uses [the finite difference method](https://en.wikipedia.org/wiki/Finite_difference_method) to numerically test that backpropation implementation is working. In short we will use\n",
    "$$\n",
    "\\frac{\\partial f(a)}{\\partial a} \\approx \\frac{f(a+da)-f(a)}{da}\n",
    "$$\n",
    "for $da \\ll 1$.\n",
    "\n",
    "As an example, we could approximate the derivative of the function $f(a)=a^2$ in e.g. the value $a=4$ using the finite difference method. This amounts to inserting the relevant values and approximating the gradient $f'(4)$ with the fraction above. \n"
   ]
  },
  {
   "cell_type": "code",
   "execution_count": 10,
   "metadata": {
    "colab": {
     "base_uri": "https://localhost:8080/"
    },
    "id": "9TGil92lSXDN",
    "outputId": "7ef5489b-b525-4132-ab08-0b1109c07f4d"
   },
   "outputs": [
    {
     "name": "stdout",
     "output_type": "stream",
     "text": [
      "Var(v=3.0000, grad=5.0000)\n",
      "Var(v=5.0000, grad=3.0000)\n",
      "Var(v=15.0000, grad=1.0000)\n",
      "0.0\n"
     ]
    }
   ],
   "source": [
    "# f function - try to change the code to test other types of functions as well (such as different polynomials etc.)\n",
    "def f_function(a):\n",
    "  a = Var(a)\n",
    "  b = Var(5.0)\n",
    "  f = a * b\n",
    "  f.backward()\n",
    "  return a,b,f\n",
    "\n",
    "for v in f_function(3.0):\n",
    "  print(v)\n",
    "\n",
    "# Insert your finite difference code here\n",
    "def finite_difference(da=1e-10):\n",
    "    \"\"\"\n",
    "    This function compute the finite difference between\n",
    "    \n",
    "    Input:\n",
    "    da:          The finite difference                           (float)\n",
    "    \n",
    "    Output:\n",
    "    finite_difference: numerical approximation to the derivative (float) \n",
    "    \"\"\"\n",
    "    \n",
    "    fa_da = 0           # <- Insert correct expression\n",
    "    fa = 0               # <- Insert correct expression\n",
    "\n",
    "    finite_difference = (fa_da - fa) / da\n",
    "    \n",
    "    return finite_difference\n",
    "\n",
    "print(finite_difference())"
   ]
  },
  {
   "cell_type": "markdown",
   "metadata": {
    "id": "6pZar5RKaUkg"
   },
   "source": [
    "# Create an artificial dataset to play with\n",
    "\n",
    "We create a non-linear 1d regression task. The generator supports various noise levels and it creates train, validation and test sets. You can modify it yourself if you want more or less challenging tasks."
   ]
  },
  {
   "cell_type": "code",
   "execution_count": 11,
   "metadata": {
    "id": "Y6yfMAQ8aduj"
   },
   "outputs": [],
   "source": [
    "import numpy as np\n",
    "import matplotlib.pyplot as plt\n",
    "\n",
    "np.random.seed(42)"
   ]
  },
  {
   "cell_type": "code",
   "execution_count": 12,
   "metadata": {
    "id": "4YabfD43ajNh"
   },
   "outputs": [],
   "source": [
    "def data_generator(noise=0.1, n_samples=300, D1=True):\n",
    "    # Create covariates and response variable\n",
    "    if D1:\n",
    "        X = np.linspace(-3, 3, num=n_samples).reshape(-1,1) # 1-D\n",
    "        np.random.shuffle(X)\n",
    "        y = np.random.normal((0.5*np.sin(X[:,0]*3) + X[:,0]), noise) # 1-D with trend\n",
    "    else:\n",
    "        X = np.random.multivariate_normal(np.zeros(3), noise*np.eye(3), size = n_samples) # 3-D\n",
    "        np.random.shuffle(X)    \n",
    "        y = np.sin(X[:,0]) - 5*(X[:,1]**2) + 0.5*X[:,2] # 3-D\n",
    "\n",
    "    # Stack them together vertically to split data set\n",
    "    data_set = np.vstack((X.T,y)).T\n",
    "    \n",
    "    train, validation, test = np.split(data_set, [int(0.35*n_samples), int(0.7*n_samples)], axis=0)\n",
    "    \n",
    "    # Standardization of the data, remember we do the standardization with the training set mean and standard deviation\n",
    "    train_mu = np.mean(train, axis=0)\n",
    "    train_sigma = np.std(train, axis=0)\n",
    "    \n",
    "    train = (train-train_mu)/train_sigma\n",
    "    validation = (validation-train_mu)/train_sigma\n",
    "    test = (test-train_mu)/train_sigma\n",
    "    \n",
    "    x_train, x_validation, x_test = train[:,:-1], validation[:,:-1], test[:,:-1]\n",
    "    y_train, y_validation, y_test = train[:,-1], validation[:,-1], test[:,-1]\n",
    "\n",
    "    return x_train, y_train,  x_validation, y_validation, x_test, y_test"
   ]
  },
  {
   "cell_type": "code",
   "execution_count": 13,
   "metadata": {
    "id": "u1oDngHLapIz"
   },
   "outputs": [],
   "source": [
    "D1 = True\n",
    "x_train, y_train,  x_validation, y_validation, x_test, y_test = data_generator(noise=0.5, D1=D1)"
   ]
  },
  {
   "cell_type": "code",
   "execution_count": 14,
   "metadata": {
    "colab": {
     "base_uri": "https://localhost:8080/",
     "height": 265
    },
    "id": "Ysfa3FsBavlm",
    "outputId": "399e5382-ae7d-48f6-9774-7ea4c73e7d95"
   },
   "outputs": [
    {
     "data": {
      "image/png": "[encoded data removed]",
      "text/plain": [
       "<Figure size 640x480 with 1 Axes>"
      ]
     },
     "metadata": {},
     "output_type": "display_data"
    }
   ],
   "source": [
    "if D1:\n",
    "    plt.scatter(x_train[:,0], y_train);\n",
    "    plt.scatter(x_validation[:,0], y_validation);\n",
    "    plt.scatter(x_test[:,0], y_test);\n",
    "else:\n",
    "    plt.scatter(x_train[:,1], y_train);\n",
    "    plt.scatter(x_validation[:,1], y_validation);\n",
    "    plt.scatter(x_test[:,1], y_test);\n",
    "plt.show()"
   ]
  },
  {
   "cell_type": "code",
   "execution_count": 15,
   "metadata": {
    "id": "zac2HHNlgbpm"
   },
   "outputs": [],
   "source": [
    "# convert from nparray to Var\n",
    "def nparray_to_Var(x):\n",
    "  if x.ndim==1:\n",
    "    y = [[Var(float(x[i]))] for i in range(x.shape[0])] # always work with list of list\n",
    "  else:\n",
    "    y = [[Var(float(x[i,j])) for j in range(x.shape[1])] for i in range(x.shape[0])]\n",
    "  return y\n",
    "   \n",
    "x_train = nparray_to_Var(x_train)\n",
    "y_train = nparray_to_Var(y_train)\n",
    "x_validation = nparray_to_Var(x_validation)\n",
    "y_validation = nparray_to_Var(y_validation)\n",
    "x_test = nparray_to_Var(x_test)\n",
    "y_test = nparray_to_Var(y_test)\n"
   ]
  },
  {
   "cell_type": "markdown",
   "metadata": {
    "id": "VbjrqcpVFtGe"
   },
   "source": [
    "# Defining and initializing the network\n",
    "\n",
    "The steps to create a feed forward neural network are the following:\n",
    "\n",
    "1. **Number of hidden layer and hidden units**. We have to define the number of hidden units in each layer. The number of features in X and the output dimensionality (the size of Y) are given but the numbers in between are set by the researcher. Remember that for each unit in each layer beside in the input has a bias term.\n",
    "2. **Activation functions** for each hidden layer. Each hidden layer in your list must have an activation function (it can also be the linear activation which is equivalent to identity function). The power of neural networks comes from non-linear activation functions that learn representations (features) from the data allowing us to learn from it. \n",
    "3. **Parameter initialization**. We will initialize the weights to have random values. This is done in practice by drawing pseudo random numbers from a Gaussian or uniform distribution. It turns out that for deeper models we have to be careful about how we scale the random numbers. This will be the topic of the exercise below. For now we will just use unit variance Gaussians.  \n",
    "\n",
    "In order to make life easier for ourselves we define a DenseLayer class that takes care of initialization and the forward pass. We can also extend it later with print and advanced initialization capabilities. For the latter we have introduced a Initializer class.\n",
    "\n",
    "Note that we use Sequence in the code below. A Sequence is an ordered list. This means the order we insert and access items are the same."
   ]
  },
  {
   "cell_type": "code",
   "execution_count": 16,
   "metadata": {
    "id": "ij_ieRsAt7Xt"
   },
   "outputs": [],
   "source": [
    "class Initializer:\n",
    "\n",
    "  def init_weights(self, n_in, n_out):\n",
    "    raise NotImplementedError\n",
    "\n",
    "  def init_bias(self, n_out):\n",
    "    raise NotImplementedError"
   ]
  },
  {
   "cell_type": "code",
   "execution_count": 17,
   "metadata": {
    "id": "eb18N5phuIha"
   },
   "outputs": [],
   "source": [
    "import random\n",
    "\n",
    "class NormalInitializer(Initializer):\n",
    "\n",
    "  def __init__(self, mean=0, std=0.1):\n",
    "    self.mean = mean\n",
    "    self.std = std\n",
    "\n",
    "  def init_weights(self, n_in, n_out):\n",
    "    return [[Var(random.gauss(self.mean, self.std)) for _ in range(n_out)] for _ in range(n_in)]\n",
    "\n",
    "  def init_bias(self, n_out):\n",
    "    return [Var(0.0) for _ in range(n_out)]\n",
    "\n",
    "class ConstantInitializer(Initializer):\n",
    "\n",
    "  def __init__(self, weight=1.0, bias=0.0):\n",
    "    self.weight = weight\n",
    "    self.bias = bias\n",
    "\n",
    "  def init_weights(self, n_in, n_out):\n",
    "    return [[Var(self.weight) for _ in range(n_out)] for _ in range(n_in)]\n",
    "\n",
    "  def init_bias(self, n_out):\n",
    "    return [Var(self.bias) for _ in range(n_out)]"
   ]
  },
  {
   "cell_type": "code",
   "execution_count": 18,
   "metadata": {
    "id": "jOLYGnZKuM6W"
   },
   "outputs": [],
   "source": [
    "from typing import Sequence\n",
    "\n",
    "class DenseLayer:\n",
    "    def __init__(self, n_in: int, n_out: int, act_fn, initializer = NormalInitializer()):\n",
    "        self.weights = initializer.init_weights(n_in, n_out)\n",
    "        self.bias = initializer.init_bias(n_out)\n",
    "        self.act_fn = act_fn\n",
    "    \n",
    "    def __repr__(self):    \n",
    "        return 'Weights: ' + repr(self.weights) + '\\n' + ' Biases: ' + repr(self.bias) + '\\n'\n",
    "\n",
    "    def parameters(self) -> Sequence[Var]:\n",
    "      params = []\n",
    "      for r in self.weights:\n",
    "        params += r\n",
    "\n",
    "      return params + self.bias\n",
    "\n",
    "    def forward(self, single_input: Sequence[Var]) -> Sequence[Var]:\n",
    "        # self.weights is a matrix with dimension n_in x n_out. We check that the dimensionality of the input \n",
    "        # to the current layer matches the number of nodes in the current layer\n",
    "        assert len(self.weights) == len(single_input), \"weights and single_input must match in first dimension\"\n",
    "        weights = self.weights\n",
    "        out = []\n",
    "        \n",
    "        # For some given data point single_input, we now want to calculate the resulting value in each node in the current layer\n",
    "        # We therefore loop over the (number of) nodes in the current layer:\n",
    "        for j in range(len(weights[0])): \n",
    "            # Initialize the node value depending on its corresponding parameters.\n",
    "            node = self.bias[j] # <- Insert code\n",
    "            # We now finish the linear transformation corresponding to the parameters of the currently considered node.\n",
    "            for i in range(len(weights)):\n",
    "                node += self.weights[i][j] * single_input[i]  # <- Insert code\n",
    "            node = self.act_fn(node)\n",
    "            out.append(node)\n",
    "\n",
    "        return out"
   ]
  },
  {
   "cell_type": "markdown",
   "metadata": {
    "id": "jpIZPBpNI0pO"
   },
   "source": [
    "## Exercise f) Add more activation functions\n",
    "\n",
    "To have a full definition of the neural network, we must define an activation function for every layer. Several activation functions have been proposed and have different characteristics. In the Var class we have already defined the rectified linear init (relu). \n",
    " \n",
    "Implement the following activation functions in the Var class:\n",
    "\n",
    "* Identity: $$\\mathrm{identity}(x) = x$$\n",
    "* Hyperbolic tangent: $$\\tanh(x)$$\n",
    "* Sigmoid (or logistic function): $$\\mathrm{sigmoid}(x) = \\frac{1}{1.0 + \\exp(-x ) }$$  Hint: $\\mathrm{sigmoid}'(x)= \\mathrm{sigmoid}(x)(1-\\mathrm{sigmoid}(x))$.  \n",
    "\n",
    "Hint: You can seek inspiration in the relu method in the Var class."
   ]
  },
  {
   "cell_type": "markdown",
   "metadata": {
    "id": "p_8n_SKnIW2F"
   },
   "source": [
    "## Exercise g) Complete the forward pass\n",
    "\n",
    "In the code below we initialize a 1-5-1 network and pass the training set through it. *The forward method in DenseLayer is **not** complete*. It just outputs zeros right now. The method forward should perform an [affine transformation](https://en.wikipedia.org/wiki/Affine_transformation) on the input followed by an application of the activation function."
   ]
  },
  {
   "cell_type": "code",
   "execution_count": 19,
   "metadata": {
    "colab": {
     "base_uri": "https://localhost:8080/",
     "height": 337
    },
    "id": "xDEjtePxE7Mv",
    "outputId": "753406cd-d8a1-4282-ce03-25ad959b0e11"
   },
   "outputs": [
    {
     "name": "stdout",
     "output_type": "stream",
     "text": [
      "[[Var(v=0.0017, grad=0.0000)], [Var(v=0.0034, grad=0.0000)], [Var(v=0.0003, grad=0.0000)], [Var(v=0.0316, grad=0.0000)], [Var(v=0.0025, grad=0.0000)], [Var(v=0.0023, grad=0.0000)], [Var(v=0.0015, grad=0.0000)], [Var(v=0.0076, grad=0.0000)], [Var(v=0.0325, grad=0.0000)], [Var(v=0.0009, grad=0.0000)], [Var(v=0.0026, grad=0.0000)], [Var(v=0.0201, grad=0.0000)], [Var(v=0.0021, grad=0.0000)], [Var(v=0.0229, grad=0.0000)], [Var(v=0.0011, grad=0.0000)], [Var(v=0.0022, grad=0.0000)], [Var(v=0.0040, grad=0.0000)], [Var(v=0.0019, grad=0.0000)], [Var(v=0.0002, grad=0.0000)], [Var(v=0.0007, grad=0.0000)], [Var(v=0.0150, grad=0.0000)], [Var(v=0.0066, grad=0.0000)], [Var(v=0.0029, grad=0.0000)], [Var(v=0.0029, grad=0.0000)], [Var(v=0.0088, grad=0.0000)], [Var(v=0.0237, grad=0.0000)], [Var(v=0.0038, grad=0.0000)], [Var(v=0.0041, grad=0.0000)], [Var(v=0.0004, grad=0.0000)], [Var(v=0.0026, grad=0.0000)], [Var(v=0.0296, grad=0.0000)], [Var(v=0.0006, grad=0.0000)], [Var(v=0.0258, grad=0.0000)], [Var(v=0.0280, grad=0.0000)], [Var(v=0.0020, grad=0.0000)], [Var(v=0.0052, grad=0.0000)], [Var(v=0.0320, grad=0.0000)], [Var(v=0.0121, grad=0.0000)], [Var(v=0.0227, grad=0.0000)], [Var(v=0.0162, grad=0.0000)], [Var(v=0.0114, grad=0.0000)], [Var(v=0.0155, grad=0.0000)], [Var(v=0.0039, grad=0.0000)], [Var(v=0.0193, grad=0.0000)], [Var(v=0.0153, grad=0.0000)], [Var(v=0.0186, grad=0.0000)], [Var(v=0.0025, grad=0.0000)], [Var(v=0.0024, grad=0.0000)], [Var(v=0.0071, grad=0.0000)], [Var(v=0.0024, grad=0.0000)], [Var(v=0.0011, grad=0.0000)], [Var(v=0.0001, grad=0.0000)], [Var(v=0.0026, grad=0.0000)], [Var(v=0.0157, grad=0.0000)], [Var(v=0.0042, grad=0.0000)], [Var(v=0.0037, grad=0.0000)], [Var(v=0.0105, grad=0.0000)], [Var(v=0.0117, grad=0.0000)], [Var(v=0.0014, grad=0.0000)], [Var(v=0.0277, grad=0.0000)], [Var(v=0.0024, grad=0.0000)], [Var(v=0.0196, grad=0.0000)], [Var(v=0.0323, grad=0.0000)], [Var(v=0.0012, grad=0.0000)], [Var(v=0.0009, grad=0.0000)], [Var(v=0.0265, grad=0.0000)], [Var(v=0.0285, grad=0.0000)], [Var(v=0.0031, grad=0.0000)], [Var(v=0.0203, grad=0.0000)], [Var(v=0.0012, grad=0.0000)], [Var(v=0.0078, grad=0.0000)], [Var(v=0.0035, grad=0.0000)], [Var(v=0.0024, grad=0.0000)], [Var(v=0.0014, grad=0.0000)], [Var(v=0.0028, grad=0.0000)], [Var(v=0.0038, grad=0.0000)], [Var(v=0.0141, grad=0.0000)], [Var(v=0.0136, grad=0.0000)], [Var(v=0.0179, grad=0.0000)], [Var(v=0.0039, grad=0.0000)], [Var(v=0.0006, grad=0.0000)], [Var(v=0.0004, grad=0.0000)], [Var(v=0.0292, grad=0.0000)], [Var(v=0.0040, grad=0.0000)], [Var(v=0.0148, grad=0.0000)], [Var(v=0.0064, grad=0.0000)], [Var(v=0.0054, grad=0.0000)], [Var(v=0.0165, grad=0.0000)], [Var(v=0.0301, grad=0.0000)], [Var(v=0.0313, grad=0.0000)], [Var(v=0.0014, grad=0.0000)], [Var(v=0.0095, grad=0.0000)], [Var(v=0.0174, grad=0.0000)], [Var(v=0.0022, grad=0.0000)], [Var(v=0.0249, grad=0.0000)], [Var(v=0.0299, grad=0.0000)], [Var(v=0.0010, grad=0.0000)], [Var(v=0.0002, grad=0.0000)], [Var(v=0.0036, grad=0.0000)], [Var(v=0.0177, grad=0.0000)], [Var(v=0.0023, grad=0.0000)], [Var(v=0.0172, grad=0.0000)], [Var(v=0.0263, grad=0.0000)], [Var(v=0.0011, grad=0.0000)], [Var(v=0.0033, grad=0.0000)]]\n"
     ]
    }
   ],
   "source": [
    "NN = [\n",
    "    DenseLayer(1, 5, lambda x: x.relu()),\n",
    "    DenseLayer(5, 1, lambda x: x.identity())\n",
    "]\n",
    "\n",
    "def forward(input, network):\n",
    "\n",
    "  def forward_single(x, network):\n",
    "    for layer in network:\n",
    "        x = layer.forward(x)\n",
    "    return x\n",
    "\n",
    "  output = [ forward_single(input[n], network) for n in range(len(input))]\n",
    "  return output\n",
    "\n",
    "print(forward(x_train, NN))\n"
   ]
  },
  {
   "cell_type": "markdown",
   "metadata": {
    "id": "oLrGJytZFtGm"
   },
   "source": [
    "## Exercise h) Print all network parameters\n",
    "\n",
    "Make a function that prints all the parameters of the network (weights and biases) with information about in which layer the appear. In the object oriented spirit you should introduce a method in the DenseLayer class to print the parameters of a layer. Hint: You can take inspiration from the corresponding method in Var. "
   ]
  },
  {
   "cell_type": "code",
   "execution_count": 20,
   "metadata": {
    "id": "iac-VwYGFtGm"
   },
   "outputs": [
    {
     "name": "stdout",
     "output_type": "stream",
     "text": [
      "Weights: [[Var(v=-0.0852, grad=0.0000), Var(v=-0.1587, grad=0.0000), Var(v=-0.1241, grad=0.0000), Var(v=-0.0676, grad=0.0000), Var(v=0.0997, grad=0.0000)]]\n",
      " Biases: [Var(v=0.0000, grad=0.0000), Var(v=0.0000, grad=0.0000), Var(v=0.0000, grad=0.0000), Var(v=0.0000, grad=0.0000), Var(v=0.0000, grad=0.0000)]\n",
      "\n",
      "Weights: [[Var(v=0.1108, grad=0.0000)], [Var(v=-0.0290, grad=0.0000)], [Var(v=0.1347, grad=0.0000)], [Var(v=-0.0122, grad=0.0000)], [Var(v=0.0232, grad=0.0000)]]\n",
      " Biases: [Var(v=0.0000, grad=0.0000)]\n",
      "\n"
     ]
    }
   ],
   "source": [
    "def print_nn(NN):\n",
    "    for layer in NN:\n",
    "        print(layer)\n",
    "\n",
    "print_nn(NN)"
   ]
  },
  {
   "cell_type": "markdown",
   "metadata": {
    "id": "_79HOAXrFtHK"
   },
   "source": [
    "## Visualization\n",
    "\n",
    "Now that we have defined our activation functions we can visualize them to see what they look like:"
   ]
  },
  {
   "cell_type": "code",
   "execution_count": 21,
   "metadata": {
    "id": "1FcylHqLTl-Z"
   },
   "outputs": [
    {
     "data": {
      "text/plain": [
       "[<matplotlib.lines.Line2D at 0x287620be280>]"
      ]
     },
     "execution_count": 21,
     "metadata": {},
     "output_type": "execute_result"
    },
    {
     "data": {
      "image/png": "[encoded data removed]",
      "text/plain": [
       "<Figure size 640x480 with 1 Axes>"
      ]
     },
     "metadata": {},
     "output_type": "display_data"
    }
   ],
   "source": [
    "x = np.linspace(-6, 6, 100)\n",
    "\n",
    "# convert from Var to ndarray  \n",
    "def Var_to_nparray(x):\n",
    "  y = np.zeros((len(x),len(x[0])))\n",
    "  for i in range(len(x)):\n",
    "    for j in range(len(x[0])):\n",
    "      y[i,j] = x[i][j].v\n",
    "  return y\n",
    "\n",
    "# define 1-1 network with weight = 1 and relu activation \n",
    "NN = [ DenseLayer(1, 1, lambda x: x.relu(), initializer = ConstantInitializer(1.0)) ] \n",
    "y = Var_to_nparray(forward(nparray_to_Var(x), NN))\n",
    "\n",
    "#y = Var_to_nparray(relu(nparray_to_Var(x)))\n",
    "plt.plot(x,y)"
   ]
  },
  {
   "cell_type": "code",
   "execution_count": 22,
   "metadata": {
    "id": "oOL2UolJFtHL"
   },
   "outputs": [
    {
     "data": {
      "image/png": "[encoded data removed]",
      "text/plain": [
       "<Figure size 500x500 with 1 Axes>"
      ]
     },
     "metadata": {},
     "output_type": "display_data"
    }
   ],
   "source": [
    "# Testing all activation layers\n",
    "\n",
    "x = np.linspace(-6, 6, 100)\n",
    "units = {\n",
    "    \"identity\": lambda x: x.identity(),\n",
    "    \"sigmoid\": lambda x: x.sigmoid(),\n",
    "    \"relu\": lambda x: x.relu(),\n",
    "    \"tanh\": lambda x: x.tanh()\n",
    "}\n",
    "\n",
    "plt.figure(figsize=(5, 5))\n",
    "[plt.plot(x, Var_to_nparray(forward(nparray_to_Var(x), [DenseLayer(1, 1, unit, initializer = ConstantInitializer(1.0))]) ), label=unit_name, lw=2) for unit_name, unit in units.items()] # unit(nparray_to_Var(x))), label=unit_name, lw=2) for unit_name, unit in units.items()]\n",
    "plt.legend(loc=2, fontsize=16)\n",
    "plt.title('Our activation functions', fontsize=20)\n",
    "plt.ylim([-2, 5])\n",
    "plt.xlim([-6, 6])\n",
    "plt.show()"
   ]
  },
  {
   "cell_type": "markdown",
   "metadata": {
    "id": "b-jdEl-7FtGs"
   },
   "source": [
    "# Advanced initialization schemes\n",
    "\n",
    "If we are not careful with initialization, the signals we propagate forward ($a^{(l)}$, $l=1,\\ldots,L$) and backward ($\\delta^l$, $l=L,L-1,\\ldots,1$) can blow up or shrink to zero. A statistical analysis of the variance of the signals for different activation functions can be found in these two papers: [Glorot initialization](http://proceedings.mlr.press/v9/glorot10a/glorot10a.pdf) and [He initialization](https://arxiv.org/pdf/1502.01852v1.pdf). \n",
    "\n",
    "The result of the analyses are proposals for how to make the initialization such that the variance of the signals (forward and backward) are kept approxmimatly constant when propagating from layer to layer. The exact expressions depend upon the non-linear activation function used. In Glorot initialization, the aim is to keep both the forward and backward variances constant whereas He only aims at keeping the variance in the forward pass constant.\n",
    "\n",
    "We define $n_{in}$ and $n_{out}$ as the number of input units and output units of a particular layer. \n",
    "\n",
    "The Glorot initialization has the form: \n",
    "\n",
    "$$w_{ij} \\sim N \\bigg( 0, \\, \\frac{2 \\alpha }{n_{in} + n_{out}} \\bigg) \\ . $$\n",
    "\n",
    "where $N(\\mu,\\sigma^2)$ is a Gaussian distribution with mean $\\mu$ and variance $\\sigma^2$ and $\\alpha$ is a parameter that depends upon the activation function used. For $\\tanh$, $\\alpha=1$ and for Rectified Linear Unit (ReLU) activations, $\\alpha=2$. (It is also possible to use a uniform distribution for initialization, see [this blog post](https://mmuratarat.github.io/2019-02-25/xavier-glorot-he-weight-init).) \n",
    "\n",
    "The He initialization is very similar\n",
    "\n",
    "$$w_{ij} \\sim N \\bigg( 0, \\, \\frac{\\alpha}{n_{in}} \\bigg) \\ . $$"
   ]
  },
  {
   "cell_type": "markdown",
   "metadata": {
    "id": "mqeyab9qFtGs"
   },
   "source": [
    "## Exercise i) Glorot and He initialization\n",
    " \n",
    "Using the Initializer class, implement functions that implement Glorot and He \n",
    "\n",
    "Explain briefly how you would test numerically that these initializations have the sought after property. Hint: See plots in Glorot paper.\n",
    "\n",
    "Comment: If you want to be more advanced then try to make a universal initializer taking both the activation function and type (Glorot or He) as argument."
   ]
  },
  {
   "cell_type": "code",
   "execution_count": 23,
   "metadata": {
    "id": "Qyk01CgaFtGt"
   },
   "outputs": [],
   "source": [
    "## Glorot\n",
    "def DenseLayer_Glorot_tanh(n_in: int, n_out: int):\n",
    "  std = 2 / (n_in + n_out) # <- replace with proper initialization\n",
    "  return DenseLayer(n_in, n_out, lambda x: x.tanh(), initializer = NormalInitializer(std))\n",
    "\n",
    "## He\n",
    "def DenseLayer_He_relu(n_in: int, n_out: int):\n",
    "  std = 2 / n_in # <- replace with proper initialization\n",
    "  return DenseLayer(n_in, n_out, lambda x: x.relu(), initializer = NormalInitializer(std))"
   ]
  },
  {
   "cell_type": "markdown",
   "metadata": {
    "id": "-XyXBD37FtHk"
   },
   "source": [
    "## Exercise j) Forward pass unit test\n",
    "\n",
    "Write a bit of code to make a unit test that the forward pass works. This can be done by defining a simple network with for example all weights equal to one (using the ConstantInitializer method) and identity activation functions. \n",
    "\n",
    "Hints: Use the [assert](https://www.w3schools.com/python/ref_keyword_assert.asp), the nparray_to_Var and the Var_to_nparray commands. "
   ]
  },
  {
   "cell_type": "code",
   "execution_count": 24,
   "metadata": {
    "id": "k0miqRUAFtHl"
   },
   "outputs": [],
   "source": [
    "# Insert code here\n",
    "NN_const = [\n",
    "    DenseLayer(1, 1, lambda x: x.identity(), initializer=ConstantInitializer()),\n",
    "    DenseLayer(1, 1, lambda x: x.identity(), initializer=ConstantInitializer())\n",
    "]\n",
    "\n",
    "assert np.array_equal(Var_to_nparray(x_train), Var_to_nparray(forward(x_train, NN_const))),  \"forward is incorrect\"\n",
    "\n"
   ]
  },
  {
   "cell_type": "markdown",
   "metadata": {
    "id": "faCxhfFnFtHp"
   },
   "source": [
    "# Loss functions\n",
    "\n",
    "We are only missing a loss function to we need to define a loss function and its derivative with respect to the output of the neural network $y$"
   ]
  },
  {
   "cell_type": "code",
   "execution_count": 25,
   "metadata": {
    "id": "I2eDYKvAFtHq"
   },
   "outputs": [],
   "source": [
    "def squared_loss(t, y):\n",
    "  \n",
    "  # add check that sizes agree\n",
    "  \n",
    "  def squared_loss_single(t, y):\n",
    "    Loss = Var(0.0)\n",
    "    for i in range(len(t)): # sum over outputs\n",
    "      Loss += (t[i]-y[i]) ** 2\n",
    "    return Loss\n",
    "\n",
    "  Loss = Var(0.0)\n",
    "  for n in range(len(t)): # sum over training data\n",
    "    Loss += squared_loss_single(t[n],y[n])\n",
    "  return Loss"
   ]
  },
  {
   "cell_type": "markdown",
   "metadata": {
    "id": "SrwSJ2UWFtHu"
   },
   "source": [
    "## Exercise k) Implement cross entropy loss\n",
    "\n",
    "Insert code below to implement cross-entropy loss for general dimensionality of $t$. Use a logits formulation:\n",
    "$$\n",
    "\\rm{Loss} = - \\sum_i t_i \\, log \\, p_i \n",
    "$$\n",
    "with $p$ given by the the softmax function in terms of the logits $h$:\n",
    "$$\n",
    "p_i = \\frac{\\exp(h_i)}{\\sum_{i'} \\exp(h_{i'})} .\n",
    "$$\n",
    "Inserting $p$ in the expression for the loss gives\n",
    "$$\n",
    "\\rm{Loss} = - \\sum_i t_i h_i + \\rm{LogSumExp}(h) \\ ,\n",
    "$$\n",
    "where \n",
    "$$\n",
    "\\rm{LogSumExp}(h) = \\log \\sum_i \\exp h_i \\ .\n",
    "$$\n",
    "This is true for $t$ being a one-hot vector. \n",
    "\n",
    "Call the function to convince yourself it works. \n",
    "\n",
    "In practice you want to implement a [numerically stable](https://leimao.github.io/blog/LogSumExp/) version of LogSumExp. But we will not bother about that here.\n",
    "\n",
    "Help: You can add these methods in the Var class:\n",
    "\n",
    "    def exp(self):\n",
    "        return Var(exp(self.v), lambda: [(self, exp(self.v))])\n",
    "    \n",
    "    def log(self):\n",
    "        return Var(log(self.v), lambda: [(self, self.v ** -1)])"
   ]
  },
  {
   "cell_type": "code",
   "execution_count": 26,
   "metadata": {
    "id": "6nMuxyfzFtHv"
   },
   "outputs": [],
   "source": [
    "def cross_entropy_loss(t, h):\n",
    "    def cross_entropy_loss_single(t, h):\n",
    "        sum = Var(0.0)\n",
    "        exp_sum = Var(0.0)\n",
    "        for i in range(len(t)): # sum over outputs\n",
    "            print(t[i])\n",
    "            print(h[i])\n",
    "            sum += t[i]*h[i]\n",
    "            exp_sum += h[i].exp()\n",
    "        return -sum + exp_sum.log() \n",
    "\n",
    "    Loss = Var(0.0)\n",
    "    for n in range(len(t)): # sum over training data\n",
    "        Loss += cross_entropy_loss_single(t[n],h[n])\n",
    "    return Loss"
   ]
  },
  {
   "cell_type": "markdown",
   "metadata": {
    "id": "8fAF5ew4FtHy"
   },
   "source": [
    "# Backward pass\n",
    "\n",
    "Now the magic happens! We get the calculation of the gradients for free. Just do:"
   ]
  },
  {
   "cell_type": "code",
   "execution_count": 27,
   "metadata": {
    "id": "iHyfPPI9Qqwu"
   },
   "outputs": [
    {
     "name": "stdout",
     "output_type": "stream",
     "text": [
      "Var(v=101.8529, grad=0.0000)\n"
     ]
    }
   ],
   "source": [
    "NN = [\n",
    "    DenseLayer(1, 5, lambda x: x.relu()),\n",
    "    DenseLayer(5, 1, lambda x: x.identity())\n",
    "]\n",
    "\n",
    "output = forward(x_train, NN)\n",
    "\n",
    "Loss = squared_loss(y_train,output)\n",
    "print(Loss)\n",
    "Loss.backward()"
   ]
  },
  {
   "cell_type": "markdown",
   "metadata": {
    "id": "49biIAYKQ1oG"
   },
   "source": [
    "and the gradients will be calculated:"
   ]
  },
  {
   "cell_type": "code",
   "execution_count": 28,
   "metadata": {
    "id": "_rGt1bq_Q7uk"
   },
   "outputs": [
    {
     "name": "stdout",
     "output_type": "stream",
     "text": [
      "Layer 0 \n",
      " Weights: [[Var(v=-0.1643, grad=14.5043), Var(v=-0.1150, grad=-4.3521), Var(v=-0.1116, grad=-2.2142), Var(v=0.0080, grad=17.9404), Var(v=-0.1187, grad=13.4309)]]\n",
      " Biases: [Var(v=0.0000, grad=-13.1750), Var(v=0.0000, grad=3.9532), Var(v=0.0000, grad=2.0113), Var(v=0.0000, grad=15.4104), Var(v=0.0000, grad=-12.2000)]\n",
      "\n",
      "Layer 1 \n",
      " Weights: [[Var(v=-0.1568, grad=15.2007)], [Var(v=0.0470, grad=10.6397)], [Var(v=0.0239, grad=10.3243)], [Var(v=-0.1763, grad=-0.8149)], [Var(v=-0.1452, grad=10.9803)]]\n",
      " Biases: [Var(v=0.0000, grad=-3.3638)]\n",
      "\n"
     ]
    },
    {
     "data": {
      "text/plain": [
       "[None, None]"
      ]
     },
     "execution_count": 28,
     "metadata": {},
     "output_type": "execute_result"
    }
   ],
   "source": [
    "[print('Layer', i, '\\n', NN[i]) for i in range(len(NN))] "
   ]
  },
  {
   "cell_type": "markdown",
   "metadata": {
    "id": "D7d7qK0uFtH9"
   },
   "source": [
    "# Backward pass unit test\n",
    "\n",
    "Above we used finite differences to test that Nanograd is actually doing what it is supposed to do. We can in principle try the same for the neural network. But we will trust that the test above is enough."
   ]
  },
  {
   "cell_type": "markdown",
   "metadata": {
    "id": "WgBi8GOSFtIN"
   },
   "source": [
    "# Training and validation\n",
    "\n",
    "We are ready to train some neural networks!\n",
    "\n",
    "We initialize again:"
   ]
  },
  {
   "cell_type": "code",
   "execution_count": 29,
   "metadata": {
    "id": "01ePmzBzRtdh"
   },
   "outputs": [],
   "source": [
    "NN = [\n",
    "    DenseLayer(1, 15, lambda x: x.relu()),\n",
    "    DenseLayer(15, 50, lambda x: x.relu()),\n",
    "    DenseLayer(50, 1, lambda x: x.identity())\n",
    "]\n",
    "\n",
    "output = forward(x_train, NN)\n",
    "\n",
    "Loss = squared_loss(y_train,output)\n",
    "Loss.backward()"
   ]
  },
  {
   "cell_type": "markdown",
   "metadata": {
    "id": "10iRPiQ1ISHw"
   },
   "source": [
    "and make an update:\n",
    "\n",
    "We introduce a help function parameters to have a handle in all parameters in the network."
   ]
  },
  {
   "cell_type": "code",
   "execution_count": 31,
   "metadata": {
    "id": "dhAI7eyeznia"
   },
   "outputs": [
    {
     "name": "stdout",
     "output_type": "stream",
     "text": [
      "Network before update:\n",
      "Layer 0 \n",
      " Weights: [[Var(v=0.0628, grad=0.0000), Var(v=0.1048, grad=0.0000), Var(v=-0.0648, grad=0.0000), Var(v=0.0562, grad=0.0000), Var(v=-0.1736, grad=0.0000), Var(v=0.1750, grad=0.0000), Var(v=-0.1126, grad=0.0000), Var(v=-0.1686, grad=0.0000), Var(v=-0.0048, grad=0.0000), Var(v=-0.0448, grad=0.0000), Var(v=-0.0016, grad=0.0000), Var(v=0.1193, grad=0.0000), Var(v=0.0037, grad=0.0000), Var(v=-0.0975, grad=0.0000), Var(v=-0.2417, grad=0.0000)]]\n",
      " Biases: [Var(v=-0.0045, grad=0.0000), Var(v=0.0529, grad=0.0000), Var(v=0.0071, grad=0.0000), Var(v=-0.0126, grad=0.0000), Var(v=-0.0439, grad=0.0000), Var(v=0.0256, grad=0.0000), Var(v=-0.0257, grad=0.0000), Var(v=-0.0135, grad=0.0000), Var(v=-0.0070, grad=0.0000), Var(v=-0.0007, grad=0.0000), Var(v=-0.0217, grad=0.0000), Var(v=0.0011, grad=0.0000), Var(v=-0.0050, grad=0.0000), Var(v=-0.0030, grad=0.0000), Var(v=0.0406, grad=0.0000)]\n",
      "\n",
      "Layer 1 \n",
      " Weights: [[Var(v=-0.0326, grad=0.0000), Var(v=-0.0476, grad=0.0000), Var(v=-0.2248, grad=0.0000), Var(v=-0.1158, grad=0.0000), Var(v=-0.0792, grad=0.0000), Var(v=0.1646, grad=0.0000), Var(v=0.1122, grad=0.0000), Var(v=-0.0129, grad=0.0000), Var(v=-0.1416, grad=0.0000), Var(v=0.0532, grad=0.0000), Var(v=-0.0260, grad=0.0000), Var(v=0.0788, grad=0.0000), Var(v=-0.0588, grad=0.0000), Var(v=0.0018, grad=0.0000), Var(v=0.0695, grad=0.0000), Var(v=0.0361, grad=0.0000), Var(v=0.0446, grad=0.0000), Var(v=0.0543, grad=0.0000), Var(v=0.0885, grad=0.0000), Var(v=0.0491, grad=0.0000), Var(v=0.0933, grad=0.0000), Var(v=-0.0145, grad=0.0000), Var(v=0.0085, grad=0.0000), Var(v=0.0542, grad=0.0000), Var(v=0.0776, grad=0.0000), Var(v=0.0512, grad=0.0000), Var(v=0.0785, grad=0.0000), Var(v=-0.0640, grad=0.0000), Var(v=0.0893, grad=0.0000), Var(v=-0.0467, grad=0.0000), Var(v=-0.0319, grad=0.0000), Var(v=0.1825, grad=0.0000), Var(v=-0.0262, grad=0.0000), Var(v=0.1005, grad=0.0000), Var(v=0.0708, grad=0.0000), Var(v=-0.2046, grad=0.0000), Var(v=-0.0773, grad=0.0000), Var(v=0.0216, grad=0.0000), Var(v=-0.0771, grad=0.0000), Var(v=0.0740, grad=0.0000), Var(v=0.0399, grad=0.0000), Var(v=-0.0659, grad=0.0000), Var(v=0.0970, grad=0.0000), Var(v=0.0610, grad=0.0000), Var(v=0.0939, grad=0.0000), Var(v=0.0209, grad=0.0000), Var(v=0.0060, grad=0.0000), Var(v=-0.1000, grad=0.0000), Var(v=-0.0200, grad=0.0000), Var(v=0.1159, grad=0.0000)], [Var(v=-0.0668, grad=0.0000), Var(v=0.0351, grad=0.0000), Var(v=0.0282, grad=0.0000), Var(v=0.0975, grad=0.0000), Var(v=0.1071, grad=0.0000), Var(v=0.0481, grad=0.0000), Var(v=0.0239, grad=0.0000), Var(v=-0.0009, grad=0.0000), Var(v=0.0390, grad=0.0000), Var(v=0.2408, grad=0.0000), Var(v=-0.0974, grad=0.0000), Var(v=-0.0516, grad=0.0000), Var(v=-0.0220, grad=0.0000), Var(v=0.0931, grad=0.0000), Var(v=-0.0985, grad=0.0000), Var(v=0.1056, grad=0.0000), Var(v=-0.0125, grad=0.0000), Var(v=-0.0100, grad=0.0000), Var(v=0.0321, grad=0.0000), Var(v=0.0053, grad=0.0000), Var(v=-0.0463, grad=0.0000), Var(v=-0.0295, grad=0.0000), Var(v=0.0106, grad=0.0000), Var(v=-0.0360, grad=0.0000), Var(v=-0.0109, grad=0.0000), Var(v=0.1389, grad=0.0000), Var(v=-0.0886, grad=0.0000), Var(v=0.0939, grad=0.0000), Var(v=-0.0124, grad=0.0000), Var(v=-0.1055, grad=0.0000), Var(v=-0.2044, grad=0.0000), Var(v=0.0487, grad=0.0000), Var(v=0.0385, grad=0.0000), Var(v=-0.0864, grad=0.0000), Var(v=-0.0756, grad=0.0000), Var(v=-0.0419, grad=0.0000), Var(v=-0.0794, grad=0.0000), Var(v=0.0955, grad=0.0000), Var(v=-0.0442, grad=0.0000), Var(v=0.1174, grad=0.0000), Var(v=-0.0206, grad=0.0000), Var(v=-0.1639, grad=0.0000), Var(v=0.0911, grad=0.0000), Var(v=0.0946, grad=0.0000), Var(v=0.0687, grad=0.0000), Var(v=-0.1880, grad=0.0000), Var(v=0.0308, grad=0.0000), Var(v=-0.0503, grad=0.0000), Var(v=-0.2821, grad=0.0000), Var(v=0.0056, grad=0.0000)], [Var(v=-0.0594, grad=0.0000), Var(v=-0.1193, grad=0.0000), Var(v=0.1441, grad=0.0000), Var(v=0.0720, grad=0.0000), Var(v=-0.0391, grad=0.0000), Var(v=-0.0041, grad=0.0000), Var(v=0.0256, grad=0.0000), Var(v=0.1154, grad=0.0000), Var(v=0.1482, grad=0.0000), Var(v=-0.0635, grad=0.0000), Var(v=-0.0631, grad=0.0000), Var(v=-0.0793, grad=0.0000), Var(v=0.0117, grad=0.0000), Var(v=-0.0814, grad=0.0000), Var(v=0.0387, grad=0.0000), Var(v=0.0945, grad=0.0000), Var(v=0.0272, grad=0.0000), Var(v=0.0463, grad=0.0000), Var(v=-0.0177, grad=0.0000), Var(v=-0.0659, grad=0.0000), Var(v=0.1867, grad=0.0000), Var(v=0.0232, grad=0.0000), Var(v=0.0258, grad=0.0000), Var(v=0.0570, grad=0.0000), Var(v=-0.1185, grad=0.0000), Var(v=-0.0912, grad=0.0000), Var(v=0.0572, grad=0.0000), Var(v=-0.0614, grad=0.0000), Var(v=-0.0237, grad=0.0000), Var(v=-0.1139, grad=0.0000), Var(v=0.1790, grad=0.0000), Var(v=0.0342, grad=0.0000), Var(v=0.1069, grad=0.0000), Var(v=-0.0112, grad=0.0000), Var(v=0.1028, grad=0.0000), Var(v=0.0074, grad=0.0000), Var(v=0.0499, grad=0.0000), Var(v=-0.0402, grad=0.0000), Var(v=0.1367, grad=0.0000), Var(v=0.0882, grad=0.0000), Var(v=0.0900, grad=0.0000), Var(v=0.0549, grad=0.0000), Var(v=-0.0696, grad=0.0000), Var(v=-0.2157, grad=0.0000), Var(v=-0.0866, grad=0.0000), Var(v=-0.0934, grad=0.0000), Var(v=0.1215, grad=0.0000), Var(v=0.0753, grad=0.0000), Var(v=-0.1150, grad=0.0000), Var(v=0.0454, grad=0.0000)], [Var(v=-0.0185, grad=0.0000), Var(v=-0.0411, grad=0.0000), Var(v=-0.0940, grad=0.0000), Var(v=0.0672, grad=0.0000), Var(v=-0.1833, grad=0.0000), Var(v=0.0005, grad=0.0000), Var(v=-0.0005, grad=0.0000), Var(v=-0.0509, grad=0.0000), Var(v=0.0428, grad=0.0000), Var(v=0.0483, grad=0.0000), Var(v=-0.0135, grad=0.0000), Var(v=-0.1505, grad=0.0000), Var(v=0.0370, grad=0.0000), Var(v=0.1022, grad=0.0000), Var(v=-0.0735, grad=0.0000), Var(v=-0.0963, grad=0.0000), Var(v=0.0685, grad=0.0000), Var(v=-0.0153, grad=0.0000), Var(v=0.1358, grad=0.0000), Var(v=-0.1728, grad=0.0000), Var(v=0.0227, grad=0.0000), Var(v=-0.1339, grad=0.0000), Var(v=0.0955, grad=0.0000), Var(v=-0.1553, grad=0.0000), Var(v=0.1288, grad=0.0000), Var(v=0.0220, grad=0.0000), Var(v=-0.0845, grad=0.0000), Var(v=0.1820, grad=0.0000), Var(v=-0.0528, grad=0.0000), Var(v=0.0872, grad=0.0000), Var(v=-0.0310, grad=0.0000), Var(v=-0.0988, grad=0.0000), Var(v=-0.0817, grad=0.0000), Var(v=0.0040, grad=0.0000), Var(v=-0.0485, grad=0.0000), Var(v=-0.0596, grad=0.0000), Var(v=0.0548, grad=0.0000), Var(v=-0.1251, grad=0.0000), Var(v=0.1115, grad=0.0000), Var(v=0.0597, grad=0.0000), Var(v=-0.0944, grad=0.0000), Var(v=0.0235, grad=0.0000), Var(v=-0.1520, grad=0.0000), Var(v=-0.0596, grad=0.0000), Var(v=0.0087, grad=0.0000), Var(v=0.0135, grad=0.0000), Var(v=-0.1465, grad=0.0000), Var(v=-0.0120, grad=0.0000), Var(v=0.0940, grad=0.0000), Var(v=0.1215, grad=0.0000)], [Var(v=0.3055, grad=0.0000), Var(v=0.0230, grad=0.0000), Var(v=-0.0913, grad=0.0000), Var(v=0.0642, grad=0.0000), Var(v=0.0510, grad=0.0000), Var(v=0.0390, grad=0.0000), Var(v=-0.1984, grad=0.0000), Var(v=-0.0684, grad=0.0000), Var(v=-0.0341, grad=0.0000), Var(v=0.2008, grad=0.0000), Var(v=0.0736, grad=0.0000), Var(v=0.0274, grad=0.0000), Var(v=-0.2618, grad=0.0000), Var(v=0.0968, grad=0.0000), Var(v=-0.0738, grad=0.0000), Var(v=-0.1306, grad=0.0000), Var(v=-0.0442, grad=0.0000), Var(v=-0.0185, grad=0.0000), Var(v=0.0082, grad=0.0000), Var(v=0.0591, grad=0.0000), Var(v=-0.0921, grad=0.0000), Var(v=0.0218, grad=0.0000), Var(v=0.0714, grad=0.0000), Var(v=-0.0629, grad=0.0000), Var(v=-0.0703, grad=0.0000), Var(v=0.1539, grad=0.0000), Var(v=-0.1866, grad=0.0000), Var(v=0.1029, grad=0.0000), Var(v=0.0901, grad=0.0000), Var(v=0.0073, grad=0.0000), Var(v=0.0898, grad=0.0000), Var(v=-0.0739, grad=0.0000), Var(v=0.0325, grad=0.0000), Var(v=0.1156, grad=0.0000), Var(v=0.0666, grad=0.0000), Var(v=-0.0779, grad=0.0000), Var(v=-0.0787, grad=0.0000), Var(v=0.0164, grad=0.0000), Var(v=0.0600, grad=0.0000), Var(v=-0.1026, grad=0.0000), Var(v=-0.0845, grad=0.0000), Var(v=-0.0374, grad=0.0000), Var(v=-0.0428, grad=0.0000), Var(v=-0.0072, grad=0.0000), Var(v=0.0189, grad=0.0000), Var(v=-0.2066, grad=0.0000), Var(v=-0.1832, grad=0.0000), Var(v=0.2016, grad=0.0000), Var(v=-0.0031, grad=0.0000), Var(v=0.1148, grad=0.0000)], [Var(v=-0.2254, grad=0.0000), Var(v=-0.0362, grad=0.0000), Var(v=-0.1748, grad=0.0000), Var(v=-0.1749, grad=0.0000), Var(v=-0.0576, grad=0.0000), Var(v=-0.0029, grad=0.0000), Var(v=-0.0375, grad=0.0000), Var(v=-0.0207, grad=0.0000), Var(v=0.1985, grad=0.0000), Var(v=0.0609, grad=0.0000), Var(v=0.0409, grad=0.0000), Var(v=-0.1033, grad=0.0000), Var(v=0.0964, grad=0.0000), Var(v=0.0930, grad=0.0000), Var(v=0.1036, grad=0.0000), Var(v=0.2800, grad=0.0000), Var(v=0.0685, grad=0.0000), Var(v=-0.0273, grad=0.0000), Var(v=0.0785, grad=0.0000), Var(v=-0.0245, grad=0.0000), Var(v=-0.2418, grad=0.0000), Var(v=-0.1479, grad=0.0000), Var(v=0.0353, grad=0.0000), Var(v=-0.0686, grad=0.0000), Var(v=-0.0154, grad=0.0000), Var(v=-0.0540, grad=0.0000), Var(v=-0.1117, grad=0.0000), Var(v=-0.1000, grad=0.0000), Var(v=0.1549, grad=0.0000), Var(v=0.0575, grad=0.0000), Var(v=-0.1245, grad=0.0000), Var(v=-0.1117, grad=0.0000), Var(v=0.0076, grad=0.0000), Var(v=0.0400, grad=0.0000), Var(v=0.0661, grad=0.0000), Var(v=-0.0876, grad=0.0000), Var(v=0.1562, grad=0.0000), Var(v=0.0164, grad=0.0000), Var(v=-0.0793, grad=0.0000), Var(v=0.0820, grad=0.0000), Var(v=-0.0214, grad=0.0000), Var(v=-0.0613, grad=0.0000), Var(v=-0.1921, grad=0.0000), Var(v=-0.1323, grad=0.0000), Var(v=0.1809, grad=0.0000), Var(v=0.1430, grad=0.0000), Var(v=-0.0618, grad=0.0000), Var(v=0.0913, grad=0.0000), Var(v=0.1327, grad=0.0000), Var(v=0.0182, grad=0.0000)], [Var(v=-0.0829, grad=0.0000), Var(v=0.0906, grad=0.0000), Var(v=-0.1964, grad=0.0000), Var(v=-0.0622, grad=0.0000), Var(v=0.0037, grad=0.0000), Var(v=-0.1450, grad=0.0000), Var(v=0.0835, grad=0.0000), Var(v=0.0049, grad=0.0000), Var(v=-0.0386, grad=0.0000), Var(v=-0.0172, grad=0.0000), Var(v=-0.0579, grad=0.0000), Var(v=0.0913, grad=0.0000), Var(v=0.1599, grad=0.0000), Var(v=-0.0709, grad=0.0000), Var(v=-0.0102, grad=0.0000), Var(v=0.1724, grad=0.0000), Var(v=-0.0383, grad=0.0000), Var(v=-0.0573, grad=0.0000), Var(v=0.0999, grad=0.0000), Var(v=-0.0235, grad=0.0000), Var(v=-0.0374, grad=0.0000), Var(v=-0.0647, grad=0.0000), Var(v=0.0228, grad=0.0000), Var(v=-0.0735, grad=0.0000), Var(v=-0.0773, grad=0.0000), Var(v=0.0939, grad=0.0000), Var(v=0.0578, grad=0.0000), Var(v=-0.0219, grad=0.0000), Var(v=0.0487, grad=0.0000), Var(v=0.0811, grad=0.0000), Var(v=-0.0990, grad=0.0000), Var(v=0.0064, grad=0.0000), Var(v=-0.0182, grad=0.0000), Var(v=0.0063, grad=0.0000), Var(v=-0.1961, grad=0.0000), Var(v=0.1948, grad=0.0000), Var(v=-0.0076, grad=0.0000), Var(v=-0.0298, grad=0.0000), Var(v=-0.0626, grad=0.0000), Var(v=0.0558, grad=0.0000), Var(v=0.0239, grad=0.0000), Var(v=-0.1027, grad=0.0000), Var(v=0.0425, grad=0.0000), Var(v=-0.0834, grad=0.0000), Var(v=-0.1976, grad=0.0000), Var(v=0.0386, grad=0.0000), Var(v=0.0585, grad=0.0000), Var(v=-0.0765, grad=0.0000), Var(v=0.1256, grad=0.0000), Var(v=-0.1474, grad=0.0000)], [Var(v=-0.0451, grad=0.0000), Var(v=-0.0419, grad=0.0000), Var(v=-0.0134, grad=0.0000), Var(v=-0.0454, grad=0.0000), Var(v=0.1398, grad=0.0000), Var(v=0.0511, grad=0.0000), Var(v=0.0837, grad=0.0000), Var(v=0.0592, grad=0.0000), Var(v=-0.0189, grad=0.0000), Var(v=-0.0334, grad=0.0000), Var(v=-0.1887, grad=0.0000), Var(v=-0.0692, grad=0.0000), Var(v=0.0191, grad=0.0000), Var(v=-0.1513, grad=0.0000), Var(v=-0.0738, grad=0.0000), Var(v=0.0610, grad=0.0000), Var(v=0.0327, grad=0.0000), Var(v=0.1942, grad=0.0000), Var(v=-0.0253, grad=0.0000), Var(v=0.0708, grad=0.0000), Var(v=-0.0708, grad=0.0000), Var(v=-0.1956, grad=0.0000), Var(v=0.0558, grad=0.0000), Var(v=0.0410, grad=0.0000), Var(v=-0.0650, grad=0.0000), Var(v=0.0682, grad=0.0000), Var(v=-0.0220, grad=0.0000), Var(v=-0.0058, grad=0.0000), Var(v=-0.0269, grad=0.0000), Var(v=-0.0508, grad=0.0000), Var(v=0.2515, grad=0.0000), Var(v=0.0865, grad=0.0000), Var(v=-0.0974, grad=0.0000), Var(v=0.0304, grad=0.0000), Var(v=-0.0195, grad=0.0000), Var(v=-0.0129, grad=0.0000), Var(v=0.0148, grad=0.0000), Var(v=-0.1434, grad=0.0000), Var(v=-0.0776, grad=0.0000), Var(v=0.1586, grad=0.0000), Var(v=-0.2271, grad=0.0000), Var(v=-0.0252, grad=0.0000), Var(v=0.0693, grad=0.0000), Var(v=0.0414, grad=0.0000), Var(v=-0.0548, grad=0.0000), Var(v=-0.0587, grad=0.0000), Var(v=-0.0649, grad=0.0000), Var(v=0.0072, grad=0.0000), Var(v=-0.1626, grad=0.0000), Var(v=-0.0748, grad=0.0000)], [Var(v=-0.0078, grad=0.0000), Var(v=0.0651, grad=0.0000), Var(v=-0.0832, grad=0.0000), Var(v=0.0042, grad=0.0000), Var(v=0.0481, grad=0.0000), Var(v=0.0914, grad=0.0000), Var(v=-0.0688, grad=0.0000), Var(v=0.2815, grad=0.0000), Var(v=-0.0105, grad=0.0000), Var(v=-0.1210, grad=0.0000), Var(v=0.0941, grad=0.0000), Var(v=-0.1676, grad=0.0000), Var(v=-0.0277, grad=0.0000), Var(v=0.0261, grad=0.0000), Var(v=-0.0050, grad=0.0000), Var(v=0.0550, grad=0.0000), Var(v=-0.1567, grad=0.0000), Var(v=0.0611, grad=0.0000), Var(v=-0.1395, grad=0.0000), Var(v=0.1227, grad=0.0000), Var(v=0.0232, grad=0.0000), Var(v=0.0800, grad=0.0000), Var(v=-0.1325, grad=0.0000), Var(v=0.2116, grad=0.0000), Var(v=0.0543, grad=0.0000), Var(v=-0.0767, grad=0.0000), Var(v=0.1120, grad=0.0000), Var(v=0.0341, grad=0.0000), Var(v=0.0228, grad=0.0000), Var(v=-0.0707, grad=0.0000), Var(v=-0.1258, grad=0.0000), Var(v=0.1097, grad=0.0000), Var(v=0.0546, grad=0.0000), Var(v=0.1196, grad=0.0000), Var(v=0.0796, grad=0.0000), Var(v=0.1115, grad=0.0000), Var(v=-0.0668, grad=0.0000), Var(v=0.0895, grad=0.0000), Var(v=0.3552, grad=0.0000), Var(v=-0.0570, grad=0.0000), Var(v=-0.0734, grad=0.0000), Var(v=-0.0109, grad=0.0000), Var(v=0.0520, grad=0.0000), Var(v=-0.0536, grad=0.0000), Var(v=0.1324, grad=0.0000), Var(v=0.1190, grad=0.0000), Var(v=0.0039, grad=0.0000), Var(v=-0.0783, grad=0.0000), Var(v=0.0812, grad=0.0000), Var(v=0.0950, grad=0.0000)], [Var(v=-0.0913, grad=0.0000), Var(v=-0.0731, grad=0.0000), Var(v=0.0373, grad=0.0000), Var(v=-0.0046, grad=0.0000), Var(v=-0.0351, grad=0.0000), Var(v=-0.0572, grad=0.0000), Var(v=-0.0120, grad=0.0000), Var(v=-0.2135, grad=0.0000), Var(v=0.0107, grad=0.0000), Var(v=0.0972, grad=0.0000), Var(v=0.0326, grad=0.0000), Var(v=0.0919, grad=0.0000), Var(v=-0.0354, grad=0.0000), Var(v=-0.1441, grad=0.0000), Var(v=-0.0888, grad=0.0000), Var(v=-0.0143, grad=0.0000), Var(v=-0.1092, grad=0.0000), Var(v=-0.0663, grad=0.0000), Var(v=-0.0346, grad=0.0000), Var(v=0.0072, grad=0.0000), Var(v=0.0132, grad=0.0000), Var(v=-0.0206, grad=0.0000), Var(v=-0.0563, grad=0.0000), Var(v=-0.0350, grad=0.0000), Var(v=-0.0538, grad=0.0000), Var(v=0.0484, grad=0.0000), Var(v=0.1919, grad=0.0000), Var(v=0.1759, grad=0.0000), Var(v=-0.0378, grad=0.0000), Var(v=0.0688, grad=0.0000), Var(v=0.0282, grad=0.0000), Var(v=0.0835, grad=0.0000), Var(v=0.1146, grad=0.0000), Var(v=-0.0171, grad=0.0000), Var(v=-0.1113, grad=0.0000), Var(v=-0.0607, grad=0.0000), Var(v=-0.0431, grad=0.0000), Var(v=-0.0122, grad=0.0000), Var(v=-0.0117, grad=0.0000), Var(v=0.0411, grad=0.0000), Var(v=0.0645, grad=0.0000), Var(v=0.3006, grad=0.0000), Var(v=-0.1713, grad=0.0000), Var(v=-0.1517, grad=0.0000), Var(v=0.0285, grad=0.0000), Var(v=0.1184, grad=0.0000), Var(v=0.0069, grad=0.0000), Var(v=0.0313, grad=0.0000), Var(v=-0.0025, grad=0.0000), Var(v=0.0315, grad=0.0000)], [Var(v=-0.1462, grad=0.0000), Var(v=0.1107, grad=0.0000), Var(v=0.0403, grad=0.0000), Var(v=0.1348, grad=0.0000), Var(v=-0.0377, grad=0.0000), Var(v=-0.0646, grad=0.0000), Var(v=-0.0343, grad=0.0000), Var(v=-0.0782, grad=0.0000), Var(v=-0.1959, grad=0.0000), Var(v=-0.0684, grad=0.0000), Var(v=0.0077, grad=0.0000), Var(v=-0.1024, grad=0.0000), Var(v=0.0415, grad=0.0000), Var(v=0.1282, grad=0.0000), Var(v=0.0857, grad=0.0000), Var(v=0.1494, grad=0.0000), Var(v=0.0706, grad=0.0000), Var(v=0.1788, grad=0.0000), Var(v=0.1884, grad=0.0000), Var(v=0.0284, grad=0.0000), Var(v=0.0427, grad=0.0000), Var(v=0.2658, grad=0.0000), Var(v=-0.0466, grad=0.0000), Var(v=-0.1985, grad=0.0000), Var(v=0.0135, grad=0.0000), Var(v=0.0299, grad=0.0000), Var(v=0.0260, grad=0.0000), Var(v=0.0547, grad=0.0000), Var(v=0.1414, grad=0.0000), Var(v=0.1445, grad=0.0000), Var(v=0.1600, grad=0.0000), Var(v=-0.0785, grad=0.0000), Var(v=0.0663, grad=0.0000), Var(v=0.0516, grad=0.0000), Var(v=0.0122, grad=0.0000), Var(v=-0.0017, grad=0.0000), Var(v=-0.0017, grad=0.0000), Var(v=0.0367, grad=0.0000), Var(v=-0.0541, grad=0.0000), Var(v=0.0938, grad=0.0000), Var(v=0.0319, grad=0.0000), Var(v=0.0474, grad=0.0000), Var(v=-0.0762, grad=0.0000), Var(v=0.1225, grad=0.0000), Var(v=0.0153, grad=0.0000), Var(v=-0.0934, grad=0.0000), Var(v=0.0609, grad=0.0000), Var(v=0.0262, grad=0.0000), Var(v=-0.0182, grad=0.0000), Var(v=-0.1587, grad=0.0000)], [Var(v=0.0700, grad=0.0000), Var(v=0.0111, grad=0.0000), Var(v=-0.0640, grad=0.0000), Var(v=0.0751, grad=0.0000), Var(v=-0.0442, grad=0.0000), Var(v=0.0743, grad=0.0000), Var(v=-0.0426, grad=0.0000), Var(v=-0.0080, grad=0.0000), Var(v=0.0051, grad=0.0000), Var(v=0.0556, grad=0.0000), Var(v=0.0622, grad=0.0000), Var(v=-0.0501, grad=0.0000), Var(v=-0.1088, grad=0.0000), Var(v=0.1752, grad=0.0000), Var(v=-0.0848, grad=0.0000), Var(v=-0.1034, grad=0.0000), Var(v=-0.1053, grad=0.0000), Var(v=0.1480, grad=0.0000), Var(v=-0.0175, grad=0.0000), Var(v=0.2935, grad=0.0000), Var(v=0.0461, grad=0.0000), Var(v=0.0348, grad=0.0000), Var(v=0.0107, grad=0.0000), Var(v=-0.0996, grad=0.0000), Var(v=-0.0019, grad=0.0000), Var(v=-0.0225, grad=0.0000), Var(v=0.1449, grad=0.0000), Var(v=0.1138, grad=0.0000), Var(v=0.0545, grad=0.0000), Var(v=-0.0664, grad=0.0000), Var(v=-0.0438, grad=0.0000), Var(v=0.0518, grad=0.0000), Var(v=0.0645, grad=0.0000), Var(v=0.0569, grad=0.0000), Var(v=0.1699, grad=0.0000), Var(v=-0.1177, grad=0.0000), Var(v=0.0105, grad=0.0000), Var(v=-0.1733, grad=0.0000), Var(v=0.0372, grad=0.0000), Var(v=0.0344, grad=0.0000), Var(v=-0.1476, grad=0.0000), Var(v=0.1326, grad=0.0000), Var(v=-0.0372, grad=0.0000), Var(v=0.1039, grad=0.0000), Var(v=-0.1442, grad=0.0000), Var(v=-0.1535, grad=0.0000), Var(v=-0.0107, grad=0.0000), Var(v=-0.0417, grad=0.0000), Var(v=0.0004, grad=0.0000), Var(v=0.1853, grad=0.0000)], [Var(v=-0.0723, grad=0.0000), Var(v=0.0639, grad=0.0000), Var(v=-0.1111, grad=0.0000), Var(v=-0.0238, grad=0.0000), Var(v=-0.1390, grad=0.0000), Var(v=0.1376, grad=0.0000), Var(v=0.0602, grad=0.0000), Var(v=0.0280, grad=0.0000), Var(v=-0.0904, grad=0.0000), Var(v=0.1712, grad=0.0000), Var(v=0.0426, grad=0.0000), Var(v=0.1058, grad=0.0000), Var(v=-0.0149, grad=0.0000), Var(v=-0.0376, grad=0.0000), Var(v=0.0133, grad=0.0000), Var(v=0.0748, grad=0.0000), Var(v=0.0141, grad=0.0000), Var(v=0.0199, grad=0.0000), Var(v=0.0655, grad=0.0000), Var(v=-0.2210, grad=0.0000), Var(v=0.0846, grad=0.0000), Var(v=0.0187, grad=0.0000), Var(v=0.0521, grad=0.0000), Var(v=-0.1782, grad=0.0000), Var(v=0.0656, grad=0.0000), Var(v=0.0670, grad=0.0000), Var(v=0.0338, grad=0.0000), Var(v=0.1897, grad=0.0000), Var(v=0.0220, grad=0.0000), Var(v=0.0462, grad=0.0000), Var(v=-0.0234, grad=0.0000), Var(v=0.0458, grad=0.0000), Var(v=-0.0364, grad=0.0000), Var(v=0.1335, grad=0.0000), Var(v=0.0975, grad=0.0000), Var(v=0.0640, grad=0.0000), Var(v=0.1406, grad=0.0000), Var(v=-0.0650, grad=0.0000), Var(v=0.0961, grad=0.0000), Var(v=0.0461, grad=0.0000), Var(v=-0.2074, grad=0.0000), Var(v=0.1460, grad=0.0000), Var(v=-0.0960, grad=0.0000), Var(v=0.0419, grad=0.0000), Var(v=-0.1378, grad=0.0000), Var(v=-0.0199, grad=0.0000), Var(v=0.0775, grad=0.0000), Var(v=0.0452, grad=0.0000), Var(v=0.0616, grad=0.0000), Var(v=0.0855, grad=0.0000)], [Var(v=0.1049, grad=0.0000), Var(v=-0.0974, grad=0.0000), Var(v=0.0782, grad=0.0000), Var(v=0.2044, grad=0.0000), Var(v=-0.1390, grad=0.0000), Var(v=-0.1561, grad=0.0000), Var(v=0.0205, grad=0.0000), Var(v=-0.0144, grad=0.0000), Var(v=0.0463, grad=0.0000), Var(v=-0.1227, grad=0.0000), Var(v=-0.0173, grad=0.0000), Var(v=-0.0903, grad=0.0000), Var(v=-0.1059, grad=0.0000), Var(v=0.0247, grad=0.0000), Var(v=0.1685, grad=0.0000), Var(v=-0.1645, grad=0.0000), Var(v=0.1037, grad=0.0000), Var(v=-0.0066, grad=0.0000), Var(v=0.0296, grad=0.0000), Var(v=-0.0870, grad=0.0000), Var(v=0.0538, grad=0.0000), Var(v=0.1472, grad=0.0000), Var(v=0.1230, grad=0.0000), Var(v=-0.1345, grad=0.0000), Var(v=0.1252, grad=0.0000), Var(v=-0.0083, grad=0.0000), Var(v=-0.0893, grad=0.0000), Var(v=-0.1330, grad=0.0000), Var(v=0.0205, grad=0.0000), Var(v=0.0200, grad=0.0000), Var(v=-0.0883, grad=0.0000), Var(v=-0.1641, grad=0.0000), Var(v=0.1081, grad=0.0000), Var(v=0.0321, grad=0.0000), Var(v=0.1814, grad=0.0000), Var(v=0.0150, grad=0.0000), Var(v=-0.1286, grad=0.0000), Var(v=-0.1257, grad=0.0000), Var(v=0.0286, grad=0.0000), Var(v=-0.1963, grad=0.0000), Var(v=-0.0084, grad=0.0000), Var(v=0.1441, grad=0.0000), Var(v=0.1571, grad=0.0000), Var(v=-0.0556, grad=0.0000), Var(v=-0.0858, grad=0.0000), Var(v=-0.1299, grad=0.0000), Var(v=0.0450, grad=0.0000), Var(v=0.1020, grad=0.0000), Var(v=0.0970, grad=0.0000), Var(v=-0.0260, grad=0.0000)], [Var(v=0.1823, grad=0.0000), Var(v=-0.0660, grad=0.0000), Var(v=-0.0359, grad=0.0000), Var(v=-0.0419, grad=0.0000), Var(v=-0.0322, grad=0.0000), Var(v=-0.1187, grad=0.0000), Var(v=-0.0452, grad=0.0000), Var(v=0.0429, grad=0.0000), Var(v=-0.0922, grad=0.0000), Var(v=0.0076, grad=0.0000), Var(v=0.0575, grad=0.0000), Var(v=0.0858, grad=0.0000), Var(v=-0.2809, grad=0.0000), Var(v=0.0942, grad=0.0000), Var(v=0.0370, grad=0.0000), Var(v=0.0302, grad=0.0000), Var(v=-0.0315, grad=0.0000), Var(v=-0.0709, grad=0.0000), Var(v=0.0548, grad=0.0000), Var(v=-0.0429, grad=0.0000), Var(v=-0.0623, grad=0.0000), Var(v=0.0719, grad=0.0000), Var(v=-0.1102, grad=0.0000), Var(v=-0.0980, grad=0.0000), Var(v=-0.0104, grad=0.0000), Var(v=-0.1072, grad=0.0000), Var(v=-0.1102, grad=0.0000), Var(v=-0.1173, grad=0.0000), Var(v=-0.0223, grad=0.0000), Var(v=0.1580, grad=0.0000), Var(v=0.1332, grad=0.0000), Var(v=-0.0533, grad=0.0000), Var(v=-0.1015, grad=0.0000), Var(v=-0.1077, grad=0.0000), Var(v=-0.1620, grad=0.0000), Var(v=0.0337, grad=0.0000), Var(v=0.0088, grad=0.0000), Var(v=0.1604, grad=0.0000), Var(v=0.0860, grad=0.0000), Var(v=0.2026, grad=0.0000), Var(v=0.1158, grad=0.0000), Var(v=-0.0482, grad=0.0000), Var(v=-0.1498, grad=0.0000), Var(v=-0.0421, grad=0.0000), Var(v=0.1918, grad=0.0000), Var(v=0.0727, grad=0.0000), Var(v=0.0511, grad=0.0000), Var(v=-0.0160, grad=0.0000), Var(v=-0.0216, grad=0.0000), Var(v=-0.0745, grad=0.0000)]]\n",
      " Biases: [Var(v=0.1038, grad=0.0000), Var(v=-0.1838, grad=0.0000), Var(v=0.0000, grad=0.0000), Var(v=-0.0928, grad=0.0000), Var(v=-0.0356, grad=0.0000), Var(v=0.1536, grad=0.0000), Var(v=-0.0818, grad=0.0000), Var(v=-0.0154, grad=0.0000), Var(v=-0.0024, grad=0.0000), Var(v=-0.0024, grad=0.0000), Var(v=-0.0166, grad=0.0000), Var(v=0.0273, grad=0.0000), Var(v=-0.0670, grad=0.0000), Var(v=-0.0773, grad=0.0000), Var(v=-0.1422, grad=0.0000), Var(v=-0.0002, grad=0.0000), Var(v=-0.0262, grad=0.0000), Var(v=-0.0017, grad=0.0000), Var(v=0.0010, grad=0.0000), Var(v=-0.0004, grad=0.0000), Var(v=0.0000, grad=0.0000), Var(v=0.0000, grad=0.0000), Var(v=-0.0013, grad=0.0000), Var(v=0.0000, grad=0.0000), Var(v=-0.0368, grad=0.0000), Var(v=0.0005, grad=0.0000), Var(v=0.0000, grad=0.0000), Var(v=-0.0089, grad=0.0000), Var(v=-0.0016, grad=0.0000), Var(v=-0.0301, grad=0.0000), Var(v=0.1000, grad=0.0000), Var(v=0.0000, grad=0.0000), Var(v=-0.0524, grad=0.0000), Var(v=0.0007, grad=0.0000), Var(v=-0.0403, grad=0.0000), Var(v=0.0591, grad=0.0000), Var(v=0.0387, grad=0.0000), Var(v=-0.0629, grad=0.0000), Var(v=0.0468, grad=0.0000), Var(v=0.0004, grad=0.0000), Var(v=0.0000, grad=0.0000), Var(v=-0.0388, grad=0.0000), Var(v=0.0000, grad=0.0000), Var(v=0.0000, grad=0.0000), Var(v=0.1325, grad=0.0000), Var(v=0.0000, grad=0.0000), Var(v=0.0000, grad=0.0000), Var(v=-0.0111, grad=0.0000), Var(v=0.0132, grad=0.0000), Var(v=0.0067, grad=0.0000)]\n",
      "\n",
      "Layer 2 \n",
      " Weights: [[Var(v=-0.1807, grad=0.0000)], [Var(v=0.1961, grad=0.0000)], [Var(v=-0.1231, grad=0.0000)], [Var(v=0.0733, grad=0.0000)], [Var(v=0.0219, grad=0.0000)], [Var(v=0.1918, grad=0.0000)], [Var(v=-0.0911, grad=0.0000)], [Var(v=0.0132, grad=0.0000)], [Var(v=0.1880, grad=0.0000)], [Var(v=0.1500, grad=0.0000)], [Var(v=-0.0115, grad=0.0000)], [Var(v=-0.0350, grad=0.0000)], [Var(v=-0.0749, grad=0.0000)], [Var(v=-0.0392, grad=0.0000)], [Var(v=-0.1558, grad=0.0000)], [Var(v=0.0343, grad=0.0000)], [Var(v=-0.0237, grad=0.0000)], [Var(v=0.1025, grad=0.0000)], [Var(v=-0.0550, grad=0.0000)], [Var(v=0.0383, grad=0.0000)], [Var(v=-0.0618, grad=0.0000)], [Var(v=0.1052, grad=0.0000)], [Var(v=0.0728, grad=0.0000)], [Var(v=0.1318, grad=0.0000)], [Var(v=-0.0282, grad=0.0000)], [Var(v=-0.0587, grad=0.0000)], [Var(v=0.0528, grad=0.0000)], [Var(v=0.0037, grad=0.0000)], [Var(v=0.1058, grad=0.0000)], [Var(v=-0.0061, grad=0.0000)], [Var(v=-0.1775, grad=0.0000)], [Var(v=-0.0142, grad=0.0000)], [Var(v=-0.0551, grad=0.0000)], [Var(v=-0.0386, grad=0.0000)], [Var(v=-0.0153, grad=0.0000)], [Var(v=-0.0716, grad=0.0000)], [Var(v=0.0631, grad=0.0000)], [Var(v=0.0692, grad=0.0000)], [Var(v=-0.0650, grad=0.0000)], [Var(v=-0.0313, grad=0.0000)], [Var(v=0.0699, grad=0.0000)], [Var(v=-0.0444, grad=0.0000)], [Var(v=0.2551, grad=0.0000)], [Var(v=-0.0137, grad=0.0000)], [Var(v=0.1635, grad=0.0000)], [Var(v=-0.0311, grad=0.0000)], [Var(v=0.0022, grad=0.0000)], [Var(v=-0.0356, grad=0.0000)], [Var(v=0.0276, grad=0.0000)], [Var(v=0.0498, grad=0.0000)]]\n",
      " Biases: [Var(v=-0.0141, grad=0.0000)]\n",
      "\n",
      "\n",
      "Network after update:\n",
      "Layer 0 \n",
      " Weights: [[Var(v=0.0628, grad=0.0000), Var(v=0.1048, grad=0.0000), Var(v=-0.0648, grad=0.0000), Var(v=0.0562, grad=0.0000), Var(v=-0.1736, grad=0.0000), Var(v=0.1750, grad=0.0000), Var(v=-0.1126, grad=0.0000), Var(v=-0.1686, grad=0.0000), Var(v=-0.0048, grad=0.0000), Var(v=-0.0448, grad=0.0000), Var(v=-0.0016, grad=0.0000), Var(v=0.1193, grad=0.0000), Var(v=0.0037, grad=0.0000), Var(v=-0.0975, grad=0.0000), Var(v=-0.2417, grad=0.0000)]]\n",
      " Biases: [Var(v=-0.0045, grad=0.0000), Var(v=0.0529, grad=0.0000), Var(v=0.0071, grad=0.0000), Var(v=-0.0126, grad=0.0000), Var(v=-0.0439, grad=0.0000), Var(v=0.0256, grad=0.0000), Var(v=-0.0257, grad=0.0000), Var(v=-0.0135, grad=0.0000), Var(v=-0.0070, grad=0.0000), Var(v=-0.0007, grad=0.0000), Var(v=-0.0217, grad=0.0000), Var(v=0.0011, grad=0.0000), Var(v=-0.0050, grad=0.0000), Var(v=-0.0030, grad=0.0000), Var(v=0.0406, grad=0.0000)]\n",
      "\n",
      "Layer 1 \n",
      " Weights: [[Var(v=-0.0326, grad=0.0000), Var(v=-0.0476, grad=0.0000), Var(v=-0.2248, grad=0.0000), Var(v=-0.1158, grad=0.0000), Var(v=-0.0792, grad=0.0000), Var(v=0.1646, grad=0.0000), Var(v=0.1122, grad=0.0000), Var(v=-0.0129, grad=0.0000), Var(v=-0.1416, grad=0.0000), Var(v=0.0532, grad=0.0000), Var(v=-0.0260, grad=0.0000), Var(v=0.0788, grad=0.0000), Var(v=-0.0588, grad=0.0000), Var(v=0.0018, grad=0.0000), Var(v=0.0695, grad=0.0000), Var(v=0.0361, grad=0.0000), Var(v=0.0446, grad=0.0000), Var(v=0.0543, grad=0.0000), Var(v=0.0885, grad=0.0000), Var(v=0.0491, grad=0.0000), Var(v=0.0933, grad=0.0000), Var(v=-0.0145, grad=0.0000), Var(v=0.0085, grad=0.0000), Var(v=0.0542, grad=0.0000), Var(v=0.0776, grad=0.0000), Var(v=0.0512, grad=0.0000), Var(v=0.0785, grad=0.0000), Var(v=-0.0640, grad=0.0000), Var(v=0.0893, grad=0.0000), Var(v=-0.0467, grad=0.0000), Var(v=-0.0319, grad=0.0000), Var(v=0.1825, grad=0.0000), Var(v=-0.0262, grad=0.0000), Var(v=0.1005, grad=0.0000), Var(v=0.0708, grad=0.0000), Var(v=-0.2046, grad=0.0000), Var(v=-0.0773, grad=0.0000), Var(v=0.0216, grad=0.0000), Var(v=-0.0771, grad=0.0000), Var(v=0.0740, grad=0.0000), Var(v=0.0399, grad=0.0000), Var(v=-0.0659, grad=0.0000), Var(v=0.0970, grad=0.0000), Var(v=0.0610, grad=0.0000), Var(v=0.0939, grad=0.0000), Var(v=0.0209, grad=0.0000), Var(v=0.0060, grad=0.0000), Var(v=-0.1000, grad=0.0000), Var(v=-0.0200, grad=0.0000), Var(v=0.1159, grad=0.0000)], [Var(v=-0.0668, grad=0.0000), Var(v=0.0351, grad=0.0000), Var(v=0.0282, grad=0.0000), Var(v=0.0975, grad=0.0000), Var(v=0.1071, grad=0.0000), Var(v=0.0481, grad=0.0000), Var(v=0.0239, grad=0.0000), Var(v=-0.0009, grad=0.0000), Var(v=0.0390, grad=0.0000), Var(v=0.2408, grad=0.0000), Var(v=-0.0974, grad=0.0000), Var(v=-0.0516, grad=0.0000), Var(v=-0.0220, grad=0.0000), Var(v=0.0931, grad=0.0000), Var(v=-0.0985, grad=0.0000), Var(v=0.1056, grad=0.0000), Var(v=-0.0125, grad=0.0000), Var(v=-0.0100, grad=0.0000), Var(v=0.0321, grad=0.0000), Var(v=0.0053, grad=0.0000), Var(v=-0.0463, grad=0.0000), Var(v=-0.0295, grad=0.0000), Var(v=0.0106, grad=0.0000), Var(v=-0.0360, grad=0.0000), Var(v=-0.0109, grad=0.0000), Var(v=0.1389, grad=0.0000), Var(v=-0.0886, grad=0.0000), Var(v=0.0939, grad=0.0000), Var(v=-0.0124, grad=0.0000), Var(v=-0.1055, grad=0.0000), Var(v=-0.2044, grad=0.0000), Var(v=0.0487, grad=0.0000), Var(v=0.0385, grad=0.0000), Var(v=-0.0864, grad=0.0000), Var(v=-0.0756, grad=0.0000), Var(v=-0.0419, grad=0.0000), Var(v=-0.0794, grad=0.0000), Var(v=0.0955, grad=0.0000), Var(v=-0.0442, grad=0.0000), Var(v=0.1174, grad=0.0000), Var(v=-0.0206, grad=0.0000), Var(v=-0.1639, grad=0.0000), Var(v=0.0911, grad=0.0000), Var(v=0.0946, grad=0.0000), Var(v=0.0687, grad=0.0000), Var(v=-0.1880, grad=0.0000), Var(v=0.0308, grad=0.0000), Var(v=-0.0503, grad=0.0000), Var(v=-0.2821, grad=0.0000), Var(v=0.0056, grad=0.0000)], [Var(v=-0.0594, grad=0.0000), Var(v=-0.1193, grad=0.0000), Var(v=0.1441, grad=0.0000), Var(v=0.0720, grad=0.0000), Var(v=-0.0391, grad=0.0000), Var(v=-0.0041, grad=0.0000), Var(v=0.0256, grad=0.0000), Var(v=0.1154, grad=0.0000), Var(v=0.1482, grad=0.0000), Var(v=-0.0635, grad=0.0000), Var(v=-0.0631, grad=0.0000), Var(v=-0.0793, grad=0.0000), Var(v=0.0117, grad=0.0000), Var(v=-0.0814, grad=0.0000), Var(v=0.0387, grad=0.0000), Var(v=0.0945, grad=0.0000), Var(v=0.0272, grad=0.0000), Var(v=0.0463, grad=0.0000), Var(v=-0.0177, grad=0.0000), Var(v=-0.0659, grad=0.0000), Var(v=0.1867, grad=0.0000), Var(v=0.0232, grad=0.0000), Var(v=0.0258, grad=0.0000), Var(v=0.0570, grad=0.0000), Var(v=-0.1185, grad=0.0000), Var(v=-0.0912, grad=0.0000), Var(v=0.0572, grad=0.0000), Var(v=-0.0614, grad=0.0000), Var(v=-0.0237, grad=0.0000), Var(v=-0.1139, grad=0.0000), Var(v=0.1790, grad=0.0000), Var(v=0.0342, grad=0.0000), Var(v=0.1069, grad=0.0000), Var(v=-0.0112, grad=0.0000), Var(v=0.1028, grad=0.0000), Var(v=0.0074, grad=0.0000), Var(v=0.0499, grad=0.0000), Var(v=-0.0402, grad=0.0000), Var(v=0.1367, grad=0.0000), Var(v=0.0882, grad=0.0000), Var(v=0.0900, grad=0.0000), Var(v=0.0549, grad=0.0000), Var(v=-0.0696, grad=0.0000), Var(v=-0.2157, grad=0.0000), Var(v=-0.0866, grad=0.0000), Var(v=-0.0934, grad=0.0000), Var(v=0.1215, grad=0.0000), Var(v=0.0753, grad=0.0000), Var(v=-0.1150, grad=0.0000), Var(v=0.0454, grad=0.0000)], [Var(v=-0.0185, grad=0.0000), Var(v=-0.0411, grad=0.0000), Var(v=-0.0940, grad=0.0000), Var(v=0.0672, grad=0.0000), Var(v=-0.1833, grad=0.0000), Var(v=0.0005, grad=0.0000), Var(v=-0.0005, grad=0.0000), Var(v=-0.0509, grad=0.0000), Var(v=0.0428, grad=0.0000), Var(v=0.0483, grad=0.0000), Var(v=-0.0135, grad=0.0000), Var(v=-0.1505, grad=0.0000), Var(v=0.0370, grad=0.0000), Var(v=0.1022, grad=0.0000), Var(v=-0.0735, grad=0.0000), Var(v=-0.0963, grad=0.0000), Var(v=0.0685, grad=0.0000), Var(v=-0.0153, grad=0.0000), Var(v=0.1358, grad=0.0000), Var(v=-0.1728, grad=0.0000), Var(v=0.0227, grad=0.0000), Var(v=-0.1339, grad=0.0000), Var(v=0.0955, grad=0.0000), Var(v=-0.1553, grad=0.0000), Var(v=0.1288, grad=0.0000), Var(v=0.0220, grad=0.0000), Var(v=-0.0845, grad=0.0000), Var(v=0.1820, grad=0.0000), Var(v=-0.0528, grad=0.0000), Var(v=0.0872, grad=0.0000), Var(v=-0.0310, grad=0.0000), Var(v=-0.0988, grad=0.0000), Var(v=-0.0817, grad=0.0000), Var(v=0.0040, grad=0.0000), Var(v=-0.0485, grad=0.0000), Var(v=-0.0596, grad=0.0000), Var(v=0.0548, grad=0.0000), Var(v=-0.1251, grad=0.0000), Var(v=0.1115, grad=0.0000), Var(v=0.0597, grad=0.0000), Var(v=-0.0944, grad=0.0000), Var(v=0.0235, grad=0.0000), Var(v=-0.1520, grad=0.0000), Var(v=-0.0596, grad=0.0000), Var(v=0.0087, grad=0.0000), Var(v=0.0135, grad=0.0000), Var(v=-0.1465, grad=0.0000), Var(v=-0.0120, grad=0.0000), Var(v=0.0940, grad=0.0000), Var(v=0.1215, grad=0.0000)], [Var(v=0.3055, grad=0.0000), Var(v=0.0230, grad=0.0000), Var(v=-0.0913, grad=0.0000), Var(v=0.0642, grad=0.0000), Var(v=0.0510, grad=0.0000), Var(v=0.0390, grad=0.0000), Var(v=-0.1984, grad=0.0000), Var(v=-0.0684, grad=0.0000), Var(v=-0.0341, grad=0.0000), Var(v=0.2008, grad=0.0000), Var(v=0.0736, grad=0.0000), Var(v=0.0274, grad=0.0000), Var(v=-0.2618, grad=0.0000), Var(v=0.0968, grad=0.0000), Var(v=-0.0738, grad=0.0000), Var(v=-0.1306, grad=0.0000), Var(v=-0.0442, grad=0.0000), Var(v=-0.0185, grad=0.0000), Var(v=0.0082, grad=0.0000), Var(v=0.0591, grad=0.0000), Var(v=-0.0921, grad=0.0000), Var(v=0.0218, grad=0.0000), Var(v=0.0714, grad=0.0000), Var(v=-0.0629, grad=0.0000), Var(v=-0.0703, grad=0.0000), Var(v=0.1539, grad=0.0000), Var(v=-0.1866, grad=0.0000), Var(v=0.1029, grad=0.0000), Var(v=0.0901, grad=0.0000), Var(v=0.0073, grad=0.0000), Var(v=0.0898, grad=0.0000), Var(v=-0.0739, grad=0.0000), Var(v=0.0325, grad=0.0000), Var(v=0.1156, grad=0.0000), Var(v=0.0666, grad=0.0000), Var(v=-0.0779, grad=0.0000), Var(v=-0.0787, grad=0.0000), Var(v=0.0164, grad=0.0000), Var(v=0.0600, grad=0.0000), Var(v=-0.1026, grad=0.0000), Var(v=-0.0845, grad=0.0000), Var(v=-0.0374, grad=0.0000), Var(v=-0.0428, grad=0.0000), Var(v=-0.0072, grad=0.0000), Var(v=0.0189, grad=0.0000), Var(v=-0.2066, grad=0.0000), Var(v=-0.1832, grad=0.0000), Var(v=0.2016, grad=0.0000), Var(v=-0.0031, grad=0.0000), Var(v=0.1148, grad=0.0000)], [Var(v=-0.2254, grad=0.0000), Var(v=-0.0362, grad=0.0000), Var(v=-0.1748, grad=0.0000), Var(v=-0.1749, grad=0.0000), Var(v=-0.0576, grad=0.0000), Var(v=-0.0029, grad=0.0000), Var(v=-0.0375, grad=0.0000), Var(v=-0.0207, grad=0.0000), Var(v=0.1985, grad=0.0000), Var(v=0.0609, grad=0.0000), Var(v=0.0409, grad=0.0000), Var(v=-0.1033, grad=0.0000), Var(v=0.0964, grad=0.0000), Var(v=0.0930, grad=0.0000), Var(v=0.1036, grad=0.0000), Var(v=0.2800, grad=0.0000), Var(v=0.0685, grad=0.0000), Var(v=-0.0273, grad=0.0000), Var(v=0.0785, grad=0.0000), Var(v=-0.0245, grad=0.0000), Var(v=-0.2418, grad=0.0000), Var(v=-0.1479, grad=0.0000), Var(v=0.0353, grad=0.0000), Var(v=-0.0686, grad=0.0000), Var(v=-0.0154, grad=0.0000), Var(v=-0.0540, grad=0.0000), Var(v=-0.1117, grad=0.0000), Var(v=-0.1000, grad=0.0000), Var(v=0.1549, grad=0.0000), Var(v=0.0575, grad=0.0000), Var(v=-0.1245, grad=0.0000), Var(v=-0.1117, grad=0.0000), Var(v=0.0076, grad=0.0000), Var(v=0.0400, grad=0.0000), Var(v=0.0661, grad=0.0000), Var(v=-0.0876, grad=0.0000), Var(v=0.1562, grad=0.0000), Var(v=0.0164, grad=0.0000), Var(v=-0.0793, grad=0.0000), Var(v=0.0820, grad=0.0000), Var(v=-0.0214, grad=0.0000), Var(v=-0.0613, grad=0.0000), Var(v=-0.1921, grad=0.0000), Var(v=-0.1323, grad=0.0000), Var(v=0.1809, grad=0.0000), Var(v=0.1430, grad=0.0000), Var(v=-0.0618, grad=0.0000), Var(v=0.0913, grad=0.0000), Var(v=0.1327, grad=0.0000), Var(v=0.0182, grad=0.0000)], [Var(v=-0.0829, grad=0.0000), Var(v=0.0906, grad=0.0000), Var(v=-0.1964, grad=0.0000), Var(v=-0.0622, grad=0.0000), Var(v=0.0037, grad=0.0000), Var(v=-0.1450, grad=0.0000), Var(v=0.0835, grad=0.0000), Var(v=0.0049, grad=0.0000), Var(v=-0.0386, grad=0.0000), Var(v=-0.0172, grad=0.0000), Var(v=-0.0579, grad=0.0000), Var(v=0.0913, grad=0.0000), Var(v=0.1599, grad=0.0000), Var(v=-0.0709, grad=0.0000), Var(v=-0.0102, grad=0.0000), Var(v=0.1724, grad=0.0000), Var(v=-0.0383, grad=0.0000), Var(v=-0.0573, grad=0.0000), Var(v=0.0999, grad=0.0000), Var(v=-0.0235, grad=0.0000), Var(v=-0.0374, grad=0.0000), Var(v=-0.0647, grad=0.0000), Var(v=0.0228, grad=0.0000), Var(v=-0.0735, grad=0.0000), Var(v=-0.0773, grad=0.0000), Var(v=0.0939, grad=0.0000), Var(v=0.0578, grad=0.0000), Var(v=-0.0219, grad=0.0000), Var(v=0.0487, grad=0.0000), Var(v=0.0811, grad=0.0000), Var(v=-0.0990, grad=0.0000), Var(v=0.0064, grad=0.0000), Var(v=-0.0182, grad=0.0000), Var(v=0.0063, grad=0.0000), Var(v=-0.1961, grad=0.0000), Var(v=0.1948, grad=0.0000), Var(v=-0.0076, grad=0.0000), Var(v=-0.0298, grad=0.0000), Var(v=-0.0626, grad=0.0000), Var(v=0.0558, grad=0.0000), Var(v=0.0239, grad=0.0000), Var(v=-0.1027, grad=0.0000), Var(v=0.0425, grad=0.0000), Var(v=-0.0834, grad=0.0000), Var(v=-0.1976, grad=0.0000), Var(v=0.0386, grad=0.0000), Var(v=0.0585, grad=0.0000), Var(v=-0.0765, grad=0.0000), Var(v=0.1256, grad=0.0000), Var(v=-0.1474, grad=0.0000)], [Var(v=-0.0451, grad=0.0000), Var(v=-0.0419, grad=0.0000), Var(v=-0.0134, grad=0.0000), Var(v=-0.0454, grad=0.0000), Var(v=0.1398, grad=0.0000), Var(v=0.0511, grad=0.0000), Var(v=0.0837, grad=0.0000), Var(v=0.0592, grad=0.0000), Var(v=-0.0189, grad=0.0000), Var(v=-0.0334, grad=0.0000), Var(v=-0.1887, grad=0.0000), Var(v=-0.0692, grad=0.0000), Var(v=0.0191, grad=0.0000), Var(v=-0.1513, grad=0.0000), Var(v=-0.0738, grad=0.0000), Var(v=0.0610, grad=0.0000), Var(v=0.0327, grad=0.0000), Var(v=0.1942, grad=0.0000), Var(v=-0.0253, grad=0.0000), Var(v=0.0708, grad=0.0000), Var(v=-0.0708, grad=0.0000), Var(v=-0.1956, grad=0.0000), Var(v=0.0558, grad=0.0000), Var(v=0.0410, grad=0.0000), Var(v=-0.0650, grad=0.0000), Var(v=0.0682, grad=0.0000), Var(v=-0.0220, grad=0.0000), Var(v=-0.0058, grad=0.0000), Var(v=-0.0269, grad=0.0000), Var(v=-0.0508, grad=0.0000), Var(v=0.2515, grad=0.0000), Var(v=0.0865, grad=0.0000), Var(v=-0.0974, grad=0.0000), Var(v=0.0304, grad=0.0000), Var(v=-0.0195, grad=0.0000), Var(v=-0.0129, grad=0.0000), Var(v=0.0148, grad=0.0000), Var(v=-0.1434, grad=0.0000), Var(v=-0.0776, grad=0.0000), Var(v=0.1586, grad=0.0000), Var(v=-0.2271, grad=0.0000), Var(v=-0.0252, grad=0.0000), Var(v=0.0693, grad=0.0000), Var(v=0.0414, grad=0.0000), Var(v=-0.0548, grad=0.0000), Var(v=-0.0587, grad=0.0000), Var(v=-0.0649, grad=0.0000), Var(v=0.0072, grad=0.0000), Var(v=-0.1626, grad=0.0000), Var(v=-0.0748, grad=0.0000)], [Var(v=-0.0078, grad=0.0000), Var(v=0.0651, grad=0.0000), Var(v=-0.0832, grad=0.0000), Var(v=0.0042, grad=0.0000), Var(v=0.0481, grad=0.0000), Var(v=0.0914, grad=0.0000), Var(v=-0.0688, grad=0.0000), Var(v=0.2815, grad=0.0000), Var(v=-0.0105, grad=0.0000), Var(v=-0.1210, grad=0.0000), Var(v=0.0941, grad=0.0000), Var(v=-0.1676, grad=0.0000), Var(v=-0.0277, grad=0.0000), Var(v=0.0261, grad=0.0000), Var(v=-0.0050, grad=0.0000), Var(v=0.0550, grad=0.0000), Var(v=-0.1567, grad=0.0000), Var(v=0.0611, grad=0.0000), Var(v=-0.1395, grad=0.0000), Var(v=0.1227, grad=0.0000), Var(v=0.0232, grad=0.0000), Var(v=0.0800, grad=0.0000), Var(v=-0.1325, grad=0.0000), Var(v=0.2116, grad=0.0000), Var(v=0.0543, grad=0.0000), Var(v=-0.0767, grad=0.0000), Var(v=0.1120, grad=0.0000), Var(v=0.0341, grad=0.0000), Var(v=0.0228, grad=0.0000), Var(v=-0.0707, grad=0.0000), Var(v=-0.1258, grad=0.0000), Var(v=0.1097, grad=0.0000), Var(v=0.0546, grad=0.0000), Var(v=0.1196, grad=0.0000), Var(v=0.0796, grad=0.0000), Var(v=0.1115, grad=0.0000), Var(v=-0.0668, grad=0.0000), Var(v=0.0895, grad=0.0000), Var(v=0.3552, grad=0.0000), Var(v=-0.0570, grad=0.0000), Var(v=-0.0734, grad=0.0000), Var(v=-0.0109, grad=0.0000), Var(v=0.0520, grad=0.0000), Var(v=-0.0536, grad=0.0000), Var(v=0.1324, grad=0.0000), Var(v=0.1190, grad=0.0000), Var(v=0.0039, grad=0.0000), Var(v=-0.0783, grad=0.0000), Var(v=0.0812, grad=0.0000), Var(v=0.0950, grad=0.0000)], [Var(v=-0.0913, grad=0.0000), Var(v=-0.0731, grad=0.0000), Var(v=0.0373, grad=0.0000), Var(v=-0.0046, grad=0.0000), Var(v=-0.0351, grad=0.0000), Var(v=-0.0572, grad=0.0000), Var(v=-0.0120, grad=0.0000), Var(v=-0.2135, grad=0.0000), Var(v=0.0107, grad=0.0000), Var(v=0.0972, grad=0.0000), Var(v=0.0326, grad=0.0000), Var(v=0.0919, grad=0.0000), Var(v=-0.0354, grad=0.0000), Var(v=-0.1441, grad=0.0000), Var(v=-0.0888, grad=0.0000), Var(v=-0.0143, grad=0.0000), Var(v=-0.1092, grad=0.0000), Var(v=-0.0663, grad=0.0000), Var(v=-0.0346, grad=0.0000), Var(v=0.0072, grad=0.0000), Var(v=0.0132, grad=0.0000), Var(v=-0.0206, grad=0.0000), Var(v=-0.0563, grad=0.0000), Var(v=-0.0350, grad=0.0000), Var(v=-0.0538, grad=0.0000), Var(v=0.0484, grad=0.0000), Var(v=0.1919, grad=0.0000), Var(v=0.1759, grad=0.0000), Var(v=-0.0378, grad=0.0000), Var(v=0.0688, grad=0.0000), Var(v=0.0282, grad=0.0000), Var(v=0.0835, grad=0.0000), Var(v=0.1146, grad=0.0000), Var(v=-0.0171, grad=0.0000), Var(v=-0.1113, grad=0.0000), Var(v=-0.0607, grad=0.0000), Var(v=-0.0431, grad=0.0000), Var(v=-0.0122, grad=0.0000), Var(v=-0.0117, grad=0.0000), Var(v=0.0411, grad=0.0000), Var(v=0.0645, grad=0.0000), Var(v=0.3006, grad=0.0000), Var(v=-0.1713, grad=0.0000), Var(v=-0.1517, grad=0.0000), Var(v=0.0285, grad=0.0000), Var(v=0.1184, grad=0.0000), Var(v=0.0069, grad=0.0000), Var(v=0.0313, grad=0.0000), Var(v=-0.0025, grad=0.0000), Var(v=0.0315, grad=0.0000)], [Var(v=-0.1462, grad=0.0000), Var(v=0.1107, grad=0.0000), Var(v=0.0403, grad=0.0000), Var(v=0.1348, grad=0.0000), Var(v=-0.0377, grad=0.0000), Var(v=-0.0646, grad=0.0000), Var(v=-0.0343, grad=0.0000), Var(v=-0.0782, grad=0.0000), Var(v=-0.1959, grad=0.0000), Var(v=-0.0684, grad=0.0000), Var(v=0.0077, grad=0.0000), Var(v=-0.1024, grad=0.0000), Var(v=0.0415, grad=0.0000), Var(v=0.1282, grad=0.0000), Var(v=0.0857, grad=0.0000), Var(v=0.1494, grad=0.0000), Var(v=0.0706, grad=0.0000), Var(v=0.1788, grad=0.0000), Var(v=0.1884, grad=0.0000), Var(v=0.0284, grad=0.0000), Var(v=0.0427, grad=0.0000), Var(v=0.2658, grad=0.0000), Var(v=-0.0466, grad=0.0000), Var(v=-0.1985, grad=0.0000), Var(v=0.0135, grad=0.0000), Var(v=0.0299, grad=0.0000), Var(v=0.0260, grad=0.0000), Var(v=0.0547, grad=0.0000), Var(v=0.1414, grad=0.0000), Var(v=0.1445, grad=0.0000), Var(v=0.1600, grad=0.0000), Var(v=-0.0785, grad=0.0000), Var(v=0.0663, grad=0.0000), Var(v=0.0516, grad=0.0000), Var(v=0.0122, grad=0.0000), Var(v=-0.0017, grad=0.0000), Var(v=-0.0017, grad=0.0000), Var(v=0.0367, grad=0.0000), Var(v=-0.0541, grad=0.0000), Var(v=0.0938, grad=0.0000), Var(v=0.0319, grad=0.0000), Var(v=0.0474, grad=0.0000), Var(v=-0.0762, grad=0.0000), Var(v=0.1225, grad=0.0000), Var(v=0.0153, grad=0.0000), Var(v=-0.0934, grad=0.0000), Var(v=0.0609, grad=0.0000), Var(v=0.0262, grad=0.0000), Var(v=-0.0182, grad=0.0000), Var(v=-0.1587, grad=0.0000)], [Var(v=0.0700, grad=0.0000), Var(v=0.0111, grad=0.0000), Var(v=-0.0640, grad=0.0000), Var(v=0.0751, grad=0.0000), Var(v=-0.0442, grad=0.0000), Var(v=0.0743, grad=0.0000), Var(v=-0.0426, grad=0.0000), Var(v=-0.0080, grad=0.0000), Var(v=0.0051, grad=0.0000), Var(v=0.0556, grad=0.0000), Var(v=0.0622, grad=0.0000), Var(v=-0.0501, grad=0.0000), Var(v=-0.1088, grad=0.0000), Var(v=0.1752, grad=0.0000), Var(v=-0.0848, grad=0.0000), Var(v=-0.1034, grad=0.0000), Var(v=-0.1053, grad=0.0000), Var(v=0.1480, grad=0.0000), Var(v=-0.0175, grad=0.0000), Var(v=0.2935, grad=0.0000), Var(v=0.0461, grad=0.0000), Var(v=0.0348, grad=0.0000), Var(v=0.0107, grad=0.0000), Var(v=-0.0996, grad=0.0000), Var(v=-0.0019, grad=0.0000), Var(v=-0.0225, grad=0.0000), Var(v=0.1449, grad=0.0000), Var(v=0.1138, grad=0.0000), Var(v=0.0545, grad=0.0000), Var(v=-0.0664, grad=0.0000), Var(v=-0.0438, grad=0.0000), Var(v=0.0518, grad=0.0000), Var(v=0.0645, grad=0.0000), Var(v=0.0569, grad=0.0000), Var(v=0.1699, grad=0.0000), Var(v=-0.1177, grad=0.0000), Var(v=0.0105, grad=0.0000), Var(v=-0.1733, grad=0.0000), Var(v=0.0372, grad=0.0000), Var(v=0.0344, grad=0.0000), Var(v=-0.1476, grad=0.0000), Var(v=0.1326, grad=0.0000), Var(v=-0.0372, grad=0.0000), Var(v=0.1039, grad=0.0000), Var(v=-0.1442, grad=0.0000), Var(v=-0.1535, grad=0.0000), Var(v=-0.0107, grad=0.0000), Var(v=-0.0417, grad=0.0000), Var(v=0.0004, grad=0.0000), Var(v=0.1853, grad=0.0000)], [Var(v=-0.0723, grad=0.0000), Var(v=0.0639, grad=0.0000), Var(v=-0.1111, grad=0.0000), Var(v=-0.0238, grad=0.0000), Var(v=-0.1390, grad=0.0000), Var(v=0.1376, grad=0.0000), Var(v=0.0602, grad=0.0000), Var(v=0.0280, grad=0.0000), Var(v=-0.0904, grad=0.0000), Var(v=0.1712, grad=0.0000), Var(v=0.0426, grad=0.0000), Var(v=0.1058, grad=0.0000), Var(v=-0.0149, grad=0.0000), Var(v=-0.0376, grad=0.0000), Var(v=0.0133, grad=0.0000), Var(v=0.0748, grad=0.0000), Var(v=0.0141, grad=0.0000), Var(v=0.0199, grad=0.0000), Var(v=0.0655, grad=0.0000), Var(v=-0.2210, grad=0.0000), Var(v=0.0846, grad=0.0000), Var(v=0.0187, grad=0.0000), Var(v=0.0521, grad=0.0000), Var(v=-0.1782, grad=0.0000), Var(v=0.0656, grad=0.0000), Var(v=0.0670, grad=0.0000), Var(v=0.0338, grad=0.0000), Var(v=0.1897, grad=0.0000), Var(v=0.0220, grad=0.0000), Var(v=0.0462, grad=0.0000), Var(v=-0.0234, grad=0.0000), Var(v=0.0458, grad=0.0000), Var(v=-0.0364, grad=0.0000), Var(v=0.1335, grad=0.0000), Var(v=0.0975, grad=0.0000), Var(v=0.0640, grad=0.0000), Var(v=0.1406, grad=0.0000), Var(v=-0.0650, grad=0.0000), Var(v=0.0961, grad=0.0000), Var(v=0.0461, grad=0.0000), Var(v=-0.2074, grad=0.0000), Var(v=0.1460, grad=0.0000), Var(v=-0.0960, grad=0.0000), Var(v=0.0419, grad=0.0000), Var(v=-0.1378, grad=0.0000), Var(v=-0.0199, grad=0.0000), Var(v=0.0775, grad=0.0000), Var(v=0.0452, grad=0.0000), Var(v=0.0616, grad=0.0000), Var(v=0.0855, grad=0.0000)], [Var(v=0.1049, grad=0.0000), Var(v=-0.0974, grad=0.0000), Var(v=0.0782, grad=0.0000), Var(v=0.2044, grad=0.0000), Var(v=-0.1390, grad=0.0000), Var(v=-0.1561, grad=0.0000), Var(v=0.0205, grad=0.0000), Var(v=-0.0144, grad=0.0000), Var(v=0.0463, grad=0.0000), Var(v=-0.1227, grad=0.0000), Var(v=-0.0173, grad=0.0000), Var(v=-0.0903, grad=0.0000), Var(v=-0.1059, grad=0.0000), Var(v=0.0247, grad=0.0000), Var(v=0.1685, grad=0.0000), Var(v=-0.1645, grad=0.0000), Var(v=0.1037, grad=0.0000), Var(v=-0.0066, grad=0.0000), Var(v=0.0296, grad=0.0000), Var(v=-0.0870, grad=0.0000), Var(v=0.0538, grad=0.0000), Var(v=0.1472, grad=0.0000), Var(v=0.1230, grad=0.0000), Var(v=-0.1345, grad=0.0000), Var(v=0.1252, grad=0.0000), Var(v=-0.0083, grad=0.0000), Var(v=-0.0893, grad=0.0000), Var(v=-0.1330, grad=0.0000), Var(v=0.0205, grad=0.0000), Var(v=0.0200, grad=0.0000), Var(v=-0.0883, grad=0.0000), Var(v=-0.1641, grad=0.0000), Var(v=0.1081, grad=0.0000), Var(v=0.0321, grad=0.0000), Var(v=0.1814, grad=0.0000), Var(v=0.0150, grad=0.0000), Var(v=-0.1286, grad=0.0000), Var(v=-0.1257, grad=0.0000), Var(v=0.0286, grad=0.0000), Var(v=-0.1963, grad=0.0000), Var(v=-0.0084, grad=0.0000), Var(v=0.1441, grad=0.0000), Var(v=0.1571, grad=0.0000), Var(v=-0.0556, grad=0.0000), Var(v=-0.0858, grad=0.0000), Var(v=-0.1299, grad=0.0000), Var(v=0.0450, grad=0.0000), Var(v=0.1020, grad=0.0000), Var(v=0.0970, grad=0.0000), Var(v=-0.0260, grad=0.0000)], [Var(v=0.1823, grad=0.0000), Var(v=-0.0660, grad=0.0000), Var(v=-0.0359, grad=0.0000), Var(v=-0.0419, grad=0.0000), Var(v=-0.0322, grad=0.0000), Var(v=-0.1187, grad=0.0000), Var(v=-0.0452, grad=0.0000), Var(v=0.0429, grad=0.0000), Var(v=-0.0922, grad=0.0000), Var(v=0.0076, grad=0.0000), Var(v=0.0575, grad=0.0000), Var(v=0.0858, grad=0.0000), Var(v=-0.2809, grad=0.0000), Var(v=0.0942, grad=0.0000), Var(v=0.0370, grad=0.0000), Var(v=0.0302, grad=0.0000), Var(v=-0.0315, grad=0.0000), Var(v=-0.0709, grad=0.0000), Var(v=0.0548, grad=0.0000), Var(v=-0.0429, grad=0.0000), Var(v=-0.0623, grad=0.0000), Var(v=0.0719, grad=0.0000), Var(v=-0.1102, grad=0.0000), Var(v=-0.0980, grad=0.0000), Var(v=-0.0104, grad=0.0000), Var(v=-0.1072, grad=0.0000), Var(v=-0.1102, grad=0.0000), Var(v=-0.1173, grad=0.0000), Var(v=-0.0223, grad=0.0000), Var(v=0.1580, grad=0.0000), Var(v=0.1332, grad=0.0000), Var(v=-0.0533, grad=0.0000), Var(v=-0.1015, grad=0.0000), Var(v=-0.1077, grad=0.0000), Var(v=-0.1620, grad=0.0000), Var(v=0.0337, grad=0.0000), Var(v=0.0088, grad=0.0000), Var(v=0.1604, grad=0.0000), Var(v=0.0860, grad=0.0000), Var(v=0.2026, grad=0.0000), Var(v=0.1158, grad=0.0000), Var(v=-0.0482, grad=0.0000), Var(v=-0.1498, grad=0.0000), Var(v=-0.0421, grad=0.0000), Var(v=0.1918, grad=0.0000), Var(v=0.0727, grad=0.0000), Var(v=0.0511, grad=0.0000), Var(v=-0.0160, grad=0.0000), Var(v=-0.0216, grad=0.0000), Var(v=-0.0745, grad=0.0000)]]\n",
      " Biases: [Var(v=0.1038, grad=0.0000), Var(v=-0.1838, grad=0.0000), Var(v=0.0000, grad=0.0000), Var(v=-0.0928, grad=0.0000), Var(v=-0.0356, grad=0.0000), Var(v=0.1536, grad=0.0000), Var(v=-0.0818, grad=0.0000), Var(v=-0.0154, grad=0.0000), Var(v=-0.0024, grad=0.0000), Var(v=-0.0024, grad=0.0000), Var(v=-0.0166, grad=0.0000), Var(v=0.0273, grad=0.0000), Var(v=-0.0670, grad=0.0000), Var(v=-0.0773, grad=0.0000), Var(v=-0.1422, grad=0.0000), Var(v=-0.0002, grad=0.0000), Var(v=-0.0262, grad=0.0000), Var(v=-0.0017, grad=0.0000), Var(v=0.0010, grad=0.0000), Var(v=-0.0004, grad=0.0000), Var(v=0.0000, grad=0.0000), Var(v=0.0000, grad=0.0000), Var(v=-0.0013, grad=0.0000), Var(v=0.0000, grad=0.0000), Var(v=-0.0368, grad=0.0000), Var(v=0.0005, grad=0.0000), Var(v=0.0000, grad=0.0000), Var(v=-0.0089, grad=0.0000), Var(v=-0.0016, grad=0.0000), Var(v=-0.0301, grad=0.0000), Var(v=0.1000, grad=0.0000), Var(v=0.0000, grad=0.0000), Var(v=-0.0524, grad=0.0000), Var(v=0.0007, grad=0.0000), Var(v=-0.0403, grad=0.0000), Var(v=0.0591, grad=0.0000), Var(v=0.0387, grad=0.0000), Var(v=-0.0629, grad=0.0000), Var(v=0.0468, grad=0.0000), Var(v=0.0004, grad=0.0000), Var(v=0.0000, grad=0.0000), Var(v=-0.0388, grad=0.0000), Var(v=0.0000, grad=0.0000), Var(v=0.0000, grad=0.0000), Var(v=0.1325, grad=0.0000), Var(v=0.0000, grad=0.0000), Var(v=0.0000, grad=0.0000), Var(v=-0.0111, grad=0.0000), Var(v=0.0132, grad=0.0000), Var(v=0.0067, grad=0.0000)]\n",
      "\n",
      "Layer 2 \n",
      " Weights: [[Var(v=-0.1807, grad=0.0000)], [Var(v=0.1961, grad=0.0000)], [Var(v=-0.1231, grad=0.0000)], [Var(v=0.0733, grad=0.0000)], [Var(v=0.0219, grad=0.0000)], [Var(v=0.1918, grad=0.0000)], [Var(v=-0.0911, grad=0.0000)], [Var(v=0.0132, grad=0.0000)], [Var(v=0.1880, grad=0.0000)], [Var(v=0.1500, grad=0.0000)], [Var(v=-0.0115, grad=0.0000)], [Var(v=-0.0350, grad=0.0000)], [Var(v=-0.0749, grad=0.0000)], [Var(v=-0.0392, grad=0.0000)], [Var(v=-0.1558, grad=0.0000)], [Var(v=0.0343, grad=0.0000)], [Var(v=-0.0237, grad=0.0000)], [Var(v=0.1025, grad=0.0000)], [Var(v=-0.0550, grad=0.0000)], [Var(v=0.0383, grad=0.0000)], [Var(v=-0.0618, grad=0.0000)], [Var(v=0.1052, grad=0.0000)], [Var(v=0.0728, grad=0.0000)], [Var(v=0.1318, grad=0.0000)], [Var(v=-0.0282, grad=0.0000)], [Var(v=-0.0587, grad=0.0000)], [Var(v=0.0528, grad=0.0000)], [Var(v=0.0037, grad=0.0000)], [Var(v=0.1058, grad=0.0000)], [Var(v=-0.0061, grad=0.0000)], [Var(v=-0.1775, grad=0.0000)], [Var(v=-0.0142, grad=0.0000)], [Var(v=-0.0551, grad=0.0000)], [Var(v=-0.0386, grad=0.0000)], [Var(v=-0.0153, grad=0.0000)], [Var(v=-0.0716, grad=0.0000)], [Var(v=0.0631, grad=0.0000)], [Var(v=0.0692, grad=0.0000)], [Var(v=-0.0650, grad=0.0000)], [Var(v=-0.0313, grad=0.0000)], [Var(v=0.0699, grad=0.0000)], [Var(v=-0.0444, grad=0.0000)], [Var(v=0.2551, grad=0.0000)], [Var(v=-0.0137, grad=0.0000)], [Var(v=0.1635, grad=0.0000)], [Var(v=-0.0311, grad=0.0000)], [Var(v=0.0022, grad=0.0000)], [Var(v=-0.0356, grad=0.0000)], [Var(v=0.0276, grad=0.0000)], [Var(v=0.0498, grad=0.0000)]]\n",
      " Biases: [Var(v=-0.0141, grad=0.0000)]\n",
      "\n",
      "\n",
      "Network after zeroing gradients:\n",
      "Layer 0 \n",
      " Weights: [[Var(v=0.0628, grad=0.0000), Var(v=0.1048, grad=0.0000), Var(v=-0.0648, grad=0.0000), Var(v=0.0562, grad=0.0000), Var(v=-0.1736, grad=0.0000), Var(v=0.1750, grad=0.0000), Var(v=-0.1126, grad=0.0000), Var(v=-0.1686, grad=0.0000), Var(v=-0.0048, grad=0.0000), Var(v=-0.0448, grad=0.0000), Var(v=-0.0016, grad=0.0000), Var(v=0.1193, grad=0.0000), Var(v=0.0037, grad=0.0000), Var(v=-0.0975, grad=0.0000), Var(v=-0.2417, grad=0.0000)]]\n",
      " Biases: [Var(v=-0.0045, grad=0.0000), Var(v=0.0529, grad=0.0000), Var(v=0.0071, grad=0.0000), Var(v=-0.0126, grad=0.0000), Var(v=-0.0439, grad=0.0000), Var(v=0.0256, grad=0.0000), Var(v=-0.0257, grad=0.0000), Var(v=-0.0135, grad=0.0000), Var(v=-0.0070, grad=0.0000), Var(v=-0.0007, grad=0.0000), Var(v=-0.0217, grad=0.0000), Var(v=0.0011, grad=0.0000), Var(v=-0.0050, grad=0.0000), Var(v=-0.0030, grad=0.0000), Var(v=0.0406, grad=0.0000)]\n",
      "\n",
      "Layer 1 \n",
      " Weights: [[Var(v=-0.0326, grad=0.0000), Var(v=-0.0476, grad=0.0000), Var(v=-0.2248, grad=0.0000), Var(v=-0.1158, grad=0.0000), Var(v=-0.0792, grad=0.0000), Var(v=0.1646, grad=0.0000), Var(v=0.1122, grad=0.0000), Var(v=-0.0129, grad=0.0000), Var(v=-0.1416, grad=0.0000), Var(v=0.0532, grad=0.0000), Var(v=-0.0260, grad=0.0000), Var(v=0.0788, grad=0.0000), Var(v=-0.0588, grad=0.0000), Var(v=0.0018, grad=0.0000), Var(v=0.0695, grad=0.0000), Var(v=0.0361, grad=0.0000), Var(v=0.0446, grad=0.0000), Var(v=0.0543, grad=0.0000), Var(v=0.0885, grad=0.0000), Var(v=0.0491, grad=0.0000), Var(v=0.0933, grad=0.0000), Var(v=-0.0145, grad=0.0000), Var(v=0.0085, grad=0.0000), Var(v=0.0542, grad=0.0000), Var(v=0.0776, grad=0.0000), Var(v=0.0512, grad=0.0000), Var(v=0.0785, grad=0.0000), Var(v=-0.0640, grad=0.0000), Var(v=0.0893, grad=0.0000), Var(v=-0.0467, grad=0.0000), Var(v=-0.0319, grad=0.0000), Var(v=0.1825, grad=0.0000), Var(v=-0.0262, grad=0.0000), Var(v=0.1005, grad=0.0000), Var(v=0.0708, grad=0.0000), Var(v=-0.2046, grad=0.0000), Var(v=-0.0773, grad=0.0000), Var(v=0.0216, grad=0.0000), Var(v=-0.0771, grad=0.0000), Var(v=0.0740, grad=0.0000), Var(v=0.0399, grad=0.0000), Var(v=-0.0659, grad=0.0000), Var(v=0.0970, grad=0.0000), Var(v=0.0610, grad=0.0000), Var(v=0.0939, grad=0.0000), Var(v=0.0209, grad=0.0000), Var(v=0.0060, grad=0.0000), Var(v=-0.1000, grad=0.0000), Var(v=-0.0200, grad=0.0000), Var(v=0.1159, grad=0.0000)], [Var(v=-0.0668, grad=0.0000), Var(v=0.0351, grad=0.0000), Var(v=0.0282, grad=0.0000), Var(v=0.0975, grad=0.0000), Var(v=0.1071, grad=0.0000), Var(v=0.0481, grad=0.0000), Var(v=0.0239, grad=0.0000), Var(v=-0.0009, grad=0.0000), Var(v=0.0390, grad=0.0000), Var(v=0.2408, grad=0.0000), Var(v=-0.0974, grad=0.0000), Var(v=-0.0516, grad=0.0000), Var(v=-0.0220, grad=0.0000), Var(v=0.0931, grad=0.0000), Var(v=-0.0985, grad=0.0000), Var(v=0.1056, grad=0.0000), Var(v=-0.0125, grad=0.0000), Var(v=-0.0100, grad=0.0000), Var(v=0.0321, grad=0.0000), Var(v=0.0053, grad=0.0000), Var(v=-0.0463, grad=0.0000), Var(v=-0.0295, grad=0.0000), Var(v=0.0106, grad=0.0000), Var(v=-0.0360, grad=0.0000), Var(v=-0.0109, grad=0.0000), Var(v=0.1389, grad=0.0000), Var(v=-0.0886, grad=0.0000), Var(v=0.0939, grad=0.0000), Var(v=-0.0124, grad=0.0000), Var(v=-0.1055, grad=0.0000), Var(v=-0.2044, grad=0.0000), Var(v=0.0487, grad=0.0000), Var(v=0.0385, grad=0.0000), Var(v=-0.0864, grad=0.0000), Var(v=-0.0756, grad=0.0000), Var(v=-0.0419, grad=0.0000), Var(v=-0.0794, grad=0.0000), Var(v=0.0955, grad=0.0000), Var(v=-0.0442, grad=0.0000), Var(v=0.1174, grad=0.0000), Var(v=-0.0206, grad=0.0000), Var(v=-0.1639, grad=0.0000), Var(v=0.0911, grad=0.0000), Var(v=0.0946, grad=0.0000), Var(v=0.0687, grad=0.0000), Var(v=-0.1880, grad=0.0000), Var(v=0.0308, grad=0.0000), Var(v=-0.0503, grad=0.0000), Var(v=-0.2821, grad=0.0000), Var(v=0.0056, grad=0.0000)], [Var(v=-0.0594, grad=0.0000), Var(v=-0.1193, grad=0.0000), Var(v=0.1441, grad=0.0000), Var(v=0.0720, grad=0.0000), Var(v=-0.0391, grad=0.0000), Var(v=-0.0041, grad=0.0000), Var(v=0.0256, grad=0.0000), Var(v=0.1154, grad=0.0000), Var(v=0.1482, grad=0.0000), Var(v=-0.0635, grad=0.0000), Var(v=-0.0631, grad=0.0000), Var(v=-0.0793, grad=0.0000), Var(v=0.0117, grad=0.0000), Var(v=-0.0814, grad=0.0000), Var(v=0.0387, grad=0.0000), Var(v=0.0945, grad=0.0000), Var(v=0.0272, grad=0.0000), Var(v=0.0463, grad=0.0000), Var(v=-0.0177, grad=0.0000), Var(v=-0.0659, grad=0.0000), Var(v=0.1867, grad=0.0000), Var(v=0.0232, grad=0.0000), Var(v=0.0258, grad=0.0000), Var(v=0.0570, grad=0.0000), Var(v=-0.1185, grad=0.0000), Var(v=-0.0912, grad=0.0000), Var(v=0.0572, grad=0.0000), Var(v=-0.0614, grad=0.0000), Var(v=-0.0237, grad=0.0000), Var(v=-0.1139, grad=0.0000), Var(v=0.1790, grad=0.0000), Var(v=0.0342, grad=0.0000), Var(v=0.1069, grad=0.0000), Var(v=-0.0112, grad=0.0000), Var(v=0.1028, grad=0.0000), Var(v=0.0074, grad=0.0000), Var(v=0.0499, grad=0.0000), Var(v=-0.0402, grad=0.0000), Var(v=0.1367, grad=0.0000), Var(v=0.0882, grad=0.0000), Var(v=0.0900, grad=0.0000), Var(v=0.0549, grad=0.0000), Var(v=-0.0696, grad=0.0000), Var(v=-0.2157, grad=0.0000), Var(v=-0.0866, grad=0.0000), Var(v=-0.0934, grad=0.0000), Var(v=0.1215, grad=0.0000), Var(v=0.0753, grad=0.0000), Var(v=-0.1150, grad=0.0000), Var(v=0.0454, grad=0.0000)], [Var(v=-0.0185, grad=0.0000), Var(v=-0.0411, grad=0.0000), Var(v=-0.0940, grad=0.0000), Var(v=0.0672, grad=0.0000), Var(v=-0.1833, grad=0.0000), Var(v=0.0005, grad=0.0000), Var(v=-0.0005, grad=0.0000), Var(v=-0.0509, grad=0.0000), Var(v=0.0428, grad=0.0000), Var(v=0.0483, grad=0.0000), Var(v=-0.0135, grad=0.0000), Var(v=-0.1505, grad=0.0000), Var(v=0.0370, grad=0.0000), Var(v=0.1022, grad=0.0000), Var(v=-0.0735, grad=0.0000), Var(v=-0.0963, grad=0.0000), Var(v=0.0685, grad=0.0000), Var(v=-0.0153, grad=0.0000), Var(v=0.1358, grad=0.0000), Var(v=-0.1728, grad=0.0000), Var(v=0.0227, grad=0.0000), Var(v=-0.1339, grad=0.0000), Var(v=0.0955, grad=0.0000), Var(v=-0.1553, grad=0.0000), Var(v=0.1288, grad=0.0000), Var(v=0.0220, grad=0.0000), Var(v=-0.0845, grad=0.0000), Var(v=0.1820, grad=0.0000), Var(v=-0.0528, grad=0.0000), Var(v=0.0872, grad=0.0000), Var(v=-0.0310, grad=0.0000), Var(v=-0.0988, grad=0.0000), Var(v=-0.0817, grad=0.0000), Var(v=0.0040, grad=0.0000), Var(v=-0.0485, grad=0.0000), Var(v=-0.0596, grad=0.0000), Var(v=0.0548, grad=0.0000), Var(v=-0.1251, grad=0.0000), Var(v=0.1115, grad=0.0000), Var(v=0.0597, grad=0.0000), Var(v=-0.0944, grad=0.0000), Var(v=0.0235, grad=0.0000), Var(v=-0.1520, grad=0.0000), Var(v=-0.0596, grad=0.0000), Var(v=0.0087, grad=0.0000), Var(v=0.0135, grad=0.0000), Var(v=-0.1465, grad=0.0000), Var(v=-0.0120, grad=0.0000), Var(v=0.0940, grad=0.0000), Var(v=0.1215, grad=0.0000)], [Var(v=0.3055, grad=0.0000), Var(v=0.0230, grad=0.0000), Var(v=-0.0913, grad=0.0000), Var(v=0.0642, grad=0.0000), Var(v=0.0510, grad=0.0000), Var(v=0.0390, grad=0.0000), Var(v=-0.1984, grad=0.0000), Var(v=-0.0684, grad=0.0000), Var(v=-0.0341, grad=0.0000), Var(v=0.2008, grad=0.0000), Var(v=0.0736, grad=0.0000), Var(v=0.0274, grad=0.0000), Var(v=-0.2618, grad=0.0000), Var(v=0.0968, grad=0.0000), Var(v=-0.0738, grad=0.0000), Var(v=-0.1306, grad=0.0000), Var(v=-0.0442, grad=0.0000), Var(v=-0.0185, grad=0.0000), Var(v=0.0082, grad=0.0000), Var(v=0.0591, grad=0.0000), Var(v=-0.0921, grad=0.0000), Var(v=0.0218, grad=0.0000), Var(v=0.0714, grad=0.0000), Var(v=-0.0629, grad=0.0000), Var(v=-0.0703, grad=0.0000), Var(v=0.1539, grad=0.0000), Var(v=-0.1866, grad=0.0000), Var(v=0.1029, grad=0.0000), Var(v=0.0901, grad=0.0000), Var(v=0.0073, grad=0.0000), Var(v=0.0898, grad=0.0000), Var(v=-0.0739, grad=0.0000), Var(v=0.0325, grad=0.0000), Var(v=0.1156, grad=0.0000), Var(v=0.0666, grad=0.0000), Var(v=-0.0779, grad=0.0000), Var(v=-0.0787, grad=0.0000), Var(v=0.0164, grad=0.0000), Var(v=0.0600, grad=0.0000), Var(v=-0.1026, grad=0.0000), Var(v=-0.0845, grad=0.0000), Var(v=-0.0374, grad=0.0000), Var(v=-0.0428, grad=0.0000), Var(v=-0.0072, grad=0.0000), Var(v=0.0189, grad=0.0000), Var(v=-0.2066, grad=0.0000), Var(v=-0.1832, grad=0.0000), Var(v=0.2016, grad=0.0000), Var(v=-0.0031, grad=0.0000), Var(v=0.1148, grad=0.0000)], [Var(v=-0.2254, grad=0.0000), Var(v=-0.0362, grad=0.0000), Var(v=-0.1748, grad=0.0000), Var(v=-0.1749, grad=0.0000), Var(v=-0.0576, grad=0.0000), Var(v=-0.0029, grad=0.0000), Var(v=-0.0375, grad=0.0000), Var(v=-0.0207, grad=0.0000), Var(v=0.1985, grad=0.0000), Var(v=0.0609, grad=0.0000), Var(v=0.0409, grad=0.0000), Var(v=-0.1033, grad=0.0000), Var(v=0.0964, grad=0.0000), Var(v=0.0930, grad=0.0000), Var(v=0.1036, grad=0.0000), Var(v=0.2800, grad=0.0000), Var(v=0.0685, grad=0.0000), Var(v=-0.0273, grad=0.0000), Var(v=0.0785, grad=0.0000), Var(v=-0.0245, grad=0.0000), Var(v=-0.2418, grad=0.0000), Var(v=-0.1479, grad=0.0000), Var(v=0.0353, grad=0.0000), Var(v=-0.0686, grad=0.0000), Var(v=-0.0154, grad=0.0000), Var(v=-0.0540, grad=0.0000), Var(v=-0.1117, grad=0.0000), Var(v=-0.1000, grad=0.0000), Var(v=0.1549, grad=0.0000), Var(v=0.0575, grad=0.0000), Var(v=-0.1245, grad=0.0000), Var(v=-0.1117, grad=0.0000), Var(v=0.0076, grad=0.0000), Var(v=0.0400, grad=0.0000), Var(v=0.0661, grad=0.0000), Var(v=-0.0876, grad=0.0000), Var(v=0.1562, grad=0.0000), Var(v=0.0164, grad=0.0000), Var(v=-0.0793, grad=0.0000), Var(v=0.0820, grad=0.0000), Var(v=-0.0214, grad=0.0000), Var(v=-0.0613, grad=0.0000), Var(v=-0.1921, grad=0.0000), Var(v=-0.1323, grad=0.0000), Var(v=0.1809, grad=0.0000), Var(v=0.1430, grad=0.0000), Var(v=-0.0618, grad=0.0000), Var(v=0.0913, grad=0.0000), Var(v=0.1327, grad=0.0000), Var(v=0.0182, grad=0.0000)], [Var(v=-0.0829, grad=0.0000), Var(v=0.0906, grad=0.0000), Var(v=-0.1964, grad=0.0000), Var(v=-0.0622, grad=0.0000), Var(v=0.0037, grad=0.0000), Var(v=-0.1450, grad=0.0000), Var(v=0.0835, grad=0.0000), Var(v=0.0049, grad=0.0000), Var(v=-0.0386, grad=0.0000), Var(v=-0.0172, grad=0.0000), Var(v=-0.0579, grad=0.0000), Var(v=0.0913, grad=0.0000), Var(v=0.1599, grad=0.0000), Var(v=-0.0709, grad=0.0000), Var(v=-0.0102, grad=0.0000), Var(v=0.1724, grad=0.0000), Var(v=-0.0383, grad=0.0000), Var(v=-0.0573, grad=0.0000), Var(v=0.0999, grad=0.0000), Var(v=-0.0235, grad=0.0000), Var(v=-0.0374, grad=0.0000), Var(v=-0.0647, grad=0.0000), Var(v=0.0228, grad=0.0000), Var(v=-0.0735, grad=0.0000), Var(v=-0.0773, grad=0.0000), Var(v=0.0939, grad=0.0000), Var(v=0.0578, grad=0.0000), Var(v=-0.0219, grad=0.0000), Var(v=0.0487, grad=0.0000), Var(v=0.0811, grad=0.0000), Var(v=-0.0990, grad=0.0000), Var(v=0.0064, grad=0.0000), Var(v=-0.0182, grad=0.0000), Var(v=0.0063, grad=0.0000), Var(v=-0.1961, grad=0.0000), Var(v=0.1948, grad=0.0000), Var(v=-0.0076, grad=0.0000), Var(v=-0.0298, grad=0.0000), Var(v=-0.0626, grad=0.0000), Var(v=0.0558, grad=0.0000), Var(v=0.0239, grad=0.0000), Var(v=-0.1027, grad=0.0000), Var(v=0.0425, grad=0.0000), Var(v=-0.0834, grad=0.0000), Var(v=-0.1976, grad=0.0000), Var(v=0.0386, grad=0.0000), Var(v=0.0585, grad=0.0000), Var(v=-0.0765, grad=0.0000), Var(v=0.1256, grad=0.0000), Var(v=-0.1474, grad=0.0000)], [Var(v=-0.0451, grad=0.0000), Var(v=-0.0419, grad=0.0000), Var(v=-0.0134, grad=0.0000), Var(v=-0.0454, grad=0.0000), Var(v=0.1398, grad=0.0000), Var(v=0.0511, grad=0.0000), Var(v=0.0837, grad=0.0000), Var(v=0.0592, grad=0.0000), Var(v=-0.0189, grad=0.0000), Var(v=-0.0334, grad=0.0000), Var(v=-0.1887, grad=0.0000), Var(v=-0.0692, grad=0.0000), Var(v=0.0191, grad=0.0000), Var(v=-0.1513, grad=0.0000), Var(v=-0.0738, grad=0.0000), Var(v=0.0610, grad=0.0000), Var(v=0.0327, grad=0.0000), Var(v=0.1942, grad=0.0000), Var(v=-0.0253, grad=0.0000), Var(v=0.0708, grad=0.0000), Var(v=-0.0708, grad=0.0000), Var(v=-0.1956, grad=0.0000), Var(v=0.0558, grad=0.0000), Var(v=0.0410, grad=0.0000), Var(v=-0.0650, grad=0.0000), Var(v=0.0682, grad=0.0000), Var(v=-0.0220, grad=0.0000), Var(v=-0.0058, grad=0.0000), Var(v=-0.0269, grad=0.0000), Var(v=-0.0508, grad=0.0000), Var(v=0.2515, grad=0.0000), Var(v=0.0865, grad=0.0000), Var(v=-0.0974, grad=0.0000), Var(v=0.0304, grad=0.0000), Var(v=-0.0195, grad=0.0000), Var(v=-0.0129, grad=0.0000), Var(v=0.0148, grad=0.0000), Var(v=-0.1434, grad=0.0000), Var(v=-0.0776, grad=0.0000), Var(v=0.1586, grad=0.0000), Var(v=-0.2271, grad=0.0000), Var(v=-0.0252, grad=0.0000), Var(v=0.0693, grad=0.0000), Var(v=0.0414, grad=0.0000), Var(v=-0.0548, grad=0.0000), Var(v=-0.0587, grad=0.0000), Var(v=-0.0649, grad=0.0000), Var(v=0.0072, grad=0.0000), Var(v=-0.1626, grad=0.0000), Var(v=-0.0748, grad=0.0000)], [Var(v=-0.0078, grad=0.0000), Var(v=0.0651, grad=0.0000), Var(v=-0.0832, grad=0.0000), Var(v=0.0042, grad=0.0000), Var(v=0.0481, grad=0.0000), Var(v=0.0914, grad=0.0000), Var(v=-0.0688, grad=0.0000), Var(v=0.2815, grad=0.0000), Var(v=-0.0105, grad=0.0000), Var(v=-0.1210, grad=0.0000), Var(v=0.0941, grad=0.0000), Var(v=-0.1676, grad=0.0000), Var(v=-0.0277, grad=0.0000), Var(v=0.0261, grad=0.0000), Var(v=-0.0050, grad=0.0000), Var(v=0.0550, grad=0.0000), Var(v=-0.1567, grad=0.0000), Var(v=0.0611, grad=0.0000), Var(v=-0.1395, grad=0.0000), Var(v=0.1227, grad=0.0000), Var(v=0.0232, grad=0.0000), Var(v=0.0800, grad=0.0000), Var(v=-0.1325, grad=0.0000), Var(v=0.2116, grad=0.0000), Var(v=0.0543, grad=0.0000), Var(v=-0.0767, grad=0.0000), Var(v=0.1120, grad=0.0000), Var(v=0.0341, grad=0.0000), Var(v=0.0228, grad=0.0000), Var(v=-0.0707, grad=0.0000), Var(v=-0.1258, grad=0.0000), Var(v=0.1097, grad=0.0000), Var(v=0.0546, grad=0.0000), Var(v=0.1196, grad=0.0000), Var(v=0.0796, grad=0.0000), Var(v=0.1115, grad=0.0000), Var(v=-0.0668, grad=0.0000), Var(v=0.0895, grad=0.0000), Var(v=0.3552, grad=0.0000), Var(v=-0.0570, grad=0.0000), Var(v=-0.0734, grad=0.0000), Var(v=-0.0109, grad=0.0000), Var(v=0.0520, grad=0.0000), Var(v=-0.0536, grad=0.0000), Var(v=0.1324, grad=0.0000), Var(v=0.1190, grad=0.0000), Var(v=0.0039, grad=0.0000), Var(v=-0.0783, grad=0.0000), Var(v=0.0812, grad=0.0000), Var(v=0.0950, grad=0.0000)], [Var(v=-0.0913, grad=0.0000), Var(v=-0.0731, grad=0.0000), Var(v=0.0373, grad=0.0000), Var(v=-0.0046, grad=0.0000), Var(v=-0.0351, grad=0.0000), Var(v=-0.0572, grad=0.0000), Var(v=-0.0120, grad=0.0000), Var(v=-0.2135, grad=0.0000), Var(v=0.0107, grad=0.0000), Var(v=0.0972, grad=0.0000), Var(v=0.0326, grad=0.0000), Var(v=0.0919, grad=0.0000), Var(v=-0.0354, grad=0.0000), Var(v=-0.1441, grad=0.0000), Var(v=-0.0888, grad=0.0000), Var(v=-0.0143, grad=0.0000), Var(v=-0.1092, grad=0.0000), Var(v=-0.0663, grad=0.0000), Var(v=-0.0346, grad=0.0000), Var(v=0.0072, grad=0.0000), Var(v=0.0132, grad=0.0000), Var(v=-0.0206, grad=0.0000), Var(v=-0.0563, grad=0.0000), Var(v=-0.0350, grad=0.0000), Var(v=-0.0538, grad=0.0000), Var(v=0.0484, grad=0.0000), Var(v=0.1919, grad=0.0000), Var(v=0.1759, grad=0.0000), Var(v=-0.0378, grad=0.0000), Var(v=0.0688, grad=0.0000), Var(v=0.0282, grad=0.0000), Var(v=0.0835, grad=0.0000), Var(v=0.1146, grad=0.0000), Var(v=-0.0171, grad=0.0000), Var(v=-0.1113, grad=0.0000), Var(v=-0.0607, grad=0.0000), Var(v=-0.0431, grad=0.0000), Var(v=-0.0122, grad=0.0000), Var(v=-0.0117, grad=0.0000), Var(v=0.0411, grad=0.0000), Var(v=0.0645, grad=0.0000), Var(v=0.3006, grad=0.0000), Var(v=-0.1713, grad=0.0000), Var(v=-0.1517, grad=0.0000), Var(v=0.0285, grad=0.0000), Var(v=0.1184, grad=0.0000), Var(v=0.0069, grad=0.0000), Var(v=0.0313, grad=0.0000), Var(v=-0.0025, grad=0.0000), Var(v=0.0315, grad=0.0000)], [Var(v=-0.1462, grad=0.0000), Var(v=0.1107, grad=0.0000), Var(v=0.0403, grad=0.0000), Var(v=0.1348, grad=0.0000), Var(v=-0.0377, grad=0.0000), Var(v=-0.0646, grad=0.0000), Var(v=-0.0343, grad=0.0000), Var(v=-0.0782, grad=0.0000), Var(v=-0.1959, grad=0.0000), Var(v=-0.0684, grad=0.0000), Var(v=0.0077, grad=0.0000), Var(v=-0.1024, grad=0.0000), Var(v=0.0415, grad=0.0000), Var(v=0.1282, grad=0.0000), Var(v=0.0857, grad=0.0000), Var(v=0.1494, grad=0.0000), Var(v=0.0706, grad=0.0000), Var(v=0.1788, grad=0.0000), Var(v=0.1884, grad=0.0000), Var(v=0.0284, grad=0.0000), Var(v=0.0427, grad=0.0000), Var(v=0.2658, grad=0.0000), Var(v=-0.0466, grad=0.0000), Var(v=-0.1985, grad=0.0000), Var(v=0.0135, grad=0.0000), Var(v=0.0299, grad=0.0000), Var(v=0.0260, grad=0.0000), Var(v=0.0547, grad=0.0000), Var(v=0.1414, grad=0.0000), Var(v=0.1445, grad=0.0000), Var(v=0.1600, grad=0.0000), Var(v=-0.0785, grad=0.0000), Var(v=0.0663, grad=0.0000), Var(v=0.0516, grad=0.0000), Var(v=0.0122, grad=0.0000), Var(v=-0.0017, grad=0.0000), Var(v=-0.0017, grad=0.0000), Var(v=0.0367, grad=0.0000), Var(v=-0.0541, grad=0.0000), Var(v=0.0938, grad=0.0000), Var(v=0.0319, grad=0.0000), Var(v=0.0474, grad=0.0000), Var(v=-0.0762, grad=0.0000), Var(v=0.1225, grad=0.0000), Var(v=0.0153, grad=0.0000), Var(v=-0.0934, grad=0.0000), Var(v=0.0609, grad=0.0000), Var(v=0.0262, grad=0.0000), Var(v=-0.0182, grad=0.0000), Var(v=-0.1587, grad=0.0000)], [Var(v=0.0700, grad=0.0000), Var(v=0.0111, grad=0.0000), Var(v=-0.0640, grad=0.0000), Var(v=0.0751, grad=0.0000), Var(v=-0.0442, grad=0.0000), Var(v=0.0743, grad=0.0000), Var(v=-0.0426, grad=0.0000), Var(v=-0.0080, grad=0.0000), Var(v=0.0051, grad=0.0000), Var(v=0.0556, grad=0.0000), Var(v=0.0622, grad=0.0000), Var(v=-0.0501, grad=0.0000), Var(v=-0.1088, grad=0.0000), Var(v=0.1752, grad=0.0000), Var(v=-0.0848, grad=0.0000), Var(v=-0.1034, grad=0.0000), Var(v=-0.1053, grad=0.0000), Var(v=0.1480, grad=0.0000), Var(v=-0.0175, grad=0.0000), Var(v=0.2935, grad=0.0000), Var(v=0.0461, grad=0.0000), Var(v=0.0348, grad=0.0000), Var(v=0.0107, grad=0.0000), Var(v=-0.0996, grad=0.0000), Var(v=-0.0019, grad=0.0000), Var(v=-0.0225, grad=0.0000), Var(v=0.1449, grad=0.0000), Var(v=0.1138, grad=0.0000), Var(v=0.0545, grad=0.0000), Var(v=-0.0664, grad=0.0000), Var(v=-0.0438, grad=0.0000), Var(v=0.0518, grad=0.0000), Var(v=0.0645, grad=0.0000), Var(v=0.0569, grad=0.0000), Var(v=0.1699, grad=0.0000), Var(v=-0.1177, grad=0.0000), Var(v=0.0105, grad=0.0000), Var(v=-0.1733, grad=0.0000), Var(v=0.0372, grad=0.0000), Var(v=0.0344, grad=0.0000), Var(v=-0.1476, grad=0.0000), Var(v=0.1326, grad=0.0000), Var(v=-0.0372, grad=0.0000), Var(v=0.1039, grad=0.0000), Var(v=-0.1442, grad=0.0000), Var(v=-0.1535, grad=0.0000), Var(v=-0.0107, grad=0.0000), Var(v=-0.0417, grad=0.0000), Var(v=0.0004, grad=0.0000), Var(v=0.1853, grad=0.0000)], [Var(v=-0.0723, grad=0.0000), Var(v=0.0639, grad=0.0000), Var(v=-0.1111, grad=0.0000), Var(v=-0.0238, grad=0.0000), Var(v=-0.1390, grad=0.0000), Var(v=0.1376, grad=0.0000), Var(v=0.0602, grad=0.0000), Var(v=0.0280, grad=0.0000), Var(v=-0.0904, grad=0.0000), Var(v=0.1712, grad=0.0000), Var(v=0.0426, grad=0.0000), Var(v=0.1058, grad=0.0000), Var(v=-0.0149, grad=0.0000), Var(v=-0.0376, grad=0.0000), Var(v=0.0133, grad=0.0000), Var(v=0.0748, grad=0.0000), Var(v=0.0141, grad=0.0000), Var(v=0.0199, grad=0.0000), Var(v=0.0655, grad=0.0000), Var(v=-0.2210, grad=0.0000), Var(v=0.0846, grad=0.0000), Var(v=0.0187, grad=0.0000), Var(v=0.0521, grad=0.0000), Var(v=-0.1782, grad=0.0000), Var(v=0.0656, grad=0.0000), Var(v=0.0670, grad=0.0000), Var(v=0.0338, grad=0.0000), Var(v=0.1897, grad=0.0000), Var(v=0.0220, grad=0.0000), Var(v=0.0462, grad=0.0000), Var(v=-0.0234, grad=0.0000), Var(v=0.0458, grad=0.0000), Var(v=-0.0364, grad=0.0000), Var(v=0.1335, grad=0.0000), Var(v=0.0975, grad=0.0000), Var(v=0.0640, grad=0.0000), Var(v=0.1406, grad=0.0000), Var(v=-0.0650, grad=0.0000), Var(v=0.0961, grad=0.0000), Var(v=0.0461, grad=0.0000), Var(v=-0.2074, grad=0.0000), Var(v=0.1460, grad=0.0000), Var(v=-0.0960, grad=0.0000), Var(v=0.0419, grad=0.0000), Var(v=-0.1378, grad=0.0000), Var(v=-0.0199, grad=0.0000), Var(v=0.0775, grad=0.0000), Var(v=0.0452, grad=0.0000), Var(v=0.0616, grad=0.0000), Var(v=0.0855, grad=0.0000)], [Var(v=0.1049, grad=0.0000), Var(v=-0.0974, grad=0.0000), Var(v=0.0782, grad=0.0000), Var(v=0.2044, grad=0.0000), Var(v=-0.1390, grad=0.0000), Var(v=-0.1561, grad=0.0000), Var(v=0.0205, grad=0.0000), Var(v=-0.0144, grad=0.0000), Var(v=0.0463, grad=0.0000), Var(v=-0.1227, grad=0.0000), Var(v=-0.0173, grad=0.0000), Var(v=-0.0903, grad=0.0000), Var(v=-0.1059, grad=0.0000), Var(v=0.0247, grad=0.0000), Var(v=0.1685, grad=0.0000), Var(v=-0.1645, grad=0.0000), Var(v=0.1037, grad=0.0000), Var(v=-0.0066, grad=0.0000), Var(v=0.0296, grad=0.0000), Var(v=-0.0870, grad=0.0000), Var(v=0.0538, grad=0.0000), Var(v=0.1472, grad=0.0000), Var(v=0.1230, grad=0.0000), Var(v=-0.1345, grad=0.0000), Var(v=0.1252, grad=0.0000), Var(v=-0.0083, grad=0.0000), Var(v=-0.0893, grad=0.0000), Var(v=-0.1330, grad=0.0000), Var(v=0.0205, grad=0.0000), Var(v=0.0200, grad=0.0000), Var(v=-0.0883, grad=0.0000), Var(v=-0.1641, grad=0.0000), Var(v=0.1081, grad=0.0000), Var(v=0.0321, grad=0.0000), Var(v=0.1814, grad=0.0000), Var(v=0.0150, grad=0.0000), Var(v=-0.1286, grad=0.0000), Var(v=-0.1257, grad=0.0000), Var(v=0.0286, grad=0.0000), Var(v=-0.1963, grad=0.0000), Var(v=-0.0084, grad=0.0000), Var(v=0.1441, grad=0.0000), Var(v=0.1571, grad=0.0000), Var(v=-0.0556, grad=0.0000), Var(v=-0.0858, grad=0.0000), Var(v=-0.1299, grad=0.0000), Var(v=0.0450, grad=0.0000), Var(v=0.1020, grad=0.0000), Var(v=0.0970, grad=0.0000), Var(v=-0.0260, grad=0.0000)], [Var(v=0.1823, grad=0.0000), Var(v=-0.0660, grad=0.0000), Var(v=-0.0359, grad=0.0000), Var(v=-0.0419, grad=0.0000), Var(v=-0.0322, grad=0.0000), Var(v=-0.1187, grad=0.0000), Var(v=-0.0452, grad=0.0000), Var(v=0.0429, grad=0.0000), Var(v=-0.0922, grad=0.0000), Var(v=0.0076, grad=0.0000), Var(v=0.0575, grad=0.0000), Var(v=0.0858, grad=0.0000), Var(v=-0.2809, grad=0.0000), Var(v=0.0942, grad=0.0000), Var(v=0.0370, grad=0.0000), Var(v=0.0302, grad=0.0000), Var(v=-0.0315, grad=0.0000), Var(v=-0.0709, grad=0.0000), Var(v=0.0548, grad=0.0000), Var(v=-0.0429, grad=0.0000), Var(v=-0.0623, grad=0.0000), Var(v=0.0719, grad=0.0000), Var(v=-0.1102, grad=0.0000), Var(v=-0.0980, grad=0.0000), Var(v=-0.0104, grad=0.0000), Var(v=-0.1072, grad=0.0000), Var(v=-0.1102, grad=0.0000), Var(v=-0.1173, grad=0.0000), Var(v=-0.0223, grad=0.0000), Var(v=0.1580, grad=0.0000), Var(v=0.1332, grad=0.0000), Var(v=-0.0533, grad=0.0000), Var(v=-0.1015, grad=0.0000), Var(v=-0.1077, grad=0.0000), Var(v=-0.1620, grad=0.0000), Var(v=0.0337, grad=0.0000), Var(v=0.0088, grad=0.0000), Var(v=0.1604, grad=0.0000), Var(v=0.0860, grad=0.0000), Var(v=0.2026, grad=0.0000), Var(v=0.1158, grad=0.0000), Var(v=-0.0482, grad=0.0000), Var(v=-0.1498, grad=0.0000), Var(v=-0.0421, grad=0.0000), Var(v=0.1918, grad=0.0000), Var(v=0.0727, grad=0.0000), Var(v=0.0511, grad=0.0000), Var(v=-0.0160, grad=0.0000), Var(v=-0.0216, grad=0.0000), Var(v=-0.0745, grad=0.0000)]]\n",
      " Biases: [Var(v=0.1038, grad=0.0000), Var(v=-0.1838, grad=0.0000), Var(v=0.0000, grad=0.0000), Var(v=-0.0928, grad=0.0000), Var(v=-0.0356, grad=0.0000), Var(v=0.1536, grad=0.0000), Var(v=-0.0818, grad=0.0000), Var(v=-0.0154, grad=0.0000), Var(v=-0.0024, grad=0.0000), Var(v=-0.0024, grad=0.0000), Var(v=-0.0166, grad=0.0000), Var(v=0.0273, grad=0.0000), Var(v=-0.0670, grad=0.0000), Var(v=-0.0773, grad=0.0000), Var(v=-0.1422, grad=0.0000), Var(v=-0.0002, grad=0.0000), Var(v=-0.0262, grad=0.0000), Var(v=-0.0017, grad=0.0000), Var(v=0.0010, grad=0.0000), Var(v=-0.0004, grad=0.0000), Var(v=0.0000, grad=0.0000), Var(v=0.0000, grad=0.0000), Var(v=-0.0013, grad=0.0000), Var(v=0.0000, grad=0.0000), Var(v=-0.0368, grad=0.0000), Var(v=0.0005, grad=0.0000), Var(v=0.0000, grad=0.0000), Var(v=-0.0089, grad=0.0000), Var(v=-0.0016, grad=0.0000), Var(v=-0.0301, grad=0.0000), Var(v=0.1000, grad=0.0000), Var(v=0.0000, grad=0.0000), Var(v=-0.0524, grad=0.0000), Var(v=0.0007, grad=0.0000), Var(v=-0.0403, grad=0.0000), Var(v=0.0591, grad=0.0000), Var(v=0.0387, grad=0.0000), Var(v=-0.0629, grad=0.0000), Var(v=0.0468, grad=0.0000), Var(v=0.0004, grad=0.0000), Var(v=0.0000, grad=0.0000), Var(v=-0.0388, grad=0.0000), Var(v=0.0000, grad=0.0000), Var(v=0.0000, grad=0.0000), Var(v=0.1325, grad=0.0000), Var(v=0.0000, grad=0.0000), Var(v=0.0000, grad=0.0000), Var(v=-0.0111, grad=0.0000), Var(v=0.0132, grad=0.0000), Var(v=0.0067, grad=0.0000)]\n",
      "\n",
      "Layer 2 \n",
      " Weights: [[Var(v=-0.1807, grad=0.0000)], [Var(v=0.1961, grad=0.0000)], [Var(v=-0.1231, grad=0.0000)], [Var(v=0.0733, grad=0.0000)], [Var(v=0.0219, grad=0.0000)], [Var(v=0.1918, grad=0.0000)], [Var(v=-0.0911, grad=0.0000)], [Var(v=0.0132, grad=0.0000)], [Var(v=0.1880, grad=0.0000)], [Var(v=0.1500, grad=0.0000)], [Var(v=-0.0115, grad=0.0000)], [Var(v=-0.0350, grad=0.0000)], [Var(v=-0.0749, grad=0.0000)], [Var(v=-0.0392, grad=0.0000)], [Var(v=-0.1558, grad=0.0000)], [Var(v=0.0343, grad=0.0000)], [Var(v=-0.0237, grad=0.0000)], [Var(v=0.1025, grad=0.0000)], [Var(v=-0.0550, grad=0.0000)], [Var(v=0.0383, grad=0.0000)], [Var(v=-0.0618, grad=0.0000)], [Var(v=0.1052, grad=0.0000)], [Var(v=0.0728, grad=0.0000)], [Var(v=0.1318, grad=0.0000)], [Var(v=-0.0282, grad=0.0000)], [Var(v=-0.0587, grad=0.0000)], [Var(v=0.0528, grad=0.0000)], [Var(v=0.0037, grad=0.0000)], [Var(v=0.1058, grad=0.0000)], [Var(v=-0.0061, grad=0.0000)], [Var(v=-0.1775, grad=0.0000)], [Var(v=-0.0142, grad=0.0000)], [Var(v=-0.0551, grad=0.0000)], [Var(v=-0.0386, grad=0.0000)], [Var(v=-0.0153, grad=0.0000)], [Var(v=-0.0716, grad=0.0000)], [Var(v=0.0631, grad=0.0000)], [Var(v=0.0692, grad=0.0000)], [Var(v=-0.0650, grad=0.0000)], [Var(v=-0.0313, grad=0.0000)], [Var(v=0.0699, grad=0.0000)], [Var(v=-0.0444, grad=0.0000)], [Var(v=0.2551, grad=0.0000)], [Var(v=-0.0137, grad=0.0000)], [Var(v=0.1635, grad=0.0000)], [Var(v=-0.0311, grad=0.0000)], [Var(v=0.0022, grad=0.0000)], [Var(v=-0.0356, grad=0.0000)], [Var(v=0.0276, grad=0.0000)], [Var(v=0.0498, grad=0.0000)]]\n",
      " Biases: [Var(v=-0.0141, grad=0.0000)]\n",
      "\n"
     ]
    },
    {
     "data": {
      "text/plain": [
       "[None, None, None]"
      ]
     },
     "execution_count": 31,
     "metadata": {},
     "output_type": "execute_result"
    }
   ],
   "source": [
    "print('Network before update:')\n",
    "[print('Layer', i, '\\n', NN[i]) for i in range(len(NN))] \n",
    "\n",
    "def parameters(network):\n",
    "  params = []\n",
    "  for layer in range(len(network)):\n",
    "    params += network[layer].parameters()\n",
    "  return params\n",
    "\n",
    "def update_parameters(params, learning_rate=0.01):\n",
    "  for p in params:\n",
    "    p.v -= learning_rate*p.grad\n",
    "\n",
    "def zero_gradients(params):\n",
    "  for p in params:\n",
    "    p.grad = 0.0\n",
    "\n",
    "update_parameters(parameters(NN))\n",
    "\n",
    "print('\\nNetwork after update:')\n",
    "[print('Layer', i, '\\n', NN[i]) for i in range(len(NN))] \n",
    "\n",
    "zero_gradients(parameters(NN))\n",
    "\n",
    "print('\\nNetwork after zeroing gradients:')\n",
    "[print('Layer', i, '\\n', NN[i]) for i in range(len(NN))] "
   ]
  },
  {
   "cell_type": "code",
   "execution_count": 32,
   "metadata": {
    "id": "woWYpdw6FtIO"
   },
   "outputs": [],
   "source": [
    "# Initialize an arbitrary neural network\n",
    "NN = [\n",
    "    DenseLayer(1, 8, lambda x: x.relu()),\n",
    "    DenseLayer(8, 1, lambda x: x.identity())\n",
    "]\n",
    "\n",
    "# Recommended hyper-parameters for 3-D: \n",
    "#NN = [\n",
    "#    DenseLayer(3, 16, lambda x: x.relu()),\n",
    "#    DenseLayer(16, 1, lambda x: x.identity())\n",
    "#]\n",
    "\n",
    "\n",
    "### Notice that, when we switch from tanh to relu activation, we decrease the learning rate. This is due the stability of the gradients \n",
    "## of the activation functions."
   ]
  },
  {
   "cell_type": "code",
   "execution_count": 33,
   "metadata": {
    "id": "mdqaqYBVFtIR"
   },
   "outputs": [],
   "source": [
    "# Initialize training hyperparameters\n",
    "EPOCHS = 200\n",
    "LEARN_R = 2e-3 "
   ]
  },
  {
   "cell_type": "code",
   "execution_count": 34,
   "metadata": {
    "colab": {
     "base_uri": "https://localhost:8080/"
    },
    "id": "5kfg76GMFtIW",
    "outputId": "e30cf68a-31f2-42b4-cc5e-860c297c0f04",
    "scrolled": true
   },
   "outputs": [
    {
     "name": "stdout",
     "output_type": "stream",
     "text": [
      "   0 ( 0.00%) Train loss: 105.805 \t Validation loss: 105.701\n",
      "  10 ( 5.00%) Train loss: 25.966 \t Validation loss: 17.934\n",
      "  20 (10.00%) Train loss: 13.777 \t Validation loss: 10.385\n",
      "  30 (15.00%) Train loss: 13.250 \t Validation loss: 9.987\n",
      "  40 (20.00%) Train loss: 12.875 \t Validation loss: 9.665\n",
      "  50 (25.00%) Train loss: 12.641 \t Validation loss: 9.439\n",
      "  60 (30.00%) Train loss: 12.433 \t Validation loss: 9.250\n",
      "  70 (35.00%) Train loss: 12.249 \t Validation loss: 9.095\n",
      "  80 (40.00%) Train loss: 12.106 \t Validation loss: 8.975\n",
      "  90 (45.00%) Train loss: 12.019 \t Validation loss: 8.892\n",
      " 100 (50.00%) Train loss: 11.968 \t Validation loss: 8.850\n",
      " 110 (55.00%) Train loss: 11.935 \t Validation loss: 8.840\n",
      " 120 (60.00%) Train loss: 11.914 \t Validation loss: 8.849\n",
      " 130 (65.00%) Train loss: 11.901 \t Validation loss: 8.874\n",
      " 140 (70.00%) Train loss: 11.889 \t Validation loss: 8.902\n",
      " 150 (75.00%) Train loss: 11.883 \t Validation loss: 8.925\n",
      " 160 (80.00%) Train loss: 11.878 \t Validation loss: 8.943\n",
      " 170 (85.00%) Train loss: 11.874 \t Validation loss: 8.958\n",
      " 180 (90.00%) Train loss: 11.871 \t Validation loss: 8.969\n",
      " 190 (95.00%) Train loss: 11.869 \t Validation loss: 8.977\n"
     ]
    }
   ],
   "source": [
    "train_loss = []\n",
    "val_loss = []\n",
    "\n",
    "for e in range(EPOCHS):\n",
    "     \n",
    "    # Forward pass and loss computation\n",
    "    Loss = squared_loss(y_train, forward(x_train, NN))\n",
    "\n",
    "    # Backward pass\n",
    "    Loss.backward()\n",
    "    \n",
    "    # gradient descent update\n",
    "    update_parameters(parameters(NN), LEARN_R)\n",
    "    zero_gradients(parameters(NN))\n",
    "    \n",
    "    # Training loss\n",
    "    train_loss.append(Loss.v)\n",
    "    \n",
    "    # Validation\n",
    "    Loss_validation = squared_loss(y_validation, forward(x_validation, NN))\n",
    "    val_loss.append(Loss_validation.v)\n",
    "    \n",
    "    if e%10==0:\n",
    "        print(\"{:4d}\".format(e),\n",
    "              \"({:5.2f}%)\".format(e/EPOCHS*100), \n",
    "              \"Train loss: {:4.3f} \\t Validation loss: {:4.3f}\".format(train_loss[-1], val_loss[-1]))\n",
    "        \n"
   ]
  },
  {
   "cell_type": "code",
   "execution_count": 35,
   "metadata": {
    "colab": {
     "base_uri": "https://localhost:8080/",
     "height": 265
    },
    "id": "VetyRWFwFtIY",
    "outputId": "344e490d-6d7d-455a-fa6f-88dd11eb957e"
   },
   "outputs": [
    {
     "data": {
      "image/png": "[encoded data removed]",
      "text/plain": [
       "<Figure size 640x480 with 1 Axes>"
      ]
     },
     "metadata": {},
     "output_type": "display_data"
    }
   ],
   "source": [
    "plt.plot(range(len(train_loss)), train_loss);\n",
    "plt.plot(range(len(val_loss)), val_loss);"
   ]
  },
  {
   "cell_type": "markdown",
   "metadata": {
    "id": "8OgmIrM9FtIb"
   },
   "source": [
    "# Testing\n",
    "\n",
    "We have kept the calculation of the test error separate in order to emphasize that you should not use the test set in optimization."
   ]
  },
  {
   "cell_type": "code",
   "execution_count": 36,
   "metadata": {
    "id": "HmNi7S-vFtIc"
   },
   "outputs": [],
   "source": [
    "output_test = forward(x_test, NN)"
   ]
  },
  {
   "cell_type": "code",
   "execution_count": 37,
   "metadata": {
    "colab": {
     "base_uri": "https://localhost:8080/",
     "height": 316
    },
    "id": "7mmJOTSEFtIf",
    "outputId": "e3264095-cefe-4aee-893d-bf152438e332"
   },
   "outputs": [
    {
     "name": "stdout",
     "output_type": "stream",
     "text": [
      "Test loss:  9.787\n"
     ]
    },
    {
     "data": {
      "image/png": "[encoded data removed]",
      "text/plain": [
       "<Figure size 640x480 with 1 Axes>"
      ]
     },
     "metadata": {},
     "output_type": "display_data"
    }
   ],
   "source": [
    "y_test_np = Var_to_nparray(y_test)\n",
    "plt.scatter(y_test_np, Var_to_nparray(output_test));\n",
    "plt.plot([np.min(y_test_np), np.max(y_test_np)], [np.min(y_test_np), np.max(y_test_np)], color='k');\n",
    "plt.xlabel(\"y\");\n",
    "plt.ylabel(\"$\\hat{y}$\");\n",
    "plt.title(\"Model prediction vs real in the test set, the close to the line the better\")\n",
    "plt.grid(True);\n",
    "plt.axis('equal');\n",
    "plt.tight_layout();\n",
    "\n",
    "Loss_test = squared_loss(y_test, forward(x_test, NN))\n",
    "\n",
    "print(\"Test loss:  {:4.3f}\".format(Loss_test.v))"
   ]
  },
  {
   "cell_type": "code",
   "execution_count": 38,
   "metadata": {
    "colab": {
     "base_uri": "https://localhost:8080/",
     "height": 279
    },
    "id": "ODi0WlmQFtIh",
    "outputId": "d1ab874f-0717-4987-87bf-1f0c7c8e7148"
   },
   "outputs": [
    {
     "data": {
      "image/png": "[encoded data removed]",
      "text/plain": [
       "<Figure size 640x480 with 1 Axes>"
      ]
     },
     "metadata": {},
     "output_type": "display_data"
    }
   ],
   "source": [
    "x_test_np = Var_to_nparray(x_test)\n",
    "x_train_np = Var_to_nparray(x_train)\n",
    "y_train_np = Var_to_nparray(y_train)\n",
    "if D1:\n",
    "    plt.scatter(x_train_np, y_train_np, label=\"train data\");\n",
    "    plt.scatter(x_test_np, Var_to_nparray(output_test), label=\"test prediction\");\n",
    "    plt.scatter(x_test_np, y_test_np, label=\"test data\");\n",
    "    plt.legend();\n",
    "    plt.xlabel(\"x\");\n",
    "    plt.ylabel(\"y\");\n",
    "else:\n",
    "    plt.scatter(x_train_np[:,1], y_train, label=\"train data\");\n",
    "    plt.scatter(x_test_np[:,1], Var_to_nparray(output_test), label=\"test data prediction\");\n",
    "    plt.scatter(x_test_np[:,1], y_test_np, label=\"test data\");\n",
    "    plt.legend();\n",
    "    plt.xlabel(\"x\");\n",
    "    plt.ylabel(\"y\");"
   ]
  },
  {
   "cell_type": "markdown",
   "metadata": {
    "id": "zTBAmjsAFtIk"
   },
   "source": [
    "## Exercise l) Show overfitting, underfitting and just right fitting\n",
    "\n",
    "Vary the architecture and other things to show clear signs of overfitting (=training loss significantly lower than test loss) and underfitting (=not fitting enoung to training data so that test performance is also hurt).\n",
    "\n",
    "See also if you can get a good compromise which leads to a low validation loss. \n",
    "\n",
    "For this problem do you see any big difference between validation and test loss? The answer here will probably be no. Discuss cases where it is important to keep the two separate.\n",
    "\n",
    "_Insert written answer here._\n"
   ]
  },
  {
   "cell_type": "code",
   "execution_count": 42,
   "metadata": {
    "id": "tQZCn2dxFtIl"
   },
   "outputs": [],
   "source": [
    "NN = [\n",
    "    DenseLayer(1, 10, lambda x: x.relu()),\n",
    "    DenseLayer(10, 40, lambda x: x.relu()),\n",
    "    DenseLayer(40, 10, lambda x: x.relu()),\n",
    "    DenseLayer(10, 1, lambda x: x.identity())\n",
    "]\n"
   ]
  },
  {
   "cell_type": "code",
   "execution_count": 45,
   "metadata": {},
   "outputs": [],
   "source": [
    "\n",
    "EPOCHS = 100\n",
    "LEARN_R = 2e-3 \n"
   ]
  },
  {
   "cell_type": "code",
   "execution_count": 46,
   "metadata": {},
   "outputs": [
    {
     "name": "stdout",
     "output_type": "stream",
     "text": [
      "   0 ( 0.00%) Train loss: 104.906 \t Validation loss: 107.679\n",
      "  10 (10.00%) Train loss: 103.761 \t Validation loss: 106.275\n",
      "  20 (20.00%) Train loss: 94.362 \t Validation loss: 94.173\n",
      "  30 (30.00%) Train loss: 17.321 \t Validation loss: 13.321\n",
      "  40 (40.00%) Train loss: 16.717 \t Validation loss: 13.325\n",
      "  50 (50.00%) Train loss: 15.591 \t Validation loss: 12.020\n",
      "  60 (60.00%) Train loss: 14.496 \t Validation loss: 10.901\n",
      "  70 (70.00%) Train loss: 13.508 \t Validation loss: 10.039\n",
      "  80 (80.00%) Train loss: 12.814 \t Validation loss: 9.474\n",
      "  90 (90.00%) Train loss: 12.344 \t Validation loss: 9.172\n"
     ]
    }
   ],
   "source": [
    "train_loss = []\n",
    "val_loss = []\n",
    "\n",
    "for e in range(EPOCHS):\n",
    "     \n",
    "    # Forward pass and loss computation\n",
    "    Loss = squared_loss(y_train, forward(x_train, NN))\n",
    "\n",
    "    # Backward pass\n",
    "    Loss.backward()\n",
    "    \n",
    "    # gradient descent update\n",
    "    update_parameters(parameters(NN), LEARN_R)\n",
    "    zero_gradients(parameters(NN))\n",
    "    \n",
    "    # Training loss\n",
    "    train_loss.append(Loss.v)\n",
    "    \n",
    "    # Validation\n",
    "    Loss_validation = squared_loss(y_validation, forward(x_validation, NN))\n",
    "    val_loss.append(Loss_validation.v)\n",
    "    \n",
    "    if e%10==0:\n",
    "        print(\"{:4d}\".format(e),\n",
    "              \"({:5.2f}%)\".format(e/EPOCHS*100), \n",
    "              \"Train loss: {:4.3f} \\t Validation loss: {:4.3f}\".format(train_loss[-1], val_loss[-1]))\n",
    "        "
   ]
  },
  {
   "cell_type": "code",
   "execution_count": 47,
   "metadata": {},
   "outputs": [
    {
     "data": {
      "image/png": "[encoded data removed]",
      "text/plain": [
       "<Figure size 640x480 with 1 Axes>"
      ]
     },
     "metadata": {},
     "output_type": "display_data"
    }
   ],
   "source": [
    "plt.plot(range(len(train_loss)), train_loss);\n",
    "plt.plot(range(len(val_loss)), val_loss);\n"
   ]
  },
  {
   "cell_type": "code",
   "execution_count": null,
   "metadata": {},
   "outputs": [],
   "source": [
    "\n",
    "output_test = forward(x_test, NN)\n",
    "\n",
    "\n",
    "y_test_np = Var_to_nparray(y_test)\n",
    "plt.scatter(y_test_np, Var_to_nparray(output_test));\n",
    "plt.plot([np.min(y_test_np), np.max(y_test_np)], [np.min(y_test_np), np.max(y_test_np)], color='k');\n",
    "plt.xlabel(\"y\");\n",
    "plt.ylabel(\"$\\hat{y}$\");\n",
    "plt.title(\"Model prediction vs real in the test set, the close to the line the better\")\n",
    "plt.grid(True);\n",
    "plt.axis('equal');\n",
    "plt.tight_layout();\n",
    "\n",
    "Loss_test = squared_loss(y_test, forward(x_test, NN))\n",
    "\n",
    "print(\"Test loss:  {:4.3f}\".format(Loss_test.v))\n"
   ]
  },
  {
   "cell_type": "code",
   "execution_count": null,
   "metadata": {},
   "outputs": [],
   "source": [
    "x_test_np = Var_to_nparray(x_test)\n",
    "x_train_np = Var_to_nparray(x_train)\n",
    "y_train_np = Var_to_nparray(y_train)\n",
    "if D1:\n",
    "    plt.scatter(x_train_np, y_train_np, label=\"train data\");\n",
    "    plt.scatter(x_test_np, Var_to_nparray(output_test), label=\"test prediction\");\n",
    "    plt.scatter(x_test_np, y_test_np, label=\"test data\");\n",
    "    plt.legend();\n",
    "    plt.xlabel(\"x\");\n",
    "    plt.ylabel(\"y\");\n",
    "else:\n",
    "    plt.scatter(x_train_np[:,1], y_train, label=\"train data\");\n",
    "    plt.scatter(x_test_np[:,1], Var_to_nparray(output_test), label=\"test data prediction\");\n",
    "    plt.scatter(x_test_np[:,1], y_test_np, label=\"test data\");\n",
    "    plt.legend();\n",
    "    plt.xlabel(\"x\");\n",
    "    plt.ylabel(\"y\");\n"
   ]
  },
  {
   "cell_type": "markdown",
   "metadata": {
    "id": "fYPZP-eTFtIo"
   },
   "source": [
    "# Next steps - classification\n",
    "\n",
    "It is straight forward to extend what we have done to classification. \n",
    "\n",
    "For numerical stability it is better to make softmax and cross-entropy as one function so we write the cross entropy loss as a function of the logits we talked about last week. \n",
    "\n",
    "Next week we will see how to perform classification in PyTorch."
   ]
  },
  {
   "cell_type": "markdown",
   "metadata": {
    "id": "qsVPul3QFtIo"
   },
   "source": [
    "## Exercise m) optional - Implement backpropagation for classification\n",
    "\n",
    "Should be possible with very few lines of code. :-)"
   ]
  },
  {
   "cell_type": "code",
   "execution_count": null,
   "metadata": {
    "id": "oC8QrI2tFtIp"
   },
   "outputs": [],
   "source": [
    "# Just add code."
   ]
  },
  {
   "cell_type": "markdown",
   "metadata": {
    "id": "APqhJv3tta1O"
   },
   "source": [
    "## Exercise n) optional - Introduce a NeuralNetwork class\n",
    "\n",
    "The functions we applied on the neural network (parameters, update_parameters and zero_gradients) can more naturally be included as methods in a NeuralNetwork class. Make such a class and modify the code to use it. "
   ]
  },
  {
   "cell_type": "code",
   "execution_count": null,
   "metadata": {
    "id": "Dqfnor1ouMLq"
   },
   "outputs": [],
   "source": [
    "# just add some code"
   ]
  }
 ],
 "metadata": {
  "anaconda-cloud": {},
  "colab": {
   "collapsed_sections": [
    "U4057_ljNvWB",
    "p_8n_SKnIW2F",
    "oLrGJytZFtGm",
    "jpIZPBpNI0pO",
    "_79HOAXrFtHK",
    "mqeyab9qFtGs",
    "-XyXBD37FtHk",
    "SrwSJ2UWFtHu",
    "zTBAmjsAFtIk",
    "qsVPul3QFtIo",
    "APqhJv3tta1O"
   ],
   "name": "2.1-EXE-FNN-AutoDif-Nanograd.ipynb",
   "provenance": []
  },
  "kernelspec": {
   "display_name": "Python 3 (ipykernel)",
   "language": "python",
   "name": "python3"
  },
  "language_info": {
   "codemirror_mode": {
    "name": "ipython",
    "version": 3
   },
   "file_extension": ".py",
   "mimetype": "text/x-python",
   "name": "python",
   "nbconvert_exporter": "python",
   "pygments_lexer": "ipython3",
   "version": "3.8.5"
  }
 },
 "nbformat": 4,
 "nbformat_minor": 1
}
