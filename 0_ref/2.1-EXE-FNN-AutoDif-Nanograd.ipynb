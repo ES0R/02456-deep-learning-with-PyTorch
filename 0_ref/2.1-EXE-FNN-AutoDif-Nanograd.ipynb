{
 "cells": [
  {
   "cell_type": "markdown",
   "metadata": {
    "id": "HAva8TnYFtFu"
   },
   "source": [
    "# Contents and why we need this lab\n",
    "\n",
    "This lab is about implementing neural networks yourself before we start using other frameworks that hide some of the computation from you. It builds on the first lab, where you derived the equations for neural network forward and backward propagation and gradient descent parameter updates. \n",
    "\n",
    "All the frameworks for deep learning you will meet from now on use automatic differentiation (autodiff), so you do not have to code the backward step yourself. In this version of this lab, you will develop your own autodif implementation. We also have an optional [version](https://github.com/DeepLearningDTU/02456-deep-learning-with-PyTorch/blob/master/2_Feedforward_Python/2.2-FNN-NumPy.ipynb) of this lab where you have to code the backward pass explicitly in Numpy."
   ]
  },
  {
   "cell_type": "markdown",
   "metadata": {
    "id": "sCa7HzwpFtFy"
   },
   "source": [
    "# External sources of information\n",
    "\n",
    "1. Jupyter notebook. You can find more information about Jupyter notebooks [here](https://jupyter.org/). It will come as part of the [Anaconda](https://www.anaconda.com/) Python installation. \n",
    "2. [NumPy](https://numpy.org/). Part of Anaconda distribution.  If you already know how to program, most things about Python and NumPy can be found with Google searches.\n",
    "3. [Nanograd](https://github.com/rasmusbergpalm/nanograd) is a minimalistic version of autodiff developed by Rasmus Berg Palm that we use for our framework.\n"
   ]
  },
  {
   "cell_type": "markdown",
   "metadata": {
    "id": "1SjiIp-TFtF0"
   },
   "source": [
    "# This notebook will follow the next steps:\n",
    "\n",
    "1. Nanograd automatic differentiation framework\n",
    "2. Finite difference method\n",
    "3. Data generation\n",
    "4. Defining and initializing the network\n",
    "5. Forward pass\n",
    "6. Training loop \n",
    "7. Testing your model\n",
    "8. Further extensions"
   ]
  },
  {
   "cell_type": "markdown",
   "metadata": {
    "id": "OyXeAA-HuT7s"
   },
   "source": [
    "# Nanograd automatic differention framework"
   ]
  },
  {
   "cell_type": "markdown",
   "metadata": {
    "id": "k6UWKCLKubgA"
   },
   "source": [
    "The [Nanograd](https://github.com/rasmusbergpalm/nanograd) framework defines a class Var which both holds a value and gradient value that we can use to store the intermediate values when we apply the chain rule of differentiation."
   ]
  },
  {
   "cell_type": "code",
   "execution_count": 1,
   "metadata": {
    "id": "Jd4CoEBNzNWS"
   },
   "outputs": [],
   "source": [
    "# Copy and pasted from https://github.com/rasmusbergpalm/nanograd/blob/3a1bf9e9e724da813bfccf91a6f309abdade9f39/nanograd.py\n",
    "\n",
    "from math import exp, log, tanh, exp\n",
    "\n",
    "class Var:\n",
    "    \"\"\"\n",
    "    A variable which holds a float and enables gradient computations.\n",
    "    \"\"\"\n",
    "\n",
    "    def __init__(self, val: float, grad_fn=lambda: []):\n",
    "        assert type(val) == float\n",
    "        self.v = val\n",
    "        self.grad_fn = grad_fn\n",
    "        self.grad = 0.0\n",
    "\n",
    "    def backprop(self, bp):\n",
    "        self.grad += bp\n",
    "        for input, grad in self.grad_fn():\n",
    "            input.backprop(grad * bp)\n",
    "\n",
    "    def backward(self):\n",
    "        self.backprop(1.0)\n",
    "\n",
    "    def __add__(self: 'Var', other: 'Var') -> 'Var':\n",
    "        return Var(self.v + other.v, lambda: [(self, 1.0), (other, 1.0)])\n",
    "\n",
    "    def __mul__(self: 'Var', other: 'Var') -> 'Var':\n",
    "        return Var(self.v * other.v, lambda: [(self, other.v), (other, self.v)])\n",
    "\n",
    "    def __pow__(self, power):\n",
    "        assert type(power) in {float, int}, \"power must be float or int\"\n",
    "        return Var(self.v ** power, lambda: [(self, power * self.v ** (power - 1))])\n",
    "\n",
    "    def __neg__(self: 'Var') -> 'Var':\n",
    "        return Var(-1.0) * self\n",
    "\n",
    "    def __sub__(self: 'Var', other: 'Var') -> 'Var':\n",
    "        return self + (-other)\n",
    "\n",
    "    def __truediv__(self: 'Var', other: 'Var') -> 'Var':\n",
    "        return self * other ** -1\n",
    "\n",
    "    def __repr__(self):\n",
    "        return \"Var(v=%.4f, grad=%.4f)\" % (self.v, self.grad)\n",
    "\n",
    "    def relu(self):\n",
    "        return Var(self.v if self.v > 0.0 else 0.0, lambda: [(self, 1.0 if self.v > 0.0 else 0.0)])\n",
    "    \n",
    "    def identity(self):\n",
    "        return Var(self.v, lambda: [(self, 1.0)])\n",
    "\n",
    "    def tanh(self):\n",
    "        return Var(tanh(self.v), lambda: [(self, 1 - tanh(self.v) ** 2)])\n",
    "\n",
    "    def sigmoid(self):\n",
    "        s = 1 / ( 1 + exp(-self.v))\n",
    "        return Var(s, lambda: [(self, s * (1 - s))])\n",
    "    \n",
    "    def exp(self):\n",
    "        return Var(exp(self.v), lambda: [(self, exp(self.v))])\n",
    "    \n",
    "    def log(self):\n",
    "        return Var(log(self.v), lambda: [(self, self.v ** -1)])"
   ]
  },
  {
   "cell_type": "markdown",
   "metadata": {
    "id": "yDX67D6jzcte"
   },
   "source": [
    "A few examples illustrate how we can use this:"
   ]
  },
  {
   "cell_type": "code",
   "execution_count": 2,
   "metadata": {
    "colab": {
     "base_uri": "https://localhost:8080/"
    },
    "id": "xk6PeLc3zwPT",
    "outputId": "47e431b2-07ba-4cb1-ea21-997769641c67"
   },
   "outputs": [
    {
     "name": "stdout",
     "output_type": "stream",
     "text": [
      "Var(v=3.0000, grad=5.0000)\n",
      "Var(v=5.0000, grad=3.0000)\n",
      "Var(v=15.0000, grad=1.0000)\n"
     ]
    }
   ],
   "source": [
    "a = Var(3.0)\n",
    "b = Var(5.0)\n",
    "f = a * b\n",
    "\n",
    "f.backward()\n",
    "\n",
    "for v in [a, b, f]:\n",
    "    print(v)"
   ]
  },
  {
   "cell_type": "code",
   "execution_count": 3,
   "metadata": {
    "colab": {
     "base_uri": "https://localhost:8080/"
    },
    "id": "JmKhYgsY0g_o",
    "outputId": "06c1b1df-c33c-40d3-922a-624612a591c7"
   },
   "outputs": [
    {
     "name": "stdout",
     "output_type": "stream",
     "text": [
      "Var(v=3.0000, grad=14.0000)\n",
      "Var(v=5.0000, grad=3.0000)\n",
      "Var(v=15.0000, grad=1.0000)\n",
      "Var(v=9.0000, grad=3.0000)\n",
      "Var(v=27.0000, grad=1.0000)\n",
      "Var(v=42.0000, grad=1.0000)\n"
     ]
    }
   ],
   "source": [
    "a = Var(3.0)\n",
    "b = Var(5.0)\n",
    "c = a * b\n",
    "d = Var(9.0)\n",
    "e = a * d\n",
    "f = c + e\n",
    "\n",
    "f.backward()\n",
    "\n",
    "for v in [a, b, c, d, e, f]:\n",
    "    print(v)"
   ]
  },
  {
   "cell_type": "markdown",
   "metadata": {
    "id": "Fe3B6uEH140p"
   },
   "source": [
    "## Exercise a) What is being calculated?\n",
    "\n",
    "Explain briefly the output of the code? What is the expression we differentiate and with respect to what variables?"
   ]
  },
  {
   "cell_type": "markdown",
   "metadata": {},
   "source": [
    "In the first example, the expression we differentiate is:\n",
    "$$\n",
    "f = a * b\n",
    "$$\n",
    "We differentiate this expression with respect to a, respectively b.\n",
    "$$\n",
    "\\frac{\\partial f}{\\partial a} = b = 5, \\frac{\\partial f}{\\partial b} = a = 3\n",
    "$$\n",
    "\n",
    "In the second example, we differentiate the expression:\n",
    "$$\n",
    "f = a * b + a * d\n",
    "$$\n",
    "We differentiate this expression with respect to a, b, respectively d.\n",
    "$$\n",
    "\\frac{\\partial f}{\\partial a} = \\frac{\\partial f}{\\partial c} \\frac{\\partial c}{\\partial a} + \\frac{\\partial f}{\\partial e} \\frac{\\partial e}{\\partial a} = b + d = 5 + 9 = 14,$$\n",
    "$$\n",
    "\\frac{\\partial f}{\\partial b} = \\frac{\\partial f}{\\partial c} \\frac{\\partial c}{\\partial b} + \\frac{\\partial f}{\\partial e} \\frac{\\partial e}{\\partial b} = a = 3,\n",
    "$$\n",
    "$$\n",
    "\\frac{\\partial f}{\\partial d} = \\frac{\\partial f}{\\partial c} \\frac{\\partial c}{\\partial d} + \\frac{\\partial f}{\\partial e} \\frac{\\partial e}{\\partial d} = a = 3,\n",
    "$$"
   ]
  },
  {
   "cell_type": "markdown",
   "metadata": {},
   "source": []
  },
  {
   "cell_type": "markdown",
   "metadata": {
    "id": "q8_Q0t2I3Ruj"
   },
   "source": [
    "## Exercise b) How does the backward function work?\n",
    "\n",
    "You need to understand how the backward function calculates the gradients. We can use the two examples above to help with that.\n",
    "\n",
    "Go through the following four steps and answer the questions on the way:\n",
    "\n",
    "1. We represent the two expressions as graphs as shown below. Fill in the missing expressions for the different derivatives.\n",
    "\n",
    "2. In the remainder consider the first expression. Make a schematic of the data structure which is generated when we define the expression for f. \n",
    "\n",
    "3. Then execute the backward function by hand to convince yourself that it indeed calculates the gradients with respect to the variables. \n",
    "\n",
    "4. Write down the sequence of calls to backprop."
   ]
  },
  {
   "cell_type": "code",
   "execution_count": 4,
   "metadata": {
    "id": "idGr71jYXl26"
   },
   "outputs": [],
   "source": [
    "# import logging\n",
    "import graphviz\n",
    "\n",
    "#logging.basicConfig(format='[%(levelname)s@%(name)s] %(message)s', level=logging.DEBUG)\n",
    "\n",
    "#graphviz.__version__, graphviz.version()"
   ]
  },
  {
   "cell_type": "code",
   "execution_count": 5,
   "metadata": {
    "colab": {
     "base_uri": "https://localhost:8080/",
     "height": 152
    },
    "id": "KPe30Q2QXzeG",
    "outputId": "7fa002cd-a018-4dbb-ddf1-28ed5e99ee19"
   },
   "outputs": [
    {
     "data": {
      "image/svg+xml": [
       "<?xml version=\"1.0\" encoding=\"UTF-8\" standalone=\"no\"?>\n",
       "<!DOCTYPE svg PUBLIC \"-//W3C//DTD SVG 1.1//EN\"\n",
       " \"http://www.w3.org/Graphics/SVG/1.1/DTD/svg11.dtd\">\n",
       "<!-- Generated by graphviz version 8.1.0 (20230707.0739)\n",
       " -->\n",
       "<!-- Title: first expression Pages: 1 -->\n",
       "<svg width=\"220pt\" height=\"126pt\"\n",
       " viewBox=\"0.00 0.00 220.43 126.23\" xmlns=\"http://www.w3.org/2000/svg\" xmlns:xlink=\"http://www.w3.org/1999/xlink\">\n",
       "<g id=\"graph0\" class=\"graph\" transform=\"scale(1 1) rotate(0) translate(4 122.23)\">\n",
       "<title>first expression</title>\n",
       "<polygon fill=\"white\" stroke=\"none\" points=\"-4,4 -4,-122.23 216.43,-122.23 216.43,4 -4,4\"/>\n",
       "<!-- a=3 -->\n",
       "<g id=\"node1\" class=\"node\">\n",
       "<title>a=3</title>\n",
       "<ellipse fill=\"none\" stroke=\"black\" cx=\"25.62\" cy=\"-93.62\" rx=\"24.62\" ry=\"24.62\"/>\n",
       "<text text-anchor=\"middle\" x=\"25.62\" y=\"-88.19\" font-family=\"Times New Roman,serif\" font-size=\"14.00\">a=3</text>\n",
       "</g>\n",
       "<!-- f=a*b -->\n",
       "<g id=\"node2\" class=\"node\">\n",
       "<title>f=a*b</title>\n",
       "<ellipse fill=\"none\" stroke=\"black\" cx=\"179.83\" cy=\"-59.62\" rx=\"32.6\" ry=\"32.6\"/>\n",
       "<text text-anchor=\"middle\" x=\"179.83\" y=\"-54.19\" font-family=\"Times New Roman,serif\" font-size=\"14.00\">f=a*b</text>\n",
       "</g>\n",
       "<!-- a=3&#45;&gt;f=a*b -->\n",
       "<g id=\"edge1\" class=\"edge\">\n",
       "<title>a=3&#45;&gt;f=a*b</title>\n",
       "<path fill=\"none\" stroke=\"black\" d=\"M50.07,-88.38C73.18,-83.21 109.01,-75.21 137.01,-68.96\"/>\n",
       "<polygon fill=\"black\" stroke=\"black\" points=\"137.71,-72.16 146.7,-66.57 136.18,-65.33 137.71,-72.16\"/>\n",
       "<text text-anchor=\"middle\" x=\"99.23\" y=\"-85.07\" font-family=\"Times New Roman,serif\" font-size=\"14.00\">df/da=b=5</text>\n",
       "</g>\n",
       "<!-- b=5 -->\n",
       "<g id=\"node3\" class=\"node\">\n",
       "<title>b=5</title>\n",
       "<ellipse fill=\"none\" stroke=\"black\" cx=\"25.62\" cy=\"-25.62\" rx=\"25.62\" ry=\"25.62\"/>\n",
       "<text text-anchor=\"middle\" x=\"25.62\" y=\"-20.19\" font-family=\"Times New Roman,serif\" font-size=\"14.00\">b=5</text>\n",
       "</g>\n",
       "<!-- b=5&#45;&gt;f=a*b -->\n",
       "<g id=\"edge2\" class=\"edge\">\n",
       "<title>b=5&#45;&gt;f=a*b</title>\n",
       "<path fill=\"none\" stroke=\"black\" d=\"M51.07,-31.08C74.22,-36.25 109.44,-44.11 137.04,-50.28\"/>\n",
       "<polygon fill=\"black\" stroke=\"black\" points=\"136.06,-53.87 146.58,-52.63 137.58,-47.04 136.06,-53.87\"/>\n",
       "<text text-anchor=\"middle\" x=\"99.23\" y=\"-51.07\" font-family=\"Times New Roman,serif\" font-size=\"14.00\">df/db=a=3</text>\n",
       "</g>\n",
       "</g>\n",
       "</svg>\n"
      ],
      "text/plain": [
       "<graphviz.graphs.Digraph at 0x293dcced0d0>"
      ]
     },
     "execution_count": 5,
     "metadata": {},
     "output_type": "execute_result"
    }
   ],
   "source": [
    "e1 = graphviz.Digraph('first expression', filename='fsm.gv')\n",
    "\n",
    "e1.attr(rankdir='LR', size='8,5')\n",
    "\n",
    "e1.attr('node', shape='circle')\n",
    "e1.edge('a=3', 'f=a*b', label='df/da=b=5')\n",
    "e1.edge('b=5', 'f=a*b', label='df/db=a=3')\n",
    "\n",
    "e1"
   ]
  },
  {
   "cell_type": "code",
   "execution_count": 6,
   "metadata": {
    "colab": {
     "base_uri": "https://localhost:8080/",
     "height": 232
    },
    "id": "0nittR-mZFeX",
    "outputId": "fa3656a3-732c-4abe-8084-98a492b0d6be"
   },
   "outputs": [
    {
     "data": {
      "image/svg+xml": [
       "<?xml version=\"1.0\" encoding=\"UTF-8\" standalone=\"no\"?>\n",
       "<!DOCTYPE svg PUBLIC \"-//W3C//DTD SVG 1.1//EN\"\n",
       " \"http://www.w3.org/Graphics/SVG/1.1/DTD/svg11.dtd\">\n",
       "<!-- Generated by graphviz version 8.1.0 (20230707.0739)\n",
       " -->\n",
       "<!-- Title: second expression Pages: 1 -->\n",
       "<svg width=\"373pt\" height=\"270pt\"\n",
       " viewBox=\"0.00 0.00 372.88 270.23\" xmlns=\"http://www.w3.org/2000/svg\" xmlns:xlink=\"http://www.w3.org/1999/xlink\">\n",
       "<g id=\"graph0\" class=\"graph\" transform=\"scale(1 1) rotate(0) translate(4 266.23)\">\n",
       "<title>second expression</title>\n",
       "<polygon fill=\"white\" stroke=\"none\" points=\"-4,4 -4,-266.23 368.88,-266.23 368.88,4 -4,4\"/>\n",
       "<!-- a=5 -->\n",
       "<g id=\"node1\" class=\"node\">\n",
       "<title>a=5</title>\n",
       "<ellipse fill=\"none\" stroke=\"black\" cx=\"25.62\" cy=\"-237.62\" rx=\"24.62\" ry=\"24.62\"/>\n",
       "<text text-anchor=\"middle\" x=\"25.62\" y=\"-232.19\" font-family=\"Times New Roman,serif\" font-size=\"14.00\">a=5</text>\n",
       "</g>\n",
       "<!-- c=a*b -->\n",
       "<g id=\"node2\" class=\"node\">\n",
       "<title>c=a*b</title>\n",
       "<ellipse fill=\"none\" stroke=\"black\" cx=\"183.58\" cy=\"-173.62\" rx=\"34.1\" ry=\"34.1\"/>\n",
       "<text text-anchor=\"middle\" x=\"183.58\" y=\"-168.19\" font-family=\"Times New Roman,serif\" font-size=\"14.00\">c=a*b</text>\n",
       "</g>\n",
       "<!-- a=5&#45;&gt;c=a*b -->\n",
       "<g id=\"edge1\" class=\"edge\">\n",
       "<title>a=5&#45;&gt;c=a*b</title>\n",
       "<path fill=\"none\" stroke=\"black\" d=\"M48.96,-228.45C73.07,-218.55 111.99,-202.58 141.62,-190.43\"/>\n",
       "<polygon fill=\"black\" stroke=\"black\" points=\"142.75,-193.33 150.67,-186.3 140.09,-186.86 142.75,-193.33\"/>\n",
       "<text text-anchor=\"middle\" x=\"100.36\" y=\"-221.07\" font-family=\"Times New Roman,serif\" font-size=\"14.00\">dc/da=b=5</text>\n",
       "</g>\n",
       "<!-- f=c+e -->\n",
       "<g id=\"node7\" class=\"node\">\n",
       "<title>f=c+e</title>\n",
       "<ellipse fill=\"none\" stroke=\"black\" cx=\"331.78\" cy=\"-129.62\" rx=\"33.1\" ry=\"33.1\"/>\n",
       "<text text-anchor=\"middle\" x=\"331.78\" y=\"-124.19\" font-family=\"Times New Roman,serif\" font-size=\"14.00\">f=c+e</text>\n",
       "</g>\n",
       "<!-- c=a*b&#45;&gt;f=c+e -->\n",
       "<g id=\"edge5\" class=\"edge\">\n",
       "<title>c=a*b&#45;&gt;f=c+e</title>\n",
       "<path fill=\"none\" stroke=\"black\" d=\"M216.66,-163.96C237.92,-157.56 266.03,-149.1 289.03,-142.18\"/>\n",
       "<polygon fill=\"black\" stroke=\"black\" points=\"289.95,-145.26 298.52,-139.02 287.94,-138.55 289.95,-145.26\"/>\n",
       "<text text-anchor=\"middle\" x=\"258.18\" y=\"-161.07\" font-family=\"Times New Roman,serif\" font-size=\"14.00\">df/dc=1</text>\n",
       "</g>\n",
       "<!-- b=5 -->\n",
       "<g id=\"node3\" class=\"node\">\n",
       "<title>b=5</title>\n",
       "<ellipse fill=\"none\" stroke=\"black\" cx=\"25.62\" cy=\"-169.62\" rx=\"25.62\" ry=\"25.62\"/>\n",
       "<text text-anchor=\"middle\" x=\"25.62\" y=\"-164.19\" font-family=\"Times New Roman,serif\" font-size=\"14.00\">b=5</text>\n",
       "</g>\n",
       "<!-- b=5&#45;&gt;c=a*b -->\n",
       "<g id=\"edge2\" class=\"edge\">\n",
       "<title>b=5&#45;&gt;c=a*b</title>\n",
       "<path fill=\"none\" stroke=\"black\" d=\"M51.67,-170.26C75.01,-170.86 110.32,-171.76 138.39,-172.48\"/>\n",
       "<polygon fill=\"black\" stroke=\"black\" points=\"138.05,-176 148.14,-172.76 138.23,-169 138.05,-176\"/>\n",
       "<text text-anchor=\"middle\" x=\"100.36\" y=\"-174.07\" font-family=\"Times New Roman,serif\" font-size=\"14.00\">dc/db=a=3</text>\n",
       "</g>\n",
       "<!-- a=3 -->\n",
       "<g id=\"node4\" class=\"node\">\n",
       "<title>a=3</title>\n",
       "<ellipse fill=\"none\" stroke=\"black\" cx=\"25.62\" cy=\"-24.62\" rx=\"24.62\" ry=\"24.62\"/>\n",
       "<text text-anchor=\"middle\" x=\"25.62\" y=\"-19.19\" font-family=\"Times New Roman,serif\" font-size=\"14.00\">a=3</text>\n",
       "</g>\n",
       "<!-- e=a*d -->\n",
       "<g id=\"node5\" class=\"node\">\n",
       "<title>e=a*d</title>\n",
       "<ellipse fill=\"none\" stroke=\"black\" cx=\"183.58\" cy=\"-87.62\" rx=\"33.6\" ry=\"33.6\"/>\n",
       "<text text-anchor=\"middle\" x=\"183.58\" y=\"-82.19\" font-family=\"Times New Roman,serif\" font-size=\"14.00\">e=a*d</text>\n",
       "</g>\n",
       "<!-- a=3&#45;&gt;e=a*d -->\n",
       "<g id=\"edge3\" class=\"edge\">\n",
       "<title>a=3&#45;&gt;e=a*d</title>\n",
       "<path fill=\"none\" stroke=\"black\" d=\"M48.96,-33.64C73.15,-43.41 112.23,-59.2 141.9,-71.18\"/>\n",
       "<polygon fill=\"black\" stroke=\"black\" points=\"140.37,-74.75 150.96,-75.25 142.99,-68.26 140.37,-74.75\"/>\n",
       "<text text-anchor=\"middle\" x=\"100.36\" y=\"-68.07\" font-family=\"Times New Roman,serif\" font-size=\"14.00\">de/da=d=9</text>\n",
       "</g>\n",
       "<!-- e=a*d&#45;&gt;f=c+e -->\n",
       "<g id=\"edge6\" class=\"edge\">\n",
       "<title>e=a*d&#45;&gt;f=c+e</title>\n",
       "<path fill=\"none\" stroke=\"black\" d=\"M216.3,-96.73C237.62,-102.85 265.93,-110.99 289.06,-117.63\"/>\n",
       "<polygon fill=\"black\" stroke=\"black\" points=\"288.04,-121.27 298.62,-120.67 289.97,-114.54 288.04,-121.27\"/>\n",
       "<text text-anchor=\"middle\" x=\"258.18\" y=\"-118.07\" font-family=\"Times New Roman,serif\" font-size=\"14.00\">df/de=1</text>\n",
       "</g>\n",
       "<!-- d=9 -->\n",
       "<g id=\"node6\" class=\"node\">\n",
       "<title>d=9</title>\n",
       "<ellipse fill=\"none\" stroke=\"black\" cx=\"25.62\" cy=\"-92.62\" rx=\"25.62\" ry=\"25.62\"/>\n",
       "<text text-anchor=\"middle\" x=\"25.62\" y=\"-87.19\" font-family=\"Times New Roman,serif\" font-size=\"14.00\">d=9</text>\n",
       "</g>\n",
       "<!-- d=9&#45;&gt;e=a*d -->\n",
       "<g id=\"edge4\" class=\"edge\">\n",
       "<title>d=9&#45;&gt;e=a*d</title>\n",
       "<path fill=\"none\" stroke=\"black\" d=\"M51.67,-91.81C75.16,-91.06 110.78,-89.92 138.94,-89.02\"/>\n",
       "<polygon fill=\"black\" stroke=\"black\" points=\"138.83,-92.49 148.71,-88.67 138.6,-85.49 138.83,-92.49\"/>\n",
       "<text text-anchor=\"middle\" x=\"100.36\" y=\"-94.07\" font-family=\"Times New Roman,serif\" font-size=\"14.00\">de/dd=a=3</text>\n",
       "</g>\n",
       "</g>\n",
       "</svg>\n"
      ],
      "text/plain": [
       "<graphviz.graphs.Digraph at 0x293dcdf23d0>"
      ]
     },
     "execution_count": 6,
     "metadata": {},
     "output_type": "execute_result"
    }
   ],
   "source": [
    "e2 = graphviz.Digraph('second expression', filename='fsm.gv')\n",
    "\n",
    "e2.attr(rankdir='LR', size='8,5')\n",
    "\n",
    "e2.attr('node', shape='circle')\n",
    "e2.edge('a=5', 'c=a*b', label='dc/da=b=5')\n",
    "e2.edge('b=5', 'c=a*b', label='dc/db=a=3')\n",
    "e2.edge('a=3', 'e=a*d', label='de/da=d=9')\n",
    "e2.edge('d=9', 'e=a*d', label='de/dd=a=3')\n",
    "e2.edge('c=a*b', 'f=c+e', label='df/dc=1')\n",
    "e2.edge('e=a*d', 'f=c+e', label='df/de=1')\n",
    "\n",
    "e2"
   ]
  },
  {
   "cell_type": "markdown",
   "metadata": {},
   "source": [
    "2. We consider f = a * b. f will be Var(a.v * b.v, [(a, b.v), (b, a.v)]) <br>\n",
    "&emsp;Var: <br>\n",
    "&emsp;&emsp;v = 15.0 <br>\n",
    "&emsp;&emsp;grad_fn = [(a, 3), (b, 5)] <br>\n",
    "&emsp;&emsp;grad = 0.0 <br>\n",
    "3. Backward function by hand:\n",
    "&emsp;f.backward()<br>\n",
    "&emsp;&emsp;f.backprop(1.0)<br>\n",
    "&emsp;&emsp;&emsp;f.grad = 0 + 1.0 = 1.0<br>\n",
    "&emsp;&emsp;&emsp;a.backprop(3 * 1.0)<br>\n",
    "&emsp;&emsp;&emsp;&emsp;a.grad = 0 + 3.0 = 3.0<br>\n",
    "&emsp;&emsp;&emsp;b.backprop(5 * 1.0)<br>\n",
    "&emsp;&emsp;&emsp;&emsp;b.grad = 0 + 5.0 = 5.0<br>\n",
    "4.  The sequence of backprop calls:<br>\n",
    "        f.backprop(1.0)<br>\n",
    "        a.backprop(3.0)<br>\n",
    "        b.backprop(5.0)<br>\n"
   ]
  },
  {
   "cell_type": "code",
   "execution_count": 7,
   "metadata": {},
   "outputs": [
    {
     "data": {
      "image/svg+xml": [
       "<?xml version=\"1.0\" encoding=\"UTF-8\" standalone=\"no\"?>\n",
       "<!DOCTYPE svg PUBLIC \"-//W3C//DTD SVG 1.1//EN\"\n",
       " \"http://www.w3.org/Graphics/SVG/1.1/DTD/svg11.dtd\">\n",
       "<!-- Generated by graphviz version 8.1.0 (20230707.0739)\n",
       " -->\n",
       "<!-- Title: second expression Pages: 1 -->\n",
       "<svg width=\"429pt\" height=\"360pt\"\n",
       " viewBox=\"0.00 0.00 428.82 360.00\" xmlns=\"http://www.w3.org/2000/svg\" xmlns:xlink=\"http://www.w3.org/1999/xlink\">\n",
       "<g id=\"graph0\" class=\"graph\" transform=\"scale(0.685574 0.685574) rotate(0) translate(4 521.11)\">\n",
       "<title>second expression</title>\n",
       "<polygon fill=\"white\" stroke=\"none\" points=\"-4,4 -4,-521.11 621.49,-521.11 621.49,4 -4,4\"/>\n",
       "<!-- a=5; delta_a -->\n",
       "<g id=\"node1\" class=\"node\">\n",
       "<title>a=5; delta_a</title>\n",
       "<ellipse fill=\"none\" stroke=\"black\" cx=\"58.05\" cy=\"-461.05\" rx=\"56.05\" ry=\"56.05\"/>\n",
       "<text text-anchor=\"middle\" x=\"58.05\" y=\"-455.63\" font-family=\"Times New Roman,serif\" font-size=\"14.00\">a=5; delta_a</text>\n",
       "</g>\n",
       "<!-- c=a*b; delta_c -->\n",
       "<g id=\"node2\" class=\"node\">\n",
       "<title>c=a*b; delta_c</title>\n",
       "<ellipse fill=\"none\" stroke=\"black\" cx=\"305.88\" cy=\"-333.05\" rx=\"66.03\" ry=\"66.03\"/>\n",
       "<text text-anchor=\"middle\" x=\"305.88\" y=\"-327.63\" font-family=\"Times New Roman,serif\" font-size=\"14.00\">c=a*b; delta_c</text>\n",
       "</g>\n",
       "<!-- a=5; delta_a&#45;&gt;c=a*b; delta_c -->\n",
       "<g id=\"edge1\" class=\"edge\">\n",
       "<title>a=5; delta_a&#45;&gt;c=a*b; delta_c</title>\n",
       "<path fill=\"none\" stroke=\"black\" d=\"M117.85,-430.44C156.87,-410.12 207.85,-383.58 246.73,-363.33\"/>\n",
       "<polygon fill=\"black\" stroke=\"black\" points=\"116.46,-427.74 109.21,-435.46 119.69,-433.94 116.46,-427.74\"/>\n",
       "<text text-anchor=\"middle\" x=\"177.97\" y=\"-421.5\" font-family=\"Times New Roman,serif\" font-size=\"14.00\">delta_c * dc/da</text>\n",
       "</g>\n",
       "<!-- f=c+e; delta_f -->\n",
       "<g id=\"node7\" class=\"node\">\n",
       "<title>f=c+e; delta_f</title>\n",
       "<ellipse fill=\"none\" stroke=\"black\" cx=\"553.96\" cy=\"-258.05\" rx=\"63.54\" ry=\"63.54\"/>\n",
       "<text text-anchor=\"middle\" x=\"553.96\" y=\"-252.63\" font-family=\"Times New Roman,serif\" font-size=\"14.00\">f=c+e; delta_f</text>\n",
       "</g>\n",
       "<!-- c=a*b; delta_c&#45;&gt;f=c+e; delta_f -->\n",
       "<g id=\"edge5\" class=\"edge\">\n",
       "<title>c=a*b; delta_c&#45;&gt;f=c+e; delta_f</title>\n",
       "<path fill=\"none\" stroke=\"black\" d=\"M379.74,-310.85C415.73,-299.88 458.63,-286.8 492.73,-276.41\"/>\n",
       "<polygon fill=\"black\" stroke=\"black\" points=\"378.84,-307.77 370.3,-314.03 380.88,-314.46 378.84,-307.77\"/>\n",
       "<text text-anchor=\"middle\" x=\"431.17\" y=\"-309.5\" font-family=\"Times New Roman,serif\" font-size=\"14.00\">delta_f * df/dc</text>\n",
       "</g>\n",
       "<!-- b=5; delta_b -->\n",
       "<g id=\"node3\" class=\"node\">\n",
       "<title>b=5; delta_b</title>\n",
       "<ellipse fill=\"none\" stroke=\"black\" cx=\"58.05\" cy=\"-329.05\" rx=\"58.05\" ry=\"58.05\"/>\n",
       "<text text-anchor=\"middle\" x=\"58.05\" y=\"-323.63\" font-family=\"Times New Roman,serif\" font-size=\"14.00\">b=5; delta_b</text>\n",
       "</g>\n",
       "<!-- b=5; delta_b&#45;&gt;c=a*b; delta_c -->\n",
       "<g id=\"edge2\" class=\"edge\">\n",
       "<title>b=5; delta_b&#45;&gt;c=a*b; delta_c</title>\n",
       "<path fill=\"none\" stroke=\"black\" d=\"M127.03,-330.16C162.19,-330.73 204.89,-331.43 239.65,-331.99\"/>\n",
       "<polygon fill=\"black\" stroke=\"black\" points=\"127.43,-326.65 117.38,-329.99 127.32,-333.65 127.43,-326.65\"/>\n",
       "<text text-anchor=\"middle\" x=\"177.97\" y=\"-333.5\" font-family=\"Times New Roman,serif\" font-size=\"14.00\">delta_c * dc/db</text>\n",
       "</g>\n",
       "<!-- a=3; delta_a -->\n",
       "<g id=\"node4\" class=\"node\">\n",
       "<title>a=3; delta_a</title>\n",
       "<ellipse fill=\"none\" stroke=\"black\" cx=\"58.05\" cy=\"-56.05\" rx=\"56.05\" ry=\"56.05\"/>\n",
       "<text text-anchor=\"middle\" x=\"58.05\" y=\"-50.63\" font-family=\"Times New Roman,serif\" font-size=\"14.00\">a=3; delta_a</text>\n",
       "</g>\n",
       "<!-- e=a*d; delta_e -->\n",
       "<g id=\"node5\" class=\"node\">\n",
       "<title>e=a*d; delta_e</title>\n",
       "<ellipse fill=\"none\" stroke=\"black\" cx=\"305.88\" cy=\"-184.05\" rx=\"65.04\" ry=\"65.04\"/>\n",
       "<text text-anchor=\"middle\" x=\"305.88\" y=\"-178.63\" font-family=\"Times New Roman,serif\" font-size=\"14.00\">e=a*d; delta_e</text>\n",
       "</g>\n",
       "<!-- a=3; delta_a&#45;&gt;e=a*d; delta_e -->\n",
       "<g id=\"edge3\" class=\"edge\">\n",
       "<title>a=3; delta_a&#45;&gt;e=a*d; delta_e</title>\n",
       "<path fill=\"none\" stroke=\"black\" d=\"M117.92,-86.71C157.23,-107.17 208.65,-133.95 247.62,-154.24\"/>\n",
       "<polygon fill=\"black\" stroke=\"black\" points=\"119.69,-83.16 109.21,-81.65 116.46,-89.37 119.69,-83.16\"/>\n",
       "<text text-anchor=\"middle\" x=\"177.97\" y=\"-141.5\" font-family=\"Times New Roman,serif\" font-size=\"14.00\">delta_e * de/da</text>\n",
       "</g>\n",
       "<!-- e=a*d; delta_e&#45;&gt;f=c+e; delta_f -->\n",
       "<g id=\"edge6\" class=\"edge\">\n",
       "<title>e=a*d; delta_e&#45;&gt;f=c+e; delta_f</title>\n",
       "<path fill=\"none\" stroke=\"black\" d=\"M379.14,-205.78C415.3,-216.66 458.54,-229.66 492.86,-239.98\"/>\n",
       "<polygon fill=\"black\" stroke=\"black\" points=\"380.24,-202.16 369.66,-202.63 378.23,-208.86 380.24,-202.16\"/>\n",
       "<text text-anchor=\"middle\" x=\"431.17\" y=\"-234.5\" font-family=\"Times New Roman,serif\" font-size=\"14.00\">delta_f * df/de</text>\n",
       "</g>\n",
       "<!-- d=9; delta_d -->\n",
       "<g id=\"node6\" class=\"node\">\n",
       "<title>d=9; delta_d</title>\n",
       "<ellipse fill=\"none\" stroke=\"black\" cx=\"58.05\" cy=\"-188.05\" rx=\"58.05\" ry=\"58.05\"/>\n",
       "<text text-anchor=\"middle\" x=\"58.05\" y=\"-182.63\" font-family=\"Times New Roman,serif\" font-size=\"14.00\">d=9; delta_d</text>\n",
       "</g>\n",
       "<!-- d=9; delta_d&#45;&gt;e=a*d; delta_e -->\n",
       "<g id=\"edge4\" class=\"edge\">\n",
       "<title>d=9; delta_d&#45;&gt;e=a*d; delta_e</title>\n",
       "<path fill=\"none\" stroke=\"black\" d=\"M127.11,-186.95C162.55,-186.37 205.65,-185.67 240.53,-185.1\"/>\n",
       "<polygon fill=\"black\" stroke=\"black\" points=\"127.32,-183.46 117.38,-187.12 127.43,-190.46 127.32,-183.46\"/>\n",
       "<text text-anchor=\"middle\" x=\"177.97\" y=\"-189.5\" font-family=\"Times New Roman,serif\" font-size=\"14.00\">delta_e * de/dd</text>\n",
       "</g>\n",
       "</g>\n",
       "</svg>\n"
      ],
      "text/plain": [
       "<graphviz.graphs.Digraph at 0x293dce04130>"
      ]
     },
     "execution_count": 7,
     "metadata": {},
     "output_type": "execute_result"
    }
   ],
   "source": [
    "e2 = graphviz.Digraph('second expression', filename='fsm.gv')\n",
    "\n",
    "e2.attr(rankdir='LR', size='8,5')\n",
    "\n",
    "e2.attr('node', shape='circle')\n",
    "e2.edge('a=5; delta_a', 'c=a*b; delta_c', label='delta_c * dc/da', dir=\"back\")\n",
    "e2.edge('b=5; delta_b', 'c=a*b; delta_c', label='delta_c * dc/db', dir=\"back\")\n",
    "e2.edge('a=3; delta_a', 'e=a*d; delta_e', label='delta_e * de/da', dir=\"back\")\n",
    "e2.edge('d=9; delta_d', 'e=a*d; delta_e', label='delta_e * de/dd', dir=\"back\")\n",
    "e2.edge('c=a*b; delta_c', 'f=c+e; delta_f', label='delta_f * df/dc', dir=\"back\")\n",
    "e2.edge('e=a*d; delta_e', 'f=c+e; delta_f', label='delta_f * df/de', dir=\"back\")\n",
    "\n",
    "e2"
   ]
  },
  {
   "cell_type": "markdown",
   "metadata": {
    "id": "A5oi21W4gpeM"
   },
   "source": [
    "## Exercise c) What happens if we run backward again?\n",
    "\n",
    "Try to execute the code below. Explain what happens."
   ]
  },
  {
   "cell_type": "code",
   "execution_count": 8,
   "metadata": {
    "colab": {
     "base_uri": "https://localhost:8080/"
    },
    "id": "DCtpJyr-gyX1",
    "outputId": "d014bcfa-c9ae-49c3-d268-91cc6ca94ea5"
   },
   "outputs": [
    {
     "name": "stdout",
     "output_type": "stream",
     "text": [
      "Var(v=3.0000, grad=28.0000)\n",
      "Var(v=5.0000, grad=6.0000)\n",
      "Var(v=15.0000, grad=2.0000)\n",
      "Var(v=9.0000, grad=6.0000)\n",
      "Var(v=27.0000, grad=2.0000)\n",
      "Var(v=42.0000, grad=2.0000)\n"
     ]
    }
   ],
   "source": [
    "f.backward()\n",
    "\n",
    "for v in [a, b, c, d, e, f]:\n",
    "    print(v)"
   ]
  },
  {
   "cell_type": "markdown",
   "metadata": {},
   "source": [
    "We execute again backward function, which means that we propagate again the output error in the network."
   ]
  },
  {
   "cell_type": "markdown",
   "metadata": {
    "id": "e8bPVq2VhsP-"
   },
   "source": [
    "## Exercise d) Zero gradient\n",
    "\n",
    "We can zero the gradient by backpropagating a -1.0 as is shown in the example below. (If you have run backward multiple time then you also have to run the cell below an equal amount of times.) Explain what is going on."
   ]
  },
  {
   "cell_type": "code",
   "execution_count": 9,
   "metadata": {
    "colab": {
     "base_uri": "https://localhost:8080/"
    },
    "id": "OnyPDQx9lJe0",
    "outputId": "7a125fdc-60c4-4340-a580-8b82aea5b0db"
   },
   "outputs": [
    {
     "name": "stdout",
     "output_type": "stream",
     "text": [
      "Var(v=2.0000, grad=0.0000)\n",
      "Var(v=5.0000, grad=6.0000)\n",
      "Var(v=15.0000, grad=2.0000)\n",
      "Var(v=9.0000, grad=6.0000)\n",
      "Var(v=27.0000, grad=2.0000)\n",
      "Var(v=42.0000, grad=2.0000)\n",
      "Var(v=2.0000, grad=0.0000)\n",
      "Var(v=5.0000, grad=3.0000)\n",
      "Var(v=15.0000, grad=1.0000)\n",
      "Var(v=9.0000, grad=3.0000)\n",
      "Var(v=27.0000, grad=1.0000)\n",
      "Var(v=42.0000, grad=1.0000)\n"
     ]
    }
   ],
   "source": [
    "a = Var(2.0)\n",
    "\n",
    "for v in [a, b, c, d, e, f]:\n",
    "    print(v)\n",
    "\n",
    "f.backprop(-1.0)\n",
    "\n",
    "for v in [a, b, c, d, e, f]:\n",
    "    print(v)"
   ]
  },
  {
   "cell_type": "markdown",
   "metadata": {},
   "source": []
  },
  {
   "cell_type": "markdown",
   "metadata": {},
   "source": [
    "By backpropagating a -1.0, the error $\\delta^{(3)}_1$, coresponding to node f, will become 0.0 (f.grad := f.grad=1.0 + (-1.0)), which means that there is no error. The 0 gradient is back propagated in the network. The errors of the second layer $\\delta^{(2)}_1$ and $\\delta^{(2)}_2$ will be also 0, hence,\n",
    "$$\n",
    "\\delta^{(2)}_1 = \\frac{\\partial f}{\\partial c} \\delta^{(3)}_1 = 0\\\\\n",
    "\\delta^{(2)}_2 = \\frac{\\partial f}{\\partial e} \\delta^{(3)}_1 = 0\\\\\n",
    "$$\n",
    "The same will happen for the errors of the first layer:\n",
    "$$\n",
    "\\delta^{(1)}_1 = \\frac{\\partial c}{\\partial a} \\delta^{(2)}_1 + \\frac{\\partial e}{\\partial a} \\delta^{(2)}_2 = 0\\\\\n",
    "\\delta^{(1)}_2 = \\frac{\\partial e}{\\partial b} \\delta^{(2)}_2 = 0\\\\\n",
    "\\delta^{(1)}_3 = \\frac{\\partial e}{\\partial d} \\delta^{(2)}_2 = 0\\\\\n",
    "$$"
   ]
  },
  {
   "cell_type": "markdown",
   "metadata": {
    "id": "U4057_ljNvWB"
   },
   "source": [
    "## Exercise e) Test correctness of derivatives with the finite difference method\n",
    "\n",
    "Write a small function that uses [the finite difference method](https://en.wikipedia.org/wiki/Finite_difference_method) to numerically test that backpropation implementation is working. In short we will use\n",
    "$$\n",
    "\\frac{\\partial f(a)}{\\partial a} \\approx \\frac{f(a+da)-f(a)}{da}\n",
    "$$\n",
    "for $da \\ll 1$.\n",
    "\n",
    "As an example, we could approximate the derivative of the function $f(a)=a^2$ in e.g. the value $a=4$ using the finite difference method. This amounts to inserting the relevant values and approximating the gradient $f'(4)$ with the fraction above. \n"
   ]
  },
  {
   "cell_type": "code",
   "execution_count": 10,
   "metadata": {
    "colab": {
     "base_uri": "https://localhost:8080/"
    },
    "id": "9TGil92lSXDN",
    "outputId": "7ef5489b-b525-4132-ab08-0b1109c07f4d"
   },
   "outputs": [
    {
     "name": "stdout",
     "output_type": "stream",
     "text": [
      "Var(v=4.0000, grad=13.0000)\n",
      "Var(v=5.0000, grad=4.0000)\n",
      "Var(v=36.0000, grad=1.0000)\n",
      "13.000018839193217\n"
     ]
    }
   ],
   "source": [
    "# f function - try to change the code to test other types of functions as well (such as different polynomials etc.)\n",
    "def f_function(a):\n",
    "  a = Var(a)\n",
    "  b = Var(5.0)\n",
    "  f = (a**2) + (a * b)\n",
    "  f.backward()\n",
    "  return a,b,f\n",
    "\n",
    "for v in f_function(4.0):\n",
    "  print(v)\n",
    "\n",
    "# Insert your finite difference code here\n",
    "def finite_difference(da=1e-10):\n",
    "    \"\"\"\n",
    "    This function compute the finite difference between\n",
    "    \n",
    "    Input:\n",
    "    da:          The finite difference                           (float)\n",
    "    \n",
    "    Output:\n",
    "    finite_difference: numerical approximation to the derivative (float) \n",
    "    \"\"\"\n",
    "    \n",
    "    fa_da = f_function(4.0 + da)[2].v           # <- Insert correct expression\n",
    "    fa = f_function(4.0)[2].v               # <- Insert correct expression\n",
    "\n",
    "    finite_difference = (fa_da - fa) / da\n",
    "    \n",
    "    return finite_difference\n",
    "    \n",
    "print(finite_difference())"
   ]
  },
  {
   "cell_type": "markdown",
   "metadata": {
    "id": "6pZar5RKaUkg"
   },
   "source": [
    "# Create an artificial dataset to play with\n",
    "\n",
    "We create a non-linear 1d regression task. The generator supports various noise levels and it creates train, validation and test sets. You can modify it yourself if you want more or less challenging tasks."
   ]
  },
  {
   "cell_type": "code",
   "execution_count": 11,
   "metadata": {
    "id": "Y6yfMAQ8aduj"
   },
   "outputs": [],
   "source": [
    "import numpy as np\n",
    "import matplotlib.pyplot as plt\n",
    "\n",
    "np.random.seed(42)"
   ]
  },
  {
   "cell_type": "code",
   "execution_count": 12,
   "metadata": {
    "id": "4YabfD43ajNh"
   },
   "outputs": [],
   "source": [
    "def data_generator(noise=0.1, n_samples=300, D1=True):\n",
    "    # Create covariates and response variable\n",
    "    if D1:\n",
    "        X = np.linspace(-3, 3, num=n_samples).reshape(-1,1) # 1-D\n",
    "        np.random.shuffle(X)\n",
    "        y = np.random.normal((0.5*np.sin(X[:,0]*3) + X[:,0]), noise) # 1-D with trend\n",
    "    else:\n",
    "        X = np.random.multivariate_normal(np.zeros(3), noise*np.eye(3), size = n_samples) # 3-D\n",
    "        np.random.shuffle(X)    \n",
    "        y = np.sin(X[:,0]) - 5*(X[:,1]**2) + 0.5*X[:,2] # 3-D\n",
    "\n",
    "    # Stack them together vertically to split data set\n",
    "    data_set = np.vstack((X.T,y)).T\n",
    "    \n",
    "    train, validation, test = np.split(data_set, [int(0.35*n_samples), int(0.7*n_samples)], axis=0)\n",
    "    \n",
    "    # Standardization of the data, remember we do the standardization with the training set mean and standard deviation\n",
    "    train_mu = np.mean(train, axis=0)\n",
    "    train_sigma = np.std(train, axis=0)\n",
    "    \n",
    "    train = (train-train_mu)/train_sigma\n",
    "    validation = (validation-train_mu)/train_sigma\n",
    "    test = (test-train_mu)/train_sigma\n",
    "    \n",
    "    x_train, x_validation, x_test = train[:,:-1], validation[:,:-1], test[:,:-1]\n",
    "    y_train, y_validation, y_test = train[:,-1], validation[:,-1], test[:,-1]\n",
    "\n",
    "    return x_train, y_train,  x_validation, y_validation, x_test, y_test"
   ]
  },
  {
   "cell_type": "code",
   "execution_count": 13,
   "metadata": {
    "id": "u1oDngHLapIz"
   },
   "outputs": [],
   "source": [
    "D1 = True\n",
    "x_train, y_train,  x_validation, y_validation, x_test, y_test = data_generator(noise=0.5, D1=D1)"
   ]
  },
  {
   "cell_type": "code",
   "execution_count": 14,
   "metadata": {
    "colab": {
     "base_uri": "https://localhost:8080/",
     "height": 265
    },
    "id": "Ysfa3FsBavlm",
    "outputId": "399e5382-ae7d-48f6-9774-7ea4c73e7d95"
   },
   "outputs": [
    {
     "data": {
      "image/png": "[encoded data removed]",
      "text/plain": [
       "<Figure size 640x480 with 1 Axes>"
      ]
     },
     "metadata": {},
     "output_type": "display_data"
    }
   ],
   "source": [
    "if D1:\n",
    "    plt.scatter(x_train[:,0], y_train);\n",
    "    plt.scatter(x_validation[:,0], y_validation);\n",
    "    plt.scatter(x_test[:,0], y_test);\n",
    "else:\n",
    "    plt.scatter(x_train[:,1], y_train);\n",
    "    plt.scatter(x_validation[:,1], y_validation);\n",
    "    plt.scatter(x_test[:,1], y_test);\n",
    "plt.show()"
   ]
  },
  {
   "cell_type": "code",
   "execution_count": 15,
   "metadata": {
    "id": "zac2HHNlgbpm"
   },
   "outputs": [],
   "source": [
    "# convert from nparray to Var\n",
    "def nparray_to_Var(x):\n",
    "  if x.ndim==1:\n",
    "    y = [[Var(float(x[i]))] for i in range(x.shape[0])] # always work with list of list\n",
    "  else:\n",
    "    y = [[Var(float(x[i,j])) for j in range(x.shape[1])] for i in range(x.shape[0])]\n",
    "  return y\n",
    "   \n",
    "x_train = nparray_to_Var(x_train)\n",
    "y_train = nparray_to_Var(y_train)\n",
    "x_validation = nparray_to_Var(x_validation)\n",
    "y_validation = nparray_to_Var(y_validation)\n",
    "x_test = nparray_to_Var(x_test)\n",
    "y_test = nparray_to_Var(y_test)\n"
   ]
  },
  {
   "cell_type": "markdown",
   "metadata": {
    "id": "VbjrqcpVFtGe"
   },
   "source": [
    "# Defining and initializing the network\n",
    "\n",
    "The steps to create a feed forward neural network are the following:\n",
    "\n",
    "1. **Number of hidden layer and hidden units**. We have to define the number of hidden units in each layer. The number of features in X and the output dimensionality (the size of Y) are given but the numbers in between are set by the researcher. Remember that for each unit in each layer beside in the input has a bias term.\n",
    "2. **Activation functions** for each hidden layer. Each hidden layer in your list must have an activation function (it can also be the linear activation which is equivalent to identity function). The power of neural networks comes from non-linear activation functions that learn representations (features) from the data allowing us to learn from it. \n",
    "3. **Parameter initialization**. We will initialize the weights to have random values. This is done in practice by drawing pseudo random numbers from a Gaussian or uniform distribution. It turns out that for deeper models we have to be careful about how we scale the random numbers. This will be the topic of the exercise below. For now we will just use unit variance Gaussians.  \n",
    "\n",
    "In order to make life easier for ourselves we define a DenseLayer class that takes care of initialization and the forward pass. We can also extend it later with print and advanced initialization capabilities. For the latter we have introduced a Initializer class.\n",
    "\n",
    "Note that we use Sequence in the code below. A Sequence is an ordered list. This means the order we insert and access items are the same."
   ]
  },
  {
   "cell_type": "code",
   "execution_count": 16,
   "metadata": {
    "id": "ij_ieRsAt7Xt"
   },
   "outputs": [],
   "source": [
    "class Initializer:\n",
    "\n",
    "  def init_weights(self, n_in, n_out):\n",
    "    raise NotImplementedError\n",
    "\n",
    "  def init_bias(self, n_out):\n",
    "    raise NotImplementedError"
   ]
  },
  {
   "cell_type": "code",
   "execution_count": 17,
   "metadata": {
    "id": "eb18N5phuIha"
   },
   "outputs": [],
   "source": [
    "import random\n",
    "\n",
    "class NormalInitializer(Initializer):\n",
    "\n",
    "  def __init__(self, mean=0, std=0.1):\n",
    "    self.mean = mean\n",
    "    self.std = std\n",
    "\n",
    "  def init_weights(self, n_in, n_out):\n",
    "    return [[Var(random.gauss(self.mean, self.std)) for _ in range(n_out)] for _ in range(n_in)]\n",
    "\n",
    "  def init_bias(self, n_out):\n",
    "    return [Var(0.0) for _ in range(n_out)]\n",
    "\n",
    "class ConstantInitializer(Initializer):\n",
    "\n",
    "  def __init__(self, weight=1.0, bias=0.0):\n",
    "    self.weight = weight\n",
    "    self.bias = bias\n",
    "\n",
    "  def init_weights(self, n_in, n_out):\n",
    "    return [[Var(self.weight) for _ in range(n_out)] for _ in range(n_in)]\n",
    "\n",
    "  def init_bias(self, n_out):\n",
    "    return [Var(self.bias) for _ in range(n_out)]"
   ]
  },
  {
   "cell_type": "code",
   "execution_count": 18,
   "metadata": {
    "id": "jOLYGnZKuM6W"
   },
   "outputs": [],
   "source": [
    "from typing import Sequence\n",
    "\n",
    "class DenseLayer:\n",
    "    def __init__(self, n_in: int, n_out: int, act_fn, initializer = NormalInitializer()):\n",
    "        self.weights = initializer.init_weights(n_in, n_out)\n",
    "        self.bias = initializer.init_bias(n_out)\n",
    "        self.act_fn = act_fn\n",
    "    \n",
    "    def __repr__(self):    \n",
    "        return 'Weights: ' + repr(self.weights) + '\\n' + ' Biases: ' + repr(self.bias) + '\\n'\n",
    "\n",
    "    def parameters(self) -> Sequence[Var]:\n",
    "      params = []\n",
    "      for r in self.weights:\n",
    "        params += r\n",
    "\n",
    "      return params + self.bias\n",
    "\n",
    "    def forward(self, single_input: Sequence[Var]) -> Sequence[Var]:\n",
    "        # self.weights is a matrix with dimension n_in x n_out. We check that the dimensionality of the input \n",
    "        # to the current layer matches the number of nodes in the current layer\n",
    "        assert len(self.weights) == len(single_input), \"weights and single_input must match in first dimension\"\n",
    "        weights = self.weights\n",
    "        out = []\n",
    "        \n",
    "        # For some given data point single_input, we now want to calculate the resulting value in each node in the current layer\n",
    "        # We therefore loop over the (number of) nodes in the current layer:\n",
    "        for j in range(len(weights[0])): \n",
    "            # Initialize the node value depending on its corresponding parameters.\n",
    "            node = self.bias[j] # <- Insert code\n",
    "            # We now finish the linear transformation corresponding to the parameters of the currently considered node.\n",
    "            for i in range(len(weights)):\n",
    "                node += self.weights[i][j] * single_input[i]  # <- Insert code\n",
    "            node = self.act_fn(node)\n",
    "            out.append(node)\n",
    "\n",
    "        return out"
   ]
  },
  {
   "cell_type": "markdown",
   "metadata": {
    "id": "jpIZPBpNI0pO"
   },
   "source": [
    "## Exercise f) Add more activation functions\n",
    "\n",
    "To have a full definition of the neural network, we must define an activation function for every layer. Several activation functions have been proposed and have different characteristics. In the Var class we have already defined the rectified linear init (relu). \n",
    " \n",
    "Implement the following activation functions in the Var class:\n",
    "\n",
    "* Identity: $$\\mathrm{identity}(x) = x$$\n",
    "* Hyperbolic tangent: $$\\tanh(x)$$\n",
    "* Sigmoid (or logistic function): $$\\mathrm{sigmoid}(x) = \\frac{1}{1.0 + \\exp(-x ) }$$  Hint: $\\mathrm{sigmoid}'(x)= \\mathrm{sigmoid}(x)(1-\\mathrm{sigmoid}(x))$.  \n",
    "\n",
    "Hint: You can seek inspiration in the relu method in the Var class."
   ]
  },
  {
   "cell_type": "markdown",
   "metadata": {
    "id": "p_8n_SKnIW2F"
   },
   "source": [
    "## Exercise g) Complete the forward pass\n",
    "\n",
    "In the code below we initialize a 1-5-1 network and pass the training set through it. *The forward method in DenseLayer is **not** complete*. It just outputs zeros right now. The method forward should perform an [affine transformation](https://en.wikipedia.org/wiki/Affine_transformation) on the input followed by an application of the activation function."
   ]
  },
  {
   "cell_type": "code",
   "execution_count": 19,
   "metadata": {
    "colab": {
     "base_uri": "https://localhost:8080/",
     "height": 337
    },
    "id": "xDEjtePxE7Mv",
    "outputId": "753406cd-d8a1-4282-ce03-25ad959b0e11"
   },
   "outputs": [
    {
     "name": "stdout",
     "output_type": "stream",
     "text": [
      "[[Var(v=-0.0143, grad=0.0000)], [Var(v=-0.0287, grad=0.0000)], [Var(v=-0.0026, grad=0.0000)], [Var(v=0.0064, grad=0.0000)], [Var(v=-0.0212, grad=0.0000)], [Var(v=-0.0196, grad=0.0000)], [Var(v=-0.0127, grad=0.0000)], [Var(v=0.0015, grad=0.0000)], [Var(v=0.0066, grad=0.0000)], [Var(v=-0.0079, grad=0.0000)], [Var(v=-0.0221, grad=0.0000)], [Var(v=0.0040, grad=0.0000)], [Var(v=-0.0177, grad=0.0000)], [Var(v=0.0046, grad=0.0000)], [Var(v=-0.0095, grad=0.0000)], [Var(v=-0.0184, grad=0.0000)], [Var(v=-0.0340, grad=0.0000)], [Var(v=-0.0161, grad=0.0000)], [Var(v=-0.0017, grad=0.0000)], [Var(v=-0.0056, grad=0.0000)], [Var(v=0.0030, grad=0.0000)], [Var(v=0.0013, grad=0.0000)], [Var(v=-0.0248, grad=0.0000)], [Var(v=-0.0250, grad=0.0000)], [Var(v=0.0018, grad=0.0000)], [Var(v=0.0048, grad=0.0000)], [Var(v=-0.0321, grad=0.0000)], [Var(v=-0.0354, grad=0.0000)], [Var(v=-0.0038, grad=0.0000)], [Var(v=-0.0223, grad=0.0000)], [Var(v=0.0060, grad=0.0000)], [Var(v=-0.0054, grad=0.0000)], [Var(v=0.0052, grad=0.0000)], [Var(v=0.0056, grad=0.0000)], [Var(v=-0.0170, grad=0.0000)], [Var(v=0.0010, grad=0.0000)], [Var(v=0.0065, grad=0.0000)], [Var(v=0.0024, grad=0.0000)], [Var(v=0.0046, grad=0.0000)], [Var(v=0.0033, grad=0.0000)], [Var(v=0.0023, grad=0.0000)], [Var(v=0.0031, grad=0.0000)], [Var(v=-0.0333, grad=0.0000)], [Var(v=0.0039, grad=0.0000)], [Var(v=0.0031, grad=0.0000)], [Var(v=0.0038, grad=0.0000)], [Var(v=-0.0214, grad=0.0000)], [Var(v=-0.0202, grad=0.0000)], [Var(v=0.0014, grad=0.0000)], [Var(v=-0.0207, grad=0.0000)], [Var(v=-0.0090, grad=0.0000)], [Var(v=-0.0008, grad=0.0000)], [Var(v=-0.0225, grad=0.0000)], [Var(v=0.0032, grad=0.0000)], [Var(v=-0.0358, grad=0.0000)], [Var(v=-0.0315, grad=0.0000)], [Var(v=0.0021, grad=0.0000)], [Var(v=0.0024, grad=0.0000)], [Var(v=-0.0118, grad=0.0000)], [Var(v=0.0056, grad=0.0000)], [Var(v=-0.0209, grad=0.0000)], [Var(v=0.0039, grad=0.0000)], [Var(v=0.0065, grad=0.0000)], [Var(v=-0.0102, grad=0.0000)], [Var(v=-0.0074, grad=0.0000)], [Var(v=0.0054, grad=0.0000)], [Var(v=0.0057, grad=0.0000)], [Var(v=-0.0264, grad=0.0000)], [Var(v=0.0041, grad=0.0000)], [Var(v=-0.0104, grad=0.0000)], [Var(v=0.0016, grad=0.0000)], [Var(v=0.0007, grad=0.0000)], [Var(v=-0.0205, grad=0.0000)], [Var(v=-0.0120, grad=0.0000)], [Var(v=0.0006, grad=0.0000)], [Var(v=-0.0324, grad=0.0000)], [Var(v=0.0028, grad=0.0000)], [Var(v=0.0027, grad=0.0000)], [Var(v=0.0036, grad=0.0000)], [Var(v=-0.0338, grad=0.0000)], [Var(v=-0.0051, grad=0.0000)], [Var(v=-0.0031, grad=0.0000)], [Var(v=0.0059, grad=0.0000)], [Var(v=0.0008, grad=0.0000)], [Var(v=0.0030, grad=0.0000)], [Var(v=0.0013, grad=0.0000)], [Var(v=0.0011, grad=0.0000)], [Var(v=0.0033, grad=0.0000)], [Var(v=0.0061, grad=0.0000)], [Var(v=0.0063, grad=0.0000)], [Var(v=-0.0122, grad=0.0000)], [Var(v=0.0019, grad=0.0000)], [Var(v=0.0035, grad=0.0000)], [Var(v=-0.0191, grad=0.0000)], [Var(v=0.0050, grad=0.0000)], [Var(v=0.0060, grad=0.0000)], [Var(v=-0.0088, grad=0.0000)], [Var(v=-0.0015, grad=0.0000)], [Var(v=-0.0305, grad=0.0000)], [Var(v=0.0036, grad=0.0000)], [Var(v=-0.0200, grad=0.0000)], [Var(v=0.0035, grad=0.0000)], [Var(v=0.0053, grad=0.0000)], [Var(v=-0.0097, grad=0.0000)], [Var(v=-0.0285, grad=0.0000)]]\n"
     ]
    }
   ],
   "source": [
    "NN = [\n",
    "    DenseLayer(1, 5, lambda x: x.relu()),\n",
    "    DenseLayer(5, 1, lambda x: x.identity())\n",
    "]\n",
    "\n",
    "def forward(input, network):\n",
    "\n",
    "  def forward_single(x, network):\n",
    "    for layer in network:\n",
    "        x = layer.forward(x)\n",
    "    return x\n",
    "\n",
    "  output = [ forward_single(input[n], network) for n in range(len(input))]\n",
    "  return output\n",
    "\n",
    "print(forward(x_train, NN))\n"
   ]
  },
  {
   "cell_type": "markdown",
   "metadata": {
    "id": "oLrGJytZFtGm"
   },
   "source": [
    "## Exercise h) Print all network parameters\n",
    "\n",
    "Make a function that prints all the parameters of the network (weights and biases) with information about in which layer the appear. In the object oriented spirit you should introduce a method in the DenseLayer class to print the parameters of a layer. Hint: You can take inspiration from the corresponding method in Var. "
   ]
  },
  {
   "cell_type": "code",
   "execution_count": 20,
   "metadata": {
    "id": "iac-VwYGFtGm"
   },
   "outputs": [
    {
     "name": "stdout",
     "output_type": "stream",
     "text": [
      "Weights: [[Var(v=-0.1899, grad=0.0000), Var(v=0.0310, grad=0.0000), Var(v=-0.0191, grad=0.0000), Var(v=-0.1980, grad=0.0000), Var(v=0.0922, grad=0.0000)]]\n",
      " Biases: [Var(v=0.0000, grad=0.0000), Var(v=0.0000, grad=0.0000), Var(v=0.0000, grad=0.0000), Var(v=0.0000, grad=0.0000), Var(v=0.0000, grad=0.0000)]\n",
      "\n",
      "Weights: [[Var(v=0.0212, grad=0.0000)], [Var(v=-0.0318, grad=0.0000)], [Var(v=-0.1845, grad=0.0000)], [Var(v=0.0186, grad=0.0000)], [Var(v=-0.2041, grad=0.0000)]]\n",
      " Biases: [Var(v=0.0000, grad=0.0000)]\n",
      "\n"
     ]
    }
   ],
   "source": [
    "# Insert code here and in the DenseLayer class\n",
    "def print_nn(NN):\n",
    "    for layer in NN:\n",
    "        print(layer)\n",
    "\n",
    "print_nn(NN)"
   ]
  },
  {
   "cell_type": "markdown",
   "metadata": {
    "id": "_79HOAXrFtHK"
   },
   "source": [
    "## Visualization\n",
    "\n",
    "Now that we have defined our activation functions we can visualize them to see what they look like:"
   ]
  },
  {
   "cell_type": "code",
   "execution_count": 21,
   "metadata": {
    "id": "1FcylHqLTl-Z"
   },
   "outputs": [
    {
     "data": {
      "text/plain": [
       "[<matplotlib.lines.Line2D at 0x293edfab970>]"
      ]
     },
     "execution_count": 21,
     "metadata": {},
     "output_type": "execute_result"
    },
    {
     "data": {
      "image/png": "[encoded data removed]",
      "text/plain": [
       "<Figure size 640x480 with 1 Axes>"
      ]
     },
     "metadata": {},
     "output_type": "display_data"
    }
   ],
   "source": [
    "x = np.linspace(-6, 6, 100)\n",
    "\n",
    "# convert from Var to ndarray  \n",
    "def Var_to_nparray(x):\n",
    "  y = np.zeros((len(x),len(x[0])))\n",
    "  for i in range(len(x)):\n",
    "    for j in range(len(x[0])):\n",
    "      y[i,j] = x[i][j].v\n",
    "  return y\n",
    "\n",
    "# define 1-1 network with weight = 1 and relu activation \n",
    "NN = [ DenseLayer(1, 1, lambda x: x.relu(), initializer = ConstantInitializer(1.0)) ] \n",
    "y = Var_to_nparray(forward(nparray_to_Var(x), NN))\n",
    "\n",
    "#y = Var_to_nparray(relu(nparray_to_Var(x)))\n",
    "plt.plot(x,y)"
   ]
  },
  {
   "cell_type": "code",
   "execution_count": 22,
   "metadata": {
    "id": "oOL2UolJFtHL"
   },
   "outputs": [
    {
     "data": {
      "image/png": "[encoded data removed]",
      "text/plain": [
       "<Figure size 500x500 with 1 Axes>"
      ]
     },
     "metadata": {},
     "output_type": "display_data"
    }
   ],
   "source": [
    "# Testing all activation layers\n",
    "\n",
    "x = np.linspace(-6, 6, 100)\n",
    "units = {\n",
    "    \"identity\": lambda x: x.identity(),\n",
    "    \"sigmoid\": lambda x: x.sigmoid(),  #<- uncomment before sharing\n",
    "    \"relu\": lambda x: x.relu(),\n",
    "    \"tanh\": lambda x: x.tanh() #<- uncomment before sharing\n",
    "}\n",
    "\n",
    "plt.figure(figsize=(5, 5))\n",
    "[plt.plot(x, Var_to_nparray(forward(nparray_to_Var(x), [DenseLayer(1, 1, unit, initializer = ConstantInitializer(1.0))]) ), label=unit_name, lw=2) for unit_name, unit in units.items()] # unit(nparray_to_Var(x))), label=unit_name, lw=2) for unit_name, unit in units.items()]\n",
    "plt.legend(loc=2, fontsize=16)\n",
    "plt.title('Our activation functions', fontsize=20)\n",
    "plt.ylim([-2, 5])\n",
    "plt.xlim([-6, 6])\n",
    "plt.show()"
   ]
  },
  {
   "cell_type": "markdown",
   "metadata": {
    "id": "b-jdEl-7FtGs"
   },
   "source": [
    "# Advanced initialization schemes\n",
    "\n",
    "If we are not careful with initialization, the signals we propagate forward ($a^{(l)}$, $l=1,\\ldots,L$) and backward ($\\delta^l$, $l=L,L-1,\\ldots,1$) can blow up or shrink to zero. A statistical analysis of the variance of the signals for different activation functions can be found in these two papers: [Glorot initialization](http://proceedings.mlr.press/v9/glorot10a/glorot10a.pdf) and [He initialization](https://arxiv.org/pdf/1502.01852v1.pdf). \n",
    "\n",
    "The result of the analyses are proposals for how to make the initialization such that the variance of the signals (forward and backward) are kept approxmimatly constant when propagating from layer to layer. The exact expressions depend upon the non-linear activation function used. In Glorot initialization, the aim is to keep both the forward and backward variances constant whereas He only aims at keeping the variance in the forward pass constant.\n",
    "\n",
    "We define $n_{in}$ and $n_{out}$ as the number of input units and output units of a particular layer. \n",
    "\n",
    "The Glorot initialization has the form: \n",
    "\n",
    "$$w_{ij} \\sim N \\bigg( 0, \\, \\frac{2 \\alpha }{n_{in} + n_{out}} \\bigg) \\ . $$\n",
    "\n",
    "where $N(\\mu,\\sigma^2)$ is a Gaussian distribution with mean $\\mu$ and variance $\\sigma^2$ and $\\alpha$ is a parameter that depends upon the activation function used. For $\\tanh$, $\\alpha=1$ and for Rectified Linear Unit (ReLU) activations, $\\alpha=2$. (It is also possible to use a uniform distribution for initialization, see [this blog post](https://mmuratarat.github.io/2019-02-25/xavier-glorot-he-weight-init).) \n",
    "\n",
    "The He initialization is very similar\n",
    "\n",
    "$$w_{ij} \\sim N \\bigg( 0, \\, \\frac{\\alpha}{n_{in}} \\bigg) \\ . $$"
   ]
  },
  {
   "cell_type": "markdown",
   "metadata": {
    "id": "mqeyab9qFtGs"
   },
   "source": [
    "## Exercise i) Glorot and He initialization\n",
    " \n",
    "Using the Initializer class, implement functions that implement Glorot and He \n",
    "\n",
    "Explain briefly how you would test numerically that these initializations have the sought after property. Hint: See plots in Glorot paper.\n",
    "\n",
    "Comment: If you want to be more advanced then try to make a universal initializer taking both the activation function and type (Glorot or He) as argument."
   ]
  },
  {
   "cell_type": "code",
   "execution_count": 23,
   "metadata": {
    "id": "Qyk01CgaFtGt"
   },
   "outputs": [],
   "source": [
    "## Glorot\n",
    "def DenseLayer_Glorot_tanh(n_in: int, n_out: int):\n",
    "  std = 2 / (n_in + n_out) # <- replace with proper initialization\n",
    "  return DenseLayer(n_in, n_out, lambda x: x.tanh(), initializer = NormalInitializer(std))\n",
    "\n",
    "## He\n",
    "def DenseLayer_He_relu(n_in: int, n_out: int):\n",
    "  std = 2 / n_in # <- replace with proper initialization\n",
    "  return DenseLayer(n_in, n_out, lambda x: x.relu(), initializer = NormalInitializer(std))"
   ]
  },
  {
   "cell_type": "markdown",
   "metadata": {
    "id": "-XyXBD37FtHk"
   },
   "source": [
    "## Exercise j) Forward pass unit test\n",
    "\n",
    "Write a bit of code to make a unit test that the forward pass works. This can be done by defining a simple network with for example all weights equal to one (using the ConstantInitializer method) and identity activation functions. \n",
    "\n",
    "Hints: Use the [assert](https://www.w3schools.com/python/ref_keyword_assert.asp), the nparray_to_Var and the Var_to_nparray commands. "
   ]
  },
  {
   "cell_type": "code",
   "execution_count": 24,
   "metadata": {
    "id": "k0miqRUAFtHl"
   },
   "outputs": [],
   "source": [
    "# Insert code here\n",
    "NN_const = [\n",
    "    DenseLayer(1, 1, lambda x: x.identity(), initializer=ConstantInitializer()),\n",
    "    DenseLayer(1, 1, lambda x: x.identity(), initializer=ConstantInitializer())\n",
    "]\n",
    "\n",
    "assert np.array_equal(Var_to_nparray(x_train), Var_to_nparray(forward(x_train, NN_const))),  \"forward is incorrect\"\n",
    "\n"
   ]
  },
  {
   "cell_type": "markdown",
   "metadata": {
    "id": "faCxhfFnFtHp"
   },
   "source": [
    "# Loss functions\n",
    "\n",
    "We are only missing a loss function to we need to define a loss function and its derivative with respect to the output of the neural network $y$"
   ]
  },
  {
   "cell_type": "code",
   "execution_count": 25,
   "metadata": {
    "id": "I2eDYKvAFtHq"
   },
   "outputs": [],
   "source": [
    "def squared_loss(t, y):\n",
    "  \n",
    "  # add check that sizes agree\n",
    "  \n",
    "  def squared_loss_single(t, y):\n",
    "    Loss = Var(0.0)\n",
    "    for i in range(len(t)): # sum over outputs\n",
    "      Loss += (t[i]-y[i]) ** 2\n",
    "    return Loss\n",
    "\n",
    "  Loss = Var(0.0)\n",
    "  for n in range(len(t)): # sum over training data\n",
    "    Loss += squared_loss_single(t[n],y[n])\n",
    "  return Loss"
   ]
  },
  {
   "cell_type": "markdown",
   "metadata": {
    "id": "SrwSJ2UWFtHu"
   },
   "source": [
    "## Exercise j) Implement cross entropy loss\n",
    "\n",
    "Insert code below to implement cross-entropy loss for general dimensionality of $t$. Use a logits formulation:\n",
    "$$\n",
    "\\rm{Loss} = - \\sum_i t_i \\, log \\, p_i \n",
    "$$\n",
    "with $p$ given by the the softmax function in terms of the logits $h$:\n",
    "$$\n",
    "p_i = \\frac{\\exp(h_i)}{\\sum_{i'} \\exp(h_{i'})} .\n",
    "$$\n",
    "Inserting $p$ in the expression for the loss gives\n",
    "$$\n",
    "\\rm{Loss} = - \\sum_i t_i h_i + \\rm{LogSumExp}(h) \\ ,\n",
    "$$\n",
    "where \n",
    "$$\n",
    "\\rm{LogSumExp}(h) = \\log \\sum_i \\exp h_i \\ .\n",
    "$$\n",
    "This is true for $t$ being a one-hot vector. \n",
    "\n",
    "Call the function to convince yourself it works. \n",
    "\n",
    "In practice you want to implement a [numerically stable](https://leimao.github.io/blog/LogSumExp/) version of LogSumExp. But we will not bother about that here.\n",
    "\n",
    "Help: You can add these methods in the Var class:\n",
    "\n",
    "    def exp(self):\n",
    "        return Var(exp(self.v), lambda: [(self, exp(self.v))])\n",
    "    \n",
    "    def log(self):\n",
    "        return Var(log(self.v), lambda: [(self, self.v ** -1)])"
   ]
  },
  {
   "cell_type": "code",
   "execution_count": 26,
   "metadata": {
    "id": "6nMuxyfzFtHv"
   },
   "outputs": [],
   "source": [
    "def cross_entropy_loss(t, h):\n",
    "    def cross_entropy_loss_single(t, h):\n",
    "        sum = Var(0.0)\n",
    "        exp_sum = Var(0.0)\n",
    "        for i in range(len(t)): # sum over outputs\n",
    "            print(t[i])\n",
    "            print(h[i])\n",
    "            sum += t[i]*h[i]\n",
    "            exp_sum += h[i].exp()\n",
    "        return -sum + exp_sum.log() \n",
    "\n",
    "    Loss = Var(0.0)\n",
    "    for n in range(len(t)): # sum over training data\n",
    "        Loss += cross_entropy_loss_single(t[n],h[n])\n",
    "    return Loss"
   ]
  },
  {
   "cell_type": "markdown",
   "metadata": {
    "id": "8fAF5ew4FtHy"
   },
   "source": [
    "# Backward pass\n",
    "\n",
    "Now the magic happens! We get the calculation of the gradients for free. Just do:"
   ]
  },
  {
   "cell_type": "code",
   "execution_count": 27,
   "metadata": {
    "id": "iHyfPPI9Qqwu"
   },
   "outputs": [
    {
     "name": "stdout",
     "output_type": "stream",
     "text": [
      "Var(v=104.3443, grad=0.0000)\n"
     ]
    }
   ],
   "source": [
    "NN = [\n",
    "    DenseLayer(1, 5, lambda x: x.relu()),\n",
    "    DenseLayer(5, 1, lambda x: x.identity())\n",
    "]\n",
    "\n",
    "output = forward(x_train, NN)\n",
    "\n",
    "Loss = squared_loss(y_train,output)\n",
    "print(Loss)\n",
    "Loss.backward()"
   ]
  },
  {
   "cell_type": "markdown",
   "metadata": {
    "id": "49biIAYKQ1oG"
   },
   "source": [
    "and the gradients will be calculated:"
   ]
  },
  {
   "cell_type": "code",
   "execution_count": 28,
   "metadata": {
    "id": "_rGt1bq_Q7uk"
   },
   "outputs": [
    {
     "name": "stdout",
     "output_type": "stream",
     "text": [
      "Layer 0 \n",
      " Weights: [[Var(v=0.0137, grad=-8.4623), Var(v=0.0175, grad=-14.0972), Var(v=-0.0398, grad=8.7270), Var(v=0.0206, grad=-1.8386), Var(v=-0.1509, grad=-0.6185)]]\n",
      " Biases: [Var(v=0.0000, grad=-7.2697), Var(v=0.0000, grad=-12.1104), Var(v=0.0000, grad=-7.9320), Var(v=0.0000, grad=-1.5794), Var(v=0.0000, grad=0.5622)]\n",
      "\n",
      "Layer 1 \n",
      " Weights: [[Var(v=0.0837, grad=-1.3852)], [Var(v=0.1394, grad=-1.7685)], [Var(v=-0.0911, grad=3.8130)], [Var(v=0.0182, grad=-2.0876)], [Var(v=0.0065, grad=14.4465)]]\n",
      " Biases: [Var(v=0.0000, grad=0.1205)]\n",
      "\n"
     ]
    },
    {
     "data": {
      "text/plain": [
       "[None, None]"
      ]
     },
     "execution_count": 28,
     "metadata": {},
     "output_type": "execute_result"
    }
   ],
   "source": [
    "[print('Layer', i, '\\n', NN[i]) for i in range(len(NN))] "
   ]
  },
  {
   "cell_type": "markdown",
   "metadata": {
    "id": "D7d7qK0uFtH9"
   },
   "source": [
    "# Backward pass unit test\n",
    "\n",
    "Above we used finite differences to test that Nanograd is actually doing what it is supposed to do. We can in principle try the same for the neural network. But we will trust that the test above is enough."
   ]
  },
  {
   "cell_type": "markdown",
   "metadata": {
    "id": "WgBi8GOSFtIN"
   },
   "source": [
    "# Training and validation\n",
    "\n",
    "We are ready to train some neural networks!\n",
    "\n",
    "We initialize again:"
   ]
  },
  {
   "cell_type": "code",
   "execution_count": 29,
   "metadata": {
    "id": "01ePmzBzRtdh"
   },
   "outputs": [],
   "source": [
    "NN = [\n",
    "    DenseLayer(1, 15, lambda x: x.relu()),\n",
    "    DenseLayer(15, 50, lambda x: x.relu()),\n",
    "    DenseLayer(50, 1, lambda x: x.identity())\n",
    "]\n",
    "\n",
    "output = forward(x_train, NN)\n",
    "\n",
    "Loss = squared_loss(y_train,output)\n",
    "Loss.backward()"
   ]
  },
  {
   "cell_type": "markdown",
   "metadata": {
    "id": "10iRPiQ1ISHw"
   },
   "source": [
    "and make an update:\n",
    "\n",
    "We introduce a help function parameters to have a handle in all parameters in the network."
   ]
  },
  {
   "cell_type": "code",
   "execution_count": 30,
   "metadata": {
    "id": "dhAI7eyeznia"
   },
   "outputs": [
    {
     "name": "stdout",
     "output_type": "stream",
     "text": [
      "Network before update:\n",
      "Layer 0 \n",
      " Weights: [[Var(v=0.0242, grad=5.9318), Var(v=0.0514, grad=-1.7146), Var(v=-0.0373, grad=-5.0153), Var(v=-0.0219, grad=2.3033), Var(v=0.0314, grad=5.6732), Var(v=0.1709, grad=7.4290), Var(v=-0.0903, grad=-2.5808), Var(v=0.0760, grad=-3.3901), Var(v=-0.0257, grad=-0.1495), Var(v=0.0886, grad=-10.4469), Var(v=-0.0409, grad=0.4236), Var(v=0.1016, grad=11.1212), Var(v=-0.0020, grad=1.2136), Var(v=-0.1455, grad=6.2640), Var(v=0.0922, grad=2.2792)]]\n",
      " Biases: [Var(v=0.0000, grad=5.0938), Var(v=0.0000, grad=-1.4724), Var(v=0.0000, grad=4.5582), Var(v=0.0000, grad=-2.0934), Var(v=0.0000, grad=4.8717), Var(v=0.0000, grad=6.3795), Var(v=0.0000, grad=2.3456), Var(v=0.0000, grad=-2.9112), Var(v=0.0000, grad=0.1359), Var(v=0.0000, grad=-8.9710), Var(v=0.0000, grad=-0.3850), Var(v=0.0000, grad=9.5501), Var(v=0.0000, grad=-1.1030), Var(v=0.0000, grad=-5.6931), Var(v=0.0000, grad=1.9572)]\n",
      "\n",
      "Layer 1 \n",
      " Weights: [[Var(v=0.0350, grad=0.0000), Var(v=-0.0432, grad=0.0000), Var(v=-0.0174, grad=0.0000), Var(v=-0.1371, grad=0.0000), Var(v=-0.0519, grad=0.0000), Var(v=0.0055, grad=0.0000), Var(v=-0.1430, grad=0.0000), Var(v=-0.1017, grad=0.0000), Var(v=0.0934, grad=0.0000), Var(v=-0.1665, grad=0.0000), Var(v=-0.0699, grad=0.0000), Var(v=-0.0833, grad=0.0216), Var(v=0.1057, grad=0.0000), Var(v=-0.1485, grad=0.2430), Var(v=-0.0780, grad=-0.5586), Var(v=0.1053, grad=0.0000), Var(v=0.0261, grad=0.0000), Var(v=0.0325, grad=-0.2100), Var(v=0.0973, grad=0.0000), Var(v=-0.1556, grad=0.0000), Var(v=0.1071, grad=0.4138), Var(v=0.0054, grad=0.0000), Var(v=-0.1380, grad=0.0000), Var(v=-0.0621, grad=-0.0680), Var(v=-0.0396, grad=0.0652), Var(v=-0.0811, grad=0.1656), Var(v=-0.0318, grad=0.1334), Var(v=0.0431, grad=-0.0684), Var(v=0.1408, grad=0.1535), Var(v=0.2639, grad=0.1419), Var(v=-0.1286, grad=0.0000), Var(v=-0.0593, grad=0.0000), Var(v=-0.2339, grad=0.0000), Var(v=-0.0181, grad=-0.0932), Var(v=-0.0242, grad=0.0000), Var(v=-0.0880, grad=0.2672), Var(v=0.0740, grad=0.0003), Var(v=0.0298, grad=0.0000), Var(v=0.1185, grad=0.0000), Var(v=-0.1338, grad=0.4597), Var(v=0.0944, grad=0.0000), Var(v=0.0250, grad=0.0000), Var(v=0.0624, grad=0.0000), Var(v=-0.0384, grad=0.0000), Var(v=0.0894, grad=0.0000), Var(v=-0.3219, grad=-0.4558), Var(v=-0.0147, grad=0.0000), Var(v=0.1414, grad=-0.0208), Var(v=0.0428, grad=0.0000), Var(v=-0.1439, grad=0.0000)], [Var(v=0.0218, grad=0.0000), Var(v=-0.1190, grad=0.0000), Var(v=-0.1230, grad=0.0000), Var(v=0.0450, grad=0.0000), Var(v=0.0036, grad=0.0000), Var(v=0.0097, grad=0.0000), Var(v=-0.0735, grad=0.0000), Var(v=-0.0252, grad=0.0000), Var(v=0.1313, grad=0.0000), Var(v=0.1510, grad=0.0000), Var(v=0.0579, grad=0.0000), Var(v=0.0410, grad=0.0458), Var(v=-0.0879, grad=0.0000), Var(v=-0.0967, grad=0.5159), Var(v=-0.0703, grad=-1.1858), Var(v=-0.0748, grad=0.0000), Var(v=-0.0492, grad=0.0000), Var(v=0.1911, grad=-0.4459), Var(v=-0.0355, grad=0.0000), Var(v=-0.0671, grad=0.0000), Var(v=0.1022, grad=0.8785), Var(v=-0.1407, grad=0.0000), Var(v=0.0948, grad=0.0000), Var(v=0.1937, grad=-0.1444), Var(v=0.0900, grad=0.1384), Var(v=0.0015, grad=0.3515), Var(v=-0.0504, grad=0.2831), Var(v=-0.1347, grad=-0.1453), Var(v=-0.0787, grad=0.3257), Var(v=-0.0757, grad=0.3012), Var(v=0.0288, grad=0.0000), Var(v=0.1362, grad=0.0000), Var(v=0.1198, grad=0.0000), Var(v=0.1938, grad=-0.1978), Var(v=-0.0428, grad=0.0000), Var(v=0.2029, grad=0.5672), Var(v=0.0381, grad=0.0007), Var(v=0.0896, grad=0.0000), Var(v=0.0122, grad=0.0000), Var(v=-0.0360, grad=0.9759), Var(v=-0.2865, grad=0.0000), Var(v=-0.1132, grad=0.0000), Var(v=0.0551, grad=0.0000), Var(v=-0.0151, grad=0.0000), Var(v=-0.0545, grad=0.0000), Var(v=0.1172, grad=-0.9676), Var(v=0.0517, grad=0.0000), Var(v=-0.0400, grad=-0.0441), Var(v=-0.0892, grad=0.0000), Var(v=0.0653, grad=0.0000)], [Var(v=-0.1906, grad=0.0000), Var(v=0.0260, grad=0.2175), Var(v=-0.0259, grad=-0.2830), Var(v=-0.1649, grad=-0.4213), Var(v=0.0132, grad=-0.4381), Var(v=-0.2170, grad=0.0000), Var(v=-0.0656, grad=0.0000), Var(v=0.0177, grad=0.0000), Var(v=-0.0326, grad=0.1237), Var(v=0.0867, grad=0.2902), Var(v=-0.0715, grad=0.0368), Var(v=0.1404, grad=-0.0307), Var(v=0.0594, grad=-0.0332), Var(v=-0.0951, grad=0.0000), Var(v=-0.2029, grad=0.0000), Var(v=-0.1895, grad=0.0000), Var(v=0.0159, grad=0.5006), Var(v=-0.1115, grad=0.0000), Var(v=-0.0007, grad=0.0000), Var(v=0.0609, grad=0.0000), Var(v=0.1024, grad=-0.5883), Var(v=-0.1154, grad=0.0000), Var(v=-0.0594, grad=-0.1691), Var(v=0.1454, grad=0.0000), Var(v=-0.1731, grad=0.0000), Var(v=-0.0270, grad=-0.2354), Var(v=0.0009, grad=0.0000), Var(v=0.0222, grad=0.0000), Var(v=-0.1145, grad=0.0000), Var(v=-0.1110, grad=0.0000), Var(v=0.1734, grad=0.7786), Var(v=0.0409, grad=0.0000), Var(v=-0.0652, grad=0.0000), Var(v=-0.1269, grad=0.1325), Var(v=-0.0226, grad=-0.0373), Var(v=0.0840, grad=-0.3798), Var(v=0.0178, grad=-0.0005), Var(v=-0.1176, grad=0.0000), Var(v=-0.0358, grad=-0.1486), Var(v=-0.0667, grad=-0.6535), Var(v=0.0218, grad=0.0000), Var(v=-0.0938, grad=0.0000), Var(v=0.0159, grad=0.0000), Var(v=0.2525, grad=0.0000), Var(v=0.0082, grad=0.0000), Var(v=0.1101, grad=0.0000), Var(v=0.2534, grad=0.0000), Var(v=-0.0657, grad=0.0295), Var(v=-0.2040, grad=0.0000), Var(v=-0.0520, grad=0.0000)], [Var(v=-0.0850, grad=0.0000), Var(v=-0.0967, grad=0.1275), Var(v=0.1808, grad=-0.1658), Var(v=-0.1050, grad=-0.2468), Var(v=0.0428, grad=-0.2567), Var(v=-0.0155, grad=0.0000), Var(v=-0.0426, grad=0.0000), Var(v=-0.1789, grad=0.0000), Var(v=-0.0221, grad=0.0725), Var(v=-0.0943, grad=0.1700), Var(v=0.0414, grad=0.0216), Var(v=0.0687, grad=-0.0180), Var(v=-0.0621, grad=-0.0194), Var(v=-0.0297, grad=0.0000), Var(v=0.2488, grad=0.0000), Var(v=-0.0708, grad=0.0000), Var(v=-0.0303, grad=0.2933), Var(v=0.1023, grad=0.0000), Var(v=-0.1427, grad=0.0000), Var(v=0.0326, grad=0.0000), Var(v=-0.0050, grad=-0.3447), Var(v=-0.0074, grad=0.0000), Var(v=0.2112, grad=-0.0991), Var(v=-0.0571, grad=0.0000), Var(v=-0.0791, grad=0.0000), Var(v=-0.1249, grad=-0.1379), Var(v=-0.0576, grad=0.0000), Var(v=-0.0858, grad=0.0000), Var(v=-0.1558, grad=0.0000), Var(v=-0.0055, grad=0.0000), Var(v=0.0455, grad=0.4562), Var(v=-0.0387, grad=0.0000), Var(v=0.0725, grad=0.0000), Var(v=0.0149, grad=0.0776), Var(v=0.0631, grad=-0.0218), Var(v=-0.1324, grad=-0.2226), Var(v=0.0104, grad=-0.0003), Var(v=-0.0531, grad=0.0000), Var(v=-0.1657, grad=-0.0871), Var(v=0.1578, grad=-0.3829), Var(v=0.0688, grad=0.0000), Var(v=0.0468, grad=0.0000), Var(v=0.0764, grad=0.0000), Var(v=-0.0731, grad=0.0000), Var(v=-0.1101, grad=0.0000), Var(v=-0.0101, grad=0.0000), Var(v=0.1255, grad=0.0000), Var(v=0.0412, grad=0.0173), Var(v=-0.1064, grad=0.0000), Var(v=-0.0006, grad=0.0000)], [Var(v=-0.0521, grad=0.0000), Var(v=0.0795, grad=0.0000), Var(v=0.0010, grad=0.0000), Var(v=-0.0329, grad=0.0000), Var(v=-0.0854, grad=0.0000), Var(v=0.0291, grad=0.0000), Var(v=-0.0528, grad=0.0000), Var(v=0.0573, grad=0.0000), Var(v=-0.0945, grad=0.0000), Var(v=0.1291, grad=0.0000), Var(v=0.0175, grad=0.0000), Var(v=-0.0960, grad=0.0279), Var(v=-0.1102, grad=0.0000), Var(v=0.0200, grad=0.3148), Var(v=-0.2942, grad=-0.7234), Var(v=-0.0433, grad=0.0000), Var(v=0.0463, grad=0.0000), Var(v=0.0824, grad=-0.2720), Var(v=-0.0605, grad=0.0000), Var(v=-0.0226, grad=0.0000), Var(v=0.1068, grad=0.5360), Var(v=-0.1306, grad=0.0000), Var(v=0.0660, grad=0.0000), Var(v=-0.0174, grad=-0.0881), Var(v=-0.0962, grad=0.0845), Var(v=0.1156, grad=0.2144), Var(v=0.0533, grad=0.1727), Var(v=-0.0438, grad=-0.0886), Var(v=0.1003, grad=0.1987), Var(v=0.0286, grad=0.1837), Var(v=-0.0338, grad=0.0000), Var(v=0.0771, grad=0.0000), Var(v=0.0484, grad=0.0000), Var(v=0.1988, grad=-0.1207), Var(v=-0.0016, grad=0.0000), Var(v=0.0310, grad=0.3461), Var(v=0.2751, grad=0.0004), Var(v=-0.1397, grad=0.0000), Var(v=-0.0101, grad=0.0000), Var(v=0.0368, grad=0.5954), Var(v=-0.0346, grad=0.0000), Var(v=0.0814, grad=0.0000), Var(v=0.0125, grad=0.0000), Var(v=0.0774, grad=0.0000), Var(v=-0.1315, grad=0.0000), Var(v=0.2313, grad=-0.5903), Var(v=-0.0089, grad=0.0000), Var(v=0.0716, grad=-0.0269), Var(v=-0.1161, grad=0.0000), Var(v=-0.1783, grad=0.0000)], [Var(v=-0.0556, grad=0.0000), Var(v=0.0019, grad=0.0000), Var(v=-0.0564, grad=0.0000), Var(v=0.0451, grad=0.0000), Var(v=-0.0457, grad=0.0000), Var(v=0.0890, grad=0.0000), Var(v=0.0606, grad=0.0000), Var(v=0.0352, grad=0.0000), Var(v=-0.1532, grad=0.0000), Var(v=-0.1007, grad=0.0000), Var(v=-0.0033, grad=0.0000), Var(v=-0.0091, grad=0.1521), Var(v=-0.0716, grad=0.0000), Var(v=0.0991, grad=1.7149), Var(v=0.1039, grad=-3.9416), Var(v=-0.1123, grad=0.0000), Var(v=0.0168, grad=0.0000), Var(v=-0.0058, grad=-1.4822), Var(v=-0.1659, grad=0.0000), Var(v=-0.1775, grad=0.0000), Var(v=-0.0387, grad=2.9201), Var(v=-0.0829, grad=0.0000), Var(v=-0.0789, grad=0.0000), Var(v=0.0464, grad=-0.4799), Var(v=-0.0311, grad=0.4601), Var(v=0.1899, grad=1.1683), Var(v=0.1190, grad=0.9410), Var(v=-0.0092, grad=-0.4829), Var(v=0.0277, grad=1.0828), Var(v=0.1262, grad=1.0011), Var(v=-0.0660, grad=0.0000), Var(v=-0.0859, grad=0.0000), Var(v=-0.1513, grad=0.0000), Var(v=0.1206, grad=-0.6575), Var(v=-0.0969, grad=0.0000), Var(v=0.2655, grad=1.8856), Var(v=0.1103, grad=0.0024), Var(v=0.0253, grad=0.0000), Var(v=-0.0344, grad=0.0000), Var(v=0.1830, grad=3.2440), Var(v=0.0301, grad=0.0000), Var(v=-0.0318, grad=0.0000), Var(v=-0.1331, grad=0.0000), Var(v=-0.0731, grad=0.0000), Var(v=0.0444, grad=0.0000), Var(v=-0.0466, grad=-3.2165), Var(v=-0.1686, grad=0.0000), Var(v=0.0534, grad=-0.1467), Var(v=0.0228, grad=0.0000), Var(v=0.0268, grad=0.0000)], [Var(v=-0.0908, grad=0.0000), Var(v=0.0805, grad=0.5269), Var(v=-0.0766, grad=-0.6855), Var(v=-0.0078, grad=-1.0204), Var(v=-0.0774, grad=-1.0613), Var(v=-0.0283, grad=0.0000), Var(v=0.1039, grad=0.0000), Var(v=-0.1805, grad=0.0000), Var(v=0.0399, grad=0.2996), Var(v=-0.1194, grad=0.7028), Var(v=-0.0772, grad=0.0892), Var(v=0.1435, grad=-0.0742), Var(v=-0.0483, grad=-0.0804), Var(v=-0.0426, grad=0.0000), Var(v=-0.0736, grad=0.0000), Var(v=0.1211, grad=0.0000), Var(v=0.1848, grad=1.2125), Var(v=-0.2512, grad=0.0000), Var(v=-0.0975, grad=0.0000), Var(v=-0.0100, grad=0.0000), Var(v=0.0167, grad=-1.4249), Var(v=-0.1875, grad=0.0000), Var(v=0.0277, grad=-0.4096), Var(v=-0.1452, grad=0.0000), Var(v=0.0373, grad=0.0000), Var(v=0.0810, grad=-0.5701), Var(v=-0.2324, grad=0.0000), Var(v=0.1761, grad=0.0000), Var(v=-0.0756, grad=0.0000), Var(v=0.1518, grad=0.0000), Var(v=-0.1036, grad=1.8859), Var(v=-0.0299, grad=0.0000), Var(v=0.0250, grad=0.0000), Var(v=0.0620, grad=0.3208), Var(v=0.0882, grad=-0.0903), Var(v=0.0247, grad=-0.9201), Var(v=0.1627, grad=-0.0012), Var(v=-0.0154, grad=0.0000), Var(v=-0.1370, grad=-0.3600), Var(v=-0.0830, grad=-1.5830), Var(v=-0.0332, grad=0.0000), Var(v=-0.0743, grad=0.0000), Var(v=-0.0567, grad=0.0000), Var(v=-0.0810, grad=0.0000), Var(v=-0.0285, grad=0.0000), Var(v=0.1273, grad=0.0000), Var(v=-0.1518, grad=0.0000), Var(v=0.2298, grad=0.0716), Var(v=-0.0558, grad=0.0000), Var(v=0.0817, grad=0.0000)], [Var(v=-0.0679, grad=0.0000), Var(v=-0.1387, grad=0.0000), Var(v=0.0752, grad=0.0000), Var(v=-0.0439, grad=0.0000), Var(v=0.0918, grad=0.0000), Var(v=-0.1349, grad=0.0000), Var(v=-0.0712, grad=0.0000), Var(v=-0.0563, grad=0.0000), Var(v=-0.0151, grad=0.0000), Var(v=-0.0508, grad=0.0000), Var(v=0.0262, grad=0.0000), Var(v=0.0215, grad=0.0676), Var(v=0.0312, grad=0.0000), Var(v=0.1725, grad=0.7625), Var(v=0.0034, grad=-1.7525), Var(v=0.1037, grad=0.0000), Var(v=-0.0605, grad=0.0000), Var(v=0.1335, grad=-0.6590), Var(v=-0.0387, grad=0.0000), Var(v=0.0590, grad=0.0000), Var(v=0.1243, grad=1.2983), Var(v=-0.0600, grad=0.0000), Var(v=0.0267, grad=0.0000), Var(v=0.1180, grad=-0.2134), Var(v=-0.0256, grad=0.2046), Var(v=-0.0545, grad=0.5195), Var(v=0.0051, grad=0.4184), Var(v=0.0531, grad=-0.2147), Var(v=0.0818, grad=0.4814), Var(v=-0.0242, grad=0.4451), Var(v=-0.0138, grad=0.0000), Var(v=0.0299, grad=0.0000), Var(v=-0.0165, grad=0.0000), Var(v=-0.0561, grad=-0.2923), Var(v=0.0922, grad=0.0000), Var(v=-0.0440, grad=0.8383), Var(v=0.1482, grad=0.0011), Var(v=-0.0071, grad=0.0000), Var(v=0.1867, grad=0.0000), Var(v=-0.2063, grad=1.4423), Var(v=-0.0834, grad=0.0000), Var(v=0.1628, grad=0.0000), Var(v=0.0853, grad=0.0000), Var(v=0.0532, grad=0.0000), Var(v=0.1012, grad=0.0000), Var(v=0.0676, grad=-1.4301), Var(v=0.0751, grad=0.0000), Var(v=0.0658, grad=-0.0652), Var(v=-0.0493, grad=0.0000), Var(v=-0.1299, grad=0.0000)], [Var(v=-0.0389, grad=0.0000), Var(v=0.1041, grad=0.1500), Var(v=0.0236, grad=-0.1952), Var(v=-0.1048, grad=-0.2906), Var(v=0.1557, grad=-0.3022), Var(v=0.0988, grad=0.0000), Var(v=-0.0047, grad=0.0000), Var(v=0.1119, grad=0.0000), Var(v=-0.0693, grad=0.0853), Var(v=0.1091, grad=0.2002), Var(v=0.0779, grad=0.0254), Var(v=0.0319, grad=-0.0211), Var(v=-0.0901, grad=-0.0229), Var(v=0.0058, grad=0.0000), Var(v=-0.0119, grad=0.0000), Var(v=0.0269, grad=0.0000), Var(v=0.0765, grad=0.3453), Var(v=0.0349, grad=0.0000), Var(v=-0.0056, grad=0.0000), Var(v=-0.0066, grad=0.0000), Var(v=0.0505, grad=-0.4058), Var(v=-0.0213, grad=0.0000), Var(v=-0.0368, grad=-0.1167), Var(v=-0.0011, grad=0.0000), Var(v=0.0246, grad=0.0000), Var(v=-0.0517, grad=-0.1624), Var(v=0.0239, grad=0.0000), Var(v=-0.0098, grad=0.0000), Var(v=0.0043, grad=0.0000), Var(v=0.0444, grad=0.0000), Var(v=0.1478, grad=0.5371), Var(v=-0.1284, grad=0.0000), Var(v=-0.1676, grad=0.0000), Var(v=-0.1372, grad=0.0914), Var(v=0.0748, grad=-0.0257), Var(v=0.1071, grad=-0.2620), Var(v=0.0800, grad=-0.0003), Var(v=0.1478, grad=0.0000), Var(v=-0.0951, grad=-0.1025), Var(v=0.1686, grad=-0.4508), Var(v=0.1112, grad=0.0000), Var(v=-0.0260, grad=0.0000), Var(v=0.0524, grad=0.0000), Var(v=0.0283, grad=0.0000), Var(v=0.0019, grad=0.0000), Var(v=0.0432, grad=0.0000), Var(v=-0.0197, grad=0.0000), Var(v=0.0449, grad=0.0204), Var(v=-0.1300, grad=0.0000), Var(v=-0.1153, grad=0.0000)], [Var(v=0.1628, grad=0.0000), Var(v=0.0057, grad=0.0000), Var(v=-0.0553, grad=0.0000), Var(v=0.1018, grad=0.0000), Var(v=-0.0921, grad=0.0000), Var(v=-0.1141, grad=0.0000), Var(v=0.0964, grad=0.0000), Var(v=0.0094, grad=0.0000), Var(v=0.0322, grad=0.0000), Var(v=-0.0655, grad=0.0000), Var(v=-0.2081, grad=0.0000), Var(v=-0.0242, grad=0.0789), Var(v=0.1308, grad=0.0000), Var(v=-0.0274, grad=0.8892), Var(v=0.0216, grad=-2.0437), Var(v=0.1014, grad=0.0000), Var(v=-0.1165, grad=0.0000), Var(v=0.1180, grad=-0.7685), Var(v=-0.0718, grad=0.0000), Var(v=0.1819, grad=0.0000), Var(v=-0.2048, grad=1.5141), Var(v=-0.1958, grad=0.0000), Var(v=0.0488, grad=0.0000), Var(v=-0.0163, grad=-0.2488), Var(v=0.0971, grad=0.2386), Var(v=0.0186, grad=0.6058), Var(v=-0.0682, grad=0.4879), Var(v=0.1569, grad=-0.2504), Var(v=-0.0109, grad=0.5614), Var(v=-0.0898, grad=0.5191), Var(v=0.0030, grad=0.0000), Var(v=-0.0990, grad=0.0000), Var(v=0.0117, grad=0.0000), Var(v=-0.1435, grad=-0.3409), Var(v=-0.0765, grad=0.0000), Var(v=0.0028, grad=0.9777), Var(v=0.0014, grad=0.0013), Var(v=0.0314, grad=0.0000), Var(v=-0.0387, grad=0.0000), Var(v=-0.0046, grad=1.6820), Var(v=-0.0309, grad=0.0000), Var(v=-0.1136, grad=0.0000), Var(v=-0.0750, grad=0.0000), Var(v=-0.0095, grad=0.0000), Var(v=-0.0343, grad=0.0000), Var(v=0.2485, grad=-1.6678), Var(v=0.0180, grad=0.0000), Var(v=-0.0305, grad=-0.0761), Var(v=-0.1207, grad=0.0000), Var(v=0.0925, grad=0.0000)], [Var(v=0.1611, grad=0.0000), Var(v=-0.0666, grad=0.2385), Var(v=-0.0998, grad=-0.3104), Var(v=0.0524, grad=-0.4620), Var(v=-0.1169, grad=-0.4805), Var(v=0.1875, grad=0.0000), Var(v=0.0410, grad=0.0000), Var(v=-0.0448, grad=0.0000), Var(v=-0.0020, grad=0.1356), Var(v=-0.0779, grad=0.3182), Var(v=0.0137, grad=0.0404), Var(v=0.1298, grad=-0.0336), Var(v=-0.1452, grad=-0.0364), Var(v=-0.0951, grad=0.0000), Var(v=0.1218, grad=0.0000), Var(v=0.0290, grad=0.0000), Var(v=0.1062, grad=0.5489), Var(v=0.1695, grad=0.0000), Var(v=-0.0334, grad=0.0000), Var(v=0.0373, grad=0.0000), Var(v=-0.0204, grad=-0.6451), Var(v=-0.0998, grad=0.0000), Var(v=0.0734, grad=-0.1855), Var(v=0.1461, grad=0.0000), Var(v=-0.0654, grad=0.0000), Var(v=0.0118, grad=-0.2581), Var(v=0.0185, grad=0.0000), Var(v=-0.1733, grad=0.0000), Var(v=0.0759, grad=0.0000), Var(v=-0.1069, grad=0.0000), Var(v=0.0380, grad=0.8538), Var(v=-0.0271, grad=0.0000), Var(v=-0.0370, grad=0.0000), Var(v=-0.2077, grad=0.1453), Var(v=-0.1062, grad=-0.0409), Var(v=0.0221, grad=-0.4165), Var(v=-0.0611, grad=-0.0005), Var(v=-0.0279, grad=0.0000), Var(v=0.2421, grad=-0.1630), Var(v=0.0766, grad=-0.7166), Var(v=-0.1341, grad=0.0000), Var(v=0.1452, grad=0.0000), Var(v=-0.0786, grad=0.0000), Var(v=-0.2108, grad=0.0000), Var(v=0.2499, grad=0.0000), Var(v=-0.1014, grad=0.0000), Var(v=0.0168, grad=0.0000), Var(v=0.0402, grad=0.0324), Var(v=0.0724, grad=0.0000), Var(v=-0.0671, grad=0.0000)], [Var(v=0.0177, grad=0.0000), Var(v=-0.0729, grad=0.0000), Var(v=0.0762, grad=0.0000), Var(v=-0.1030, grad=0.0000), Var(v=-0.0489, grad=0.0000), Var(v=-0.0515, grad=0.0000), Var(v=-0.0470, grad=0.0000), Var(v=-0.1270, grad=0.0000), Var(v=0.0694, grad=0.0000), Var(v=0.0131, grad=0.0000), Var(v=-0.0890, grad=0.0000), Var(v=0.0014, grad=0.0905), Var(v=-0.0275, grad=0.0000), Var(v=0.1044, grad=1.0198), Var(v=-0.0576, grad=-2.3439), Var(v=-0.0036, grad=0.0000), Var(v=0.0126, grad=0.0000), Var(v=-0.0773, grad=-0.8814), Var(v=0.1828, grad=0.0000), Var(v=-0.0161, grad=0.0000), Var(v=0.0385, grad=1.7365), Var(v=0.0189, grad=0.0000), Var(v=-0.0846, grad=0.0000), Var(v=0.0610, grad=-0.2854), Var(v=-0.0734, grad=0.2736), Var(v=0.1386, grad=0.6948), Var(v=0.2139, grad=0.5595), Var(v=-0.1710, grad=-0.2871), Var(v=0.0690, grad=0.6439), Var(v=0.0198, grad=0.5953), Var(v=0.0092, grad=0.0000), Var(v=-0.1083, grad=0.0000), Var(v=-0.0355, grad=0.0000), Var(v=0.1487, grad=-0.3910), Var(v=0.0021, grad=0.0000), Var(v=-0.1061, grad=1.1213), Var(v=0.0468, grad=0.0014), Var(v=-0.0400, grad=0.0000), Var(v=-0.0707, grad=0.0000), Var(v=0.1481, grad=1.9291), Var(v=-0.0481, grad=0.0000), Var(v=0.0001, grad=0.0000), Var(v=-0.0525, grad=0.0000), Var(v=-0.2306, grad=0.0000), Var(v=0.0280, grad=0.0000), Var(v=-0.1924, grad=-1.9127), Var(v=0.0447, grad=0.0000), Var(v=0.0747, grad=-0.0872), Var(v=-0.1214, grad=0.0000), Var(v=-0.0839, grad=0.0000)], [Var(v=-0.0231, grad=0.0000), Var(v=-0.0238, grad=0.0119), Var(v=0.1088, grad=-0.0155), Var(v=0.1046, grad=-0.0230), Var(v=-0.0380, grad=-0.0239), Var(v=0.0368, grad=0.0000), Var(v=0.1312, grad=0.0000), Var(v=0.0232, grad=0.0000), Var(v=0.0125, grad=0.0068), Var(v=-0.0111, grad=0.0158), Var(v=0.0136, grad=0.0020), Var(v=-0.2211, grad=-0.0017), Var(v=0.0137, grad=-0.0018), Var(v=0.0886, grad=0.0000), Var(v=0.0148, grad=0.0000), Var(v=-0.1527, grad=0.0000), Var(v=0.0139, grad=0.0273), Var(v=0.0784, grad=0.0000), Var(v=-0.0024, grad=0.0000), Var(v=0.0157, grad=0.0000), Var(v=0.0013, grad=-0.0321), Var(v=-0.1201, grad=0.0000), Var(v=0.0233, grad=-0.0092), Var(v=-0.0938, grad=0.0000), Var(v=0.0085, grad=0.0000), Var(v=0.1506, grad=-0.0129), Var(v=-0.1055, grad=0.0000), Var(v=0.0742, grad=0.0000), Var(v=-0.1191, grad=0.0000), Var(v=-0.1258, grad=0.0000), Var(v=0.1028, grad=0.0425), Var(v=0.0498, grad=0.0000), Var(v=0.1346, grad=0.0000), Var(v=0.0247, grad=0.0072), Var(v=-0.0718, grad=-0.0020), Var(v=-0.0390, grad=-0.0207), Var(v=0.0230, grad=-0.0000), Var(v=0.0657, grad=0.0000), Var(v=0.0648, grad=-0.0081), Var(v=0.0682, grad=-0.0357), Var(v=0.0988, grad=0.0000), Var(v=-0.0351, grad=0.0000), Var(v=0.0792, grad=0.0000), Var(v=0.0461, grad=0.0000), Var(v=-0.1463, grad=0.0000), Var(v=0.1395, grad=0.0000), Var(v=-0.1509, grad=0.0000), Var(v=-0.0126, grad=0.0016), Var(v=-0.1257, grad=0.0000), Var(v=0.0505, grad=0.0000)], [Var(v=-0.0008, grad=0.0000), Var(v=-0.0203, grad=0.8484), Var(v=0.0844, grad=-1.1039), Var(v=0.1325, grad=-1.6431), Var(v=0.1368, grad=-1.7090), Var(v=-0.1009, grad=0.0000), Var(v=-0.0792, grad=0.0000), Var(v=0.0166, grad=0.0000), Var(v=0.0252, grad=0.4824), Var(v=0.1126, grad=1.1318), Var(v=0.1496, grad=0.1437), Var(v=-0.0489, grad=-0.1196), Var(v=0.2044, grad=-0.1294), Var(v=0.0155, grad=0.0000), Var(v=-0.0604, grad=0.0000), Var(v=-0.1152, grad=0.0000), Var(v=0.0042, grad=1.9525), Var(v=-0.0025, grad=0.0000), Var(v=-0.0176, grad=0.0000), Var(v=-0.0948, grad=0.0000), Var(v=0.0439, grad=-2.2946), Var(v=0.0709, grad=0.0000), Var(v=0.0218, grad=-0.6596), Var(v=-0.0519, grad=0.0000), Var(v=-0.0345, grad=0.0000), Var(v=0.0230, grad=-0.9181), Var(v=-0.0506, grad=0.0000), Var(v=-0.1785, grad=0.0000), Var(v=0.0227, grad=0.0000), Var(v=-0.0628, grad=0.0000), Var(v=0.0157, grad=3.0369), Var(v=-0.0002, grad=0.0000), Var(v=-0.2204, grad=0.0000), Var(v=0.0863, grad=0.5167), Var(v=0.1168, grad=-0.1454), Var(v=0.1646, grad=-1.4816), Var(v=0.2036, grad=-0.0019), Var(v=-0.0274, grad=0.0000), Var(v=0.0923, grad=-0.5797), Var(v=0.0582, grad=-2.5491), Var(v=0.0049, grad=0.0000), Var(v=-0.0737, grad=0.0000), Var(v=-0.0790, grad=0.0000), Var(v=-0.1874, grad=0.0000), Var(v=-0.0736, grad=0.0000), Var(v=-0.1786, grad=0.0000), Var(v=-0.0030, grad=0.0000), Var(v=0.0789, grad=0.1153), Var(v=-0.1140, grad=0.0000), Var(v=-0.0522, grad=0.0000)], [Var(v=-0.2142, grad=0.0000), Var(v=-0.2591, grad=0.0000), Var(v=-0.0480, grad=0.0000), Var(v=-0.0811, grad=0.0000), Var(v=-0.1938, grad=0.0000), Var(v=0.0597, grad=0.0000), Var(v=-0.0874, grad=0.0000), Var(v=-0.0623, grad=0.0000), Var(v=-0.1246, grad=0.0000), Var(v=-0.0771, grad=0.0000), Var(v=-0.1060, grad=0.0000), Var(v=0.0732, grad=0.0821), Var(v=0.0103, grad=0.0000), Var(v=-0.0029, grad=0.9250), Var(v=0.2050, grad=-2.1261), Var(v=-0.0165, grad=0.0000), Var(v=-0.0425, grad=0.0000), Var(v=-0.0877, grad=-0.7995), Var(v=-0.0313, grad=0.0000), Var(v=-0.0805, grad=0.0000), Var(v=0.1270, grad=1.5751), Var(v=-0.0229, grad=0.0000), Var(v=0.0010, grad=0.0000), Var(v=0.0853, grad=-0.2589), Var(v=0.1056, grad=0.2482), Var(v=-0.1332, grad=0.6302), Var(v=-0.0473, grad=0.5076), Var(v=0.1312, grad=-0.2605), Var(v=0.0480, grad=0.5841), Var(v=-0.0023, grad=0.5400), Var(v=-0.0343, grad=0.0000), Var(v=-0.0778, grad=0.0000), Var(v=-0.0189, grad=0.0000), Var(v=-0.0708, grad=-0.3547), Var(v=0.1259, grad=0.0000), Var(v=0.0618, grad=1.0171), Var(v=0.0303, grad=0.0013), Var(v=-0.1313, grad=0.0000), Var(v=-0.1332, grad=0.0000), Var(v=0.2118, grad=1.7498), Var(v=0.0190, grad=0.0000), Var(v=0.0448, grad=0.0000), Var(v=-0.0360, grad=0.0000), Var(v=-0.1101, grad=0.0000), Var(v=-0.1163, grad=0.0000), Var(v=-0.0083, grad=-1.7350), Var(v=-0.1042, grad=0.0000), Var(v=-0.1325, grad=-0.0791), Var(v=0.0392, grad=0.0000), Var(v=0.0309, grad=0.0000)]]\n",
      " Biases: [Var(v=0.0000, grad=0.0000), Var(v=0.0000, grad=5.3003), Var(v=0.0000, grad=-6.8965), Var(v=0.0000, grad=-10.2652), Var(v=0.0000, grad=-10.6765), Var(v=0.0000, grad=0.0000), Var(v=0.0000, grad=0.0000), Var(v=0.0000, grad=0.0000), Var(v=0.0000, grad=3.0138), Var(v=0.0000, grad=7.0706), Var(v=0.0000, grad=0.8978), Var(v=0.0000, grad=0.0175), Var(v=0.0000, grad=-0.8087), Var(v=0.0000, grad=8.6154), Var(v=0.0000, grad=-19.8019), Var(v=0.0000, grad=0.0000), Var(v=0.0000, grad=12.1979), Var(v=0.0000, grad=-7.4461), Var(v=0.0000, grad=0.0000), Var(v=0.0000, grad=0.0000), Var(v=0.0000, grad=0.3353), Var(v=0.0000, grad=0.0000), Var(v=0.0000, grad=-4.1210), Var(v=0.0000, grad=-2.4110), Var(v=0.0000, grad=2.3117), Var(v=0.0000, grad=0.1342), Var(v=0.0000, grad=4.7272), Var(v=0.0000, grad=-2.4259), Var(v=0.0000, grad=5.4398), Var(v=0.0000, grad=5.0294), Var(v=0.0000, grad=18.9726), Var(v=0.0000, grad=0.0000), Var(v=0.0000, grad=0.0000), Var(v=0.0000, grad=-0.0755), Var(v=0.0000, grad=-0.9086), Var(v=0.0000, grad=0.2165), Var(v=0.0000, grad=0.0003), Var(v=0.0000, grad=0.0000), Var(v=0.0000, grad=-3.6214), Var(v=0.0000, grad=0.3725), Var(v=0.0000, grad=0.0000), Var(v=0.0000, grad=0.0000), Var(v=0.0000, grad=0.0000), Var(v=0.0000, grad=0.0000), Var(v=0.0000, grad=0.0000), Var(v=0.0000, grad=-16.1591), Var(v=0.0000, grad=0.0000), Var(v=0.0000, grad=-0.0168), Var(v=0.0000, grad=0.0000), Var(v=0.0000, grad=0.0000)]\n",
      "\n",
      "Layer 2 \n",
      " Weights: [[Var(v=0.0611, grad=0.0000)], [Var(v=0.0611, grad=0.2933)], [Var(v=-0.0795, grad=0.4853)], [Var(v=-0.1184, grad=0.9333)], [Var(v=-0.1231, grad=1.2865)], [Var(v=-0.0674, grad=0.0000)], [Var(v=0.0019, grad=0.0000)], [Var(v=-0.0143, grad=0.0000)], [Var(v=0.0348, grad=0.3558)], [Var(v=0.0815, grad=0.6077)], [Var(v=0.0104, grad=1.4896)], [Var(v=-0.0086, grad=1.5455)], [Var(v=-0.0093, grad=1.7182)], [Var(v=-0.0971, grad=-3.1024)], [Var(v=0.2231, grad=-1.8853)], [Var(v=-0.0914, grad=0.0000)], [Var(v=0.1406, grad=2.2497)], [Var(v=0.0839, grad=-1.7429)], [Var(v=0.0245, grad=0.0000)], [Var(v=-0.3310, grad=0.0000)], [Var(v=-0.1653, grad=-0.0376)], [Var(v=-0.0594, grad=0.0000)], [Var(v=-0.0475, grad=0.9712)], [Var(v=0.0272, grad=-3.8670)], [Var(v=-0.0260, grad=-0.4425)], [Var(v=-0.0661, grad=-2.8545)], [Var(v=-0.0533, grad=-3.1407)], [Var(v=0.0273, grad=-0.3965)], [Var(v=-0.0613, grad=-2.4736)], [Var(v=-0.0567, grad=-1.7551)], [Var(v=0.2188, grad=0.5677)], [Var(v=0.1870, grad=0.0000)], [Var(v=0.0545, grad=0.0000)], [Var(v=0.0372, grad=-2.7232)], [Var(v=-0.0105, grad=2.1882)], [Var(v=-0.1067, grad=-1.9427)], [Var(v=-0.0001, grad=-0.9075)], [Var(v=-0.0304, grad=0.0000)], [Var(v=-0.0418, grad=0.3520)], [Var(v=-0.1836, grad=-3.8277)], [Var(v=-0.0272, grad=0.0000)], [Var(v=0.0094, grad=0.0000)], [Var(v=0.0766, grad=0.0000)], [Var(v=0.0009, grad=0.0000)], [Var(v=-0.0672, grad=0.0000)], [Var(v=0.1821, grad=-0.4508)], [Var(v=0.0546, grad=0.0000)], [Var(v=0.0083, grad=2.1163)], [Var(v=0.0581, grad=0.0000)], [Var(v=-0.1596, grad=0.0000)]]\n",
      " Biases: [Var(v=0.0000, grad=-2.0287)]\n",
      "\n",
      "\n",
      "Network after update:\n",
      "Layer 0 \n",
      " Weights: [[Var(v=-0.0351, grad=5.9318), Var(v=0.0686, grad=-1.7146), Var(v=0.0129, grad=-5.0153), Var(v=-0.0449, grad=2.3033), Var(v=-0.0254, grad=5.6732), Var(v=0.0966, grad=7.4290), Var(v=-0.0645, grad=-2.5808), Var(v=0.1099, grad=-3.3901), Var(v=-0.0242, grad=-0.1495), Var(v=0.1931, grad=-10.4469), Var(v=-0.0451, grad=0.4236), Var(v=-0.0096, grad=11.1212), Var(v=-0.0142, grad=1.2136), Var(v=-0.2081, grad=6.2640), Var(v=0.0694, grad=2.2792)]]\n",
      " Biases: [Var(v=-0.0509, grad=5.0938), Var(v=0.0147, grad=-1.4724), Var(v=-0.0456, grad=4.5582), Var(v=0.0209, grad=-2.0934), Var(v=-0.0487, grad=4.8717), Var(v=-0.0638, grad=6.3795), Var(v=-0.0235, grad=2.3456), Var(v=0.0291, grad=-2.9112), Var(v=-0.0014, grad=0.1359), Var(v=0.0897, grad=-8.9710), Var(v=0.0038, grad=-0.3850), Var(v=-0.0955, grad=9.5501), Var(v=0.0110, grad=-1.1030), Var(v=0.0569, grad=-5.6931), Var(v=-0.0196, grad=1.9572)]\n",
      "\n",
      "Layer 1 \n",
      " Weights: [[Var(v=0.0350, grad=0.0000), Var(v=-0.0432, grad=0.0000), Var(v=-0.0174, grad=0.0000), Var(v=-0.1371, grad=0.0000), Var(v=-0.0519, grad=0.0000), Var(v=0.0055, grad=0.0000), Var(v=-0.1430, grad=0.0000), Var(v=-0.1017, grad=0.0000), Var(v=0.0934, grad=0.0000), Var(v=-0.1665, grad=0.0000), Var(v=-0.0699, grad=0.0000), Var(v=-0.0835, grad=0.0216), Var(v=0.1057, grad=0.0000), Var(v=-0.1509, grad=0.2430), Var(v=-0.0725, grad=-0.5586), Var(v=0.1053, grad=0.0000), Var(v=0.0261, grad=0.0000), Var(v=0.0346, grad=-0.2100), Var(v=0.0973, grad=0.0000), Var(v=-0.1556, grad=0.0000), Var(v=0.1029, grad=0.4138), Var(v=0.0054, grad=0.0000), Var(v=-0.1380, grad=0.0000), Var(v=-0.0615, grad=-0.0680), Var(v=-0.0402, grad=0.0652), Var(v=-0.0828, grad=0.1656), Var(v=-0.0331, grad=0.1334), Var(v=0.0438, grad=-0.0684), Var(v=0.1393, grad=0.1535), Var(v=0.2625, grad=0.1419), Var(v=-0.1286, grad=0.0000), Var(v=-0.0593, grad=0.0000), Var(v=-0.2339, grad=0.0000), Var(v=-0.0172, grad=-0.0932), Var(v=-0.0242, grad=0.0000), Var(v=-0.0907, grad=0.2672), Var(v=0.0740, grad=0.0003), Var(v=0.0298, grad=0.0000), Var(v=0.1185, grad=0.0000), Var(v=-0.1384, grad=0.4597), Var(v=0.0944, grad=0.0000), Var(v=0.0250, grad=0.0000), Var(v=0.0624, grad=0.0000), Var(v=-0.0384, grad=0.0000), Var(v=0.0894, grad=0.0000), Var(v=-0.3173, grad=-0.4558), Var(v=-0.0147, grad=0.0000), Var(v=0.1416, grad=-0.0208), Var(v=0.0428, grad=0.0000), Var(v=-0.1439, grad=0.0000)], [Var(v=0.0218, grad=0.0000), Var(v=-0.1190, grad=0.0000), Var(v=-0.1230, grad=0.0000), Var(v=0.0450, grad=0.0000), Var(v=0.0036, grad=0.0000), Var(v=0.0097, grad=0.0000), Var(v=-0.0735, grad=0.0000), Var(v=-0.0252, grad=0.0000), Var(v=0.1313, grad=0.0000), Var(v=0.1510, grad=0.0000), Var(v=0.0579, grad=0.0000), Var(v=0.0405, grad=0.0458), Var(v=-0.0879, grad=0.0000), Var(v=-0.1019, grad=0.5159), Var(v=-0.0585, grad=-1.1858), Var(v=-0.0748, grad=0.0000), Var(v=-0.0492, grad=0.0000), Var(v=0.1955, grad=-0.4459), Var(v=-0.0355, grad=0.0000), Var(v=-0.0671, grad=0.0000), Var(v=0.0934, grad=0.8785), Var(v=-0.1407, grad=0.0000), Var(v=0.0948, grad=0.0000), Var(v=0.1952, grad=-0.1444), Var(v=0.0887, grad=0.1384), Var(v=-0.0020, grad=0.3515), Var(v=-0.0532, grad=0.2831), Var(v=-0.1332, grad=-0.1453), Var(v=-0.0819, grad=0.3257), Var(v=-0.0787, grad=0.3012), Var(v=0.0288, grad=0.0000), Var(v=0.1362, grad=0.0000), Var(v=0.1198, grad=0.0000), Var(v=0.1957, grad=-0.1978), Var(v=-0.0428, grad=0.0000), Var(v=0.1973, grad=0.5672), Var(v=0.0381, grad=0.0007), Var(v=0.0896, grad=0.0000), Var(v=0.0122, grad=0.0000), Var(v=-0.0458, grad=0.9759), Var(v=-0.2865, grad=0.0000), Var(v=-0.1132, grad=0.0000), Var(v=0.0551, grad=0.0000), Var(v=-0.0151, grad=0.0000), Var(v=-0.0545, grad=0.0000), Var(v=0.1269, grad=-0.9676), Var(v=0.0517, grad=0.0000), Var(v=-0.0396, grad=-0.0441), Var(v=-0.0892, grad=0.0000), Var(v=0.0653, grad=0.0000)], [Var(v=-0.1906, grad=0.0000), Var(v=0.0239, grad=0.2175), Var(v=-0.0231, grad=-0.2830), Var(v=-0.1607, grad=-0.4213), Var(v=0.0176, grad=-0.4381), Var(v=-0.2170, grad=0.0000), Var(v=-0.0656, grad=0.0000), Var(v=0.0177, grad=0.0000), Var(v=-0.0339, grad=0.1237), Var(v=0.0838, grad=0.2902), Var(v=-0.0718, grad=0.0368), Var(v=0.1407, grad=-0.0307), Var(v=0.0598, grad=-0.0332), Var(v=-0.0951, grad=0.0000), Var(v=-0.2029, grad=0.0000), Var(v=-0.1895, grad=0.0000), Var(v=0.0109, grad=0.5006), Var(v=-0.1115, grad=0.0000), Var(v=-0.0007, grad=0.0000), Var(v=0.0609, grad=0.0000), Var(v=0.1083, grad=-0.5883), Var(v=-0.1154, grad=0.0000), Var(v=-0.0577, grad=-0.1691), Var(v=0.1454, grad=0.0000), Var(v=-0.1731, grad=0.0000), Var(v=-0.0246, grad=-0.2354), Var(v=0.0009, grad=0.0000), Var(v=0.0222, grad=0.0000), Var(v=-0.1145, grad=0.0000), Var(v=-0.1110, grad=0.0000), Var(v=0.1656, grad=0.7786), Var(v=0.0409, grad=0.0000), Var(v=-0.0652, grad=0.0000), Var(v=-0.1282, grad=0.1325), Var(v=-0.0223, grad=-0.0373), Var(v=0.0877, grad=-0.3798), Var(v=0.0178, grad=-0.0005), Var(v=-0.1176, grad=0.0000), Var(v=-0.0343, grad=-0.1486), Var(v=-0.0601, grad=-0.6535), Var(v=0.0218, grad=0.0000), Var(v=-0.0938, grad=0.0000), Var(v=0.0159, grad=0.0000), Var(v=0.2525, grad=0.0000), Var(v=0.0082, grad=0.0000), Var(v=0.1101, grad=0.0000), Var(v=0.2534, grad=0.0000), Var(v=-0.0660, grad=0.0295), Var(v=-0.2040, grad=0.0000), Var(v=-0.0520, grad=0.0000)], [Var(v=-0.0850, grad=0.0000), Var(v=-0.0980, grad=0.1275), Var(v=0.1825, grad=-0.1658), Var(v=-0.1025, grad=-0.2468), Var(v=0.0453, grad=-0.2567), Var(v=-0.0155, grad=0.0000), Var(v=-0.0426, grad=0.0000), Var(v=-0.1789, grad=0.0000), Var(v=-0.0229, grad=0.0725), Var(v=-0.0960, grad=0.1700), Var(v=0.0411, grad=0.0216), Var(v=0.0689, grad=-0.0180), Var(v=-0.0619, grad=-0.0194), Var(v=-0.0297, grad=0.0000), Var(v=0.2488, grad=0.0000), Var(v=-0.0708, grad=0.0000), Var(v=-0.0332, grad=0.2933), Var(v=0.1023, grad=0.0000), Var(v=-0.1427, grad=0.0000), Var(v=0.0326, grad=0.0000), Var(v=-0.0015, grad=-0.3447), Var(v=-0.0074, grad=0.0000), Var(v=0.2122, grad=-0.0991), Var(v=-0.0571, grad=0.0000), Var(v=-0.0791, grad=0.0000), Var(v=-0.1236, grad=-0.1379), Var(v=-0.0576, grad=0.0000), Var(v=-0.0858, grad=0.0000), Var(v=-0.1558, grad=0.0000), Var(v=-0.0055, grad=0.0000), Var(v=0.0409, grad=0.4562), Var(v=-0.0387, grad=0.0000), Var(v=0.0725, grad=0.0000), Var(v=0.0141, grad=0.0776), Var(v=0.0633, grad=-0.0218), Var(v=-0.1301, grad=-0.2226), Var(v=0.0104, grad=-0.0003), Var(v=-0.0531, grad=0.0000), Var(v=-0.1648, grad=-0.0871), Var(v=0.1617, grad=-0.3829), Var(v=0.0688, grad=0.0000), Var(v=0.0468, grad=0.0000), Var(v=0.0764, grad=0.0000), Var(v=-0.0731, grad=0.0000), Var(v=-0.1101, grad=0.0000), Var(v=-0.0101, grad=0.0000), Var(v=0.1255, grad=0.0000), Var(v=0.0410, grad=0.0173), Var(v=-0.1064, grad=0.0000), Var(v=-0.0006, grad=0.0000)], [Var(v=-0.0521, grad=0.0000), Var(v=0.0795, grad=0.0000), Var(v=0.0010, grad=0.0000), Var(v=-0.0329, grad=0.0000), Var(v=-0.0854, grad=0.0000), Var(v=0.0291, grad=0.0000), Var(v=-0.0528, grad=0.0000), Var(v=0.0573, grad=0.0000), Var(v=-0.0945, grad=0.0000), Var(v=0.1291, grad=0.0000), Var(v=0.0175, grad=0.0000), Var(v=-0.0963, grad=0.0279), Var(v=-0.1102, grad=0.0000), Var(v=0.0168, grad=0.3148), Var(v=-0.2869, grad=-0.7234), Var(v=-0.0433, grad=0.0000), Var(v=0.0463, grad=0.0000), Var(v=0.0851, grad=-0.2720), Var(v=-0.0605, grad=0.0000), Var(v=-0.0226, grad=0.0000), Var(v=0.1015, grad=0.5360), Var(v=-0.1306, grad=0.0000), Var(v=0.0660, grad=0.0000), Var(v=-0.0165, grad=-0.0881), Var(v=-0.0970, grad=0.0845), Var(v=0.1134, grad=0.2144), Var(v=0.0515, grad=0.1727), Var(v=-0.0429, grad=-0.0886), Var(v=0.0983, grad=0.1987), Var(v=0.0268, grad=0.1837), Var(v=-0.0338, grad=0.0000), Var(v=0.0771, grad=0.0000), Var(v=0.0484, grad=0.0000), Var(v=0.2000, grad=-0.1207), Var(v=-0.0016, grad=0.0000), Var(v=0.0275, grad=0.3461), Var(v=0.2750, grad=0.0004), Var(v=-0.1397, grad=0.0000), Var(v=-0.0101, grad=0.0000), Var(v=0.0309, grad=0.5954), Var(v=-0.0346, grad=0.0000), Var(v=0.0814, grad=0.0000), Var(v=0.0125, grad=0.0000), Var(v=0.0774, grad=0.0000), Var(v=-0.1315, grad=0.0000), Var(v=0.2372, grad=-0.5903), Var(v=-0.0089, grad=0.0000), Var(v=0.0719, grad=-0.0269), Var(v=-0.1161, grad=0.0000), Var(v=-0.1783, grad=0.0000)], [Var(v=-0.0556, grad=0.0000), Var(v=0.0019, grad=0.0000), Var(v=-0.0564, grad=0.0000), Var(v=0.0451, grad=0.0000), Var(v=-0.0457, grad=0.0000), Var(v=0.0890, grad=0.0000), Var(v=0.0606, grad=0.0000), Var(v=0.0352, grad=0.0000), Var(v=-0.1532, grad=0.0000), Var(v=-0.1007, grad=0.0000), Var(v=-0.0033, grad=0.0000), Var(v=-0.0106, grad=0.1521), Var(v=-0.0716, grad=0.0000), Var(v=0.0819, grad=1.7149), Var(v=0.1433, grad=-3.9416), Var(v=-0.1123, grad=0.0000), Var(v=0.0168, grad=0.0000), Var(v=0.0090, grad=-1.4822), Var(v=-0.1659, grad=0.0000), Var(v=-0.1775, grad=0.0000), Var(v=-0.0679, grad=2.9201), Var(v=-0.0829, grad=0.0000), Var(v=-0.0789, grad=0.0000), Var(v=0.0512, grad=-0.4799), Var(v=-0.0357, grad=0.4601), Var(v=0.1782, grad=1.1683), Var(v=0.1096, grad=0.9410), Var(v=-0.0043, grad=-0.4829), Var(v=0.0169, grad=1.0828), Var(v=0.1162, grad=1.0011), Var(v=-0.0660, grad=0.0000), Var(v=-0.0859, grad=0.0000), Var(v=-0.1513, grad=0.0000), Var(v=0.1272, grad=-0.6575), Var(v=-0.0969, grad=0.0000), Var(v=0.2467, grad=1.8856), Var(v=0.1102, grad=0.0024), Var(v=0.0253, grad=0.0000), Var(v=-0.0344, grad=0.0000), Var(v=0.1505, grad=3.2440), Var(v=0.0301, grad=0.0000), Var(v=-0.0318, grad=0.0000), Var(v=-0.1331, grad=0.0000), Var(v=-0.0731, grad=0.0000), Var(v=0.0444, grad=0.0000), Var(v=-0.0144, grad=-3.2165), Var(v=-0.1686, grad=0.0000), Var(v=0.0549, grad=-0.1467), Var(v=0.0228, grad=0.0000), Var(v=0.0268, grad=0.0000)], [Var(v=-0.0908, grad=0.0000), Var(v=0.0752, grad=0.5269), Var(v=-0.0698, grad=-0.6855), Var(v=0.0024, grad=-1.0204), Var(v=-0.0668, grad=-1.0613), Var(v=-0.0283, grad=0.0000), Var(v=0.1039, grad=0.0000), Var(v=-0.1805, grad=0.0000), Var(v=0.0369, grad=0.2996), Var(v=-0.1264, grad=0.7028), Var(v=-0.0781, grad=0.0892), Var(v=0.1442, grad=-0.0742), Var(v=-0.0475, grad=-0.0804), Var(v=-0.0426, grad=0.0000), Var(v=-0.0736, grad=0.0000), Var(v=0.1211, grad=0.0000), Var(v=0.1727, grad=1.2125), Var(v=-0.2512, grad=0.0000), Var(v=-0.0975, grad=0.0000), Var(v=-0.0100, grad=0.0000), Var(v=0.0310, grad=-1.4249), Var(v=-0.1875, grad=0.0000), Var(v=0.0318, grad=-0.4096), Var(v=-0.1452, grad=0.0000), Var(v=0.0373, grad=0.0000), Var(v=0.0867, grad=-0.5701), Var(v=-0.2324, grad=0.0000), Var(v=0.1761, grad=0.0000), Var(v=-0.0756, grad=0.0000), Var(v=0.1518, grad=0.0000), Var(v=-0.1224, grad=1.8859), Var(v=-0.0299, grad=0.0000), Var(v=0.0250, grad=0.0000), Var(v=0.0588, grad=0.3208), Var(v=0.0891, grad=-0.0903), Var(v=0.0339, grad=-0.9201), Var(v=0.1627, grad=-0.0012), Var(v=-0.0154, grad=0.0000), Var(v=-0.1334, grad=-0.3600), Var(v=-0.0672, grad=-1.5830), Var(v=-0.0332, grad=0.0000), Var(v=-0.0743, grad=0.0000), Var(v=-0.0567, grad=0.0000), Var(v=-0.0810, grad=0.0000), Var(v=-0.0285, grad=0.0000), Var(v=0.1273, grad=0.0000), Var(v=-0.1518, grad=0.0000), Var(v=0.2291, grad=0.0716), Var(v=-0.0558, grad=0.0000), Var(v=0.0817, grad=0.0000)], [Var(v=-0.0679, grad=0.0000), Var(v=-0.1387, grad=0.0000), Var(v=0.0752, grad=0.0000), Var(v=-0.0439, grad=0.0000), Var(v=0.0918, grad=0.0000), Var(v=-0.1349, grad=0.0000), Var(v=-0.0712, grad=0.0000), Var(v=-0.0563, grad=0.0000), Var(v=-0.0151, grad=0.0000), Var(v=-0.0508, grad=0.0000), Var(v=0.0262, grad=0.0000), Var(v=0.0209, grad=0.0676), Var(v=0.0312, grad=0.0000), Var(v=0.1649, grad=0.7625), Var(v=0.0209, grad=-1.7525), Var(v=0.1037, grad=0.0000), Var(v=-0.0605, grad=0.0000), Var(v=0.1401, grad=-0.6590), Var(v=-0.0387, grad=0.0000), Var(v=0.0590, grad=0.0000), Var(v=0.1114, grad=1.2983), Var(v=-0.0600, grad=0.0000), Var(v=0.0267, grad=0.0000), Var(v=0.1201, grad=-0.2134), Var(v=-0.0276, grad=0.2046), Var(v=-0.0597, grad=0.5195), Var(v=0.0009, grad=0.4184), Var(v=0.0552, grad=-0.2147), Var(v=0.0770, grad=0.4814), Var(v=-0.0286, grad=0.4451), Var(v=-0.0138, grad=0.0000), Var(v=0.0299, grad=0.0000), Var(v=-0.0165, grad=0.0000), Var(v=-0.0532, grad=-0.2923), Var(v=0.0922, grad=0.0000), Var(v=-0.0524, grad=0.8383), Var(v=0.1482, grad=0.0011), Var(v=-0.0071, grad=0.0000), Var(v=0.1867, grad=0.0000), Var(v=-0.2207, grad=1.4423), Var(v=-0.0834, grad=0.0000), Var(v=0.1628, grad=0.0000), Var(v=0.0853, grad=0.0000), Var(v=0.0532, grad=0.0000), Var(v=0.1012, grad=0.0000), Var(v=0.0819, grad=-1.4301), Var(v=0.0751, grad=0.0000), Var(v=0.0665, grad=-0.0652), Var(v=-0.0493, grad=0.0000), Var(v=-0.1299, grad=0.0000)], [Var(v=-0.0389, grad=0.0000), Var(v=0.1026, grad=0.1500), Var(v=0.0255, grad=-0.1952), Var(v=-0.1019, grad=-0.2906), Var(v=0.1587, grad=-0.3022), Var(v=0.0988, grad=0.0000), Var(v=-0.0047, grad=0.0000), Var(v=0.1119, grad=0.0000), Var(v=-0.0702, grad=0.0853), Var(v=0.1071, grad=0.2002), Var(v=0.0776, grad=0.0254), Var(v=0.0322, grad=-0.0211), Var(v=-0.0898, grad=-0.0229), Var(v=0.0058, grad=0.0000), Var(v=-0.0119, grad=0.0000), Var(v=0.0269, grad=0.0000), Var(v=0.0730, grad=0.3453), Var(v=0.0349, grad=0.0000), Var(v=-0.0056, grad=0.0000), Var(v=-0.0066, grad=0.0000), Var(v=0.0545, grad=-0.4058), Var(v=-0.0213, grad=0.0000), Var(v=-0.0357, grad=-0.1167), Var(v=-0.0011, grad=0.0000), Var(v=0.0246, grad=0.0000), Var(v=-0.0501, grad=-0.1624), Var(v=0.0239, grad=0.0000), Var(v=-0.0098, grad=0.0000), Var(v=0.0043, grad=0.0000), Var(v=0.0444, grad=0.0000), Var(v=0.1425, grad=0.5371), Var(v=-0.1284, grad=0.0000), Var(v=-0.1676, grad=0.0000), Var(v=-0.1382, grad=0.0914), Var(v=0.0750, grad=-0.0257), Var(v=0.1097, grad=-0.2620), Var(v=0.0800, grad=-0.0003), Var(v=0.1478, grad=0.0000), Var(v=-0.0941, grad=-0.1025), Var(v=0.1731, grad=-0.4508), Var(v=0.1112, grad=0.0000), Var(v=-0.0260, grad=0.0000), Var(v=0.0524, grad=0.0000), Var(v=0.0283, grad=0.0000), Var(v=0.0019, grad=0.0000), Var(v=0.0432, grad=0.0000), Var(v=-0.0197, grad=0.0000), Var(v=0.0447, grad=0.0204), Var(v=-0.1300, grad=0.0000), Var(v=-0.1153, grad=0.0000)], [Var(v=0.1628, grad=0.0000), Var(v=0.0057, grad=0.0000), Var(v=-0.0553, grad=0.0000), Var(v=0.1018, grad=0.0000), Var(v=-0.0921, grad=0.0000), Var(v=-0.1141, grad=0.0000), Var(v=0.0964, grad=0.0000), Var(v=0.0094, grad=0.0000), Var(v=0.0322, grad=0.0000), Var(v=-0.0655, grad=0.0000), Var(v=-0.2081, grad=0.0000), Var(v=-0.0250, grad=0.0789), Var(v=0.1308, grad=0.0000), Var(v=-0.0363, grad=0.8892), Var(v=0.0420, grad=-2.0437), Var(v=0.1014, grad=0.0000), Var(v=-0.1165, grad=0.0000), Var(v=0.1256, grad=-0.7685), Var(v=-0.0718, grad=0.0000), Var(v=0.1819, grad=0.0000), Var(v=-0.2199, grad=1.5141), Var(v=-0.1958, grad=0.0000), Var(v=0.0488, grad=0.0000), Var(v=-0.0138, grad=-0.2488), Var(v=0.0947, grad=0.2386), Var(v=0.0125, grad=0.6058), Var(v=-0.0731, grad=0.4879), Var(v=0.1594, grad=-0.2504), Var(v=-0.0166, grad=0.5614), Var(v=-0.0950, grad=0.5191), Var(v=0.0030, grad=0.0000), Var(v=-0.0990, grad=0.0000), Var(v=0.0117, grad=0.0000), Var(v=-0.1401, grad=-0.3409), Var(v=-0.0765, grad=0.0000), Var(v=-0.0069, grad=0.9777), Var(v=0.0013, grad=0.0013), Var(v=0.0314, grad=0.0000), Var(v=-0.0387, grad=0.0000), Var(v=-0.0214, grad=1.6820), Var(v=-0.0309, grad=0.0000), Var(v=-0.1136, grad=0.0000), Var(v=-0.0750, grad=0.0000), Var(v=-0.0095, grad=0.0000), Var(v=-0.0343, grad=0.0000), Var(v=0.2651, grad=-1.6678), Var(v=0.0180, grad=0.0000), Var(v=-0.0297, grad=-0.0761), Var(v=-0.1207, grad=0.0000), Var(v=0.0925, grad=0.0000)], [Var(v=0.1611, grad=0.0000), Var(v=-0.0690, grad=0.2385), Var(v=-0.0967, grad=-0.3104), Var(v=0.0570, grad=-0.4620), Var(v=-0.1121, grad=-0.4805), Var(v=0.1875, grad=0.0000), Var(v=0.0410, grad=0.0000), Var(v=-0.0448, grad=0.0000), Var(v=-0.0034, grad=0.1356), Var(v=-0.0811, grad=0.3182), Var(v=0.0133, grad=0.0404), Var(v=0.1301, grad=-0.0336), Var(v=-0.1448, grad=-0.0364), Var(v=-0.0951, grad=0.0000), Var(v=0.1218, grad=0.0000), Var(v=0.0290, grad=0.0000), Var(v=0.1007, grad=0.5489), Var(v=0.1695, grad=0.0000), Var(v=-0.0334, grad=0.0000), Var(v=0.0373, grad=0.0000), Var(v=-0.0140, grad=-0.6451), Var(v=-0.0998, grad=0.0000), Var(v=0.0752, grad=-0.1855), Var(v=0.1461, grad=0.0000), Var(v=-0.0654, grad=0.0000), Var(v=0.0144, grad=-0.2581), Var(v=0.0185, grad=0.0000), Var(v=-0.1733, grad=0.0000), Var(v=0.0759, grad=0.0000), Var(v=-0.1069, grad=0.0000), Var(v=0.0294, grad=0.8538), Var(v=-0.0271, grad=0.0000), Var(v=-0.0370, grad=0.0000), Var(v=-0.2091, grad=0.1453), Var(v=-0.1058, grad=-0.0409), Var(v=0.0263, grad=-0.4165), Var(v=-0.0611, grad=-0.0005), Var(v=-0.0279, grad=0.0000), Var(v=0.2437, grad=-0.1630), Var(v=0.0837, grad=-0.7166), Var(v=-0.1341, grad=0.0000), Var(v=0.1452, grad=0.0000), Var(v=-0.0786, grad=0.0000), Var(v=-0.2108, grad=0.0000), Var(v=0.2499, grad=0.0000), Var(v=-0.1014, grad=0.0000), Var(v=0.0168, grad=0.0000), Var(v=0.0399, grad=0.0324), Var(v=0.0724, grad=0.0000), Var(v=-0.0671, grad=0.0000)], [Var(v=0.0177, grad=0.0000), Var(v=-0.0729, grad=0.0000), Var(v=0.0762, grad=0.0000), Var(v=-0.1030, grad=0.0000), Var(v=-0.0489, grad=0.0000), Var(v=-0.0515, grad=0.0000), Var(v=-0.0470, grad=0.0000), Var(v=-0.1270, grad=0.0000), Var(v=0.0694, grad=0.0000), Var(v=0.0131, grad=0.0000), Var(v=-0.0890, grad=0.0000), Var(v=0.0005, grad=0.0905), Var(v=-0.0275, grad=0.0000), Var(v=0.0942, grad=1.0198), Var(v=-0.0341, grad=-2.3439), Var(v=-0.0036, grad=0.0000), Var(v=0.0126, grad=0.0000), Var(v=-0.0685, grad=-0.8814), Var(v=0.1828, grad=0.0000), Var(v=-0.0161, grad=0.0000), Var(v=0.0211, grad=1.7365), Var(v=0.0189, grad=0.0000), Var(v=-0.0846, grad=0.0000), Var(v=0.0638, grad=-0.2854), Var(v=-0.0761, grad=0.2736), Var(v=0.1316, grad=0.6948), Var(v=0.2083, grad=0.5595), Var(v=-0.1681, grad=-0.2871), Var(v=0.0626, grad=0.6439), Var(v=0.0139, grad=0.5953), Var(v=0.0092, grad=0.0000), Var(v=-0.1083, grad=0.0000), Var(v=-0.0355, grad=0.0000), Var(v=0.1527, grad=-0.3910), Var(v=0.0021, grad=0.0000), Var(v=-0.1173, grad=1.1213), Var(v=0.0468, grad=0.0014), Var(v=-0.0400, grad=0.0000), Var(v=-0.0707, grad=0.0000), Var(v=0.1288, grad=1.9291), Var(v=-0.0481, grad=0.0000), Var(v=0.0001, grad=0.0000), Var(v=-0.0525, grad=0.0000), Var(v=-0.2306, grad=0.0000), Var(v=0.0280, grad=0.0000), Var(v=-0.1732, grad=-1.9127), Var(v=0.0447, grad=0.0000), Var(v=0.0755, grad=-0.0872), Var(v=-0.1214, grad=0.0000), Var(v=-0.0839, grad=0.0000)], [Var(v=-0.0231, grad=0.0000), Var(v=-0.0239, grad=0.0119), Var(v=0.1090, grad=-0.0155), Var(v=0.1048, grad=-0.0230), Var(v=-0.0378, grad=-0.0239), Var(v=0.0368, grad=0.0000), Var(v=0.1312, grad=0.0000), Var(v=0.0232, grad=0.0000), Var(v=0.0125, grad=0.0068), Var(v=-0.0113, grad=0.0158), Var(v=0.0136, grad=0.0020), Var(v=-0.2211, grad=-0.0017), Var(v=0.0137, grad=-0.0018), Var(v=0.0886, grad=0.0000), Var(v=0.0148, grad=0.0000), Var(v=-0.1527, grad=0.0000), Var(v=0.0136, grad=0.0273), Var(v=0.0784, grad=0.0000), Var(v=-0.0024, grad=0.0000), Var(v=0.0157, grad=0.0000), Var(v=0.0016, grad=-0.0321), Var(v=-0.1201, grad=0.0000), Var(v=0.0234, grad=-0.0092), Var(v=-0.0938, grad=0.0000), Var(v=0.0085, grad=0.0000), Var(v=0.1507, grad=-0.0129), Var(v=-0.1055, grad=0.0000), Var(v=0.0742, grad=0.0000), Var(v=-0.1191, grad=0.0000), Var(v=-0.1258, grad=0.0000), Var(v=0.1023, grad=0.0425), Var(v=0.0498, grad=0.0000), Var(v=0.1346, grad=0.0000), Var(v=0.0246, grad=0.0072), Var(v=-0.0717, grad=-0.0020), Var(v=-0.0388, grad=-0.0207), Var(v=0.0230, grad=-0.0000), Var(v=0.0657, grad=0.0000), Var(v=0.0649, grad=-0.0081), Var(v=0.0686, grad=-0.0357), Var(v=0.0988, grad=0.0000), Var(v=-0.0351, grad=0.0000), Var(v=0.0792, grad=0.0000), Var(v=0.0461, grad=0.0000), Var(v=-0.1463, grad=0.0000), Var(v=0.1395, grad=0.0000), Var(v=-0.1509, grad=0.0000), Var(v=-0.0126, grad=0.0016), Var(v=-0.1257, grad=0.0000), Var(v=0.0505, grad=0.0000)], [Var(v=-0.0008, grad=0.0000), Var(v=-0.0288, grad=0.8484), Var(v=0.0954, grad=-1.1039), Var(v=0.1489, grad=-1.6431), Var(v=0.1539, grad=-1.7090), Var(v=-0.1009, grad=0.0000), Var(v=-0.0792, grad=0.0000), Var(v=0.0166, grad=0.0000), Var(v=0.0204, grad=0.4824), Var(v=0.1013, grad=1.1318), Var(v=0.1481, grad=0.1437), Var(v=-0.0478, grad=-0.1196), Var(v=0.2057, grad=-0.1294), Var(v=0.0155, grad=0.0000), Var(v=-0.0604, grad=0.0000), Var(v=-0.1152, grad=0.0000), Var(v=-0.0154, grad=1.9525), Var(v=-0.0025, grad=0.0000), Var(v=-0.0176, grad=0.0000), Var(v=-0.0948, grad=0.0000), Var(v=0.0669, grad=-2.2946), Var(v=0.0709, grad=0.0000), Var(v=0.0284, grad=-0.6596), Var(v=-0.0519, grad=0.0000), Var(v=-0.0345, grad=0.0000), Var(v=0.0322, grad=-0.9181), Var(v=-0.0506, grad=0.0000), Var(v=-0.1785, grad=0.0000), Var(v=0.0227, grad=0.0000), Var(v=-0.0628, grad=0.0000), Var(v=-0.0147, grad=3.0369), Var(v=-0.0002, grad=0.0000), Var(v=-0.2204, grad=0.0000), Var(v=0.0811, grad=0.5167), Var(v=0.1183, grad=-0.1454), Var(v=0.1794, grad=-1.4816), Var(v=0.2036, grad=-0.0019), Var(v=-0.0274, grad=0.0000), Var(v=0.0981, grad=-0.5797), Var(v=0.0837, grad=-2.5491), Var(v=0.0049, grad=0.0000), Var(v=-0.0737, grad=0.0000), Var(v=-0.0790, grad=0.0000), Var(v=-0.1874, grad=0.0000), Var(v=-0.0736, grad=0.0000), Var(v=-0.1786, grad=0.0000), Var(v=-0.0030, grad=0.0000), Var(v=0.0777, grad=0.1153), Var(v=-0.1140, grad=0.0000), Var(v=-0.0522, grad=0.0000)], [Var(v=-0.2142, grad=0.0000), Var(v=-0.2591, grad=0.0000), Var(v=-0.0480, grad=0.0000), Var(v=-0.0811, grad=0.0000), Var(v=-0.1938, grad=0.0000), Var(v=0.0597, grad=0.0000), Var(v=-0.0874, grad=0.0000), Var(v=-0.0623, grad=0.0000), Var(v=-0.1246, grad=0.0000), Var(v=-0.0771, grad=0.0000), Var(v=-0.1060, grad=0.0000), Var(v=0.0724, grad=0.0821), Var(v=0.0103, grad=0.0000), Var(v=-0.0122, grad=0.9250), Var(v=0.2262, grad=-2.1261), Var(v=-0.0165, grad=0.0000), Var(v=-0.0425, grad=0.0000), Var(v=-0.0797, grad=-0.7995), Var(v=-0.0313, grad=0.0000), Var(v=-0.0805, grad=0.0000), Var(v=0.1112, grad=1.5751), Var(v=-0.0229, grad=0.0000), Var(v=0.0010, grad=0.0000), Var(v=0.0879, grad=-0.2589), Var(v=0.1031, grad=0.2482), Var(v=-0.1395, grad=0.6302), Var(v=-0.0524, grad=0.5076), Var(v=0.1338, grad=-0.2605), Var(v=0.0422, grad=0.5841), Var(v=-0.0077, grad=0.5400), Var(v=-0.0343, grad=0.0000), Var(v=-0.0778, grad=0.0000), Var(v=-0.0189, grad=0.0000), Var(v=-0.0673, grad=-0.3547), Var(v=0.1259, grad=0.0000), Var(v=0.0517, grad=1.0171), Var(v=0.0303, grad=0.0013), Var(v=-0.1313, grad=0.0000), Var(v=-0.1332, grad=0.0000), Var(v=0.1943, grad=1.7498), Var(v=0.0190, grad=0.0000), Var(v=0.0448, grad=0.0000), Var(v=-0.0360, grad=0.0000), Var(v=-0.1101, grad=0.0000), Var(v=-0.1163, grad=0.0000), Var(v=0.0090, grad=-1.7350), Var(v=-0.1042, grad=0.0000), Var(v=-0.1317, grad=-0.0791), Var(v=0.0392, grad=0.0000), Var(v=0.0309, grad=0.0000)]]\n",
      " Biases: [Var(v=0.0000, grad=0.0000), Var(v=-0.0530, grad=5.3003), Var(v=0.0690, grad=-6.8965), Var(v=0.1027, grad=-10.2652), Var(v=0.1068, grad=-10.6765), Var(v=0.0000, grad=0.0000), Var(v=0.0000, grad=0.0000), Var(v=0.0000, grad=0.0000), Var(v=-0.0301, grad=3.0138), Var(v=-0.0707, grad=7.0706), Var(v=-0.0090, grad=0.8978), Var(v=-0.0002, grad=0.0175), Var(v=0.0081, grad=-0.8087), Var(v=-0.0862, grad=8.6154), Var(v=0.1980, grad=-19.8019), Var(v=0.0000, grad=0.0000), Var(v=-0.1220, grad=12.1979), Var(v=0.0745, grad=-7.4461), Var(v=0.0000, grad=0.0000), Var(v=0.0000, grad=0.0000), Var(v=-0.0034, grad=0.3353), Var(v=0.0000, grad=0.0000), Var(v=0.0412, grad=-4.1210), Var(v=0.0241, grad=-2.4110), Var(v=-0.0231, grad=2.3117), Var(v=-0.0013, grad=0.1342), Var(v=-0.0473, grad=4.7272), Var(v=0.0243, grad=-2.4259), Var(v=-0.0544, grad=5.4398), Var(v=-0.0503, grad=5.0294), Var(v=-0.1897, grad=18.9726), Var(v=0.0000, grad=0.0000), Var(v=0.0000, grad=0.0000), Var(v=0.0008, grad=-0.0755), Var(v=0.0091, grad=-0.9086), Var(v=-0.0022, grad=0.2165), Var(v=-0.0000, grad=0.0003), Var(v=0.0000, grad=0.0000), Var(v=0.0362, grad=-3.6214), Var(v=-0.0037, grad=0.3725), Var(v=0.0000, grad=0.0000), Var(v=0.0000, grad=0.0000), Var(v=0.0000, grad=0.0000), Var(v=0.0000, grad=0.0000), Var(v=0.0000, grad=0.0000), Var(v=0.1616, grad=-16.1591), Var(v=0.0000, grad=0.0000), Var(v=0.0002, grad=-0.0168), Var(v=0.0000, grad=0.0000), Var(v=0.0000, grad=0.0000)]\n",
      "\n",
      "Layer 2 \n",
      " Weights: [[Var(v=0.0611, grad=0.0000)], [Var(v=0.0582, grad=0.2933)], [Var(v=-0.0844, grad=0.4853)], [Var(v=-0.1277, grad=0.9333)], [Var(v=-0.1360, grad=1.2865)], [Var(v=-0.0674, grad=0.0000)], [Var(v=0.0019, grad=0.0000)], [Var(v=-0.0143, grad=0.0000)], [Var(v=0.0312, grad=0.3558)], [Var(v=0.0754, grad=0.6077)], [Var(v=-0.0045, grad=1.4896)], [Var(v=-0.0241, grad=1.5455)], [Var(v=-0.0265, grad=1.7182)], [Var(v=-0.0660, grad=-3.1024)], [Var(v=0.2420, grad=-1.8853)], [Var(v=-0.0914, grad=0.0000)], [Var(v=0.1182, grad=2.2497)], [Var(v=0.1013, grad=-1.7429)], [Var(v=0.0245, grad=0.0000)], [Var(v=-0.3310, grad=0.0000)], [Var(v=-0.1649, grad=-0.0376)], [Var(v=-0.0594, grad=0.0000)], [Var(v=-0.0572, grad=0.9712)], [Var(v=0.0658, grad=-3.8670)], [Var(v=-0.0216, grad=-0.4425)], [Var(v=-0.0376, grad=-2.8545)], [Var(v=-0.0219, grad=-3.1407)], [Var(v=0.0313, grad=-0.3965)], [Var(v=-0.0366, grad=-2.4736)], [Var(v=-0.0391, grad=-1.7551)], [Var(v=0.2131, grad=0.5677)], [Var(v=0.1870, grad=0.0000)], [Var(v=0.0545, grad=0.0000)], [Var(v=0.0644, grad=-2.7232)], [Var(v=-0.0324, grad=2.1882)], [Var(v=-0.0873, grad=-1.9427)], [Var(v=0.0089, grad=-0.9075)], [Var(v=-0.0304, grad=0.0000)], [Var(v=-0.0453, grad=0.3520)], [Var(v=-0.1453, grad=-3.8277)], [Var(v=-0.0272, grad=0.0000)], [Var(v=0.0094, grad=0.0000)], [Var(v=0.0766, grad=0.0000)], [Var(v=0.0009, grad=0.0000)], [Var(v=-0.0672, grad=0.0000)], [Var(v=0.1866, grad=-0.4508)], [Var(v=0.0546, grad=0.0000)], [Var(v=-0.0129, grad=2.1163)], [Var(v=0.0581, grad=0.0000)], [Var(v=-0.1596, grad=0.0000)]]\n",
      " Biases: [Var(v=0.0203, grad=-2.0287)]\n",
      "\n",
      "\n",
      "Network after zeroing gradients:\n",
      "Layer 0 \n",
      " Weights: [[Var(v=-0.0351, grad=0.0000), Var(v=0.0686, grad=0.0000), Var(v=0.0129, grad=0.0000), Var(v=-0.0449, grad=0.0000), Var(v=-0.0254, grad=0.0000), Var(v=0.0966, grad=0.0000), Var(v=-0.0645, grad=0.0000), Var(v=0.1099, grad=0.0000), Var(v=-0.0242, grad=0.0000), Var(v=0.1931, grad=0.0000), Var(v=-0.0451, grad=0.0000), Var(v=-0.0096, grad=0.0000), Var(v=-0.0142, grad=0.0000), Var(v=-0.2081, grad=0.0000), Var(v=0.0694, grad=0.0000)]]\n",
      " Biases: [Var(v=-0.0509, grad=0.0000), Var(v=0.0147, grad=0.0000), Var(v=-0.0456, grad=0.0000), Var(v=0.0209, grad=0.0000), Var(v=-0.0487, grad=0.0000), Var(v=-0.0638, grad=0.0000), Var(v=-0.0235, grad=0.0000), Var(v=0.0291, grad=0.0000), Var(v=-0.0014, grad=0.0000), Var(v=0.0897, grad=0.0000), Var(v=0.0038, grad=0.0000), Var(v=-0.0955, grad=0.0000), Var(v=0.0110, grad=0.0000), Var(v=0.0569, grad=0.0000), Var(v=-0.0196, grad=0.0000)]\n",
      "\n",
      "Layer 1 \n",
      " Weights: [[Var(v=0.0350, grad=0.0000), Var(v=-0.0432, grad=0.0000), Var(v=-0.0174, grad=0.0000), Var(v=-0.1371, grad=0.0000), Var(v=-0.0519, grad=0.0000), Var(v=0.0055, grad=0.0000), Var(v=-0.1430, grad=0.0000), Var(v=-0.1017, grad=0.0000), Var(v=0.0934, grad=0.0000), Var(v=-0.1665, grad=0.0000), Var(v=-0.0699, grad=0.0000), Var(v=-0.0835, grad=0.0000), Var(v=0.1057, grad=0.0000), Var(v=-0.1509, grad=0.0000), Var(v=-0.0725, grad=0.0000), Var(v=0.1053, grad=0.0000), Var(v=0.0261, grad=0.0000), Var(v=0.0346, grad=0.0000), Var(v=0.0973, grad=0.0000), Var(v=-0.1556, grad=0.0000), Var(v=0.1029, grad=0.0000), Var(v=0.0054, grad=0.0000), Var(v=-0.1380, grad=0.0000), Var(v=-0.0615, grad=0.0000), Var(v=-0.0402, grad=0.0000), Var(v=-0.0828, grad=0.0000), Var(v=-0.0331, grad=0.0000), Var(v=0.0438, grad=0.0000), Var(v=0.1393, grad=0.0000), Var(v=0.2625, grad=0.0000), Var(v=-0.1286, grad=0.0000), Var(v=-0.0593, grad=0.0000), Var(v=-0.2339, grad=0.0000), Var(v=-0.0172, grad=0.0000), Var(v=-0.0242, grad=0.0000), Var(v=-0.0907, grad=0.0000), Var(v=0.0740, grad=0.0000), Var(v=0.0298, grad=0.0000), Var(v=0.1185, grad=0.0000), Var(v=-0.1384, grad=0.0000), Var(v=0.0944, grad=0.0000), Var(v=0.0250, grad=0.0000), Var(v=0.0624, grad=0.0000), Var(v=-0.0384, grad=0.0000), Var(v=0.0894, grad=0.0000), Var(v=-0.3173, grad=0.0000), Var(v=-0.0147, grad=0.0000), Var(v=0.1416, grad=0.0000), Var(v=0.0428, grad=0.0000), Var(v=-0.1439, grad=0.0000)], [Var(v=0.0218, grad=0.0000), Var(v=-0.1190, grad=0.0000), Var(v=-0.1230, grad=0.0000), Var(v=0.0450, grad=0.0000), Var(v=0.0036, grad=0.0000), Var(v=0.0097, grad=0.0000), Var(v=-0.0735, grad=0.0000), Var(v=-0.0252, grad=0.0000), Var(v=0.1313, grad=0.0000), Var(v=0.1510, grad=0.0000), Var(v=0.0579, grad=0.0000), Var(v=0.0405, grad=0.0000), Var(v=-0.0879, grad=0.0000), Var(v=-0.1019, grad=0.0000), Var(v=-0.0585, grad=0.0000), Var(v=-0.0748, grad=0.0000), Var(v=-0.0492, grad=0.0000), Var(v=0.1955, grad=0.0000), Var(v=-0.0355, grad=0.0000), Var(v=-0.0671, grad=0.0000), Var(v=0.0934, grad=0.0000), Var(v=-0.1407, grad=0.0000), Var(v=0.0948, grad=0.0000), Var(v=0.1952, grad=0.0000), Var(v=0.0887, grad=0.0000), Var(v=-0.0020, grad=0.0000), Var(v=-0.0532, grad=0.0000), Var(v=-0.1332, grad=0.0000), Var(v=-0.0819, grad=0.0000), Var(v=-0.0787, grad=0.0000), Var(v=0.0288, grad=0.0000), Var(v=0.1362, grad=0.0000), Var(v=0.1198, grad=0.0000), Var(v=0.1957, grad=0.0000), Var(v=-0.0428, grad=0.0000), Var(v=0.1973, grad=0.0000), Var(v=0.0381, grad=0.0000), Var(v=0.0896, grad=0.0000), Var(v=0.0122, grad=0.0000), Var(v=-0.0458, grad=0.0000), Var(v=-0.2865, grad=0.0000), Var(v=-0.1132, grad=0.0000), Var(v=0.0551, grad=0.0000), Var(v=-0.0151, grad=0.0000), Var(v=-0.0545, grad=0.0000), Var(v=0.1269, grad=0.0000), Var(v=0.0517, grad=0.0000), Var(v=-0.0396, grad=0.0000), Var(v=-0.0892, grad=0.0000), Var(v=0.0653, grad=0.0000)], [Var(v=-0.1906, grad=0.0000), Var(v=0.0239, grad=0.0000), Var(v=-0.0231, grad=0.0000), Var(v=-0.1607, grad=0.0000), Var(v=0.0176, grad=0.0000), Var(v=-0.2170, grad=0.0000), Var(v=-0.0656, grad=0.0000), Var(v=0.0177, grad=0.0000), Var(v=-0.0339, grad=0.0000), Var(v=0.0838, grad=0.0000), Var(v=-0.0718, grad=0.0000), Var(v=0.1407, grad=0.0000), Var(v=0.0598, grad=0.0000), Var(v=-0.0951, grad=0.0000), Var(v=-0.2029, grad=0.0000), Var(v=-0.1895, grad=0.0000), Var(v=0.0109, grad=0.0000), Var(v=-0.1115, grad=0.0000), Var(v=-0.0007, grad=0.0000), Var(v=0.0609, grad=0.0000), Var(v=0.1083, grad=0.0000), Var(v=-0.1154, grad=0.0000), Var(v=-0.0577, grad=0.0000), Var(v=0.1454, grad=0.0000), Var(v=-0.1731, grad=0.0000), Var(v=-0.0246, grad=0.0000), Var(v=0.0009, grad=0.0000), Var(v=0.0222, grad=0.0000), Var(v=-0.1145, grad=0.0000), Var(v=-0.1110, grad=0.0000), Var(v=0.1656, grad=0.0000), Var(v=0.0409, grad=0.0000), Var(v=-0.0652, grad=0.0000), Var(v=-0.1282, grad=0.0000), Var(v=-0.0223, grad=0.0000), Var(v=0.0877, grad=0.0000), Var(v=0.0178, grad=0.0000), Var(v=-0.1176, grad=0.0000), Var(v=-0.0343, grad=0.0000), Var(v=-0.0601, grad=0.0000), Var(v=0.0218, grad=0.0000), Var(v=-0.0938, grad=0.0000), Var(v=0.0159, grad=0.0000), Var(v=0.2525, grad=0.0000), Var(v=0.0082, grad=0.0000), Var(v=0.1101, grad=0.0000), Var(v=0.2534, grad=0.0000), Var(v=-0.0660, grad=0.0000), Var(v=-0.2040, grad=0.0000), Var(v=-0.0520, grad=0.0000)], [Var(v=-0.0850, grad=0.0000), Var(v=-0.0980, grad=0.0000), Var(v=0.1825, grad=0.0000), Var(v=-0.1025, grad=0.0000), Var(v=0.0453, grad=0.0000), Var(v=-0.0155, grad=0.0000), Var(v=-0.0426, grad=0.0000), Var(v=-0.1789, grad=0.0000), Var(v=-0.0229, grad=0.0000), Var(v=-0.0960, grad=0.0000), Var(v=0.0411, grad=0.0000), Var(v=0.0689, grad=0.0000), Var(v=-0.0619, grad=0.0000), Var(v=-0.0297, grad=0.0000), Var(v=0.2488, grad=0.0000), Var(v=-0.0708, grad=0.0000), Var(v=-0.0332, grad=0.0000), Var(v=0.1023, grad=0.0000), Var(v=-0.1427, grad=0.0000), Var(v=0.0326, grad=0.0000), Var(v=-0.0015, grad=0.0000), Var(v=-0.0074, grad=0.0000), Var(v=0.2122, grad=0.0000), Var(v=-0.0571, grad=0.0000), Var(v=-0.0791, grad=0.0000), Var(v=-0.1236, grad=0.0000), Var(v=-0.0576, grad=0.0000), Var(v=-0.0858, grad=0.0000), Var(v=-0.1558, grad=0.0000), Var(v=-0.0055, grad=0.0000), Var(v=0.0409, grad=0.0000), Var(v=-0.0387, grad=0.0000), Var(v=0.0725, grad=0.0000), Var(v=0.0141, grad=0.0000), Var(v=0.0633, grad=0.0000), Var(v=-0.1301, grad=0.0000), Var(v=0.0104, grad=0.0000), Var(v=-0.0531, grad=0.0000), Var(v=-0.1648, grad=0.0000), Var(v=0.1617, grad=0.0000), Var(v=0.0688, grad=0.0000), Var(v=0.0468, grad=0.0000), Var(v=0.0764, grad=0.0000), Var(v=-0.0731, grad=0.0000), Var(v=-0.1101, grad=0.0000), Var(v=-0.0101, grad=0.0000), Var(v=0.1255, grad=0.0000), Var(v=0.0410, grad=0.0000), Var(v=-0.1064, grad=0.0000), Var(v=-0.0006, grad=0.0000)], [Var(v=-0.0521, grad=0.0000), Var(v=0.0795, grad=0.0000), Var(v=0.0010, grad=0.0000), Var(v=-0.0329, grad=0.0000), Var(v=-0.0854, grad=0.0000), Var(v=0.0291, grad=0.0000), Var(v=-0.0528, grad=0.0000), Var(v=0.0573, grad=0.0000), Var(v=-0.0945, grad=0.0000), Var(v=0.1291, grad=0.0000), Var(v=0.0175, grad=0.0000), Var(v=-0.0963, grad=0.0000), Var(v=-0.1102, grad=0.0000), Var(v=0.0168, grad=0.0000), Var(v=-0.2869, grad=0.0000), Var(v=-0.0433, grad=0.0000), Var(v=0.0463, grad=0.0000), Var(v=0.0851, grad=0.0000), Var(v=-0.0605, grad=0.0000), Var(v=-0.0226, grad=0.0000), Var(v=0.1015, grad=0.0000), Var(v=-0.1306, grad=0.0000), Var(v=0.0660, grad=0.0000), Var(v=-0.0165, grad=0.0000), Var(v=-0.0970, grad=0.0000), Var(v=0.1134, grad=0.0000), Var(v=0.0515, grad=0.0000), Var(v=-0.0429, grad=0.0000), Var(v=0.0983, grad=0.0000), Var(v=0.0268, grad=0.0000), Var(v=-0.0338, grad=0.0000), Var(v=0.0771, grad=0.0000), Var(v=0.0484, grad=0.0000), Var(v=0.2000, grad=0.0000), Var(v=-0.0016, grad=0.0000), Var(v=0.0275, grad=0.0000), Var(v=0.2750, grad=0.0000), Var(v=-0.1397, grad=0.0000), Var(v=-0.0101, grad=0.0000), Var(v=0.0309, grad=0.0000), Var(v=-0.0346, grad=0.0000), Var(v=0.0814, grad=0.0000), Var(v=0.0125, grad=0.0000), Var(v=0.0774, grad=0.0000), Var(v=-0.1315, grad=0.0000), Var(v=0.2372, grad=0.0000), Var(v=-0.0089, grad=0.0000), Var(v=0.0719, grad=0.0000), Var(v=-0.1161, grad=0.0000), Var(v=-0.1783, grad=0.0000)], [Var(v=-0.0556, grad=0.0000), Var(v=0.0019, grad=0.0000), Var(v=-0.0564, grad=0.0000), Var(v=0.0451, grad=0.0000), Var(v=-0.0457, grad=0.0000), Var(v=0.0890, grad=0.0000), Var(v=0.0606, grad=0.0000), Var(v=0.0352, grad=0.0000), Var(v=-0.1532, grad=0.0000), Var(v=-0.1007, grad=0.0000), Var(v=-0.0033, grad=0.0000), Var(v=-0.0106, grad=0.0000), Var(v=-0.0716, grad=0.0000), Var(v=0.0819, grad=0.0000), Var(v=0.1433, grad=0.0000), Var(v=-0.1123, grad=0.0000), Var(v=0.0168, grad=0.0000), Var(v=0.0090, grad=0.0000), Var(v=-0.1659, grad=0.0000), Var(v=-0.1775, grad=0.0000), Var(v=-0.0679, grad=0.0000), Var(v=-0.0829, grad=0.0000), Var(v=-0.0789, grad=0.0000), Var(v=0.0512, grad=0.0000), Var(v=-0.0357, grad=0.0000), Var(v=0.1782, grad=0.0000), Var(v=0.1096, grad=0.0000), Var(v=-0.0043, grad=0.0000), Var(v=0.0169, grad=0.0000), Var(v=0.1162, grad=0.0000), Var(v=-0.0660, grad=0.0000), Var(v=-0.0859, grad=0.0000), Var(v=-0.1513, grad=0.0000), Var(v=0.1272, grad=0.0000), Var(v=-0.0969, grad=0.0000), Var(v=0.2467, grad=0.0000), Var(v=0.1102, grad=0.0000), Var(v=0.0253, grad=0.0000), Var(v=-0.0344, grad=0.0000), Var(v=0.1505, grad=0.0000), Var(v=0.0301, grad=0.0000), Var(v=-0.0318, grad=0.0000), Var(v=-0.1331, grad=0.0000), Var(v=-0.0731, grad=0.0000), Var(v=0.0444, grad=0.0000), Var(v=-0.0144, grad=0.0000), Var(v=-0.1686, grad=0.0000), Var(v=0.0549, grad=0.0000), Var(v=0.0228, grad=0.0000), Var(v=0.0268, grad=0.0000)], [Var(v=-0.0908, grad=0.0000), Var(v=0.0752, grad=0.0000), Var(v=-0.0698, grad=0.0000), Var(v=0.0024, grad=0.0000), Var(v=-0.0668, grad=0.0000), Var(v=-0.0283, grad=0.0000), Var(v=0.1039, grad=0.0000), Var(v=-0.1805, grad=0.0000), Var(v=0.0369, grad=0.0000), Var(v=-0.1264, grad=0.0000), Var(v=-0.0781, grad=0.0000), Var(v=0.1442, grad=0.0000), Var(v=-0.0475, grad=0.0000), Var(v=-0.0426, grad=0.0000), Var(v=-0.0736, grad=0.0000), Var(v=0.1211, grad=0.0000), Var(v=0.1727, grad=0.0000), Var(v=-0.2512, grad=0.0000), Var(v=-0.0975, grad=0.0000), Var(v=-0.0100, grad=0.0000), Var(v=0.0310, grad=0.0000), Var(v=-0.1875, grad=0.0000), Var(v=0.0318, grad=0.0000), Var(v=-0.1452, grad=0.0000), Var(v=0.0373, grad=0.0000), Var(v=0.0867, grad=0.0000), Var(v=-0.2324, grad=0.0000), Var(v=0.1761, grad=0.0000), Var(v=-0.0756, grad=0.0000), Var(v=0.1518, grad=0.0000), Var(v=-0.1224, grad=0.0000), Var(v=-0.0299, grad=0.0000), Var(v=0.0250, grad=0.0000), Var(v=0.0588, grad=0.0000), Var(v=0.0891, grad=0.0000), Var(v=0.0339, grad=0.0000), Var(v=0.1627, grad=0.0000), Var(v=-0.0154, grad=0.0000), Var(v=-0.1334, grad=0.0000), Var(v=-0.0672, grad=0.0000), Var(v=-0.0332, grad=0.0000), Var(v=-0.0743, grad=0.0000), Var(v=-0.0567, grad=0.0000), Var(v=-0.0810, grad=0.0000), Var(v=-0.0285, grad=0.0000), Var(v=0.1273, grad=0.0000), Var(v=-0.1518, grad=0.0000), Var(v=0.2291, grad=0.0000), Var(v=-0.0558, grad=0.0000), Var(v=0.0817, grad=0.0000)], [Var(v=-0.0679, grad=0.0000), Var(v=-0.1387, grad=0.0000), Var(v=0.0752, grad=0.0000), Var(v=-0.0439, grad=0.0000), Var(v=0.0918, grad=0.0000), Var(v=-0.1349, grad=0.0000), Var(v=-0.0712, grad=0.0000), Var(v=-0.0563, grad=0.0000), Var(v=-0.0151, grad=0.0000), Var(v=-0.0508, grad=0.0000), Var(v=0.0262, grad=0.0000), Var(v=0.0209, grad=0.0000), Var(v=0.0312, grad=0.0000), Var(v=0.1649, grad=0.0000), Var(v=0.0209, grad=0.0000), Var(v=0.1037, grad=0.0000), Var(v=-0.0605, grad=0.0000), Var(v=0.1401, grad=0.0000), Var(v=-0.0387, grad=0.0000), Var(v=0.0590, grad=0.0000), Var(v=0.1114, grad=0.0000), Var(v=-0.0600, grad=0.0000), Var(v=0.0267, grad=0.0000), Var(v=0.1201, grad=0.0000), Var(v=-0.0276, grad=0.0000), Var(v=-0.0597, grad=0.0000), Var(v=0.0009, grad=0.0000), Var(v=0.0552, grad=0.0000), Var(v=0.0770, grad=0.0000), Var(v=-0.0286, grad=0.0000), Var(v=-0.0138, grad=0.0000), Var(v=0.0299, grad=0.0000), Var(v=-0.0165, grad=0.0000), Var(v=-0.0532, grad=0.0000), Var(v=0.0922, grad=0.0000), Var(v=-0.0524, grad=0.0000), Var(v=0.1482, grad=0.0000), Var(v=-0.0071, grad=0.0000), Var(v=0.1867, grad=0.0000), Var(v=-0.2207, grad=0.0000), Var(v=-0.0834, grad=0.0000), Var(v=0.1628, grad=0.0000), Var(v=0.0853, grad=0.0000), Var(v=0.0532, grad=0.0000), Var(v=0.1012, grad=0.0000), Var(v=0.0819, grad=0.0000), Var(v=0.0751, grad=0.0000), Var(v=0.0665, grad=0.0000), Var(v=-0.0493, grad=0.0000), Var(v=-0.1299, grad=0.0000)], [Var(v=-0.0389, grad=0.0000), Var(v=0.1026, grad=0.0000), Var(v=0.0255, grad=0.0000), Var(v=-0.1019, grad=0.0000), Var(v=0.1587, grad=0.0000), Var(v=0.0988, grad=0.0000), Var(v=-0.0047, grad=0.0000), Var(v=0.1119, grad=0.0000), Var(v=-0.0702, grad=0.0000), Var(v=0.1071, grad=0.0000), Var(v=0.0776, grad=0.0000), Var(v=0.0322, grad=0.0000), Var(v=-0.0898, grad=0.0000), Var(v=0.0058, grad=0.0000), Var(v=-0.0119, grad=0.0000), Var(v=0.0269, grad=0.0000), Var(v=0.0730, grad=0.0000), Var(v=0.0349, grad=0.0000), Var(v=-0.0056, grad=0.0000), Var(v=-0.0066, grad=0.0000), Var(v=0.0545, grad=0.0000), Var(v=-0.0213, grad=0.0000), Var(v=-0.0357, grad=0.0000), Var(v=-0.0011, grad=0.0000), Var(v=0.0246, grad=0.0000), Var(v=-0.0501, grad=0.0000), Var(v=0.0239, grad=0.0000), Var(v=-0.0098, grad=0.0000), Var(v=0.0043, grad=0.0000), Var(v=0.0444, grad=0.0000), Var(v=0.1425, grad=0.0000), Var(v=-0.1284, grad=0.0000), Var(v=-0.1676, grad=0.0000), Var(v=-0.1382, grad=0.0000), Var(v=0.0750, grad=0.0000), Var(v=0.1097, grad=0.0000), Var(v=0.0800, grad=0.0000), Var(v=0.1478, grad=0.0000), Var(v=-0.0941, grad=0.0000), Var(v=0.1731, grad=0.0000), Var(v=0.1112, grad=0.0000), Var(v=-0.0260, grad=0.0000), Var(v=0.0524, grad=0.0000), Var(v=0.0283, grad=0.0000), Var(v=0.0019, grad=0.0000), Var(v=0.0432, grad=0.0000), Var(v=-0.0197, grad=0.0000), Var(v=0.0447, grad=0.0000), Var(v=-0.1300, grad=0.0000), Var(v=-0.1153, grad=0.0000)], [Var(v=0.1628, grad=0.0000), Var(v=0.0057, grad=0.0000), Var(v=-0.0553, grad=0.0000), Var(v=0.1018, grad=0.0000), Var(v=-0.0921, grad=0.0000), Var(v=-0.1141, grad=0.0000), Var(v=0.0964, grad=0.0000), Var(v=0.0094, grad=0.0000), Var(v=0.0322, grad=0.0000), Var(v=-0.0655, grad=0.0000), Var(v=-0.2081, grad=0.0000), Var(v=-0.0250, grad=0.0000), Var(v=0.1308, grad=0.0000), Var(v=-0.0363, grad=0.0000), Var(v=0.0420, grad=0.0000), Var(v=0.1014, grad=0.0000), Var(v=-0.1165, grad=0.0000), Var(v=0.1256, grad=0.0000), Var(v=-0.0718, grad=0.0000), Var(v=0.1819, grad=0.0000), Var(v=-0.2199, grad=0.0000), Var(v=-0.1958, grad=0.0000), Var(v=0.0488, grad=0.0000), Var(v=-0.0138, grad=0.0000), Var(v=0.0947, grad=0.0000), Var(v=0.0125, grad=0.0000), Var(v=-0.0731, grad=0.0000), Var(v=0.1594, grad=0.0000), Var(v=-0.0166, grad=0.0000), Var(v=-0.0950, grad=0.0000), Var(v=0.0030, grad=0.0000), Var(v=-0.0990, grad=0.0000), Var(v=0.0117, grad=0.0000), Var(v=-0.1401, grad=0.0000), Var(v=-0.0765, grad=0.0000), Var(v=-0.0069, grad=0.0000), Var(v=0.0013, grad=0.0000), Var(v=0.0314, grad=0.0000), Var(v=-0.0387, grad=0.0000), Var(v=-0.0214, grad=0.0000), Var(v=-0.0309, grad=0.0000), Var(v=-0.1136, grad=0.0000), Var(v=-0.0750, grad=0.0000), Var(v=-0.0095, grad=0.0000), Var(v=-0.0343, grad=0.0000), Var(v=0.2651, grad=0.0000), Var(v=0.0180, grad=0.0000), Var(v=-0.0297, grad=0.0000), Var(v=-0.1207, grad=0.0000), Var(v=0.0925, grad=0.0000)], [Var(v=0.1611, grad=0.0000), Var(v=-0.0690, grad=0.0000), Var(v=-0.0967, grad=0.0000), Var(v=0.0570, grad=0.0000), Var(v=-0.1121, grad=0.0000), Var(v=0.1875, grad=0.0000), Var(v=0.0410, grad=0.0000), Var(v=-0.0448, grad=0.0000), Var(v=-0.0034, grad=0.0000), Var(v=-0.0811, grad=0.0000), Var(v=0.0133, grad=0.0000), Var(v=0.1301, grad=0.0000), Var(v=-0.1448, grad=0.0000), Var(v=-0.0951, grad=0.0000), Var(v=0.1218, grad=0.0000), Var(v=0.0290, grad=0.0000), Var(v=0.1007, grad=0.0000), Var(v=0.1695, grad=0.0000), Var(v=-0.0334, grad=0.0000), Var(v=0.0373, grad=0.0000), Var(v=-0.0140, grad=0.0000), Var(v=-0.0998, grad=0.0000), Var(v=0.0752, grad=0.0000), Var(v=0.1461, grad=0.0000), Var(v=-0.0654, grad=0.0000), Var(v=0.0144, grad=0.0000), Var(v=0.0185, grad=0.0000), Var(v=-0.1733, grad=0.0000), Var(v=0.0759, grad=0.0000), Var(v=-0.1069, grad=0.0000), Var(v=0.0294, grad=0.0000), Var(v=-0.0271, grad=0.0000), Var(v=-0.0370, grad=0.0000), Var(v=-0.2091, grad=0.0000), Var(v=-0.1058, grad=0.0000), Var(v=0.0263, grad=0.0000), Var(v=-0.0611, grad=0.0000), Var(v=-0.0279, grad=0.0000), Var(v=0.2437, grad=0.0000), Var(v=0.0837, grad=0.0000), Var(v=-0.1341, grad=0.0000), Var(v=0.1452, grad=0.0000), Var(v=-0.0786, grad=0.0000), Var(v=-0.2108, grad=0.0000), Var(v=0.2499, grad=0.0000), Var(v=-0.1014, grad=0.0000), Var(v=0.0168, grad=0.0000), Var(v=0.0399, grad=0.0000), Var(v=0.0724, grad=0.0000), Var(v=-0.0671, grad=0.0000)], [Var(v=0.0177, grad=0.0000), Var(v=-0.0729, grad=0.0000), Var(v=0.0762, grad=0.0000), Var(v=-0.1030, grad=0.0000), Var(v=-0.0489, grad=0.0000), Var(v=-0.0515, grad=0.0000), Var(v=-0.0470, grad=0.0000), Var(v=-0.1270, grad=0.0000), Var(v=0.0694, grad=0.0000), Var(v=0.0131, grad=0.0000), Var(v=-0.0890, grad=0.0000), Var(v=0.0005, grad=0.0000), Var(v=-0.0275, grad=0.0000), Var(v=0.0942, grad=0.0000), Var(v=-0.0341, grad=0.0000), Var(v=-0.0036, grad=0.0000), Var(v=0.0126, grad=0.0000), Var(v=-0.0685, grad=0.0000), Var(v=0.1828, grad=0.0000), Var(v=-0.0161, grad=0.0000), Var(v=0.0211, grad=0.0000), Var(v=0.0189, grad=0.0000), Var(v=-0.0846, grad=0.0000), Var(v=0.0638, grad=0.0000), Var(v=-0.0761, grad=0.0000), Var(v=0.1316, grad=0.0000), Var(v=0.2083, grad=0.0000), Var(v=-0.1681, grad=0.0000), Var(v=0.0626, grad=0.0000), Var(v=0.0139, grad=0.0000), Var(v=0.0092, grad=0.0000), Var(v=-0.1083, grad=0.0000), Var(v=-0.0355, grad=0.0000), Var(v=0.1527, grad=0.0000), Var(v=0.0021, grad=0.0000), Var(v=-0.1173, grad=0.0000), Var(v=0.0468, grad=0.0000), Var(v=-0.0400, grad=0.0000), Var(v=-0.0707, grad=0.0000), Var(v=0.1288, grad=0.0000), Var(v=-0.0481, grad=0.0000), Var(v=0.0001, grad=0.0000), Var(v=-0.0525, grad=0.0000), Var(v=-0.2306, grad=0.0000), Var(v=0.0280, grad=0.0000), Var(v=-0.1732, grad=0.0000), Var(v=0.0447, grad=0.0000), Var(v=0.0755, grad=0.0000), Var(v=-0.1214, grad=0.0000), Var(v=-0.0839, grad=0.0000)], [Var(v=-0.0231, grad=0.0000), Var(v=-0.0239, grad=0.0000), Var(v=0.1090, grad=0.0000), Var(v=0.1048, grad=0.0000), Var(v=-0.0378, grad=0.0000), Var(v=0.0368, grad=0.0000), Var(v=0.1312, grad=0.0000), Var(v=0.0232, grad=0.0000), Var(v=0.0125, grad=0.0000), Var(v=-0.0113, grad=0.0000), Var(v=0.0136, grad=0.0000), Var(v=-0.2211, grad=0.0000), Var(v=0.0137, grad=0.0000), Var(v=0.0886, grad=0.0000), Var(v=0.0148, grad=0.0000), Var(v=-0.1527, grad=0.0000), Var(v=0.0136, grad=0.0000), Var(v=0.0784, grad=0.0000), Var(v=-0.0024, grad=0.0000), Var(v=0.0157, grad=0.0000), Var(v=0.0016, grad=0.0000), Var(v=-0.1201, grad=0.0000), Var(v=0.0234, grad=0.0000), Var(v=-0.0938, grad=0.0000), Var(v=0.0085, grad=0.0000), Var(v=0.1507, grad=0.0000), Var(v=-0.1055, grad=0.0000), Var(v=0.0742, grad=0.0000), Var(v=-0.1191, grad=0.0000), Var(v=-0.1258, grad=0.0000), Var(v=0.1023, grad=0.0000), Var(v=0.0498, grad=0.0000), Var(v=0.1346, grad=0.0000), Var(v=0.0246, grad=0.0000), Var(v=-0.0717, grad=0.0000), Var(v=-0.0388, grad=0.0000), Var(v=0.0230, grad=0.0000), Var(v=0.0657, grad=0.0000), Var(v=0.0649, grad=0.0000), Var(v=0.0686, grad=0.0000), Var(v=0.0988, grad=0.0000), Var(v=-0.0351, grad=0.0000), Var(v=0.0792, grad=0.0000), Var(v=0.0461, grad=0.0000), Var(v=-0.1463, grad=0.0000), Var(v=0.1395, grad=0.0000), Var(v=-0.1509, grad=0.0000), Var(v=-0.0126, grad=0.0000), Var(v=-0.1257, grad=0.0000), Var(v=0.0505, grad=0.0000)], [Var(v=-0.0008, grad=0.0000), Var(v=-0.0288, grad=0.0000), Var(v=0.0954, grad=0.0000), Var(v=0.1489, grad=0.0000), Var(v=0.1539, grad=0.0000), Var(v=-0.1009, grad=0.0000), Var(v=-0.0792, grad=0.0000), Var(v=0.0166, grad=0.0000), Var(v=0.0204, grad=0.0000), Var(v=0.1013, grad=0.0000), Var(v=0.1481, grad=0.0000), Var(v=-0.0478, grad=0.0000), Var(v=0.2057, grad=0.0000), Var(v=0.0155, grad=0.0000), Var(v=-0.0604, grad=0.0000), Var(v=-0.1152, grad=0.0000), Var(v=-0.0154, grad=0.0000), Var(v=-0.0025, grad=0.0000), Var(v=-0.0176, grad=0.0000), Var(v=-0.0948, grad=0.0000), Var(v=0.0669, grad=0.0000), Var(v=0.0709, grad=0.0000), Var(v=0.0284, grad=0.0000), Var(v=-0.0519, grad=0.0000), Var(v=-0.0345, grad=0.0000), Var(v=0.0322, grad=0.0000), Var(v=-0.0506, grad=0.0000), Var(v=-0.1785, grad=0.0000), Var(v=0.0227, grad=0.0000), Var(v=-0.0628, grad=0.0000), Var(v=-0.0147, grad=0.0000), Var(v=-0.0002, grad=0.0000), Var(v=-0.2204, grad=0.0000), Var(v=0.0811, grad=0.0000), Var(v=0.1183, grad=0.0000), Var(v=0.1794, grad=0.0000), Var(v=0.2036, grad=0.0000), Var(v=-0.0274, grad=0.0000), Var(v=0.0981, grad=0.0000), Var(v=0.0837, grad=0.0000), Var(v=0.0049, grad=0.0000), Var(v=-0.0737, grad=0.0000), Var(v=-0.0790, grad=0.0000), Var(v=-0.1874, grad=0.0000), Var(v=-0.0736, grad=0.0000), Var(v=-0.1786, grad=0.0000), Var(v=-0.0030, grad=0.0000), Var(v=0.0777, grad=0.0000), Var(v=-0.1140, grad=0.0000), Var(v=-0.0522, grad=0.0000)], [Var(v=-0.2142, grad=0.0000), Var(v=-0.2591, grad=0.0000), Var(v=-0.0480, grad=0.0000), Var(v=-0.0811, grad=0.0000), Var(v=-0.1938, grad=0.0000), Var(v=0.0597, grad=0.0000), Var(v=-0.0874, grad=0.0000), Var(v=-0.0623, grad=0.0000), Var(v=-0.1246, grad=0.0000), Var(v=-0.0771, grad=0.0000), Var(v=-0.1060, grad=0.0000), Var(v=0.0724, grad=0.0000), Var(v=0.0103, grad=0.0000), Var(v=-0.0122, grad=0.0000), Var(v=0.2262, grad=0.0000), Var(v=-0.0165, grad=0.0000), Var(v=-0.0425, grad=0.0000), Var(v=-0.0797, grad=0.0000), Var(v=-0.0313, grad=0.0000), Var(v=-0.0805, grad=0.0000), Var(v=0.1112, grad=0.0000), Var(v=-0.0229, grad=0.0000), Var(v=0.0010, grad=0.0000), Var(v=0.0879, grad=0.0000), Var(v=0.1031, grad=0.0000), Var(v=-0.1395, grad=0.0000), Var(v=-0.0524, grad=0.0000), Var(v=0.1338, grad=0.0000), Var(v=0.0422, grad=0.0000), Var(v=-0.0077, grad=0.0000), Var(v=-0.0343, grad=0.0000), Var(v=-0.0778, grad=0.0000), Var(v=-0.0189, grad=0.0000), Var(v=-0.0673, grad=0.0000), Var(v=0.1259, grad=0.0000), Var(v=0.0517, grad=0.0000), Var(v=0.0303, grad=0.0000), Var(v=-0.1313, grad=0.0000), Var(v=-0.1332, grad=0.0000), Var(v=0.1943, grad=0.0000), Var(v=0.0190, grad=0.0000), Var(v=0.0448, grad=0.0000), Var(v=-0.0360, grad=0.0000), Var(v=-0.1101, grad=0.0000), Var(v=-0.1163, grad=0.0000), Var(v=0.0090, grad=0.0000), Var(v=-0.1042, grad=0.0000), Var(v=-0.1317, grad=0.0000), Var(v=0.0392, grad=0.0000), Var(v=0.0309, grad=0.0000)]]\n",
      " Biases: [Var(v=0.0000, grad=0.0000), Var(v=-0.0530, grad=0.0000), Var(v=0.0690, grad=0.0000), Var(v=0.1027, grad=0.0000), Var(v=0.1068, grad=0.0000), Var(v=0.0000, grad=0.0000), Var(v=0.0000, grad=0.0000), Var(v=0.0000, grad=0.0000), Var(v=-0.0301, grad=0.0000), Var(v=-0.0707, grad=0.0000), Var(v=-0.0090, grad=0.0000), Var(v=-0.0002, grad=0.0000), Var(v=0.0081, grad=0.0000), Var(v=-0.0862, grad=0.0000), Var(v=0.1980, grad=0.0000), Var(v=0.0000, grad=0.0000), Var(v=-0.1220, grad=0.0000), Var(v=0.0745, grad=0.0000), Var(v=0.0000, grad=0.0000), Var(v=0.0000, grad=0.0000), Var(v=-0.0034, grad=0.0000), Var(v=0.0000, grad=0.0000), Var(v=0.0412, grad=0.0000), Var(v=0.0241, grad=0.0000), Var(v=-0.0231, grad=0.0000), Var(v=-0.0013, grad=0.0000), Var(v=-0.0473, grad=0.0000), Var(v=0.0243, grad=0.0000), Var(v=-0.0544, grad=0.0000), Var(v=-0.0503, grad=0.0000), Var(v=-0.1897, grad=0.0000), Var(v=0.0000, grad=0.0000), Var(v=0.0000, grad=0.0000), Var(v=0.0008, grad=0.0000), Var(v=0.0091, grad=0.0000), Var(v=-0.0022, grad=0.0000), Var(v=-0.0000, grad=0.0000), Var(v=0.0000, grad=0.0000), Var(v=0.0362, grad=0.0000), Var(v=-0.0037, grad=0.0000), Var(v=0.0000, grad=0.0000), Var(v=0.0000, grad=0.0000), Var(v=0.0000, grad=0.0000), Var(v=0.0000, grad=0.0000), Var(v=0.0000, grad=0.0000), Var(v=0.1616, grad=0.0000), Var(v=0.0000, grad=0.0000), Var(v=0.0002, grad=0.0000), Var(v=0.0000, grad=0.0000), Var(v=0.0000, grad=0.0000)]\n",
      "\n",
      "Layer 2 \n",
      " Weights: [[Var(v=0.0611, grad=0.0000)], [Var(v=0.0582, grad=0.0000)], [Var(v=-0.0844, grad=0.0000)], [Var(v=-0.1277, grad=0.0000)], [Var(v=-0.1360, grad=0.0000)], [Var(v=-0.0674, grad=0.0000)], [Var(v=0.0019, grad=0.0000)], [Var(v=-0.0143, grad=0.0000)], [Var(v=0.0312, grad=0.0000)], [Var(v=0.0754, grad=0.0000)], [Var(v=-0.0045, grad=0.0000)], [Var(v=-0.0241, grad=0.0000)], [Var(v=-0.0265, grad=0.0000)], [Var(v=-0.0660, grad=0.0000)], [Var(v=0.2420, grad=0.0000)], [Var(v=-0.0914, grad=0.0000)], [Var(v=0.1182, grad=0.0000)], [Var(v=0.1013, grad=0.0000)], [Var(v=0.0245, grad=0.0000)], [Var(v=-0.3310, grad=0.0000)], [Var(v=-0.1649, grad=0.0000)], [Var(v=-0.0594, grad=0.0000)], [Var(v=-0.0572, grad=0.0000)], [Var(v=0.0658, grad=0.0000)], [Var(v=-0.0216, grad=0.0000)], [Var(v=-0.0376, grad=0.0000)], [Var(v=-0.0219, grad=0.0000)], [Var(v=0.0313, grad=0.0000)], [Var(v=-0.0366, grad=0.0000)], [Var(v=-0.0391, grad=0.0000)], [Var(v=0.2131, grad=0.0000)], [Var(v=0.1870, grad=0.0000)], [Var(v=0.0545, grad=0.0000)], [Var(v=0.0644, grad=0.0000)], [Var(v=-0.0324, grad=0.0000)], [Var(v=-0.0873, grad=0.0000)], [Var(v=0.0089, grad=0.0000)], [Var(v=-0.0304, grad=0.0000)], [Var(v=-0.0453, grad=0.0000)], [Var(v=-0.1453, grad=0.0000)], [Var(v=-0.0272, grad=0.0000)], [Var(v=0.0094, grad=0.0000)], [Var(v=0.0766, grad=0.0000)], [Var(v=0.0009, grad=0.0000)], [Var(v=-0.0672, grad=0.0000)], [Var(v=0.1866, grad=0.0000)], [Var(v=0.0546, grad=0.0000)], [Var(v=-0.0129, grad=0.0000)], [Var(v=0.0581, grad=0.0000)], [Var(v=-0.1596, grad=0.0000)]]\n",
      " Biases: [Var(v=0.0203, grad=0.0000)]\n",
      "\n"
     ]
    },
    {
     "data": {
      "text/plain": [
       "[None, None, None]"
      ]
     },
     "execution_count": 30,
     "metadata": {},
     "output_type": "execute_result"
    }
   ],
   "source": [
    "print('Network before update:')\n",
    "[print('Layer', i, '\\n', NN[i]) for i in range(len(NN))] \n",
    "\n",
    "def parameters(network):\n",
    "  params = []\n",
    "  for layer in range(len(network)):\n",
    "    params += network[layer].parameters()\n",
    "  return params\n",
    "\n",
    "def update_parameters(params, learning_rate=0.01):\n",
    "  for p in params:\n",
    "    p.v -= learning_rate*p.grad\n",
    "\n",
    "def zero_gradients(params):\n",
    "  for p in params:\n",
    "    p.grad = 0.0\n",
    "\n",
    "update_parameters(parameters(NN))\n",
    "\n",
    "print('\\nNetwork after update:')\n",
    "[print('Layer', i, '\\n', NN[i]) for i in range(len(NN))] \n",
    "\n",
    "zero_gradients(parameters(NN))\n",
    "\n",
    "print('\\nNetwork after zeroing gradients:')\n",
    "[print('Layer', i, '\\n', NN[i]) for i in range(len(NN))] "
   ]
  },
  {
   "cell_type": "code",
   "execution_count": 31,
   "metadata": {
    "id": "woWYpdw6FtIO"
   },
   "outputs": [],
   "source": [
    "# Initialize an arbitrary neural network\n",
    "NN = [\n",
    "    DenseLayer(1, 8, lambda x: x.relu()),\n",
    "    DenseLayer(8, 1, lambda x: x.identity())\n",
    "]\n",
    "\n",
    "# Recommended hyper-parameters for 3-D: \n",
    "#NN = [\n",
    "#    DenseLayer(3, 16, lambda x: x.relu()),\n",
    "#    DenseLayer(16, 1, lambda x: x.identity())\n",
    "#]\n",
    "\n",
    "\n",
    "### Notice that, when we switch from tanh to relu activation, we decrease the learning rate. This is due the stability of the gradients \n",
    "## of the activation functions."
   ]
  },
  {
   "cell_type": "code",
   "execution_count": 32,
   "metadata": {
    "id": "mdqaqYBVFtIR"
   },
   "outputs": [],
   "source": [
    "# Initialize training hyperparameters\n",
    "EPOCHS = 100\n",
    "LEARN_R = 2e-3 "
   ]
  },
  {
   "cell_type": "code",
   "execution_count": 33,
   "metadata": {
    "colab": {
     "base_uri": "https://localhost:8080/"
    },
    "id": "5kfg76GMFtIW",
    "outputId": "e30cf68a-31f2-42b4-cc5e-860c297c0f04",
    "scrolled": true
   },
   "outputs": [
    {
     "name": "stdout",
     "output_type": "stream",
     "text": [
      "   0 ( 0.00%) Train loss: 107.063 \t Validation loss: 107.559\n",
      "  10 (10.00%) Train loss: 46.347 \t Validation loss: 43.096\n",
      "  20 (20.00%) Train loss: 16.037 \t Validation loss: 13.931\n",
      "  30 (30.00%) Train loss: 14.748 \t Validation loss: 11.969\n",
      "  40 (40.00%) Train loss: 14.142 \t Validation loss: 11.124\n",
      "  50 (50.00%) Train loss: 13.642 \t Validation loss: 10.540\n",
      "  60 (60.00%) Train loss: 13.217 \t Validation loss: 10.079\n",
      "  70 (70.00%) Train loss: 12.875 \t Validation loss: 9.765\n",
      "  80 (80.00%) Train loss: 12.617 \t Validation loss: 9.520\n",
      "  90 (90.00%) Train loss: 12.404 \t Validation loss: 9.322\n"
     ]
    }
   ],
   "source": [
    "train_loss = []\n",
    "val_loss = []\n",
    "\n",
    "for e in range(EPOCHS):\n",
    "     \n",
    "    # Forward pass and loss computation\n",
    "    Loss = squared_loss(y_train, forward(x_train, NN))\n",
    "\n",
    "    # Backward pass\n",
    "    Loss.backward()\n",
    "    \n",
    "    # gradient descent update\n",
    "    update_parameters(parameters(NN), LEARN_R)\n",
    "    zero_gradients(parameters(NN))\n",
    "    \n",
    "    # Training loss\n",
    "    train_loss.append(Loss.v)\n",
    "    \n",
    "    # Validation\n",
    "    Loss_validation = squared_loss(y_validation, forward(x_validation, NN))\n",
    "    val_loss.append(Loss_validation.v)\n",
    "    \n",
    "    if e%10==0:\n",
    "        print(\"{:4d}\".format(e),\n",
    "              \"({:5.2f}%)\".format(e/EPOCHS*100), \n",
    "              \"Train loss: {:4.3f} \\t Validation loss: {:4.3f}\".format(train_loss[-1], val_loss[-1]))\n",
    "        \n"
   ]
  },
  {
   "cell_type": "code",
   "execution_count": 34,
   "metadata": {
    "colab": {
     "base_uri": "https://localhost:8080/",
     "height": 265
    },
    "id": "VetyRWFwFtIY",
    "outputId": "344e490d-6d7d-455a-fa6f-88dd11eb957e"
   },
   "outputs": [
    {
     "data": {
      "text/plain": [
       "[<matplotlib.lines.Line2D at 0x293f3e91bb0>]"
      ]
     },
     "execution_count": 34,
     "metadata": {},
     "output_type": "execute_result"
    },
    {
     "data": {
      "image/png": "[encoded data removed]",
      "text/plain": [
       "<Figure size 640x480 with 1 Axes>"
      ]
     },
     "metadata": {},
     "output_type": "display_data"
    }
   ],
   "source": [
    "plt.plot(range(len(train_loss)), train_loss)\n",
    "plt.plot(range(len(val_loss)), val_loss)"
   ]
  },
  {
   "cell_type": "markdown",
   "metadata": {
    "id": "8OgmIrM9FtIb"
   },
   "source": [
    "# Testing\n",
    "\n",
    "We have kept the calculation of the test error separate in order to emphasize that you should not use the test set in optimization."
   ]
  },
  {
   "cell_type": "code",
   "execution_count": 35,
   "metadata": {
    "id": "HmNi7S-vFtIc"
   },
   "outputs": [],
   "source": [
    "output_test = forward(x_test, NN)"
   ]
  },
  {
   "cell_type": "code",
   "execution_count": 36,
   "metadata": {
    "colab": {
     "base_uri": "https://localhost:8080/",
     "height": 316
    },
    "id": "7mmJOTSEFtIf",
    "outputId": "e3264095-cefe-4aee-893d-bf152438e332"
   },
   "outputs": [
    {
     "name": "stdout",
     "output_type": "stream",
     "text": [
      "Test loss:  10.608\n"
     ]
    },
    {
     "data": {
      "image/png": "[encoded data removed]",
      "text/plain": [
       "<Figure size 640x480 with 1 Axes>"
      ]
     },
     "metadata": {},
     "output_type": "display_data"
    }
   ],
   "source": [
    "y_test_np = Var_to_nparray(y_test)\n",
    "plt.scatter(y_test_np, Var_to_nparray(output_test));\n",
    "plt.plot([np.min(y_test_np), np.max(y_test_np)], [np.min(y_test_np), np.max(y_test_np)], color='k');\n",
    "plt.xlabel(\"y\");\n",
    "plt.ylabel(\"$\\hat{y}$\");\n",
    "plt.title(\"Model prediction vs real in the test set, the close to the line the better\")\n",
    "plt.grid(True);\n",
    "plt.axis('equal');\n",
    "plt.tight_layout();\n",
    "\n",
    "Loss_test = squared_loss(y_test, forward(x_test, NN))\n",
    "\n",
    "print(\"Test loss:  {:4.3f}\".format(Loss_test.v))"
   ]
  },
  {
   "cell_type": "code",
   "execution_count": 37,
   "metadata": {
    "colab": {
     "base_uri": "https://localhost:8080/",
     "height": 279
    },
    "id": "ODi0WlmQFtIh",
    "outputId": "d1ab874f-0717-4987-87bf-1f0c7c8e7148"
   },
   "outputs": [
    {
     "data": {
      "image/png": "[encoded data removed]",
      "text/plain": [
       "<Figure size 640x480 with 1 Axes>"
      ]
     },
     "metadata": {},
     "output_type": "display_data"
    }
   ],
   "source": [
    "x_test_np = Var_to_nparray(x_test)\n",
    "x_train_np = Var_to_nparray(x_train)\n",
    "y_train_np = Var_to_nparray(y_train)\n",
    "if D1:\n",
    "    plt.scatter(x_train_np, y_train_np, label=\"train data\");\n",
    "    plt.scatter(x_test_np, Var_to_nparray(output_test), label=\"test prediction\");\n",
    "    plt.scatter(x_test_np, y_test_np, label=\"test data\");\n",
    "    plt.legend();\n",
    "    plt.xlabel(\"x\");\n",
    "    plt.ylabel(\"y\");\n",
    "else:\n",
    "    plt.scatter(x_train_np[:,1], y_train, label=\"train data\");\n",
    "    plt.scatter(x_test_np[:,1], Var_to_nparray(output_test), label=\"test data prediction\");\n",
    "    plt.scatter(x_test_np[:,1], y_test_np, label=\"test data\");\n",
    "    plt.legend();\n",
    "    plt.xlabel(\"x\");\n",
    "    plt.ylabel(\"y\");"
   ]
  },
  {
   "cell_type": "markdown",
   "metadata": {
    "id": "zTBAmjsAFtIk"
   },
   "source": [
    "## Exercise k) Show overfitting, underfitting and just right fitting\n",
    "\n",
    "Vary the architecture and other things to show clear signs of overfitting (=training loss significantly lower than test loss) and underfitting (=not fitting enoung to training data so that test performance is also hurt).\n",
    "\n",
    "See also if you can get a good compromise which leads to a low validation loss. \n",
    "\n",
    "For this problem do you see any big difference between validation and test loss? The answer here will probably be no. Discuss cases where it is important to keep the two separate.\n",
    "\n",
    "_Insert written answer here._\n"
   ]
  },
  {
   "cell_type": "markdown",
   "metadata": {},
   "source": [
    "### Overfitting"
   ]
  },
  {
   "cell_type": "code",
   "execution_count": 38,
   "metadata": {
    "id": "tQZCn2dxFtIl"
   },
   "outputs": [],
   "source": [
    "# Increase the arhitecture's number of hidden layers in order to get overfitting\n",
    "NN = [\n",
    "    DenseLayer(1, 8, lambda x: x.sigmoid()),\n",
    "    DenseLayer(8, 64, lambda x: x.sigmoid()),\n",
    "    DenseLayer(64, 8, lambda x: x.sigmoid()),\n",
    "    DenseLayer(8, 1, lambda x: x.identity())\n",
    "]"
   ]
  },
  {
   "cell_type": "code",
   "execution_count": 39,
   "metadata": {},
   "outputs": [],
   "source": [
    "# Initialize training hyperparameters\n",
    "EPOCHS = 100\n",
    "LEARN_R = 2e-3 "
   ]
  },
  {
   "cell_type": "code",
   "execution_count": null,
   "metadata": {},
   "outputs": [
    {
     "name": "stdout",
     "output_type": "stream",
     "text": [
      "   0 ( 0.00%) Train loss: 109.159 \t Validation loss: 106.161\n",
      "  10 (10.00%) Train loss: 104.994 \t Validation loss: 107.750\n",
      "  20 (20.00%) Train loss: 104.992 \t Validation loss: 107.748\n"
     ]
    }
   ],
   "source": [
    "train_loss = []\n",
    "val_loss = []\n",
    "\n",
    "for e in range(EPOCHS):\n",
    "     \n",
    "    # Forward pass and loss computation\n",
    "    Loss = squared_loss(y_train, forward(x_train, NN))\n",
    "\n",
    "    # Backward pass\n",
    "    Loss.backward()\n",
    "    \n",
    "    # gradient descent update\n",
    "    update_parameters(parameters(NN), LEARN_R)\n",
    "    zero_gradients(parameters(NN))\n",
    "    \n",
    "    # Training loss\n",
    "    train_loss.append(Loss.v)\n",
    "    \n",
    "    # Validation\n",
    "    Loss_validation = squared_loss(y_validation, forward(x_validation, NN))\n",
    "    val_loss.append(Loss_validation.v)\n",
    "    \n",
    "    if e%10==0:\n",
    "        print(\"{:4d}\".format(e),\n",
    "              \"({:5.2f}%)\".format(e/EPOCHS*100), \n",
    "              \"Train loss: {:4.3f} \\t Validation loss: {:4.3f}\".format(train_loss[-1], val_loss[-1]))\n",
    "        \n"
   ]
  },
  {
   "cell_type": "code",
   "execution_count": null,
   "metadata": {},
   "outputs": [],
   "source": [
    "plt.plot(range(len(train_loss)), train_loss)\n",
    "plt.plot(range(len(val_loss)), val_loss)"
   ]
  },
  {
   "cell_type": "code",
   "execution_count": null,
   "metadata": {},
   "outputs": [],
   "source": [
    "output_test = forward(x_test, NN)\n",
    "y_test_np = Var_to_nparray(y_test)\n",
    "plt.scatter(y_test_np, Var_to_nparray(output_test));\n",
    "plt.plot([np.min(y_test_np), np.max(y_test_np)], [np.min(y_test_np), np.max(y_test_np)], color='k');\n",
    "plt.xlabel(\"y\");\n",
    "plt.ylabel(\"$\\hat{y}$\");\n",
    "plt.title(\"Model prediction vs real in the test set, the close to the line the better\")\n",
    "plt.grid(True);\n",
    "plt.axis('equal');\n",
    "plt.tight_layout();\n",
    "\n",
    "Loss_test = squared_loss(y_test, forward(x_test, NN))\n",
    "\n",
    "print(\"Test loss:  {:4.3f}\".format(Loss_test.v))"
   ]
  },
  {
   "cell_type": "code",
   "execution_count": null,
   "metadata": {},
   "outputs": [],
   "source": [
    "x_test_np = Var_to_nparray(x_test)\n",
    "x_train_np = Var_to_nparray(x_train)\n",
    "y_train_np = Var_to_nparray(y_train)\n",
    "if D1:\n",
    "    plt.scatter(x_train_np, y_train_np, label=\"train data\");\n",
    "    plt.scatter(x_test_np, Var_to_nparray(output_test), label=\"test prediction\");\n",
    "    plt.scatter(x_test_np, y_test_np, label=\"test data\");\n",
    "    plt.legend();\n",
    "    plt.xlabel(\"x\");\n",
    "    plt.ylabel(\"y\");\n",
    "else:\n",
    "    plt.scatter(x_train_np[:,1], y_train, label=\"train data\");\n",
    "    plt.scatter(x_test_np[:,1], Var_to_nparray(output_test), label=\"test data prediction\");\n",
    "    plt.scatter(x_test_np[:,1], y_test_np, label=\"test data\");\n",
    "    plt.legend();\n",
    "    plt.xlabel(\"x\");\n",
    "    plt.ylabel(\"y\");"
   ]
  },
  {
   "cell_type": "markdown",
   "metadata": {
    "id": "fYPZP-eTFtIo"
   },
   "source": [
    "# Next steps - classification\n",
    "\n",
    "It is straight forward to extend what we have done to classification. \n",
    "\n",
    "For numerical stability it is better to make softmax and cross-entropy as one function so we write the cross entropy loss as a function of the logits we talked about last week. \n",
    "\n",
    "Next week we will see how to perform classification in PyTorch."
   ]
  },
  {
   "cell_type": "markdown",
   "metadata": {
    "id": "qsVPul3QFtIo"
   },
   "source": [
    "## Exercise l) optional - Implement backpropagation for classification\n",
    "\n",
    "Should be possible with very few lines of code. :-)"
   ]
  },
  {
   "cell_type": "code",
   "execution_count": null,
   "metadata": {
    "id": "oC8QrI2tFtIp"
   },
   "outputs": [],
   "source": [
    "# Just add code."
   ]
  },
  {
   "cell_type": "markdown",
   "metadata": {
    "id": "APqhJv3tta1O"
   },
   "source": [
    "## Exercise m) optional - Introduce a NeuralNetwork class\n",
    "\n",
    "The functions we applied on the neural network (parameters, update_parameters and zero_gradients) can more naturally be included as methods in a NeuralNetwork class. Make such a class and modify the code to use it. "
   ]
  },
  {
   "cell_type": "code",
   "execution_count": null,
   "metadata": {
    "id": "Dqfnor1ouMLq"
   },
   "outputs": [],
   "source": [
    "# just add some code"
   ]
  }
 ],
 "metadata": {
  "anaconda-cloud": {},
  "colab": {
   "collapsed_sections": [
    "U4057_ljNvWB",
    "p_8n_SKnIW2F",
    "oLrGJytZFtGm",
    "jpIZPBpNI0pO",
    "_79HOAXrFtHK",
    "mqeyab9qFtGs",
    "-XyXBD37FtHk",
    "SrwSJ2UWFtHu",
    "zTBAmjsAFtIk",
    "qsVPul3QFtIo",
    "APqhJv3tta1O"
   ],
   "name": "2.1-EXE-FNN-AutoDif-Nanograd.ipynb",
   "provenance": []
  },
  "kernelspec": {
   "display_name": "Python 3 (ipykernel)",
   "language": "python",
   "name": "python3"
  },
  "language_info": {
   "codemirror_mode": {
    "name": "ipython",
    "version": 3
   },
   "file_extension": ".py",
   "mimetype": "text/x-python",
   "name": "python",
   "nbconvert_exporter": "python",
   "pygments_lexer": "ipython3",
   "version": "3.8.5"
  },
  "vscode": {
   "interpreter": {
    "hash": "28ed5cd8ce41cecc2fff706d226b3eef7bec0687ff143bd5962e3aa6f53044d6"
   }
  }
 },
 "nbformat": 4,
 "nbformat_minor": 1
}
